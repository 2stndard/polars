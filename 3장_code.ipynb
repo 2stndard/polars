{
  "cells": [
    {
      "cell_type": "markdown",
      "metadata": {
        "id": "view-in-github",
        "colab_type": "text"
      },
      "source": [
        "<a href=\"https://colab.research.google.com/github/2stndard/polars/blob/main/3%EC%9E%A5_code.ipynb\" target=\"_parent\"><img src=\"https://colab.research.google.com/assets/colab-badge.svg\" alt=\"Open In Colab\"/></a>"
      ]
    },
    {
      "cell_type": "code",
      "execution_count": 1,
      "id": "3bdbcd8c-8733-4bcc-a443-b16ee19e57b4",
      "metadata": {
        "id": "3bdbcd8c-8733-4bcc-a443-b16ee19e57b4"
      },
      "outputs": [],
      "source": [
        "import pandas as pd\n",
        "import polars as pl\n",
        "import numpy as np\n",
        "import time"
      ]
    },
    {
      "cell_type": "code",
      "execution_count": 2,
      "id": "ab9c58d1-71ca-489b-96f9-0a5da6e26cdb",
      "metadata": {
        "id": "ab9c58d1-71ca-489b-96f9-0a5da6e26cdb"
      },
      "outputs": [],
      "source": [
        "## 샘플 데이터 생성\n",
        "# Generate a large dataset with 10 million rows\n",
        "data = {\n",
        "    'Age': np.random.randint(18, 60, 50_000_000),\n",
        "    'Salary': np.random.randint(30000, 90000, 50_000_000),\n",
        "    'Gender': np.random.choice(['Male', 'Female'], 50_000_000)\n",
        "}"
      ]
    },
    {
      "cell_type": "code",
      "execution_count": 3,
      "id": "c5df789f-c4d7-4106-92df-787019e90aa3",
      "metadata": {
        "colab": {
          "base_uri": "https://localhost:8080/"
        },
        "id": "c5df789f-c4d7-4106-92df-787019e90aa3",
        "outputId": "801e09f5-54a2-423c-9e8a-7b1c9547d889"
      },
      "outputs": [
        {
          "output_type": "stream",
          "name": "stdout",
          "text": [
            "(50000000, 3)\n"
          ]
        }
      ],
      "source": [
        "df_pandas_data = pd.DataFrame(data)\n",
        "print(df_pandas_data.shape)"
      ]
    },
    {
      "cell_type": "code",
      "execution_count": 4,
      "id": "6261a87a-4c27-4d8a-8c82-44ef13c7d74b",
      "metadata": {
        "colab": {
          "base_uri": "https://localhost:8080/"
        },
        "id": "6261a87a-4c27-4d8a-8c82-44ef13c7d74b",
        "outputId": "9b658cfb-4b3b-4a69-cc8f-74aba2f3fba2"
      },
      "outputs": [
        {
          "output_type": "stream",
          "name": "stdout",
          "text": [
            "<class 'pandas.core.frame.DataFrame'>\n",
            "RangeIndex: 50000000 entries, 0 to 49999999\n",
            "Data columns (total 3 columns):\n",
            " #   Column  Dtype \n",
            "---  ------  ----- \n",
            " 0   Age     int64 \n",
            " 1   Salary  int64 \n",
            " 2   Gender  object\n",
            "dtypes: int64(2), object(1)\n",
            "memory usage: 3.6 GB\n"
          ]
        }
      ],
      "source": [
        "df_pandas_data.info(memory_usage = 'deep')"
      ]
    },
    {
      "cell_type": "code",
      "execution_count": 5,
      "id": "4a2f0e64-acce-4d02-8fb3-1662c43b3f7e",
      "metadata": {
        "colab": {
          "base_uri": "https://localhost:8080/"
        },
        "id": "4a2f0e64-acce-4d02-8fb3-1662c43b3f7e",
        "outputId": "ef4a9c90-8d11-410b-b488-7ef2752e182c"
      },
      "outputs": [
        {
          "output_type": "stream",
          "name": "stdout",
          "text": [
            "Pandas Execution Time: 7.259 seconds\n"
          ]
        }
      ],
      "source": [
        "start_time = time.time()\n",
        "filtered_pandas = df_pandas_data[df_pandas_data['Age'] > 30]\n",
        "grouped_pandas = filtered_pandas.groupby('Gender')['Salary'].mean()\n",
        "end_time = time.time()\n",
        "print(\"Pandas Execution Time:\", round(end_time - start_time, 3), \"seconds\")"
      ]
    },
    {
      "cell_type": "code",
      "execution_count": 6,
      "id": "30a25162-9bc7-45b2-a810-7a6dc84f914a",
      "metadata": {
        "colab": {
          "base_uri": "https://localhost:8080/"
        },
        "id": "30a25162-9bc7-45b2-a810-7a6dc84f914a",
        "outputId": "23129e3d-34de-47f8-b77a-e856e318525c"
      },
      "outputs": [
        {
          "output_type": "stream",
          "name": "stdout",
          "text": [
            "(50000000, 3)\n"
          ]
        }
      ],
      "source": [
        "df_polars_data = pl.DataFrame(data)\n",
        "print(df_polars_data.shape)"
      ]
    },
    {
      "cell_type": "code",
      "execution_count": 7,
      "id": "01250264-6837-4463-8e2d-301f33378fbd",
      "metadata": {
        "colab": {
          "base_uri": "https://localhost:8080/"
        },
        "id": "01250264-6837-4463-8e2d-301f33378fbd",
        "outputId": "7ec9d251-6119-4758-c65a-a0ea3fe2fbf7"
      },
      "outputs": [
        {
          "output_type": "execute_result",
          "data": {
            "text/plain": [
              "0.9778955671936274"
            ]
          },
          "metadata": {},
          "execution_count": 7
        }
      ],
      "source": [
        "df_polars_data.estimated_size('gb')"
      ]
    },
    {
      "cell_type": "code",
      "execution_count": 8,
      "id": "e0d71e1e-641d-4e4f-8b30-e98b0e3d7918",
      "metadata": {
        "colab": {
          "base_uri": "https://localhost:8080/"
        },
        "id": "e0d71e1e-641d-4e4f-8b30-e98b0e3d7918",
        "outputId": "771a631c-8774-46b1-89f4-f36c1d0cc5d2"
      },
      "outputs": [
        {
          "output_type": "stream",
          "name": "stdout",
          "text": [
            "Polars Execution Time: 3.472 seconds\n"
          ]
        }
      ],
      "source": [
        "start_time = time.time()\n",
        "filtered_polars = df_polars_data.filter(df_polars_data['Age'] > 30)\n",
        "grouped_polars = filtered_polars.group_by('Gender').agg(pl.col('Salary').mean().alias('Average Salary'))\n",
        "end_time = time.time()\n",
        "\n",
        "print(\"Polars Execution Time:\", round(end_time - start_time, 3), \"seconds\")"
      ]
    },
    {
      "cell_type": "code",
      "execution_count": 9,
      "id": "36a69a27-2c57-4269-b1dd-c51bef6f8339",
      "metadata": {
        "id": "36a69a27-2c57-4269-b1dd-c51bef6f8339"
      },
      "outputs": [],
      "source": [
        "import polars as pl"
      ]
    },
    {
      "cell_type": "code",
      "execution_count": 11,
      "id": "1ba45e27-ff7e-462b-8180-4e49de6f6b30",
      "metadata": {
        "id": "1ba45e27-ff7e-462b-8180-4e49de6f6b30"
      },
      "outputs": [],
      "source": [
        "df = pl.read_csv('/content/Iris.csv')"
      ]
    },
    {
      "cell_type": "code",
      "execution_count": 12,
      "id": "48ba0ffb-ceae-466b-9f0f-e772a9319603",
      "metadata": {
        "colab": {
          "base_uri": "https://localhost:8080/",
          "height": 255
        },
        "id": "48ba0ffb-ceae-466b-9f0f-e772a9319603",
        "outputId": "13588a48-9fab-46cd-e795-2120050a8290"
      },
      "outputs": [
        {
          "output_type": "execute_result",
          "data": {
            "text/plain": [
              "shape: (5, 6)\n",
              "┌─────┬───────────────┬──────────────┬───────────────┬──────────────┬─────────────┐\n",
              "│ Id  ┆ SepalLengthCm ┆ SepalWidthCm ┆ PetalLengthCm ┆ PetalWidthCm ┆ Species     │\n",
              "│ --- ┆ ---           ┆ ---          ┆ ---           ┆ ---          ┆ ---         │\n",
              "│ i64 ┆ f64           ┆ f64          ┆ f64           ┆ f64          ┆ str         │\n",
              "╞═════╪═══════════════╪══════════════╪═══════════════╪══════════════╪═════════════╡\n",
              "│ 1   ┆ 5.1           ┆ 3.5          ┆ 1.4           ┆ 0.2          ┆ Iris-setosa │\n",
              "│ 2   ┆ 4.9           ┆ 3.0          ┆ 1.4           ┆ 0.2          ┆ Iris-setosa │\n",
              "│ 3   ┆ 4.7           ┆ 3.2          ┆ 1.3           ┆ 0.2          ┆ Iris-setosa │\n",
              "│ 4   ┆ 4.6           ┆ 3.1          ┆ 1.5           ┆ 0.2          ┆ Iris-setosa │\n",
              "│ 5   ┆ 5.0           ┆ 3.6          ┆ 1.4           ┆ 0.2          ┆ Iris-setosa │\n",
              "└─────┴───────────────┴──────────────┴───────────────┴──────────────┴─────────────┘"
            ],
            "text/html": [
              "<div><style>\n",
              ".dataframe > thead > tr,\n",
              ".dataframe > tbody > tr {\n",
              "  text-align: right;\n",
              "  white-space: pre-wrap;\n",
              "}\n",
              "</style>\n",
              "<small>shape: (5, 6)</small><table border=\"1\" class=\"dataframe\"><thead><tr><th>Id</th><th>SepalLengthCm</th><th>SepalWidthCm</th><th>PetalLengthCm</th><th>PetalWidthCm</th><th>Species</th></tr><tr><td>i64</td><td>f64</td><td>f64</td><td>f64</td><td>f64</td><td>str</td></tr></thead><tbody><tr><td>1</td><td>5.1</td><td>3.5</td><td>1.4</td><td>0.2</td><td>&quot;Iris-setosa&quot;</td></tr><tr><td>2</td><td>4.9</td><td>3.0</td><td>1.4</td><td>0.2</td><td>&quot;Iris-setosa&quot;</td></tr><tr><td>3</td><td>4.7</td><td>3.2</td><td>1.3</td><td>0.2</td><td>&quot;Iris-setosa&quot;</td></tr><tr><td>4</td><td>4.6</td><td>3.1</td><td>1.5</td><td>0.2</td><td>&quot;Iris-setosa&quot;</td></tr><tr><td>5</td><td>5.0</td><td>3.6</td><td>1.4</td><td>0.2</td><td>&quot;Iris-setosa&quot;</td></tr></tbody></table></div>"
            ]
          },
          "metadata": {},
          "execution_count": 12
        }
      ],
      "source": [
        "df.head()"
      ]
    },
    {
      "cell_type": "code",
      "execution_count": 13,
      "id": "2b7f72b3-27c0-4a6f-bd87-3b6e753a88a2",
      "metadata": {
        "colab": {
          "base_uri": "https://localhost:8080/",
          "height": 380
        },
        "collapsed": true,
        "id": "2b7f72b3-27c0-4a6f-bd87-3b6e753a88a2",
        "outputId": "fe7c99c9-d6d3-4f8b-bdea-6eb341171561"
      },
      "outputs": [
        {
          "output_type": "execute_result",
          "data": {
            "text/plain": [
              "shape: (9, 7)\n",
              "┌────────────┬───────────┬──────────────┬──────────────┬──────────────┬──────────────┬─────────────┐\n",
              "│ statistic  ┆ Id        ┆ SepalLengthC ┆ SepalWidthCm ┆ PetalLengthC ┆ PetalWidthCm ┆ Species     │\n",
              "│ ---        ┆ ---       ┆ m            ┆ ---          ┆ m            ┆ ---          ┆ ---         │\n",
              "│ str        ┆ f64       ┆ ---          ┆ f64          ┆ ---          ┆ f64          ┆ str         │\n",
              "│            ┆           ┆ f64          ┆              ┆ f64          ┆              ┆             │\n",
              "╞════════════╪═══════════╪══════════════╪══════════════╪══════════════╪══════════════╪═════════════╡\n",
              "│ count      ┆ 150.0     ┆ 150.0        ┆ 150.0        ┆ 150.0        ┆ 150.0        ┆ 150         │\n",
              "│ null_count ┆ 0.0       ┆ 0.0          ┆ 0.0          ┆ 0.0          ┆ 0.0          ┆ 0           │\n",
              "│ mean       ┆ 75.5      ┆ 5.843333     ┆ 3.054        ┆ 3.758667     ┆ 1.198667     ┆ null        │\n",
              "│ std        ┆ 43.445368 ┆ 0.828066     ┆ 0.433594     ┆ 1.76442      ┆ 0.763161     ┆ null        │\n",
              "│ min        ┆ 1.0       ┆ 4.3          ┆ 2.0          ┆ 1.0          ┆ 0.1          ┆ Iris-setosa │\n",
              "│ 25%        ┆ 38.0      ┆ 5.1          ┆ 2.8          ┆ 1.6          ┆ 0.3          ┆ null        │\n",
              "│ 50%        ┆ 76.0      ┆ 5.8          ┆ 3.0          ┆ 4.4          ┆ 1.3          ┆ null        │\n",
              "│ 75%        ┆ 113.0     ┆ 6.4          ┆ 3.3          ┆ 5.1          ┆ 1.8          ┆ null        │\n",
              "│ max        ┆ 150.0     ┆ 7.9          ┆ 4.4          ┆ 6.9          ┆ 2.5          ┆ Iris-virgin │\n",
              "│            ┆           ┆              ┆              ┆              ┆              ┆ ica         │\n",
              "└────────────┴───────────┴──────────────┴──────────────┴──────────────┴──────────────┴─────────────┘"
            ],
            "text/html": [
              "<div><style>\n",
              ".dataframe > thead > tr,\n",
              ".dataframe > tbody > tr {\n",
              "  text-align: right;\n",
              "  white-space: pre-wrap;\n",
              "}\n",
              "</style>\n",
              "<small>shape: (9, 7)</small><table border=\"1\" class=\"dataframe\"><thead><tr><th>statistic</th><th>Id</th><th>SepalLengthCm</th><th>SepalWidthCm</th><th>PetalLengthCm</th><th>PetalWidthCm</th><th>Species</th></tr><tr><td>str</td><td>f64</td><td>f64</td><td>f64</td><td>f64</td><td>f64</td><td>str</td></tr></thead><tbody><tr><td>&quot;count&quot;</td><td>150.0</td><td>150.0</td><td>150.0</td><td>150.0</td><td>150.0</td><td>&quot;150&quot;</td></tr><tr><td>&quot;null_count&quot;</td><td>0.0</td><td>0.0</td><td>0.0</td><td>0.0</td><td>0.0</td><td>&quot;0&quot;</td></tr><tr><td>&quot;mean&quot;</td><td>75.5</td><td>5.843333</td><td>3.054</td><td>3.758667</td><td>1.198667</td><td>null</td></tr><tr><td>&quot;std&quot;</td><td>43.445368</td><td>0.828066</td><td>0.433594</td><td>1.76442</td><td>0.763161</td><td>null</td></tr><tr><td>&quot;min&quot;</td><td>1.0</td><td>4.3</td><td>2.0</td><td>1.0</td><td>0.1</td><td>&quot;Iris-setosa&quot;</td></tr><tr><td>&quot;25%&quot;</td><td>38.0</td><td>5.1</td><td>2.8</td><td>1.6</td><td>0.3</td><td>null</td></tr><tr><td>&quot;50%&quot;</td><td>76.0</td><td>5.8</td><td>3.0</td><td>4.4</td><td>1.3</td><td>null</td></tr><tr><td>&quot;75%&quot;</td><td>113.0</td><td>6.4</td><td>3.3</td><td>5.1</td><td>1.8</td><td>null</td></tr><tr><td>&quot;max&quot;</td><td>150.0</td><td>7.9</td><td>4.4</td><td>6.9</td><td>2.5</td><td>&quot;Iris-virginica&quot;</td></tr></tbody></table></div>"
            ]
          },
          "metadata": {},
          "execution_count": 13
        }
      ],
      "source": [
        "df.describe()"
      ]
    },
    {
      "cell_type": "code",
      "execution_count": 14,
      "id": "01c07922-5e59-4d4c-b662-171a4c589951",
      "metadata": {
        "colab": {
          "base_uri": "https://localhost:8080/",
          "height": 443
        },
        "id": "01c07922-5e59-4d4c-b662-171a4c589951",
        "outputId": "3aab2862-607a-4c6a-b7f3-ea8ff9063930"
      },
      "outputs": [
        {
          "output_type": "execute_result",
          "data": {
            "text/plain": [
              "shape: (150, 1)\n",
              "┌────────────────┐\n",
              "│ Species        │\n",
              "│ ---            │\n",
              "│ str            │\n",
              "╞════════════════╡\n",
              "│ Iris-setosa    │\n",
              "│ Iris-setosa    │\n",
              "│ Iris-setosa    │\n",
              "│ Iris-setosa    │\n",
              "│ Iris-setosa    │\n",
              "│ …              │\n",
              "│ Iris-virginica │\n",
              "│ Iris-virginica │\n",
              "│ Iris-virginica │\n",
              "│ Iris-virginica │\n",
              "│ Iris-virginica │\n",
              "└────────────────┘"
            ],
            "text/html": [
              "<div><style>\n",
              ".dataframe > thead > tr,\n",
              ".dataframe > tbody > tr {\n",
              "  text-align: right;\n",
              "  white-space: pre-wrap;\n",
              "}\n",
              "</style>\n",
              "<small>shape: (150, 1)</small><table border=\"1\" class=\"dataframe\"><thead><tr><th>Species</th></tr><tr><td>str</td></tr></thead><tbody><tr><td>&quot;Iris-setosa&quot;</td></tr><tr><td>&quot;Iris-setosa&quot;</td></tr><tr><td>&quot;Iris-setosa&quot;</td></tr><tr><td>&quot;Iris-setosa&quot;</td></tr><tr><td>&quot;Iris-setosa&quot;</td></tr><tr><td>&hellip;</td></tr><tr><td>&quot;Iris-virginica&quot;</td></tr><tr><td>&quot;Iris-virginica&quot;</td></tr><tr><td>&quot;Iris-virginica&quot;</td></tr><tr><td>&quot;Iris-virginica&quot;</td></tr><tr><td>&quot;Iris-virginica&quot;</td></tr></tbody></table></div>"
            ]
          },
          "metadata": {},
          "execution_count": 14
        }
      ],
      "source": [
        "df.select(pl.col('Species'))"
      ]
    },
    {
      "cell_type": "code",
      "execution_count": 15,
      "id": "82f3e0f9-acc0-43a7-a8e8-414d01a52aeb",
      "metadata": {
        "colab": {
          "base_uri": "https://localhost:8080/"
        },
        "id": "82f3e0f9-acc0-43a7-a8e8-414d01a52aeb",
        "outputId": "503f7b82-a2b5-4ada-9d96-84e86ee82b66"
      },
      "outputs": [
        {
          "output_type": "stream",
          "name": "stdout",
          "text": [
            "shape: (3, 1)\n",
            "┌────────────────────────┐\n",
            "│ Species                │\n",
            "│ ---                    │\n",
            "│ struct[2]              │\n",
            "╞════════════════════════╡\n",
            "│ {\"Iris-virginica\",50}  │\n",
            "│ {\"Iris-versicolor\",50} │\n",
            "│ {\"Iris-setosa\",50}     │\n",
            "└────────────────────────┘\n"
          ]
        }
      ],
      "source": [
        "print(df.select(pl.col('Species').value_counts()))"
      ]
    },
    {
      "cell_type": "code",
      "execution_count": 16,
      "id": "2dd56416-64fc-4e1b-bab8-2b673028bcf2",
      "metadata": {
        "colab": {
          "base_uri": "https://localhost:8080/",
          "height": 443
        },
        "id": "2dd56416-64fc-4e1b-bab8-2b673028bcf2",
        "outputId": "61da46e9-7228-41d4-d3fe-2efe2b56c8e0"
      },
      "outputs": [
        {
          "output_type": "execute_result",
          "data": {
            "text/plain": [
              "shape: (150, 6)\n",
              "┌─────┬───────────────┬──────────────┬───────────────┬──────────────┬────────────────┐\n",
              "│ Id  ┆ SepalLengthCm ┆ SepalWidthCm ┆ PetalLengthCm ┆ PetalWidthCm ┆ Species        │\n",
              "│ --- ┆ ---           ┆ ---          ┆ ---           ┆ ---          ┆ ---            │\n",
              "│ i64 ┆ f64           ┆ f64          ┆ f64           ┆ f64          ┆ str            │\n",
              "╞═════╪═══════════════╪══════════════╪═══════════════╪══════════════╪════════════════╡\n",
              "│ 1   ┆ 5.1           ┆ 3.5          ┆ 1.0           ┆ 0.2          ┆ Iris-setosa    │\n",
              "│ 2   ┆ 4.9           ┆ 3.0          ┆ 1.0           ┆ 0.2          ┆ Iris-setosa    │\n",
              "│ 3   ┆ 4.7           ┆ 3.2          ┆ 1.0           ┆ 0.2          ┆ Iris-setosa    │\n",
              "│ 4   ┆ 4.6           ┆ 3.1          ┆ 2.0           ┆ 0.2          ┆ Iris-setosa    │\n",
              "│ 5   ┆ 5.0           ┆ 3.6          ┆ 1.0           ┆ 0.2          ┆ Iris-setosa    │\n",
              "│ …   ┆ …             ┆ …            ┆ …             ┆ …            ┆ …              │\n",
              "│ 146 ┆ 6.7           ┆ 3.0          ┆ 5.0           ┆ 2.3          ┆ Iris-virginica │\n",
              "│ 147 ┆ 6.3           ┆ 2.5          ┆ 5.0           ┆ 1.9          ┆ Iris-virginica │\n",
              "│ 148 ┆ 6.5           ┆ 3.0          ┆ 5.0           ┆ 2.0          ┆ Iris-virginica │\n",
              "│ 149 ┆ 6.2           ┆ 3.4          ┆ 5.0           ┆ 2.3          ┆ Iris-virginica │\n",
              "│ 150 ┆ 5.9           ┆ 3.0          ┆ 5.0           ┆ 1.8          ┆ Iris-virginica │\n",
              "└─────┴───────────────┴──────────────┴───────────────┴──────────────┴────────────────┘"
            ],
            "text/html": [
              "<div><style>\n",
              ".dataframe > thead > tr,\n",
              ".dataframe > tbody > tr {\n",
              "  text-align: right;\n",
              "  white-space: pre-wrap;\n",
              "}\n",
              "</style>\n",
              "<small>shape: (150, 6)</small><table border=\"1\" class=\"dataframe\"><thead><tr><th>Id</th><th>SepalLengthCm</th><th>SepalWidthCm</th><th>PetalLengthCm</th><th>PetalWidthCm</th><th>Species</th></tr><tr><td>i64</td><td>f64</td><td>f64</td><td>f64</td><td>f64</td><td>str</td></tr></thead><tbody><tr><td>1</td><td>5.1</td><td>3.5</td><td>1.0</td><td>0.2</td><td>&quot;Iris-setosa&quot;</td></tr><tr><td>2</td><td>4.9</td><td>3.0</td><td>1.0</td><td>0.2</td><td>&quot;Iris-setosa&quot;</td></tr><tr><td>3</td><td>4.7</td><td>3.2</td><td>1.0</td><td>0.2</td><td>&quot;Iris-setosa&quot;</td></tr><tr><td>4</td><td>4.6</td><td>3.1</td><td>2.0</td><td>0.2</td><td>&quot;Iris-setosa&quot;</td></tr><tr><td>5</td><td>5.0</td><td>3.6</td><td>1.0</td><td>0.2</td><td>&quot;Iris-setosa&quot;</td></tr><tr><td>&hellip;</td><td>&hellip;</td><td>&hellip;</td><td>&hellip;</td><td>&hellip;</td><td>&hellip;</td></tr><tr><td>146</td><td>6.7</td><td>3.0</td><td>5.0</td><td>2.3</td><td>&quot;Iris-virginica&quot;</td></tr><tr><td>147</td><td>6.3</td><td>2.5</td><td>5.0</td><td>1.9</td><td>&quot;Iris-virginica&quot;</td></tr><tr><td>148</td><td>6.5</td><td>3.0</td><td>5.0</td><td>2.0</td><td>&quot;Iris-virginica&quot;</td></tr><tr><td>149</td><td>6.2</td><td>3.4</td><td>5.0</td><td>2.3</td><td>&quot;Iris-virginica&quot;</td></tr><tr><td>150</td><td>5.9</td><td>3.0</td><td>5.0</td><td>1.8</td><td>&quot;Iris-virginica&quot;</td></tr></tbody></table></div>"
            ]
          },
          "metadata": {},
          "execution_count": 16
        }
      ],
      "source": [
        "df.with_columns(pl.col('PetalLengthCm').round(0))"
      ]
    },
    {
      "cell_type": "code",
      "execution_count": 17,
      "id": "9c1174be-5124-4665-8a34-57be3c0ec8fd",
      "metadata": {
        "colab": {
          "base_uri": "https://localhost:8080/",
          "height": 443
        },
        "id": "9c1174be-5124-4665-8a34-57be3c0ec8fd",
        "outputId": "704d502b-8c7d-45a1-c0b4-4bc8350996f7"
      },
      "outputs": [
        {
          "output_type": "execute_result",
          "data": {
            "text/plain": [
              "shape: (150, 7)\n",
              "┌─────┬───────────────┬──────────────┬───────────────┬──────────────┬───────────────┬──────────────┐\n",
              "│ Id  ┆ SepalLengthCm ┆ SepalWidthCm ┆ PetalLengthCm ┆ PetalWidthCm ┆ Species       ┆ PetalLengthC │\n",
              "│ --- ┆ ---           ┆ ---          ┆ ---           ┆ ---          ┆ ---           ┆ m.rounded    │\n",
              "│ i64 ┆ f64           ┆ f64          ┆ f64           ┆ f64          ┆ str           ┆ ---          │\n",
              "│     ┆               ┆              ┆               ┆              ┆               ┆ f64          │\n",
              "╞═════╪═══════════════╪══════════════╪═══════════════╪══════════════╪═══════════════╪══════════════╡\n",
              "│ 1   ┆ 5.1           ┆ 3.5          ┆ 1.4           ┆ 0.2          ┆ Iris-setosa   ┆ 1.0          │\n",
              "│ 2   ┆ 4.9           ┆ 3.0          ┆ 1.4           ┆ 0.2          ┆ Iris-setosa   ┆ 1.0          │\n",
              "│ 3   ┆ 4.7           ┆ 3.2          ┆ 1.3           ┆ 0.2          ┆ Iris-setosa   ┆ 1.0          │\n",
              "│ 4   ┆ 4.6           ┆ 3.1          ┆ 1.5           ┆ 0.2          ┆ Iris-setosa   ┆ 2.0          │\n",
              "│ 5   ┆ 5.0           ┆ 3.6          ┆ 1.4           ┆ 0.2          ┆ Iris-setosa   ┆ 1.0          │\n",
              "│ …   ┆ …             ┆ …            ┆ …             ┆ …            ┆ …             ┆ …            │\n",
              "│ 146 ┆ 6.7           ┆ 3.0          ┆ 5.2           ┆ 2.3          ┆ Iris-virginic ┆ 5.0          │\n",
              "│     ┆               ┆              ┆               ┆              ┆ a             ┆              │\n",
              "│ 147 ┆ 6.3           ┆ 2.5          ┆ 5.0           ┆ 1.9          ┆ Iris-virginic ┆ 5.0          │\n",
              "│     ┆               ┆              ┆               ┆              ┆ a             ┆              │\n",
              "│ 148 ┆ 6.5           ┆ 3.0          ┆ 5.2           ┆ 2.0          ┆ Iris-virginic ┆ 5.0          │\n",
              "│     ┆               ┆              ┆               ┆              ┆ a             ┆              │\n",
              "│ 149 ┆ 6.2           ┆ 3.4          ┆ 5.4           ┆ 2.3          ┆ Iris-virginic ┆ 5.0          │\n",
              "│     ┆               ┆              ┆               ┆              ┆ a             ┆              │\n",
              "│ 150 ┆ 5.9           ┆ 3.0          ┆ 5.1           ┆ 1.8          ┆ Iris-virginic ┆ 5.0          │\n",
              "│     ┆               ┆              ┆               ┆              ┆ a             ┆              │\n",
              "└─────┴───────────────┴──────────────┴───────────────┴──────────────┴───────────────┴──────────────┘"
            ],
            "text/html": [
              "<div><style>\n",
              ".dataframe > thead > tr,\n",
              ".dataframe > tbody > tr {\n",
              "  text-align: right;\n",
              "  white-space: pre-wrap;\n",
              "}\n",
              "</style>\n",
              "<small>shape: (150, 7)</small><table border=\"1\" class=\"dataframe\"><thead><tr><th>Id</th><th>SepalLengthCm</th><th>SepalWidthCm</th><th>PetalLengthCm</th><th>PetalWidthCm</th><th>Species</th><th>PetalLengthCm.rounded</th></tr><tr><td>i64</td><td>f64</td><td>f64</td><td>f64</td><td>f64</td><td>str</td><td>f64</td></tr></thead><tbody><tr><td>1</td><td>5.1</td><td>3.5</td><td>1.4</td><td>0.2</td><td>&quot;Iris-setosa&quot;</td><td>1.0</td></tr><tr><td>2</td><td>4.9</td><td>3.0</td><td>1.4</td><td>0.2</td><td>&quot;Iris-setosa&quot;</td><td>1.0</td></tr><tr><td>3</td><td>4.7</td><td>3.2</td><td>1.3</td><td>0.2</td><td>&quot;Iris-setosa&quot;</td><td>1.0</td></tr><tr><td>4</td><td>4.6</td><td>3.1</td><td>1.5</td><td>0.2</td><td>&quot;Iris-setosa&quot;</td><td>2.0</td></tr><tr><td>5</td><td>5.0</td><td>3.6</td><td>1.4</td><td>0.2</td><td>&quot;Iris-setosa&quot;</td><td>1.0</td></tr><tr><td>&hellip;</td><td>&hellip;</td><td>&hellip;</td><td>&hellip;</td><td>&hellip;</td><td>&hellip;</td><td>&hellip;</td></tr><tr><td>146</td><td>6.7</td><td>3.0</td><td>5.2</td><td>2.3</td><td>&quot;Iris-virginica&quot;</td><td>5.0</td></tr><tr><td>147</td><td>6.3</td><td>2.5</td><td>5.0</td><td>1.9</td><td>&quot;Iris-virginica&quot;</td><td>5.0</td></tr><tr><td>148</td><td>6.5</td><td>3.0</td><td>5.2</td><td>2.0</td><td>&quot;Iris-virginica&quot;</td><td>5.0</td></tr><tr><td>149</td><td>6.2</td><td>3.4</td><td>5.4</td><td>2.3</td><td>&quot;Iris-virginica&quot;</td><td>5.0</td></tr><tr><td>150</td><td>5.9</td><td>3.0</td><td>5.1</td><td>1.8</td><td>&quot;Iris-virginica&quot;</td><td>5.0</td></tr></tbody></table></div>"
            ]
          },
          "metadata": {},
          "execution_count": 17
        }
      ],
      "source": [
        "df.with_columns(pl.col('PetalLengthCm').round(decimals = 0).alias('PetalLengthCm.rounded'))"
      ]
    },
    {
      "cell_type": "code",
      "execution_count": 18,
      "id": "40d132a5-f98b-44b1-93ff-f85bfc5dff1a",
      "metadata": {
        "colab": {
          "base_uri": "https://localhost:8080/",
          "height": 443
        },
        "id": "40d132a5-f98b-44b1-93ff-f85bfc5dff1a",
        "outputId": "a40a184d-a245-452d-ecd5-54131448b089"
      },
      "outputs": [
        {
          "output_type": "execute_result",
          "data": {
            "text/plain": [
              "shape: (150, 7)\n",
              "┌─────┬───────────────┬──────────────┬───────────────┬──────────────┬────────────────┬────────────┐\n",
              "│ Id  ┆ SepalLengthCm ┆ SepalWidthCm ┆ PetalLengthCm ┆ PetalWidthCm ┆ Species        ┆ flowername │\n",
              "│ --- ┆ ---           ┆ ---          ┆ ---           ┆ ---          ┆ ---            ┆ ---        │\n",
              "│ i64 ┆ f64           ┆ f64          ┆ f64           ┆ f64          ┆ str            ┆ str        │\n",
              "╞═════╪═══════════════╪══════════════╪═══════════════╪══════════════╪════════════════╪════════════╡\n",
              "│ 1   ┆ 5.1           ┆ 3.5          ┆ 1.4           ┆ 0.2          ┆ Iris-setosa    ┆ iris       │\n",
              "│ 2   ┆ 4.9           ┆ 3.0          ┆ 1.4           ┆ 0.2          ┆ Iris-setosa    ┆ iris       │\n",
              "│ 3   ┆ 4.7           ┆ 3.2          ┆ 1.3           ┆ 0.2          ┆ Iris-setosa    ┆ iris       │\n",
              "│ 4   ┆ 4.6           ┆ 3.1          ┆ 1.5           ┆ 0.2          ┆ Iris-setosa    ┆ iris       │\n",
              "│ 5   ┆ 5.0           ┆ 3.6          ┆ 1.4           ┆ 0.2          ┆ Iris-setosa    ┆ iris       │\n",
              "│ …   ┆ …             ┆ …            ┆ …             ┆ …            ┆ …              ┆ …          │\n",
              "│ 146 ┆ 6.7           ┆ 3.0          ┆ 5.2           ┆ 2.3          ┆ Iris-virginica ┆ iris       │\n",
              "│ 147 ┆ 6.3           ┆ 2.5          ┆ 5.0           ┆ 1.9          ┆ Iris-virginica ┆ iris       │\n",
              "│ 148 ┆ 6.5           ┆ 3.0          ┆ 5.2           ┆ 2.0          ┆ Iris-virginica ┆ iris       │\n",
              "│ 149 ┆ 6.2           ┆ 3.4          ┆ 5.4           ┆ 2.3          ┆ Iris-virginica ┆ iris       │\n",
              "│ 150 ┆ 5.9           ┆ 3.0          ┆ 5.1           ┆ 1.8          ┆ Iris-virginica ┆ iris       │\n",
              "└─────┴───────────────┴──────────────┴───────────────┴──────────────┴────────────────┴────────────┘"
            ],
            "text/html": [
              "<div><style>\n",
              ".dataframe > thead > tr,\n",
              ".dataframe > tbody > tr {\n",
              "  text-align: right;\n",
              "  white-space: pre-wrap;\n",
              "}\n",
              "</style>\n",
              "<small>shape: (150, 7)</small><table border=\"1\" class=\"dataframe\"><thead><tr><th>Id</th><th>SepalLengthCm</th><th>SepalWidthCm</th><th>PetalLengthCm</th><th>PetalWidthCm</th><th>Species</th><th>flowername</th></tr><tr><td>i64</td><td>f64</td><td>f64</td><td>f64</td><td>f64</td><td>str</td><td>str</td></tr></thead><tbody><tr><td>1</td><td>5.1</td><td>3.5</td><td>1.4</td><td>0.2</td><td>&quot;Iris-setosa&quot;</td><td>&quot;iris&quot;</td></tr><tr><td>2</td><td>4.9</td><td>3.0</td><td>1.4</td><td>0.2</td><td>&quot;Iris-setosa&quot;</td><td>&quot;iris&quot;</td></tr><tr><td>3</td><td>4.7</td><td>3.2</td><td>1.3</td><td>0.2</td><td>&quot;Iris-setosa&quot;</td><td>&quot;iris&quot;</td></tr><tr><td>4</td><td>4.6</td><td>3.1</td><td>1.5</td><td>0.2</td><td>&quot;Iris-setosa&quot;</td><td>&quot;iris&quot;</td></tr><tr><td>5</td><td>5.0</td><td>3.6</td><td>1.4</td><td>0.2</td><td>&quot;Iris-setosa&quot;</td><td>&quot;iris&quot;</td></tr><tr><td>&hellip;</td><td>&hellip;</td><td>&hellip;</td><td>&hellip;</td><td>&hellip;</td><td>&hellip;</td><td>&hellip;</td></tr><tr><td>146</td><td>6.7</td><td>3.0</td><td>5.2</td><td>2.3</td><td>&quot;Iris-virginica&quot;</td><td>&quot;iris&quot;</td></tr><tr><td>147</td><td>6.3</td><td>2.5</td><td>5.0</td><td>1.9</td><td>&quot;Iris-virginica&quot;</td><td>&quot;iris&quot;</td></tr><tr><td>148</td><td>6.5</td><td>3.0</td><td>5.2</td><td>2.0</td><td>&quot;Iris-virginica&quot;</td><td>&quot;iris&quot;</td></tr><tr><td>149</td><td>6.2</td><td>3.4</td><td>5.4</td><td>2.3</td><td>&quot;Iris-virginica&quot;</td><td>&quot;iris&quot;</td></tr><tr><td>150</td><td>5.9</td><td>3.0</td><td>5.1</td><td>1.8</td><td>&quot;Iris-virginica&quot;</td><td>&quot;iris&quot;</td></tr></tbody></table></div>"
            ]
          },
          "metadata": {},
          "execution_count": 18
        }
      ],
      "source": [
        "df.with_columns(pl.lit('iris').alias('flowername'))"
      ]
    },
    {
      "cell_type": "code",
      "execution_count": 19,
      "id": "a54bbe9c-6e8d-46a3-819a-7986a014ba18",
      "metadata": {
        "colab": {
          "base_uri": "https://localhost:8080/",
          "height": 443
        },
        "id": "a54bbe9c-6e8d-46a3-819a-7986a014ba18",
        "outputId": "6660f3a0-b22c-486a-847e-9e09fe66b17c"
      },
      "outputs": [
        {
          "output_type": "execute_result",
          "data": {
            "text/plain": [
              "shape: (150, 7)\n",
              "┌─────┬───────────────┬──────────────┬───────────────┬──────────────┬────────────────┬───────────┐\n",
              "│ Id  ┆ SepalLengthCm ┆ SepalWidthCm ┆ PetalLengthCm ┆ PetalWidthCm ┆ Species        ┆ condition │\n",
              "│ --- ┆ ---           ┆ ---          ┆ ---           ┆ ---          ┆ ---            ┆ ---       │\n",
              "│ i64 ┆ f64           ┆ f64          ┆ f64           ┆ f64          ┆ str            ┆ str       │\n",
              "╞═════╪═══════════════╪══════════════╪═══════════════╪══════════════╪════════════════╪═══════════╡\n",
              "│ 1   ┆ 5.1           ┆ 3.5          ┆ 1.4           ┆ 0.2          ┆ Iris-setosa    ┆ <=2       │\n",
              "│ 2   ┆ 4.9           ┆ 3.0          ┆ 1.4           ┆ 0.2          ┆ Iris-setosa    ┆ <=2       │\n",
              "│ 3   ┆ 4.7           ┆ 3.2          ┆ 1.3           ┆ 0.2          ┆ Iris-setosa    ┆ <=2       │\n",
              "│ 4   ┆ 4.6           ┆ 3.1          ┆ 1.5           ┆ 0.2          ┆ Iris-setosa    ┆ <=2       │\n",
              "│ 5   ┆ 5.0           ┆ 3.6          ┆ 1.4           ┆ 0.2          ┆ Iris-setosa    ┆ <=2       │\n",
              "│ …   ┆ …             ┆ …            ┆ …             ┆ …            ┆ …              ┆ …         │\n",
              "│ 146 ┆ 6.7           ┆ 3.0          ┆ 5.2           ┆ 2.3          ┆ Iris-virginica ┆ >2        │\n",
              "│ 147 ┆ 6.3           ┆ 2.5          ┆ 5.0           ┆ 1.9          ┆ Iris-virginica ┆ >2        │\n",
              "│ 148 ┆ 6.5           ┆ 3.0          ┆ 5.2           ┆ 2.0          ┆ Iris-virginica ┆ >2        │\n",
              "│ 149 ┆ 6.2           ┆ 3.4          ┆ 5.4           ┆ 2.3          ┆ Iris-virginica ┆ >2        │\n",
              "│ 150 ┆ 5.9           ┆ 3.0          ┆ 5.1           ┆ 1.8          ┆ Iris-virginica ┆ >2        │\n",
              "└─────┴───────────────┴──────────────┴───────────────┴──────────────┴────────────────┴───────────┘"
            ],
            "text/html": [
              "<div><style>\n",
              ".dataframe > thead > tr,\n",
              ".dataframe > tbody > tr {\n",
              "  text-align: right;\n",
              "  white-space: pre-wrap;\n",
              "}\n",
              "</style>\n",
              "<small>shape: (150, 7)</small><table border=\"1\" class=\"dataframe\"><thead><tr><th>Id</th><th>SepalLengthCm</th><th>SepalWidthCm</th><th>PetalLengthCm</th><th>PetalWidthCm</th><th>Species</th><th>condition</th></tr><tr><td>i64</td><td>f64</td><td>f64</td><td>f64</td><td>f64</td><td>str</td><td>str</td></tr></thead><tbody><tr><td>1</td><td>5.1</td><td>3.5</td><td>1.4</td><td>0.2</td><td>&quot;Iris-setosa&quot;</td><td>&quot;&lt;=2&quot;</td></tr><tr><td>2</td><td>4.9</td><td>3.0</td><td>1.4</td><td>0.2</td><td>&quot;Iris-setosa&quot;</td><td>&quot;&lt;=2&quot;</td></tr><tr><td>3</td><td>4.7</td><td>3.2</td><td>1.3</td><td>0.2</td><td>&quot;Iris-setosa&quot;</td><td>&quot;&lt;=2&quot;</td></tr><tr><td>4</td><td>4.6</td><td>3.1</td><td>1.5</td><td>0.2</td><td>&quot;Iris-setosa&quot;</td><td>&quot;&lt;=2&quot;</td></tr><tr><td>5</td><td>5.0</td><td>3.6</td><td>1.4</td><td>0.2</td><td>&quot;Iris-setosa&quot;</td><td>&quot;&lt;=2&quot;</td></tr><tr><td>&hellip;</td><td>&hellip;</td><td>&hellip;</td><td>&hellip;</td><td>&hellip;</td><td>&hellip;</td><td>&hellip;</td></tr><tr><td>146</td><td>6.7</td><td>3.0</td><td>5.2</td><td>2.3</td><td>&quot;Iris-virginica&quot;</td><td>&quot;&gt;2&quot;</td></tr><tr><td>147</td><td>6.3</td><td>2.5</td><td>5.0</td><td>1.9</td><td>&quot;Iris-virginica&quot;</td><td>&quot;&gt;2&quot;</td></tr><tr><td>148</td><td>6.5</td><td>3.0</td><td>5.2</td><td>2.0</td><td>&quot;Iris-virginica&quot;</td><td>&quot;&gt;2&quot;</td></tr><tr><td>149</td><td>6.2</td><td>3.4</td><td>5.4</td><td>2.3</td><td>&quot;Iris-virginica&quot;</td><td>&quot;&gt;2&quot;</td></tr><tr><td>150</td><td>5.9</td><td>3.0</td><td>5.1</td><td>1.8</td><td>&quot;Iris-virginica&quot;</td><td>&quot;&gt;2&quot;</td></tr></tbody></table></div>"
            ]
          },
          "metadata": {},
          "execution_count": 19
        }
      ],
      "source": [
        "df.with_columns(pl.when(pl.col('PetalLengthCm') <= 2).\n",
        "                   then(pl.lit(\"<=2\")).\n",
        "                   otherwise(pl.lit('>2')).\n",
        "                alias('condition'))"
      ]
    },
    {
      "cell_type": "code",
      "execution_count": 20,
      "id": "44754d40-d3aa-4831-a31f-1d50aaa26405",
      "metadata": {
        "colab": {
          "base_uri": "https://localhost:8080/",
          "height": 192
        },
        "id": "44754d40-d3aa-4831-a31f-1d50aaa26405",
        "outputId": "11cba572-9c34-41be-e1af-45df7b4de3c7"
      },
      "outputs": [
        {
          "output_type": "execute_result",
          "data": {
            "text/plain": [
              "shape: (3, 6)\n",
              "┌─────┬───────────────┬──────────────┬───────────────┬──────────────┬─────────────┐\n",
              "│ Id  ┆ SepalLengthCm ┆ SepalWidthCm ┆ PetalLengthCm ┆ PetalWidthCm ┆ Species     │\n",
              "│ --- ┆ ---           ┆ ---          ┆ ---           ┆ ---          ┆ ---         │\n",
              "│ i64 ┆ f64           ┆ f64          ┆ f64           ┆ f64          ┆ str         │\n",
              "╞═════╪═══════════════╪══════════════╪═══════════════╪══════════════╪═════════════╡\n",
              "│ 2   ┆ 4.9           ┆ 3.0          ┆ 1.4           ┆ 0.2          ┆ Iris-setosa │\n",
              "│ 3   ┆ 4.7           ┆ 3.2          ┆ 1.3           ┆ 0.2          ┆ Iris-setosa │\n",
              "│ 4   ┆ 4.6           ┆ 3.1          ┆ 1.5           ┆ 0.2          ┆ Iris-setosa │\n",
              "└─────┴───────────────┴──────────────┴───────────────┴──────────────┴─────────────┘"
            ],
            "text/html": [
              "<div><style>\n",
              ".dataframe > thead > tr,\n",
              ".dataframe > tbody > tr {\n",
              "  text-align: right;\n",
              "  white-space: pre-wrap;\n",
              "}\n",
              "</style>\n",
              "<small>shape: (3, 6)</small><table border=\"1\" class=\"dataframe\"><thead><tr><th>Id</th><th>SepalLengthCm</th><th>SepalWidthCm</th><th>PetalLengthCm</th><th>PetalWidthCm</th><th>Species</th></tr><tr><td>i64</td><td>f64</td><td>f64</td><td>f64</td><td>f64</td><td>str</td></tr></thead><tbody><tr><td>2</td><td>4.9</td><td>3.0</td><td>1.4</td><td>0.2</td><td>&quot;Iris-setosa&quot;</td></tr><tr><td>3</td><td>4.7</td><td>3.2</td><td>1.3</td><td>0.2</td><td>&quot;Iris-setosa&quot;</td></tr><tr><td>4</td><td>4.6</td><td>3.1</td><td>1.5</td><td>0.2</td><td>&quot;Iris-setosa&quot;</td></tr></tbody></table></div>"
            ]
          },
          "metadata": {},
          "execution_count": 20
        }
      ],
      "source": [
        "df[1:4,:]"
      ]
    },
    {
      "cell_type": "code",
      "execution_count": 21,
      "id": "83d7709f-4722-461b-8239-3b64979ff897",
      "metadata": {
        "colab": {
          "base_uri": "https://localhost:8080/",
          "height": 161
        },
        "id": "83d7709f-4722-461b-8239-3b64979ff897",
        "outputId": "126ceda7-9716-4e36-cb65-610c6955048e"
      },
      "outputs": [
        {
          "output_type": "execute_result",
          "data": {
            "text/plain": [
              "shape: (2, 6)\n",
              "┌─────┬───────────────┬──────────────┬───────────────┬──────────────┬────────────────┐\n",
              "│ Id  ┆ SepalLengthCm ┆ SepalWidthCm ┆ PetalLengthCm ┆ PetalWidthCm ┆ Species        │\n",
              "│ --- ┆ ---           ┆ ---          ┆ ---           ┆ ---          ┆ ---            │\n",
              "│ i64 ┆ f64           ┆ f64          ┆ f64           ┆ f64          ┆ str            │\n",
              "╞═════╪═══════════════╪══════════════╪═══════════════╪══════════════╪════════════════╡\n",
              "│ 108 ┆ 7.3           ┆ 2.9          ┆ 6.3           ┆ 1.8          ┆ Iris-virginica │\n",
              "│ 131 ┆ 7.4           ┆ 2.8          ┆ 6.1           ┆ 1.9          ┆ Iris-virginica │\n",
              "└─────┴───────────────┴──────────────┴───────────────┴──────────────┴────────────────┘"
            ],
            "text/html": [
              "<div><style>\n",
              ".dataframe > thead > tr,\n",
              ".dataframe > tbody > tr {\n",
              "  text-align: right;\n",
              "  white-space: pre-wrap;\n",
              "}\n",
              "</style>\n",
              "<small>shape: (2, 6)</small><table border=\"1\" class=\"dataframe\"><thead><tr><th>Id</th><th>SepalLengthCm</th><th>SepalWidthCm</th><th>PetalLengthCm</th><th>PetalWidthCm</th><th>Species</th></tr><tr><td>i64</td><td>f64</td><td>f64</td><td>f64</td><td>f64</td><td>str</td></tr></thead><tbody><tr><td>108</td><td>7.3</td><td>2.9</td><td>6.3</td><td>1.8</td><td>&quot;Iris-virginica&quot;</td></tr><tr><td>131</td><td>7.4</td><td>2.8</td><td>6.1</td><td>1.9</td><td>&quot;Iris-virginica&quot;</td></tr></tbody></table></div>"
            ]
          },
          "metadata": {},
          "execution_count": 21
        }
      ],
      "source": [
        "df.filter((pl.col('PetalLengthCm') > 6) & (pl.col('PetalWidthCm') <2))"
      ]
    },
    {
      "cell_type": "code",
      "execution_count": 22,
      "id": "2d5dda10-d454-4f30-8130-0d529816ab3d",
      "metadata": {
        "colab": {
          "base_uri": "https://localhost:8080/",
          "height": 192
        },
        "id": "2d5dda10-d454-4f30-8130-0d529816ab3d",
        "outputId": "e6db9c9e-1fc6-42b3-a4fe-a6e1f56c0281"
      },
      "outputs": [
        {
          "output_type": "execute_result",
          "data": {
            "text/plain": [
              "shape: (3, 2)\n",
              "┌─────────────────┬───────────────┐\n",
              "│ Species         ┆ PetalLengthCm │\n",
              "│ ---             ┆ ---           │\n",
              "│ str             ┆ f64           │\n",
              "╞═════════════════╪═══════════════╡\n",
              "│ Iris-setosa     ┆ 1.464         │\n",
              "│ Iris-virginica  ┆ 5.552         │\n",
              "│ Iris-versicolor ┆ 4.26          │\n",
              "└─────────────────┴───────────────┘"
            ],
            "text/html": [
              "<div><style>\n",
              ".dataframe > thead > tr,\n",
              ".dataframe > tbody > tr {\n",
              "  text-align: right;\n",
              "  white-space: pre-wrap;\n",
              "}\n",
              "</style>\n",
              "<small>shape: (3, 2)</small><table border=\"1\" class=\"dataframe\"><thead><tr><th>Species</th><th>PetalLengthCm</th></tr><tr><td>str</td><td>f64</td></tr></thead><tbody><tr><td>&quot;Iris-setosa&quot;</td><td>1.464</td></tr><tr><td>&quot;Iris-virginica&quot;</td><td>5.552</td></tr><tr><td>&quot;Iris-versicolor&quot;</td><td>4.26</td></tr></tbody></table></div>"
            ]
          },
          "metadata": {},
          "execution_count": 22
        }
      ],
      "source": [
        "df.group_by('Species').agg(pl.col('PetalLengthCm').mean())"
      ]
    },
    {
      "cell_type": "code",
      "execution_count": 23,
      "id": "4aa648fb-e6fb-43db-953a-f2c7f4d06b68",
      "metadata": {
        "colab": {
          "base_uri": "https://localhost:8080/",
          "height": 192
        },
        "id": "4aa648fb-e6fb-43db-953a-f2c7f4d06b68",
        "outputId": "91f0bf28-3bd7-487f-adfb-f278e3cfe200"
      },
      "outputs": [
        {
          "output_type": "execute_result",
          "data": {
            "text/plain": [
              "shape: (3, 5)\n",
              "┌─────────────────┬───────────────┬──────────────┬───────────────┬──────────────┐\n",
              "│ Species         ┆ SepalLengthCm ┆ SepalWidthCm ┆ PetalLengthCm ┆ PetalWidthCm │\n",
              "│ ---             ┆ ---           ┆ ---          ┆ ---           ┆ ---          │\n",
              "│ str             ┆ f64           ┆ f64          ┆ f64           ┆ f64          │\n",
              "╞═════════════════╪═══════════════╪══════════════╪═══════════════╪══════════════╡\n",
              "│ Iris-virginica  ┆ 6.588         ┆ 2.974        ┆ 5.552         ┆ 2.026        │\n",
              "│ Iris-versicolor ┆ 5.936         ┆ 2.77         ┆ 4.26          ┆ 1.326        │\n",
              "│ Iris-setosa     ┆ 5.006         ┆ 3.418        ┆ 1.464         ┆ 0.244        │\n",
              "└─────────────────┴───────────────┴──────────────┴───────────────┴──────────────┘"
            ],
            "text/html": [
              "<div><style>\n",
              ".dataframe > thead > tr,\n",
              ".dataframe > tbody > tr {\n",
              "  text-align: right;\n",
              "  white-space: pre-wrap;\n",
              "}\n",
              "</style>\n",
              "<small>shape: (3, 5)</small><table border=\"1\" class=\"dataframe\"><thead><tr><th>Species</th><th>SepalLengthCm</th><th>SepalWidthCm</th><th>PetalLengthCm</th><th>PetalWidthCm</th></tr><tr><td>str</td><td>f64</td><td>f64</td><td>f64</td><td>f64</td></tr></thead><tbody><tr><td>&quot;Iris-virginica&quot;</td><td>6.588</td><td>2.974</td><td>5.552</td><td>2.026</td></tr><tr><td>&quot;Iris-versicolor&quot;</td><td>5.936</td><td>2.77</td><td>4.26</td><td>1.326</td></tr><tr><td>&quot;Iris-setosa&quot;</td><td>5.006</td><td>3.418</td><td>1.464</td><td>0.244</td></tr></tbody></table></div>"
            ]
          },
          "metadata": {},
          "execution_count": 23
        }
      ],
      "source": [
        "df.group_by('Species').agg(pl.col(pl.Float64).mean())"
      ]
    },
    {
      "cell_type": "code",
      "execution_count": 24,
      "id": "632b4173-9dba-4383-a21d-0fa42845617a",
      "metadata": {
        "colab": {
          "base_uri": "https://localhost:8080/",
          "height": 443
        },
        "id": "632b4173-9dba-4383-a21d-0fa42845617a",
        "outputId": "87b7e873-5857-4635-b699-5207018dba83"
      },
      "outputs": [
        {
          "output_type": "execute_result",
          "data": {
            "text/plain": [
              "shape: (150, 6)\n",
              "┌─────┬───────────────┬──────────────┬───────────────┬──────────────┬────────────────┐\n",
              "│ Id  ┆ SepalLengthCm ┆ SepalWidthCm ┆ PetalLengthCm ┆ PetalWidthCm ┆ Species        │\n",
              "│ --- ┆ ---           ┆ ---          ┆ ---           ┆ ---          ┆ ---            │\n",
              "│ i64 ┆ f64           ┆ f64          ┆ f64           ┆ f64          ┆ str            │\n",
              "╞═════╪═══════════════╪══════════════╪═══════════════╪══════════════╪════════════════╡\n",
              "│ 107 ┆ 4.9           ┆ 2.5          ┆ 4.5           ┆ 1.7          ┆ Iris-virginica │\n",
              "│ 139 ┆ 6.0           ┆ 3.0          ┆ 4.8           ┆ 1.8          ┆ Iris-virginica │\n",
              "│ 127 ┆ 6.2           ┆ 2.8          ┆ 4.8           ┆ 1.8          ┆ Iris-virginica │\n",
              "│ 128 ┆ 6.1           ┆ 3.0          ┆ 4.9           ┆ 1.8          ┆ Iris-virginica │\n",
              "│ 122 ┆ 5.6           ┆ 2.8          ┆ 4.9           ┆ 2.0          ┆ Iris-virginica │\n",
              "│ …   ┆ …             ┆ …            ┆ …             ┆ …            ┆ …              │\n",
              "│ 21  ┆ 5.4           ┆ 3.4          ┆ 1.7           ┆ 0.2          ┆ Iris-setosa    │\n",
              "│ 24  ┆ 5.1           ┆ 3.3          ┆ 1.7           ┆ 0.5          ┆ Iris-setosa    │\n",
              "│ 6   ┆ 5.4           ┆ 3.9          ┆ 1.7           ┆ 0.4          ┆ Iris-setosa    │\n",
              "│ 25  ┆ 4.8           ┆ 3.4          ┆ 1.9           ┆ 0.2          ┆ Iris-setosa    │\n",
              "│ 45  ┆ 5.1           ┆ 3.8          ┆ 1.9           ┆ 0.4          ┆ Iris-setosa    │\n",
              "└─────┴───────────────┴──────────────┴───────────────┴──────────────┴────────────────┘"
            ],
            "text/html": [
              "<div><style>\n",
              ".dataframe > thead > tr,\n",
              ".dataframe > tbody > tr {\n",
              "  text-align: right;\n",
              "  white-space: pre-wrap;\n",
              "}\n",
              "</style>\n",
              "<small>shape: (150, 6)</small><table border=\"1\" class=\"dataframe\"><thead><tr><th>Id</th><th>SepalLengthCm</th><th>SepalWidthCm</th><th>PetalLengthCm</th><th>PetalWidthCm</th><th>Species</th></tr><tr><td>i64</td><td>f64</td><td>f64</td><td>f64</td><td>f64</td><td>str</td></tr></thead><tbody><tr><td>107</td><td>4.9</td><td>2.5</td><td>4.5</td><td>1.7</td><td>&quot;Iris-virginica&quot;</td></tr><tr><td>139</td><td>6.0</td><td>3.0</td><td>4.8</td><td>1.8</td><td>&quot;Iris-virginica&quot;</td></tr><tr><td>127</td><td>6.2</td><td>2.8</td><td>4.8</td><td>1.8</td><td>&quot;Iris-virginica&quot;</td></tr><tr><td>128</td><td>6.1</td><td>3.0</td><td>4.9</td><td>1.8</td><td>&quot;Iris-virginica&quot;</td></tr><tr><td>122</td><td>5.6</td><td>2.8</td><td>4.9</td><td>2.0</td><td>&quot;Iris-virginica&quot;</td></tr><tr><td>&hellip;</td><td>&hellip;</td><td>&hellip;</td><td>&hellip;</td><td>&hellip;</td><td>&hellip;</td></tr><tr><td>21</td><td>5.4</td><td>3.4</td><td>1.7</td><td>0.2</td><td>&quot;Iris-setosa&quot;</td></tr><tr><td>24</td><td>5.1</td><td>3.3</td><td>1.7</td><td>0.5</td><td>&quot;Iris-setosa&quot;</td></tr><tr><td>6</td><td>5.4</td><td>3.9</td><td>1.7</td><td>0.4</td><td>&quot;Iris-setosa&quot;</td></tr><tr><td>25</td><td>4.8</td><td>3.4</td><td>1.9</td><td>0.2</td><td>&quot;Iris-setosa&quot;</td></tr><tr><td>45</td><td>5.1</td><td>3.8</td><td>1.9</td><td>0.4</td><td>&quot;Iris-setosa&quot;</td></tr></tbody></table></div>"
            ]
          },
          "metadata": {},
          "execution_count": 24
        }
      ],
      "source": [
        "df.sort(\"Species\",\"PetalLengthCm\", descending = [True, False])"
      ]
    },
    {
      "cell_type": "code",
      "execution_count": 25,
      "id": "4168f689-76d7-458a-816d-f211e321928a",
      "metadata": {
        "id": "4168f689-76d7-458a-816d-f211e321928a"
      },
      "outputs": [],
      "source": [
        "df_pivot = pl.DataFrame(\n",
        "    {'country' : ['France', 'France', 'France', 'Italy', 'Italy', 'Italy'],\n",
        "     'city' : [\"Paris\", \"Lille\", \"Nice\", \"Roma\", \"Milan\", \"Napoli\"],\n",
        "     'location' : [\"North\",\"North\",\"South\",\"South\",\"North\",\"South\"],\n",
        "     'population' : [2.1, 0.2, 0.4, 2.8, 1.4, 3.0]}\n",
        ")"
      ]
    },
    {
      "cell_type": "code",
      "execution_count": 26,
      "id": "9f19c3ec-ee85-4afe-a9b5-a53ec21365fa",
      "metadata": {
        "colab": {
          "base_uri": "https://localhost:8080/",
          "height": 161
        },
        "id": "9f19c3ec-ee85-4afe-a9b5-a53ec21365fa",
        "outputId": "8bb8a221-e9f4-465c-c6d3-bc54b0affe84"
      },
      "outputs": [
        {
          "output_type": "execute_result",
          "data": {
            "text/plain": [
              "shape: (2, 7)\n",
              "┌─────────┬───────┬───────┬──────┬──────┬───────┬────────┐\n",
              "│ country ┆ Paris ┆ Lille ┆ Nice ┆ Roma ┆ Milan ┆ Napoli │\n",
              "│ ---     ┆ ---   ┆ ---   ┆ ---  ┆ ---  ┆ ---   ┆ ---    │\n",
              "│ str     ┆ f64   ┆ f64   ┆ f64  ┆ f64  ┆ f64   ┆ f64    │\n",
              "╞═════════╪═══════╪═══════╪══════╪══════╪═══════╪════════╡\n",
              "│ France  ┆ 2.1   ┆ 0.2   ┆ 0.4  ┆ null ┆ null  ┆ null   │\n",
              "│ Italy   ┆ null  ┆ null  ┆ null ┆ 2.8  ┆ 1.4   ┆ 3.0    │\n",
              "└─────────┴───────┴───────┴──────┴──────┴───────┴────────┘"
            ],
            "text/html": [
              "<div><style>\n",
              ".dataframe > thead > tr,\n",
              ".dataframe > tbody > tr {\n",
              "  text-align: right;\n",
              "  white-space: pre-wrap;\n",
              "}\n",
              "</style>\n",
              "<small>shape: (2, 7)</small><table border=\"1\" class=\"dataframe\"><thead><tr><th>country</th><th>Paris</th><th>Lille</th><th>Nice</th><th>Roma</th><th>Milan</th><th>Napoli</th></tr><tr><td>str</td><td>f64</td><td>f64</td><td>f64</td><td>f64</td><td>f64</td><td>f64</td></tr></thead><tbody><tr><td>&quot;France&quot;</td><td>2.1</td><td>0.2</td><td>0.4</td><td>null</td><td>null</td><td>null</td></tr><tr><td>&quot;Italy&quot;</td><td>null</td><td>null</td><td>null</td><td>2.8</td><td>1.4</td><td>3.0</td></tr></tbody></table></div>"
            ]
          },
          "metadata": {},
          "execution_count": 26
        }
      ],
      "source": [
        "df_pivot.pivot(\n",
        "  index = \"country\",\n",
        "  on = \"city\",\n",
        "  values = \"population\",\n",
        ")"
      ]
    },
    {
      "cell_type": "code",
      "execution_count": 27,
      "id": "679ba619-50ee-4899-96a0-2169dca399d7",
      "metadata": {
        "colab": {
          "base_uri": "https://localhost:8080/",
          "height": 161
        },
        "id": "679ba619-50ee-4899-96a0-2169dca399d7",
        "outputId": "e1149660-026c-4e02-a2f2-ad9f99c7a8ee"
      },
      "outputs": [
        {
          "output_type": "execute_result",
          "data": {
            "text/plain": [
              "shape: (2, 3)\n",
              "┌─────────┬───────┬───────┐\n",
              "│ country ┆ North ┆ South │\n",
              "│ ---     ┆ ---   ┆ ---   │\n",
              "│ str     ┆ f64   ┆ f64   │\n",
              "╞═════════╪═══════╪═══════╡\n",
              "│ France  ┆ 1.15  ┆ 0.4   │\n",
              "│ Italy   ┆ 1.4   ┆ 2.9   │\n",
              "└─────────┴───────┴───────┘"
            ],
            "text/html": [
              "<div><style>\n",
              ".dataframe > thead > tr,\n",
              ".dataframe > tbody > tr {\n",
              "  text-align: right;\n",
              "  white-space: pre-wrap;\n",
              "}\n",
              "</style>\n",
              "<small>shape: (2, 3)</small><table border=\"1\" class=\"dataframe\"><thead><tr><th>country</th><th>North</th><th>South</th></tr><tr><td>str</td><td>f64</td><td>f64</td></tr></thead><tbody><tr><td>&quot;France&quot;</td><td>1.15</td><td>0.4</td></tr><tr><td>&quot;Italy&quot;</td><td>1.4</td><td>2.9</td></tr></tbody></table></div>"
            ]
          },
          "metadata": {},
          "execution_count": 27
        }
      ],
      "source": [
        "df_pivot = df_pivot.pivot(\n",
        "    index = \"country\",\n",
        "    on = \"location\",\n",
        "    values = \"population\",\n",
        "    aggregate_function = 'mean'\n",
        ")\n",
        "df_pivot"
      ]
    },
    {
      "cell_type": "code",
      "execution_count": 28,
      "id": "44242884-89e4-4cce-a457-2fd32f113ef4",
      "metadata": {
        "colab": {
          "base_uri": "https://localhost:8080/",
          "height": 223
        },
        "id": "44242884-89e4-4cce-a457-2fd32f113ef4",
        "outputId": "71dc0504-8779-4410-f987-5aa7008de4d1"
      },
      "outputs": [
        {
          "output_type": "execute_result",
          "data": {
            "text/plain": [
              "shape: (4, 3)\n",
              "┌─────────┬──────────┬───────┐\n",
              "│ country ┆ variable ┆ value │\n",
              "│ ---     ┆ ---      ┆ ---   │\n",
              "│ str     ┆ str      ┆ f64   │\n",
              "╞═════════╪══════════╪═══════╡\n",
              "│ France  ┆ North    ┆ 1.15  │\n",
              "│ Italy   ┆ North    ┆ 1.4   │\n",
              "│ France  ┆ South    ┆ 0.4   │\n",
              "│ Italy   ┆ South    ┆ 2.9   │\n",
              "└─────────┴──────────┴───────┘"
            ],
            "text/html": [
              "<div><style>\n",
              ".dataframe > thead > tr,\n",
              ".dataframe > tbody > tr {\n",
              "  text-align: right;\n",
              "  white-space: pre-wrap;\n",
              "}\n",
              "</style>\n",
              "<small>shape: (4, 3)</small><table border=\"1\" class=\"dataframe\"><thead><tr><th>country</th><th>variable</th><th>value</th></tr><tr><td>str</td><td>str</td><td>f64</td></tr></thead><tbody><tr><td>&quot;France&quot;</td><td>&quot;North&quot;</td><td>1.15</td></tr><tr><td>&quot;Italy&quot;</td><td>&quot;North&quot;</td><td>1.4</td></tr><tr><td>&quot;France&quot;</td><td>&quot;South&quot;</td><td>0.4</td></tr><tr><td>&quot;Italy&quot;</td><td>&quot;South&quot;</td><td>2.9</td></tr></tbody></table></div>"
            ]
          },
          "metadata": {},
          "execution_count": 28
        }
      ],
      "source": [
        "df_pivot.unpivot(index = 'country', on = ['North', 'South'])"
      ]
    }
  ],
  "metadata": {
    "kernelspec": {
      "display_name": "Python 3",
      "name": "python3"
    },
    "language_info": {
      "name": "python"
    },
    "colab": {
      "provenance": [],
      "gpuType": "T4",
      "include_colab_link": true
    }
  },
  "nbformat": 4,
  "nbformat_minor": 5
}