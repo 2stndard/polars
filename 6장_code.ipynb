{
  "cells": [
    {
      "cell_type": "markdown",
      "metadata": {
        "id": "view-in-github",
        "colab_type": "text"
      },
      "source": [
        "<a href=\"https://colab.research.google.com/github/2stndard/polars/blob/main/6%EC%9E%A5_code.ipynb\" target=\"_parent\"><img src=\"https://colab.research.google.com/assets/colab-badge.svg\" alt=\"Open In Colab\"/></a>"
      ]
    },
    {
      "cell_type": "code",
      "execution_count": 1,
      "id": "2ee3b4bc-b936-4c49-a9b7-714c22ef1beb",
      "metadata": {
        "id": "2ee3b4bc-b936-4c49-a9b7-714c22ef1beb"
      },
      "outputs": [],
      "source": [
        "## 사전 실행 코드\n",
        "import polars as pl\n",
        "df_boxoffice = pl.read_csv(\"./movie/KOBIS_기간별박스오피스.csv\", skip_rows = 4, try_parse_dates=True)\n",
        "boxoffice_cols = df_boxoffice.columns\n",
        "boxoffice_cols[4] = '매출액점유율'\n",
        "df_boxoffice.columns = [i.replace(' ', '') for i in boxoffice_cols]"
      ]
    },
    {
      "cell_type": "code",
      "execution_count": 2,
      "id": "00cd6eee-4ffa-4f05-a48e-808a147298d4",
      "metadata": {
        "colab": {
          "base_uri": "https://localhost:8080/",
          "height": 1000
        },
        "id": "00cd6eee-4ffa-4f05-a48e-808a147298d4",
        "outputId": "1205fa56-beae-453d-f281-8eb71d532a5b"
      },
      "outputs": [
        {
          "output_type": "execute_result",
          "data": {
            "text/plain": [
              "shape: (100, 18)\n",
              "┌──────┬────────────┬────────────┬────────────┬───┬────────────┬───────────┬───────────┬───────────┐\n",
              "│ 순위 ┆ 영화명     ┆ 개봉일     ┆ 매출액     ┆ … ┆ 등급       ┆ 장르      ┆ 감독      ┆ 배우      │\n",
              "│ ---  ┆ ---        ┆ ---        ┆ ---        ┆   ┆ ---        ┆ ---       ┆ ---       ┆ ---       │\n",
              "│ i64  ┆ str        ┆ date       ┆ str        ┆   ┆ str        ┆ str       ┆ str       ┆ str       │\n",
              "╞══════╪════════════╪════════════╪════════════╪═══╪════════════╪═══════════╪═══════════╪═══════════╡\n",
              "│ 11   ┆ 위키드     ┆ 2024-11-20 ┆ 20,277,702 ┆ … ┆ 전체관람가 ┆ 판타지,뮤 ┆ 존 추     ┆ 아리아나  │\n",
              "│      ┆            ┆            ┆ ,850       ┆   ┆            ┆ 지컬      ┆           ┆ 그란데,조 │\n",
              "│      ┆            ┆            ┆            ┆   ┆            ┆           ┆           ┆ 나단 베일 │\n",
              "│      ┆            ┆            ┆            ┆   ┆            ┆           ┆           ┆ 리,양자경 │\n",
              "│      ┆            ┆            ┆            ┆   ┆            ┆           ┆           ┆ ,제프     │\n",
              "│      ┆            ┆            ┆            ┆   ┆            ┆           ┆           ┆ 골드블럼  │\n",
              "│ 33   ┆ 대도시의   ┆ 2024-10-01 ┆ 8,303,965, ┆ … ┆ 15세이상관 ┆ 드라마    ┆ 이언희    ┆ 김고은,허 │\n",
              "│      ┆ 사랑법     ┆            ┆ 930        ┆   ┆ 람가       ┆           ┆           ┆ 지유,방정 │\n",
              "│      ┆            ┆            ┆            ┆   ┆            ┆           ┆           ┆ 민,노상현 │\n",
              "│      ┆            ┆            ┆            ┆   ┆            ┆           ┆           ┆ ,정휘,오  │\n",
              "│      ┆            ┆            ┆            ┆   ┆            ┆           ┆           ┆ 동민,김채 │\n",
              "│      ┆            ┆            ┆            ┆   ┆            ┆           ┆           ┆ 은,권영은 │\n",
              "│      ┆            ┆            ┆            ┆   ┆            ┆           ┆           ┆ …         │\n",
              "│ 55   ┆ 도그데이즈 ┆ 2024-02-07 ┆ 3,574,815, ┆ … ┆ 12세이상관 ┆ 드라마    ┆ 김덕민    ┆ 윤여정,유 │\n",
              "│      ┆            ┆            ┆ 608        ┆   ┆ 람가       ┆           ┆           ┆ 해진,김윤 │\n",
              "│      ┆            ┆            ┆            ┆   ┆            ┆           ┆           ┆ 진,정성화 │\n",
              "│      ┆            ┆            ┆            ┆   ┆            ┆           ┆           ┆ ,김서형,  │\n",
              "│      ┆            ┆            ┆            ┆   ┆            ┆           ┆           ┆ 다니엘    │\n",
              "│      ┆            ┆            ┆            ┆   ┆            ┆           ┆           ┆ 헤니,이현 │\n",
              "│      ┆            ┆            ┆            ┆   ┆            ┆           ┆           ┆ 우…       │\n",
              "│ 118  ┆ 극장판     ┆ 2022-02-17 ┆ 572,503,00 ┆ … ┆ 15세이상관 ┆ 애니메이  ┆ 박성후    ┆ 오가타    │\n",
              "│      ┆ 주술회전 0 ┆            ┆ 0          ┆   ┆ 람가       ┆ 션        ┆           ┆ 메구미,하 │\n",
              "│      ┆            ┆            ┆            ┆   ┆            ┆           ┆           ┆ 나자와    │\n",
              "│      ┆            ┆            ┆            ┆   ┆            ┆           ┆           ┆ 카나,코마 │\n",
              "│      ┆            ┆            ┆            ┆   ┆            ┆           ┆           ┆ 츠 미카코 │\n",
              "│      ┆            ┆            ┆            ┆   ┆            ┆           ┆           ┆ ,우치야마 │\n",
              "│      ┆            ┆            ┆            ┆   ┆            ┆           ┆           ┆ 코…       │\n",
              "│ 243  ┆ 4월이 되면 ┆ 2024-11-13 ┆ 112,249,00 ┆ … ┆ 12세이상관 ┆ 멜로/로맨 ┆ null      ┆ 사토 타케 │\n",
              "│      ┆ 그녀는     ┆            ┆ 0          ┆   ┆ 람가       ┆ 스,드라마 ┆           ┆ 루,나가사 │\n",
              "│      ┆            ┆            ┆            ┆   ┆            ┆           ┆           ┆ 와 마사미 │\n",
              "│      ┆            ┆            ┆            ┆   ┆            ┆           ┆           ┆ ,모리     │\n",
              "│      ┆            ┆            ┆            ┆   ┆            ┆           ┆           ┆ 나나      │\n",
              "│ …    ┆ …          ┆ …          ┆ …          ┆ … ┆ …          ┆ …         ┆ …         ┆ …         │\n",
              "│ 3365 ┆ MZ가       ┆ 2024-07-16 ┆ 6,000      ┆ … ┆ 청소년관람 ┆ 성인물(에 ┆ 타카야마  ┆ null      │\n",
              "│      ┆ 아재와의   ┆            ┆            ┆   ┆ 불가       ┆ 로),드라  ┆ 켄타로    ┆           │\n",
              "│      ┆ 섹스를     ┆            ┆            ┆   ┆            ┆ 마,멜로/  ┆           ┆           │\n",
              "│      ┆ 좋아하는   ┆            ┆            ┆   ┆            ┆ 로맨스    ┆           ┆           │\n",
              "│      ┆ 이유       ┆            ┆            ┆   ┆            ┆           ┆           ┆           │\n",
              "│ 3365 ┆ 대물 사위  ┆ 2024-01-09 ┆ 6,000      ┆ … ┆ 청소년관람 ┆ 성인물(에 ┆ null      ┆ null      │\n",
              "│      ┆ 밝히는     ┆            ┆            ┆   ┆ 불가       ┆ 로)       ┆           ┆           │\n",
              "│      ┆ 장모의     ┆            ┆            ┆   ┆            ┆           ┆           ┆           │\n",
              "│      ┆ 금지된     ┆            ┆            ┆   ┆            ┆           ┆           ┆           │\n",
              "│      ┆ 사랑       ┆            ┆            ┆   ┆            ┆           ┆           ┆           │\n",
              "│ 3365 ┆ 내 섹스를  ┆ 2024-09-30 ┆ 6,000      ┆ … ┆ 청소년관람 ┆ 멜로/로맨 ┆ null      ┆ null      │\n",
              "│      ┆ 몰래       ┆            ┆            ┆   ┆ 불가       ┆ 스        ┆           ┆           │\n",
              "│      ┆ 훔쳐보는   ┆            ┆            ┆   ┆            ┆           ┆           ┆           │\n",
              "│      ┆ 형부       ┆            ┆            ┆   ┆            ┆           ┆           ┆           │\n",
              "│ 4124 ┆ 사랑방     ┆ null       ┆ 0          ┆ … ┆ null       ┆ 드라마,멜 ┆ 신상옥    ┆ 최은희,전 │\n",
              "│      ┆ 손님과     ┆            ┆            ┆   ┆            ┆ 로/로맨스 ┆           ┆ 영선,김진 │\n",
              "│      ┆ 어머니     ┆            ┆            ┆   ┆            ┆           ┆           ┆ 규,도금봉 │\n",
              "│ 4124 ┆ 제4회 2030 ┆ null       ┆ 0          ┆ … ┆ null       ┆ 기타      ┆ null      ┆ null      │\n",
              "│      ┆ 청년영화제 ┆            ┆            ┆   ┆            ┆           ┆           ┆           │\n",
              "│      ┆ 폐막식     ┆            ┆            ┆   ┆            ┆           ┆           ┆           │\n",
              "└──────┴────────────┴────────────┴────────────┴───┴────────────┴───────────┴───────────┴───────────┘"
            ],
            "text/html": [
              "<div><style>\n",
              ".dataframe > thead > tr,\n",
              ".dataframe > tbody > tr {\n",
              "  text-align: right;\n",
              "  white-space: pre-wrap;\n",
              "}\n",
              "</style>\n",
              "<small>shape: (100, 18)</small><table border=\"1\" class=\"dataframe\"><thead><tr><th>순위</th><th>영화명</th><th>개봉일</th><th>매출액</th><th>매출액점유율</th><th>누적매출액</th><th>관객수</th><th>누적관객수</th><th>스크린수</th><th>상영횟수</th><th>대표국적</th><th>국적</th><th>제작사</th><th>배급사</th><th>등급</th><th>장르</th><th>감독</th><th>배우</th></tr><tr><td>i64</td><td>str</td><td>date</td><td>str</td><td>str</td><td>str</td><td>str</td><td>str</td><td>str</td><td>str</td><td>str</td><td>str</td><td>str</td><td>str</td><td>str</td><td>str</td><td>str</td><td>str</td></tr></thead><tbody><tr><td>11</td><td>&quot;위키드&quot;</td><td>2024-11-20</td><td>&quot;20,277,702,850&quot;</td><td>&quot;1.7%&quot;</td><td>&quot;20,277,702,850&quot;</td><td>&quot;2,059,163&quot;</td><td>&quot;2,059,163&quot;</td><td>&quot;1,803&quot;</td><td>&quot;95,250&quot;</td><td>&quot;미국&quot;</td><td>&quot;미국&quot;</td><td>null</td><td>&quot;유니버설픽쳐스인터내셔널 코리아(유)&quot;</td><td>&quot;전체관람가&quot;</td><td>&quot;판타지,뮤지컬&quot;</td><td>&quot;존 추&quot;</td><td>&quot;아리아나 그란데,조나단 베일리,양자경,제프 골드블럼&quot;</td></tr><tr><td>33</td><td>&quot;대도시의 사랑법&quot;</td><td>2024-10-01</td><td>&quot;8,303,965,930&quot;</td><td>&quot;0.7%&quot;</td><td>&quot;8,303,965,930&quot;</td><td>&quot;879,109&quot;</td><td>&quot;879,109&quot;</td><td>&quot;1,101&quot;</td><td>&quot;75,829&quot;</td><td>&quot;한국&quot;</td><td>&quot;한국&quot;</td><td>&quot;(주)쇼박스,주식회사 고래와 유기농&quot;</td><td>&quot;플러스엠 엔터테인먼트&quot;</td><td>&quot;15세이상관람가&quot;</td><td>&quot;드라마&quot;</td><td>&quot;이언희&quot;</td><td>&quot;김고은,허지유,방정민,노상현,정휘,오동민,김채은,권영은…</td></tr><tr><td>55</td><td>&quot;도그데이즈&quot;</td><td>2024-02-07</td><td>&quot;3,574,815,608&quot;</td><td>&quot;0.3%&quot;</td><td>&quot;3,574,815,608&quot;</td><td>&quot;368,102&quot;</td><td>&quot;368,102&quot;</td><td>&quot;847&quot;</td><td>&quot;27,554&quot;</td><td>&quot;한국&quot;</td><td>&quot;한국&quot;</td><td>&quot;(주)씨제이이엔엠&quot;</td><td>&quot;(주)씨제이이엔엠&quot;</td><td>&quot;12세이상관람가&quot;</td><td>&quot;드라마&quot;</td><td>&quot;김덕민&quot;</td><td>&quot;윤여정,유해진,김윤진,정성화,김서형,다니엘 헤니,이현우…</td></tr><tr><td>118</td><td>&quot;극장판 주술회전 0&quot;</td><td>2022-02-17</td><td>&quot;572,503,000&quot;</td><td>&quot;0.0%&quot;</td><td>&quot;7,200,775,858&quot;</td><td>&quot;56,865&quot;</td><td>&quot;721,430&quot;</td><td>&quot;196&quot;</td><td>&quot;3,646&quot;</td><td>&quot;일본&quot;</td><td>&quot;일본&quot;</td><td>null</td><td>&quot;(주)바이포엠스튜디오,(주)대교 미디어콘텐츠사업본부&quot;</td><td>&quot;15세이상관람가&quot;</td><td>&quot;애니메이션&quot;</td><td>&quot;박성후&quot;</td><td>&quot;오가타 메구미,하나자와 카나,코마츠 미카코,우치야마 코…</td></tr><tr><td>243</td><td>&quot;4월이 되면 그녀는&quot;</td><td>2024-11-13</td><td>&quot;112,249,000&quot;</td><td>&quot;0.0%&quot;</td><td>&quot;112,249,000&quot;</td><td>&quot;16,319&quot;</td><td>&quot;16,319&quot;</td><td>&quot;131&quot;</td><td>&quot;2,064&quot;</td><td>&quot;일본&quot;</td><td>&quot;일본&quot;</td><td>null</td><td>&quot;(주)디스테이션&quot;</td><td>&quot;12세이상관람가&quot;</td><td>&quot;멜로/로맨스,드라마&quot;</td><td>null</td><td>&quot;사토 타케루,나가사와 마사미,모리 나나&quot;</td></tr><tr><td>&hellip;</td><td>&hellip;</td><td>&hellip;</td><td>&hellip;</td><td>&hellip;</td><td>&hellip;</td><td>&hellip;</td><td>&hellip;</td><td>&hellip;</td><td>&hellip;</td><td>&hellip;</td><td>&hellip;</td><td>&hellip;</td><td>&hellip;</td><td>&hellip;</td><td>&hellip;</td><td>&hellip;</td><td>&hellip;</td></tr><tr><td>3365</td><td>&quot;MZ가 아재와의 섹스를 좋아하는 이유&quot;</td><td>2024-07-16</td><td>&quot;6,000&quot;</td><td>&quot;0.0%&quot;</td><td>&quot;6,000&quot;</td><td>&quot;1&quot;</td><td>&quot;1&quot;</td><td>&quot;1&quot;</td><td>&quot;1&quot;</td><td>&quot;일본&quot;</td><td>&quot;일본&quot;</td><td>null</td><td>&quot;(주)영진크리에이티브&quot;</td><td>&quot;청소년관람불가&quot;</td><td>&quot;성인물(에로),드라마,멜로/로맨스&quot;</td><td>&quot;타카야마 켄타로&quot;</td><td>null</td></tr><tr><td>3365</td><td>&quot;대물 사위 밝히는 장모의 금지된 사랑&quot;</td><td>2024-01-09</td><td>&quot;6,000&quot;</td><td>&quot;0.0%&quot;</td><td>&quot;6,000&quot;</td><td>&quot;1&quot;</td><td>&quot;1&quot;</td><td>&quot;1&quot;</td><td>&quot;1&quot;</td><td>&quot;한국&quot;</td><td>&quot;한국&quot;</td><td>&quot;(주)코빈커뮤니케이션즈&quot;</td><td>&quot;(주)코빈커뮤니케이션즈&quot;</td><td>&quot;청소년관람불가&quot;</td><td>&quot;성인물(에로)&quot;</td><td>null</td><td>null</td></tr><tr><td>3365</td><td>&quot;내 섹스를 몰래 훔쳐보는 형부&quot;</td><td>2024-09-30</td><td>&quot;6,000&quot;</td><td>&quot;0.0%&quot;</td><td>&quot;6,000&quot;</td><td>&quot;1&quot;</td><td>&quot;1&quot;</td><td>&quot;1&quot;</td><td>&quot;1&quot;</td><td>&quot;한국&quot;</td><td>&quot;한국&quot;</td><td>null</td><td>&quot;(주)영화사가을&quot;</td><td>&quot;청소년관람불가&quot;</td><td>&quot;멜로/로맨스&quot;</td><td>null</td><td>null</td></tr><tr><td>4124</td><td>&quot;사랑방 손님과 어머니&quot;</td><td>null</td><td>&quot;0&quot;</td><td>&quot;0.0%&quot;</td><td>&quot;10,081,500&quot;</td><td>&quot;0&quot;</td><td>&quot;4,936&quot;</td><td>&quot;1&quot;</td><td>&quot;2&quot;</td><td>&quot;한국&quot;</td><td>&quot;한국&quot;</td><td>null</td><td>null</td><td>null</td><td>&quot;드라마,멜로/로맨스&quot;</td><td>&quot;신상옥&quot;</td><td>&quot;최은희,전영선,김진규,도금봉&quot;</td></tr><tr><td>4124</td><td>&quot;제4회 2030청년영화제 폐막식&quot;</td><td>null</td><td>&quot;0&quot;</td><td>&quot;0.0%&quot;</td><td>&quot;0&quot;</td><td>&quot;0&quot;</td><td>&quot;0&quot;</td><td>&quot;1&quot;</td><td>&quot;1&quot;</td><td>&quot;한국&quot;</td><td>&quot;한국&quot;</td><td>null</td><td>null</td><td>null</td><td>&quot;기타&quot;</td><td>null</td><td>null</td></tr></tbody></table></div>"
            ]
          },
          "metadata": {},
          "execution_count": 2
        }
      ],
      "source": [
        "df_boxoffice.sample(n = 100, seed = 123).sort('순위')"
      ]
    },
    {
      "cell_type": "code",
      "execution_count": 3,
      "id": "bc9ce472-d392-46f1-8ee3-6a16e0b30c21",
      "metadata": {
        "colab": {
          "base_uri": "https://localhost:8080/",
          "height": 35
        },
        "id": "bc9ce472-d392-46f1-8ee3-6a16e0b30c21",
        "outputId": "c235d771-ebaf-483d-8652-74d7b8bb4bb3"
      },
      "outputs": [
        {
          "output_type": "execute_result",
          "data": {
            "text/plain": [
              "'파묘'"
            ],
            "application/vnd.google.colaboratory.intrinsic+json": {
              "type": "string"
            }
          },
          "metadata": {},
          "execution_count": 3
        }
      ],
      "source": [
        "df_boxoffice.item(1, '영화명')"
      ]
    },
    {
      "cell_type": "code",
      "execution_count": 4,
      "id": "4b9c1864-8fb5-4fca-a9ff-8400bb5c2753",
      "metadata": {
        "colab": {
          "base_uri": "https://localhost:8080/",
          "height": 1000
        },
        "id": "4b9c1864-8fb5-4fca-a9ff-8400bb5c2753",
        "outputId": "9927921b-b3c9-45e3-bd93-138878422472"
      },
      "outputs": [
        {
          "output_type": "execute_result",
          "data": {
            "text/plain": [
              "shape: (557, 18)\n",
              "┌──────┬────────────┬────────────┬────────────┬───┬────────────┬────────────┬─────────┬────────────┐\n",
              "│ 순위 ┆ 영화명     ┆ 개봉일     ┆ 매출액     ┆ … ┆ 등급       ┆ 장르       ┆ 감독    ┆ 배우       │\n",
              "│ ---  ┆ ---        ┆ ---        ┆ ---        ┆   ┆ ---        ┆ ---        ┆ ---     ┆ ---        │\n",
              "│ i64  ┆ str        ┆ date       ┆ str        ┆   ┆ str        ┆ str        ┆ str     ┆ str        │\n",
              "╞══════╪════════════╪════════════╪════════════╪═══╪════════════╪════════════╪═════════╪════════════╡\n",
              "│ 1    ┆ 파묘       ┆ 2024-02-22 ┆ 115,157,49 ┆ … ┆ 15세이상관 ┆ 미스터리,  ┆ 장재현  ┆ 최민식,김  │\n",
              "│      ┆            ┆            ┆ 0,414      ┆   ┆ 람가       ┆ 공포(호러) ┆         ┆ 고은,유해  │\n",
              "│      ┆            ┆            ┆            ┆   ┆            ┆            ┆         ┆ 진,이도현, │\n",
              "│      ┆            ┆            ┆            ┆   ┆            ┆            ┆         ┆ 김재철,김  │\n",
              "│      ┆            ┆            ┆            ┆   ┆            ┆            ┆         ┆ 민준,김병  │\n",
              "│      ┆            ┆            ┆            ┆   ┆            ┆            ┆         ┆ 오,전진…   │\n",
              "│ 2    ┆ 범죄도시4  ┆ 2024-04-24 ┆ 110,050,00 ┆ … ┆ 15세이상관 ┆ 액션,범죄  ┆ 허명행  ┆ 김무열,박  │\n",
              "│      ┆            ┆            ┆ 0,734      ┆   ┆ 람가       ┆            ┆         ┆ 지환,이동  │\n",
              "│      ┆            ┆            ┆            ┆   ┆            ┆            ┆         ┆ 휘,마동석, │\n",
              "│      ┆            ┆            ┆            ┆   ┆            ┆            ┆         ┆ 곽자형,이  │\n",
              "│      ┆            ┆            ┆            ┆   ┆            ┆            ┆         ┆ 범수,김민  │\n",
              "│      ┆            ┆            ┆            ┆   ┆            ┆            ┆         ┆ 재,이지…   │\n",
              "│ 3    ┆ 인사이드   ┆ 2024-06-12 ┆ 84,509,284 ┆ … ┆ 전체관람가 ┆ 애니메이션 ┆ 켈시 만 ┆ 에이미 포  │\n",
              "│      ┆ 아웃 2     ┆            ┆ ,036       ┆   ┆            ┆            ┆         ┆ 엘러,토니  │\n",
              "│      ┆            ┆            ┆            ┆   ┆            ┆            ┆         ┆ 헤일       │\n",
              "│ 4    ┆ 베테랑2    ┆ 2024-09-13 ┆ 72,474,035 ┆ … ┆ 15세이상관 ┆ 액션,범죄  ┆ 류승완  ┆ 황정민,정  │\n",
              "│      ┆            ┆            ┆ ,814       ┆   ┆ 람가       ┆            ┆         ┆ 해인,장윤  │\n",
              "│      ┆            ┆            ┆            ┆   ┆            ┆            ┆         ┆ 주,정만식, │\n",
              "│      ┆            ┆            ┆            ┆   ┆            ┆            ┆         ┆ 신승환,오  │\n",
              "│      ┆            ┆            ┆            ┆   ┆            ┆            ┆         ┆ 달수,오대  │\n",
              "│      ┆            ┆            ┆            ┆   ┆            ┆            ┆         ┆ 환,김시…   │\n",
              "│ 5    ┆ 파일럿     ┆ 2024-07-31 ┆ 43,204,079 ┆ … ┆ 12세이상관 ┆ 코미디     ┆ 김한결  ┆ 조정석,이  │\n",
              "│      ┆            ┆            ┆ ,201       ┆   ┆ 람가       ┆            ┆         ┆ 주명,한선  │\n",
              "│      ┆            ┆            ┆            ┆   ┆            ┆            ┆         ┆ 화,신승호, │\n",
              "│      ┆            ┆            ┆            ┆   ┆            ┆            ┆         ┆ 오민애,김  │\n",
              "│      ┆            ┆            ┆            ┆   ┆            ┆            ┆         ┆ 지현,서재  │\n",
              "│      ┆            ┆            ┆            ┆   ┆            ┆            ┆         ┆ 희,박다…   │\n",
              "│ …    ┆ …          ┆ …          ┆ …          ┆ … ┆ …          ┆ …          ┆ …       ┆ …          │\n",
              "│ 4124 ┆ 파이란     ┆ 2001-04-28 ┆ 0          ┆ … ┆ 15세관람가 ┆ 드라마     ┆ 송해성  ┆ 최민식,장  │\n",
              "│      ┆            ┆            ┆            ┆   ┆            ┆            ┆         ┆ 백지,김수  │\n",
              "│      ┆            ┆            ┆            ┆   ┆            ┆            ┆         ┆ 현,김지영, │\n",
              "│      ┆            ┆            ┆            ┆   ┆            ┆            ┆         ┆ 손병호,송  │\n",
              "│      ┆            ┆            ┆            ┆   ┆            ┆            ┆         ┆ 현영,김해  │\n",
              "│      ┆            ┆            ┆            ┆   ┆            ┆            ┆         ┆ 곤,김민…   │\n",
              "│ 4124 ┆ 퍼펙트     ┆ 2011-12-21 ┆ 0          ┆ … ┆ 12세이상관 ┆ 드라마     ┆ 박희곤  ┆ 조승우,양  │\n",
              "│      ┆ 게임       ┆            ┆            ┆   ┆ 람가       ┆            ┆         ┆ 동근,최정  │\n",
              "│      ┆            ┆            ┆            ┆   ┆            ┆            ┆         ┆ 원,임지훈, │\n",
              "│      ┆            ┆            ┆            ┆   ┆            ┆            ┆         ┆ 김동희,허  │\n",
              "│      ┆            ┆            ┆            ┆   ┆            ┆            ┆         ┆ 형규,박용  │\n",
              "│      ┆            ┆            ┆            ┆   ┆            ┆            ┆         ┆ 규,신준…   │\n",
              "│ 4124 ┆ 헌트       ┆ 2022-08-10 ┆ 0          ┆ … ┆ 15세이상관 ┆ 액션,드라  ┆ 이정재  ┆ 장재혁,이  │\n",
              "│      ┆            ┆            ┆            ┆   ┆ 람가       ┆ 마         ┆         ┆ 상혁,오동  │\n",
              "│      ┆            ┆            ┆            ┆   ┆            ┆            ┆         ┆ 훈,이지영, │\n",
              "│      ┆            ┆            ┆            ┆   ┆            ┆            ┆         ┆ 이정재,정  │\n",
              "│      ┆            ┆            ┆            ┆   ┆            ┆            ┆         ┆ 우성,전혜  │\n",
              "│      ┆            ┆            ┆            ┆   ┆            ┆            ┆         ┆ 진,허성…   │\n",
              "│ 4124 ┆ 황산벌     ┆ 2003-10-17 ┆ 0          ┆ … ┆ 15세관람가 ┆ 코미디     ┆ 이준익  ┆ 박중훈,정  │\n",
              "│      ┆            ┆            ┆            ┆   ┆            ┆            ┆         ┆ 진영,오지  │\n",
              "│      ┆            ┆            ┆            ┆   ┆            ┆            ┆         ┆ 명,김병철, │\n",
              "│      ┆            ┆            ┆            ┆   ┆            ┆            ┆         ┆ 김선아,김  │\n",
              "│      ┆            ┆            ┆            ┆   ┆            ┆            ┆         ┆ 윤태,이문  │\n",
              "│      ┆            ┆            ┆            ┆   ┆            ┆            ┆         ┆ 식,조대…   │\n",
              "│ 4124 ┆ 회오리     ┆ 2010-02-25 ┆ 0          ┆ … ┆ 15세이상관 ┆ 드라마,멜  ┆ 장건재  ┆ 서준영,권  │\n",
              "│      ┆ 바람       ┆            ┆            ┆   ┆ 람가       ┆ 로/로맨스  ┆         ┆ 혁풍,한나, │\n",
              "│      ┆            ┆            ┆            ┆   ┆            ┆            ┆         ┆ 김호,신동  │\n",
              "│      ┆            ┆            ┆            ┆   ┆            ┆            ┆         ┆ 주,조용선, │\n",
              "│      ┆            ┆            ┆            ┆   ┆            ┆            ┆         ┆ 김한나,최  │\n",
              "│      ┆            ┆            ┆            ┆   ┆            ┆            ┆         ┆ 현성,…     │\n",
              "└──────┴────────────┴────────────┴────────────┴───┴────────────┴────────────┴─────────┴────────────┘"
            ],
            "text/html": [
              "<div><style>\n",
              ".dataframe > thead > tr,\n",
              ".dataframe > tbody > tr {\n",
              "  text-align: right;\n",
              "  white-space: pre-wrap;\n",
              "}\n",
              "</style>\n",
              "<small>shape: (557, 18)</small><table border=\"1\" class=\"dataframe\"><thead><tr><th>순위</th><th>영화명</th><th>개봉일</th><th>매출액</th><th>매출액점유율</th><th>누적매출액</th><th>관객수</th><th>누적관객수</th><th>스크린수</th><th>상영횟수</th><th>대표국적</th><th>국적</th><th>제작사</th><th>배급사</th><th>등급</th><th>장르</th><th>감독</th><th>배우</th></tr><tr><td>i64</td><td>str</td><td>date</td><td>str</td><td>str</td><td>str</td><td>str</td><td>str</td><td>str</td><td>str</td><td>str</td><td>str</td><td>str</td><td>str</td><td>str</td><td>str</td><td>str</td><td>str</td></tr></thead><tbody><tr><td>1</td><td>&quot;파묘&quot;</td><td>2024-02-22</td><td>&quot;115,157,490,414&quot;</td><td>&quot;9.6%&quot;</td><td>&quot;115,157,490,414&quot;</td><td>&quot;11,914,784&quot;</td><td>&quot;11,914,784&quot;</td><td>&quot;2,367&quot;</td><td>&quot;364,955&quot;</td><td>&quot;한국&quot;</td><td>&quot;한국&quot;</td><td>&quot;(주)쇼박스&quot;</td><td>&quot;(주)쇼박스&quot;</td><td>&quot;15세이상관람가&quot;</td><td>&quot;미스터리,공포(호러)&quot;</td><td>&quot;장재현&quot;</td><td>&quot;최민식,김고은,유해진,이도현,김재철,김민준,김병오,전진…</td></tr><tr><td>2</td><td>&quot;범죄도시4&quot;</td><td>2024-04-24</td><td>&quot;110,050,000,734&quot;</td><td>&quot;9.2%&quot;</td><td>&quot;110,050,000,734&quot;</td><td>&quot;11,502,779&quot;</td><td>&quot;11,502,779&quot;</td><td>&quot;2,980&quot;</td><td>&quot;375,434&quot;</td><td>&quot;한국&quot;</td><td>&quot;한국&quot;</td><td>&quot;주식회사 빅펀치픽쳐스,(주)홍필름,(주)비에이엔터테인먼…</td><td>&quot;주식회사 에이비오엔터테인먼트,플러스엠 엔터테인먼트&quot;</td><td>&quot;15세이상관람가&quot;</td><td>&quot;액션,범죄&quot;</td><td>&quot;허명행&quot;</td><td>&quot;김무열,박지환,이동휘,마동석,곽자형,이범수,김민재,이지…</td></tr><tr><td>3</td><td>&quot;인사이드 아웃 2&quot;</td><td>2024-06-12</td><td>&quot;84,509,284,036&quot;</td><td>&quot;7.1%&quot;</td><td>&quot;84,509,284,036&quot;</td><td>&quot;8,799,013&quot;</td><td>&quot;8,799,013&quot;</td><td>&quot;2,619&quot;</td><td>&quot;331,341&quot;</td><td>&quot;미국&quot;</td><td>&quot;미국&quot;</td><td>&quot;월트 디즈니 픽쳐스,픽사 애니메이션 스튜디오&quot;</td><td>&quot;월트디즈니컴퍼니코리아 유한책임회사&quot;</td><td>&quot;전체관람가&quot;</td><td>&quot;애니메이션&quot;</td><td>&quot;켈시 만&quot;</td><td>&quot;에이미 포엘러,토니 헤일&quot;</td></tr><tr><td>4</td><td>&quot;베테랑2&quot;</td><td>2024-09-13</td><td>&quot;72,474,035,814&quot;</td><td>&quot;6.1%&quot;</td><td>&quot;72,474,035,814&quot;</td><td>&quot;7,525,339&quot;</td><td>&quot;7,525,339&quot;</td><td>&quot;2,691&quot;</td><td>&quot;279,673&quot;</td><td>&quot;한국&quot;</td><td>&quot;한국&quot;</td><td>&quot;(주)외유내강&quot;</td><td>&quot;(주)씨제이이엔엠&quot;</td><td>&quot;15세이상관람가&quot;</td><td>&quot;액션,범죄&quot;</td><td>&quot;류승완&quot;</td><td>&quot;황정민,정해인,장윤주,정만식,신승환,오달수,오대환,김시…</td></tr><tr><td>5</td><td>&quot;파일럿&quot;</td><td>2024-07-31</td><td>&quot;43,204,079,201&quot;</td><td>&quot;3.6%&quot;</td><td>&quot;43,204,079,201&quot;</td><td>&quot;4,718,036&quot;</td><td>&quot;4,718,036&quot;</td><td>&quot;1,956&quot;</td><td>&quot;203,283&quot;</td><td>&quot;한국&quot;</td><td>&quot;한국&quot;</td><td>&quot;쇼트케이크(주),(주)무비락&quot;</td><td>&quot;롯데컬처웍스(주)롯데엔터테인먼트&quot;</td><td>&quot;12세이상관람가&quot;</td><td>&quot;코미디&quot;</td><td>&quot;김한결&quot;</td><td>&quot;조정석,이주명,한선화,신승호,오민애,김지현,서재희,박다…</td></tr><tr><td>&hellip;</td><td>&hellip;</td><td>&hellip;</td><td>&hellip;</td><td>&hellip;</td><td>&hellip;</td><td>&hellip;</td><td>&hellip;</td><td>&hellip;</td><td>&hellip;</td><td>&hellip;</td><td>&hellip;</td><td>&hellip;</td><td>&hellip;</td><td>&hellip;</td><td>&hellip;</td><td>&hellip;</td><td>&hellip;</td></tr><tr><td>4124</td><td>&quot;파이란&quot;</td><td>2001-04-28</td><td>&quot;0&quot;</td><td>&quot;0.0%&quot;</td><td>&quot;13,402,270&quot;</td><td>&quot;0&quot;</td><td>&quot;1,380&quot;</td><td>&quot;1&quot;</td><td>&quot;2&quot;</td><td>&quot;한국&quot;</td><td>&quot;한국&quot;</td><td>&quot;튜브픽쳐스(주)&quot;</td><td>&quot;(주)영화사오원,(주)튜브엔터테인먼트&quot;</td><td>&quot;15세관람가&quot;</td><td>&quot;드라마&quot;</td><td>&quot;송해성&quot;</td><td>&quot;최민식,장백지,김수현,김지영,손병호,송현영,김해곤,김민…</td></tr><tr><td>4124</td><td>&quot;퍼펙트 게임&quot;</td><td>2011-12-21</td><td>&quot;0&quot;</td><td>&quot;0.0%&quot;</td><td>&quot;11,220,412,500&quot;</td><td>&quot;0&quot;</td><td>&quot;1,507,085&quot;</td><td>&quot;1&quot;</td><td>&quot;1&quot;</td><td>&quot;한국&quot;</td><td>&quot;한국&quot;</td><td>&quot;(주)동아수출공사,밀리언 스토리,(주)다세포클럽&quot;</td><td>&quot;롯데쇼핑㈜롯데엔터테인먼트&quot;</td><td>&quot;12세이상관람가&quot;</td><td>&quot;드라마&quot;</td><td>&quot;박희곤&quot;</td><td>&quot;조승우,양동근,최정원,임지훈,김동희,허형규,박용규,신준…</td></tr><tr><td>4124</td><td>&quot;헌트&quot;</td><td>2022-08-10</td><td>&quot;0&quot;</td><td>&quot;0.0%&quot;</td><td>&quot;44,602,463,153&quot;</td><td>&quot;0&quot;</td><td>&quot;4,352,513&quot;</td><td>&quot;1&quot;</td><td>&quot;1&quot;</td><td>&quot;한국&quot;</td><td>&quot;한국&quot;</td><td>&quot;(주)아티스트스튜디오,(주)사나이픽처스&quot;</td><td>&quot;플러스엠 엔터테인먼트&quot;</td><td>&quot;15세이상관람가&quot;</td><td>&quot;액션,드라마&quot;</td><td>&quot;이정재&quot;</td><td>&quot;장재혁,이상혁,오동훈,이지영,이정재,정우성,전혜진,허성…</td></tr><tr><td>4124</td><td>&quot;황산벌&quot;</td><td>2003-10-17</td><td>&quot;0&quot;</td><td>&quot;0.0%&quot;</td><td>&quot;41,867,500&quot;</td><td>&quot;0&quot;</td><td>&quot;5,665&quot;</td><td>&quot;1&quot;</td><td>&quot;2&quot;</td><td>&quot;한국&quot;</td><td>&quot;한국&quot;</td><td>&quot;(주)씨네월드&quot;</td><td>&quot;(주)씨네월드&quot;</td><td>&quot;15세관람가&quot;</td><td>&quot;코미디&quot;</td><td>&quot;이준익&quot;</td><td>&quot;박중훈,정진영,오지명,김병철,김선아,김윤태,이문식,조대…</td></tr><tr><td>4124</td><td>&quot;회오리 바람&quot;</td><td>2010-02-25</td><td>&quot;0&quot;</td><td>&quot;0.0%&quot;</td><td>&quot;16,680,500&quot;</td><td>&quot;0&quot;</td><td>&quot;2,275&quot;</td><td>&quot;1&quot;</td><td>&quot;1&quot;</td><td>&quot;한국&quot;</td><td>&quot;한국&quot;</td><td>&quot;(주)모쿠슈라&quot;</td><td>&quot;(주)영화사 진진&quot;</td><td>&quot;15세이상관람가&quot;</td><td>&quot;드라마,멜로/로맨스&quot;</td><td>&quot;장건재&quot;</td><td>&quot;서준영,권혁풍,한나,김호,신동주,조용선,김한나,최현성,…</td></tr></tbody></table></div>"
            ]
          },
          "metadata": {},
          "execution_count": 4
        }
      ],
      "source": [
        "df_boxoffice.drop_nulls()"
      ]
    },
    {
      "cell_type": "code",
      "execution_count": 5,
      "id": "0cdb2dac-db0a-43cb-b042-13b943e29428",
      "metadata": {
        "colab": {
          "base_uri": "https://localhost:8080/"
        },
        "id": "0cdb2dac-db0a-43cb-b042-13b943e29428",
        "outputId": "924b9c10-e9ea-47c3-f9cc-6286dbf7f4e3"
      },
      "outputs": [
        {
          "output_type": "execute_result",
          "data": {
            "text/plain": [
              "['순위',\n",
              " '영화명',\n",
              " '개봉일',\n",
              " '매출액',\n",
              " '매출액점유율',\n",
              " '누적매출액',\n",
              " '관객수',\n",
              " '누적관객수',\n",
              " '스크린수',\n",
              " '상영횟수',\n",
              " '대표국적',\n",
              " '국적',\n",
              " '제작사',\n",
              " '배급사',\n",
              " '등급',\n",
              " '장르',\n",
              " '감독',\n",
              " '배우']"
            ]
          },
          "metadata": {},
          "execution_count": 5
        }
      ],
      "source": [
        "df_boxoffice.columns"
      ]
    },
    {
      "cell_type": "code",
      "execution_count": 6,
      "id": "1a4bb1a1-f679-4fe9-85d5-81e82fc23669",
      "metadata": {
        "colab": {
          "base_uri": "https://localhost:8080/",
          "height": 443
        },
        "id": "1a4bb1a1-f679-4fe9-85d5-81e82fc23669",
        "outputId": "ea4f5458-00e6-4036-8c46-f2e22317b108"
      },
      "outputs": [
        {
          "output_type": "execute_result",
          "data": {
            "text/plain": [
              "shape: (4_319, 6)\n",
              "┌──────┬─────────────────────┬────────────┬─────────────────┬────────────┬──────────┐\n",
              "│ 순위 ┆ 영화명              ┆ 개봉일     ┆ 매출액          ┆ 관객수     ┆ 스크린수 │\n",
              "│ ---  ┆ ---                 ┆ ---        ┆ ---             ┆ ---        ┆ ---      │\n",
              "│ i64  ┆ str                 ┆ date       ┆ str             ┆ str        ┆ str      │\n",
              "╞══════╪═════════════════════╪════════════╪═════════════════╪════════════╪══════════╡\n",
              "│ null ┆ null                ┆ null       ┆ null            ┆ null       ┆ null     │\n",
              "│ 1    ┆ 파묘                ┆ 2024-02-22 ┆ 115,157,490,414 ┆ 11,914,784 ┆ 2,367    │\n",
              "│ 2    ┆ 범죄도시4           ┆ 2024-04-24 ┆ 110,050,000,734 ┆ 11,502,779 ┆ 2,980    │\n",
              "│ 3    ┆ 인사이드 아웃 2     ┆ 2024-06-12 ┆ 84,509,284,036  ┆ 8,799,013  ┆ 2,619    │\n",
              "│ 4    ┆ 베테랑2             ┆ 2024-09-13 ┆ 72,474,035,814  ┆ 7,525,339  ┆ 2,691    │\n",
              "│ …    ┆ …                   ┆ …          ┆ …               ┆ …          ┆ …        │\n",
              "│ 4124 ┆ 헌팅 파티           ┆ null       ┆ 0               ┆ 0          ┆ 1        │\n",
              "│ 4124 ┆ 헬리오폴리스        ┆ null       ┆ 0               ┆ 0          ┆ 1        │\n",
              "│ 4124 ┆ 황산벌              ┆ 2003-10-17 ┆ 0               ┆ 0          ┆ 1        │\n",
              "│ 4124 ┆ 회오리 바람         ┆ 2010-02-25 ┆ 0               ┆ 0          ┆ 1        │\n",
              "│ 4124 ┆ 휘파람의 노래: 시벨 ┆ null       ┆ 0               ┆ 0          ┆ 1        │\n",
              "└──────┴─────────────────────┴────────────┴─────────────────┴────────────┴──────────┘"
            ],
            "text/html": [
              "<div><style>\n",
              ".dataframe > thead > tr,\n",
              ".dataframe > tbody > tr {\n",
              "  text-align: right;\n",
              "  white-space: pre-wrap;\n",
              "}\n",
              "</style>\n",
              "<small>shape: (4_319, 6)</small><table border=\"1\" class=\"dataframe\"><thead><tr><th>순위</th><th>영화명</th><th>개봉일</th><th>매출액</th><th>관객수</th><th>스크린수</th></tr><tr><td>i64</td><td>str</td><td>date</td><td>str</td><td>str</td><td>str</td></tr></thead><tbody><tr><td>null</td><td>null</td><td>null</td><td>null</td><td>null</td><td>null</td></tr><tr><td>1</td><td>&quot;파묘&quot;</td><td>2024-02-22</td><td>&quot;115,157,490,414&quot;</td><td>&quot;11,914,784&quot;</td><td>&quot;2,367&quot;</td></tr><tr><td>2</td><td>&quot;범죄도시4&quot;</td><td>2024-04-24</td><td>&quot;110,050,000,734&quot;</td><td>&quot;11,502,779&quot;</td><td>&quot;2,980&quot;</td></tr><tr><td>3</td><td>&quot;인사이드 아웃 2&quot;</td><td>2024-06-12</td><td>&quot;84,509,284,036&quot;</td><td>&quot;8,799,013&quot;</td><td>&quot;2,619&quot;</td></tr><tr><td>4</td><td>&quot;베테랑2&quot;</td><td>2024-09-13</td><td>&quot;72,474,035,814&quot;</td><td>&quot;7,525,339&quot;</td><td>&quot;2,691&quot;</td></tr><tr><td>&hellip;</td><td>&hellip;</td><td>&hellip;</td><td>&hellip;</td><td>&hellip;</td><td>&hellip;</td></tr><tr><td>4124</td><td>&quot;헌팅 파티&quot;</td><td>null</td><td>&quot;0&quot;</td><td>&quot;0&quot;</td><td>&quot;1&quot;</td></tr><tr><td>4124</td><td>&quot;헬리오폴리스&quot;</td><td>null</td><td>&quot;0&quot;</td><td>&quot;0&quot;</td><td>&quot;1&quot;</td></tr><tr><td>4124</td><td>&quot;황산벌&quot;</td><td>2003-10-17</td><td>&quot;0&quot;</td><td>&quot;0&quot;</td><td>&quot;1&quot;</td></tr><tr><td>4124</td><td>&quot;회오리 바람&quot;</td><td>2010-02-25</td><td>&quot;0&quot;</td><td>&quot;0&quot;</td><td>&quot;1&quot;</td></tr><tr><td>4124</td><td>&quot;휘파람의 노래: 시벨&quot;</td><td>null</td><td>&quot;0&quot;</td><td>&quot;0&quot;</td><td>&quot;1&quot;</td></tr></tbody></table></div>"
            ]
          },
          "metadata": {},
          "execution_count": 6
        }
      ],
      "source": [
        "df_boxoffice.select(pl.col('순위', '영화명', '개봉일', '매출액', '관객수', '스크린수'))"
      ]
    },
    {
      "cell_type": "code",
      "execution_count": 7,
      "id": "8989d32d-b960-41b2-b606-c78bf675dbd4",
      "metadata": {
        "colab": {
          "base_uri": "https://localhost:8080/",
          "height": 443
        },
        "id": "8989d32d-b960-41b2-b606-c78bf675dbd4",
        "outputId": "83f9d2d2-e53a-4a6e-b6db-042b257e56d8"
      },
      "outputs": [
        {
          "output_type": "execute_result",
          "data": {
            "text/plain": [
              "shape: (4_319, 2)\n",
              "┌──────┬────────────┐\n",
              "│ 순위 ┆ 개봉일     │\n",
              "│ ---  ┆ ---        │\n",
              "│ i64  ┆ date       │\n",
              "╞══════╪════════════╡\n",
              "│ null ┆ null       │\n",
              "│ 1    ┆ 2024-02-22 │\n",
              "│ 2    ┆ 2024-04-24 │\n",
              "│ 3    ┆ 2024-06-12 │\n",
              "│ 4    ┆ 2024-09-13 │\n",
              "│ …    ┆ …          │\n",
              "│ 4124 ┆ null       │\n",
              "│ 4124 ┆ null       │\n",
              "│ 4124 ┆ 2003-10-17 │\n",
              "│ 4124 ┆ 2010-02-25 │\n",
              "│ 4124 ┆ null       │\n",
              "└──────┴────────────┘"
            ],
            "text/html": [
              "<div><style>\n",
              ".dataframe > thead > tr,\n",
              ".dataframe > tbody > tr {\n",
              "  text-align: right;\n",
              "  white-space: pre-wrap;\n",
              "}\n",
              "</style>\n",
              "<small>shape: (4_319, 2)</small><table border=\"1\" class=\"dataframe\"><thead><tr><th>순위</th><th>개봉일</th></tr><tr><td>i64</td><td>date</td></tr></thead><tbody><tr><td>null</td><td>null</td></tr><tr><td>1</td><td>2024-02-22</td></tr><tr><td>2</td><td>2024-04-24</td></tr><tr><td>3</td><td>2024-06-12</td></tr><tr><td>4</td><td>2024-09-13</td></tr><tr><td>&hellip;</td><td>&hellip;</td></tr><tr><td>4124</td><td>null</td></tr><tr><td>4124</td><td>null</td></tr><tr><td>4124</td><td>2003-10-17</td></tr><tr><td>4124</td><td>2010-02-25</td></tr><tr><td>4124</td><td>null</td></tr></tbody></table></div>"
            ]
          },
          "metadata": {},
          "execution_count": 7
        }
      ],
      "source": [
        "df_boxoffice.select(pl.col(pl.Int64, pl.Date))"
      ]
    },
    {
      "cell_type": "code",
      "execution_count": 8,
      "id": "20852816-ad6f-4aa4-8efd-82f052d0cd5e",
      "metadata": {
        "colab": {
          "base_uri": "https://localhost:8080/",
          "height": 129
        },
        "id": "20852816-ad6f-4aa4-8efd-82f052d0cd5e",
        "outputId": "ca17b1c8-9d73-4bae-a189-a2efdf035dfe"
      },
      "outputs": [
        {
          "output_type": "execute_result",
          "data": {
            "text/plain": [
              "shape: (1, 18)\n",
              "┌──────┬────────┬────────┬────────┬───┬──────┬──────┬──────┬──────┐\n",
              "│ 순위 ┆ 영화명 ┆ 개봉일 ┆ 매출액 ┆ … ┆ 등급 ┆ 장르 ┆ 감독 ┆ 배우 │\n",
              "│ ---  ┆ ---    ┆ ---    ┆ ---    ┆   ┆ ---  ┆ ---  ┆ ---  ┆ ---  │\n",
              "│ u32  ┆ u32    ┆ u32    ┆ u32    ┆   ┆ u32  ┆ u32  ┆ u32  ┆ u32  │\n",
              "╞══════╪════════╪════════╪════════╪═══╪══════╪══════╪══════╪══════╡\n",
              "│ 4319 ┆ 4319   ┆ 4319   ┆ 4319   ┆ … ┆ 4319 ┆ 4319 ┆ 4319 ┆ 4319 │\n",
              "└──────┴────────┴────────┴────────┴───┴──────┴──────┴──────┴──────┘"
            ],
            "text/html": [
              "<div><style>\n",
              ".dataframe > thead > tr,\n",
              ".dataframe > tbody > tr {\n",
              "  text-align: right;\n",
              "  white-space: pre-wrap;\n",
              "}\n",
              "</style>\n",
              "<small>shape: (1, 18)</small><table border=\"1\" class=\"dataframe\"><thead><tr><th>순위</th><th>영화명</th><th>개봉일</th><th>매출액</th><th>매출액점유율</th><th>누적매출액</th><th>관객수</th><th>누적관객수</th><th>스크린수</th><th>상영횟수</th><th>대표국적</th><th>국적</th><th>제작사</th><th>배급사</th><th>등급</th><th>장르</th><th>감독</th><th>배우</th></tr><tr><td>u32</td><td>u32</td><td>u32</td><td>u32</td><td>u32</td><td>u32</td><td>u32</td><td>u32</td><td>u32</td><td>u32</td><td>u32</td><td>u32</td><td>u32</td><td>u32</td><td>u32</td><td>u32</td><td>u32</td><td>u32</td></tr></thead><tbody><tr><td>4319</td><td>4319</td><td>4319</td><td>4319</td><td>4319</td><td>4319</td><td>4319</td><td>4319</td><td>4319</td><td>4319</td><td>4319</td><td>4319</td><td>4319</td><td>4319</td><td>4319</td><td>4319</td><td>4319</td><td>4319</td></tr></tbody></table></div>"
            ]
          },
          "metadata": {},
          "execution_count": 8
        }
      ],
      "source": [
        "df_boxoffice.select(pl.all().len())"
      ]
    },
    {
      "cell_type": "code",
      "execution_count": 9,
      "id": "964b0b68-1f50-4297-8289-294649b0edf9",
      "metadata": {
        "colab": {
          "base_uri": "https://localhost:8080/",
          "height": 911
        },
        "id": "964b0b68-1f50-4297-8289-294649b0edf9",
        "outputId": "d127de6c-d807-4c54-bafa-15d89948135b"
      },
      "outputs": [
        {
          "output_type": "execute_result",
          "data": {
            "text/plain": [
              "shape: (4_319, 17)\n",
              "┌──────┬────────────┬────────────┬────────────┬───┬────────────┬───────────┬───────────┬───────────┐\n",
              "│ 순위 ┆ 영화명     ┆ 개봉일     ┆ 매출액     ┆ … ┆ 배급사     ┆ 등급      ┆ 장르      ┆ 감독      │\n",
              "│ ---  ┆ ---        ┆ ---        ┆ ---        ┆   ┆ ---        ┆ ---       ┆ ---       ┆ ---       │\n",
              "│ i64  ┆ str        ┆ date       ┆ str        ┆   ┆ str        ┆ str       ┆ str       ┆ str       │\n",
              "╞══════╪════════════╪════════════╪════════════╪═══╪════════════╪═══════════╪═══════════╪═══════════╡\n",
              "│ null ┆ null       ┆ null       ┆ null       ┆ … ┆ null       ┆ null      ┆ null      ┆ null      │\n",
              "│ 1    ┆ 파묘       ┆ 2024-02-22 ┆ 115,157,49 ┆ … ┆ (주)쇼박스 ┆ 15세이상  ┆ 미스터리, ┆ 장재현    │\n",
              "│      ┆            ┆            ┆ 0,414      ┆   ┆            ┆ 관람가    ┆ 공포(호러 ┆           │\n",
              "│      ┆            ┆            ┆            ┆   ┆            ┆           ┆ )         ┆           │\n",
              "│ 2    ┆ 범죄도시4  ┆ 2024-04-24 ┆ 110,050,00 ┆ … ┆ 주식회사   ┆ 15세이상  ┆ 액션,범죄 ┆ 허명행    │\n",
              "│      ┆            ┆            ┆ 0,734      ┆   ┆ 에이비오엔 ┆ 관람가    ┆           ┆           │\n",
              "│      ┆            ┆            ┆            ┆   ┆ 터테인먼트 ┆           ┆           ┆           │\n",
              "│      ┆            ┆            ┆            ┆   ┆ ,플러스엠  ┆           ┆           ┆           │\n",
              "│      ┆            ┆            ┆            ┆   ┆ 엔터테인먼 ┆           ┆           ┆           │\n",
              "│      ┆            ┆            ┆            ┆   ┆ 트         ┆           ┆           ┆           │\n",
              "│ 3    ┆ 인사이드   ┆ 2024-06-12 ┆ 84,509,284 ┆ … ┆ 월트디즈니 ┆ 전체관람  ┆ 애니메이  ┆ 켈시 만   │\n",
              "│      ┆ 아웃 2     ┆            ┆ ,036       ┆   ┆ 컴퍼니코리 ┆ 가        ┆ 션        ┆           │\n",
              "│      ┆            ┆            ┆            ┆   ┆ 아 유한책  ┆           ┆           ┆           │\n",
              "│      ┆            ┆            ┆            ┆   ┆ 임회사     ┆           ┆           ┆           │\n",
              "│ 4    ┆ 베테랑2    ┆ 2024-09-13 ┆ 72,474,035 ┆ … ┆ (주)씨제이 ┆ 15세이상  ┆ 액션,범죄 ┆ 류승완    │\n",
              "│      ┆            ┆            ┆ ,814       ┆   ┆ 이엔엠     ┆ 관람가    ┆           ┆           │\n",
              "│ …    ┆ …          ┆ …          ┆ …          ┆ … ┆ …          ┆ …         ┆ …         ┆ …         │\n",
              "│ 4124 ┆ 헌팅 파티  ┆ null       ┆ 0          ┆ … ┆ null       ┆ null      ┆ 코미디,멜 ┆ null      │\n",
              "│      ┆            ┆            ┆            ┆   ┆            ┆           ┆ 로/로맨스 ┆           │\n",
              "│ 4124 ┆ 헬리오폴리 ┆ null       ┆ 0          ┆ … ┆ null       ┆ null      ┆ 기타      ┆ 자파르    │\n",
              "│      ┆ 스         ┆            ┆            ┆   ┆            ┆           ┆           ┆ 가셈      │\n",
              "│ 4124 ┆ 황산벌     ┆ 2003-10-17 ┆ 0          ┆ … ┆ (주)씨네월 ┆ 15세관람  ┆ 코미디    ┆ 이준익    │\n",
              "│      ┆            ┆            ┆            ┆   ┆ 드         ┆ 가        ┆           ┆           │\n",
              "│ 4124 ┆ 회오리     ┆ 2010-02-25 ┆ 0          ┆ … ┆ (주)영화사 ┆ 15세이상  ┆ 드라마,멜 ┆ 장건재    │\n",
              "│      ┆ 바람       ┆            ┆            ┆   ┆ 진진       ┆ 관람가    ┆ 로/로맨스 ┆           │\n",
              "│ 4124 ┆ 휘파람의   ┆ null       ┆ 0          ┆ … ┆ null       ┆ null      ┆ 드라마    ┆ 기욤      │\n",
              "│      ┆ 노래: 시벨 ┆            ┆            ┆   ┆            ┆           ┆           ┆ 조바네티  │\n",
              "└──────┴────────────┴────────────┴────────────┴───┴────────────┴───────────┴───────────┴───────────┘"
            ],
            "text/html": [
              "<div><style>\n",
              ".dataframe > thead > tr,\n",
              ".dataframe > tbody > tr {\n",
              "  text-align: right;\n",
              "  white-space: pre-wrap;\n",
              "}\n",
              "</style>\n",
              "<small>shape: (4_319, 17)</small><table border=\"1\" class=\"dataframe\"><thead><tr><th>순위</th><th>영화명</th><th>개봉일</th><th>매출액</th><th>매출액점유율</th><th>누적매출액</th><th>관객수</th><th>누적관객수</th><th>스크린수</th><th>상영횟수</th><th>대표국적</th><th>국적</th><th>제작사</th><th>배급사</th><th>등급</th><th>장르</th><th>감독</th></tr><tr><td>i64</td><td>str</td><td>date</td><td>str</td><td>str</td><td>str</td><td>str</td><td>str</td><td>str</td><td>str</td><td>str</td><td>str</td><td>str</td><td>str</td><td>str</td><td>str</td><td>str</td></tr></thead><tbody><tr><td>null</td><td>null</td><td>null</td><td>null</td><td>&quot;점유율 &quot;</td><td>null</td><td>null</td><td>null</td><td>null</td><td>null</td><td>null</td><td>null</td><td>null</td><td>null</td><td>null</td><td>null</td><td>null</td></tr><tr><td>1</td><td>&quot;파묘&quot;</td><td>2024-02-22</td><td>&quot;115,157,490,414&quot;</td><td>&quot;9.6%&quot;</td><td>&quot;115,157,490,414&quot;</td><td>&quot;11,914,784&quot;</td><td>&quot;11,914,784&quot;</td><td>&quot;2,367&quot;</td><td>&quot;364,955&quot;</td><td>&quot;한국&quot;</td><td>&quot;한국&quot;</td><td>&quot;(주)쇼박스&quot;</td><td>&quot;(주)쇼박스&quot;</td><td>&quot;15세이상관람가&quot;</td><td>&quot;미스터리,공포(호러)&quot;</td><td>&quot;장재현&quot;</td></tr><tr><td>2</td><td>&quot;범죄도시4&quot;</td><td>2024-04-24</td><td>&quot;110,050,000,734&quot;</td><td>&quot;9.2%&quot;</td><td>&quot;110,050,000,734&quot;</td><td>&quot;11,502,779&quot;</td><td>&quot;11,502,779&quot;</td><td>&quot;2,980&quot;</td><td>&quot;375,434&quot;</td><td>&quot;한국&quot;</td><td>&quot;한국&quot;</td><td>&quot;주식회사 빅펀치픽쳐스,(주)홍필름,(주)비에이엔터테인먼…</td><td>&quot;주식회사 에이비오엔터테인먼트,플러스엠 엔터테인먼트&quot;</td><td>&quot;15세이상관람가&quot;</td><td>&quot;액션,범죄&quot;</td><td>&quot;허명행&quot;</td></tr><tr><td>3</td><td>&quot;인사이드 아웃 2&quot;</td><td>2024-06-12</td><td>&quot;84,509,284,036&quot;</td><td>&quot;7.1%&quot;</td><td>&quot;84,509,284,036&quot;</td><td>&quot;8,799,013&quot;</td><td>&quot;8,799,013&quot;</td><td>&quot;2,619&quot;</td><td>&quot;331,341&quot;</td><td>&quot;미국&quot;</td><td>&quot;미국&quot;</td><td>&quot;월트 디즈니 픽쳐스,픽사 애니메이션 스튜디오&quot;</td><td>&quot;월트디즈니컴퍼니코리아 유한책임회사&quot;</td><td>&quot;전체관람가&quot;</td><td>&quot;애니메이션&quot;</td><td>&quot;켈시 만&quot;</td></tr><tr><td>4</td><td>&quot;베테랑2&quot;</td><td>2024-09-13</td><td>&quot;72,474,035,814&quot;</td><td>&quot;6.1%&quot;</td><td>&quot;72,474,035,814&quot;</td><td>&quot;7,525,339&quot;</td><td>&quot;7,525,339&quot;</td><td>&quot;2,691&quot;</td><td>&quot;279,673&quot;</td><td>&quot;한국&quot;</td><td>&quot;한국&quot;</td><td>&quot;(주)외유내강&quot;</td><td>&quot;(주)씨제이이엔엠&quot;</td><td>&quot;15세이상관람가&quot;</td><td>&quot;액션,범죄&quot;</td><td>&quot;류승완&quot;</td></tr><tr><td>&hellip;</td><td>&hellip;</td><td>&hellip;</td><td>&hellip;</td><td>&hellip;</td><td>&hellip;</td><td>&hellip;</td><td>&hellip;</td><td>&hellip;</td><td>&hellip;</td><td>&hellip;</td><td>&hellip;</td><td>&hellip;</td><td>&hellip;</td><td>&hellip;</td><td>&hellip;</td><td>&hellip;</td></tr><tr><td>4124</td><td>&quot;헌팅 파티&quot;</td><td>null</td><td>&quot;0&quot;</td><td>&quot;0.0%&quot;</td><td>&quot;0&quot;</td><td>&quot;0&quot;</td><td>&quot;0&quot;</td><td>&quot;1&quot;</td><td>&quot;1&quot;</td><td>&quot;기타&quot;</td><td>&quot;기타&quot;</td><td>null</td><td>null</td><td>null</td><td>&quot;코미디,멜로/로맨스&quot;</td><td>null</td></tr><tr><td>4124</td><td>&quot;헬리오폴리스&quot;</td><td>null</td><td>&quot;0&quot;</td><td>&quot;0.0%&quot;</td><td>&quot;474,000&quot;</td><td>&quot;0&quot;</td><td>&quot;158&quot;</td><td>&quot;1&quot;</td><td>&quot;1&quot;</td><td>&quot;기타&quot;</td><td>&quot;기타&quot;</td><td>null</td><td>null</td><td>null</td><td>&quot;기타&quot;</td><td>&quot;자파르 가셈&quot;</td></tr><tr><td>4124</td><td>&quot;황산벌&quot;</td><td>2003-10-17</td><td>&quot;0&quot;</td><td>&quot;0.0%&quot;</td><td>&quot;41,867,500&quot;</td><td>&quot;0&quot;</td><td>&quot;5,665&quot;</td><td>&quot;1&quot;</td><td>&quot;2&quot;</td><td>&quot;한국&quot;</td><td>&quot;한국&quot;</td><td>&quot;(주)씨네월드&quot;</td><td>&quot;(주)씨네월드&quot;</td><td>&quot;15세관람가&quot;</td><td>&quot;코미디&quot;</td><td>&quot;이준익&quot;</td></tr><tr><td>4124</td><td>&quot;회오리 바람&quot;</td><td>2010-02-25</td><td>&quot;0&quot;</td><td>&quot;0.0%&quot;</td><td>&quot;16,680,500&quot;</td><td>&quot;0&quot;</td><td>&quot;2,275&quot;</td><td>&quot;1&quot;</td><td>&quot;1&quot;</td><td>&quot;한국&quot;</td><td>&quot;한국&quot;</td><td>&quot;(주)모쿠슈라&quot;</td><td>&quot;(주)영화사 진진&quot;</td><td>&quot;15세이상관람가&quot;</td><td>&quot;드라마,멜로/로맨스&quot;</td><td>&quot;장건재&quot;</td></tr><tr><td>4124</td><td>&quot;휘파람의 노래: 시벨&quot;</td><td>null</td><td>&quot;0&quot;</td><td>&quot;0.0%&quot;</td><td>&quot;0&quot;</td><td>&quot;0&quot;</td><td>&quot;0&quot;</td><td>&quot;1&quot;</td><td>&quot;1&quot;</td><td>&quot;터키&quot;</td><td>&quot;터키&quot;</td><td>null</td><td>null</td><td>null</td><td>&quot;드라마&quot;</td><td>&quot;기욤 조바네티&quot;</td></tr></tbody></table></div>"
            ]
          },
          "metadata": {},
          "execution_count": 9
        }
      ],
      "source": [
        "df_boxoffice.select(pl.col('*').exclude('배우'))"
      ]
    },
    {
      "cell_type": "code",
      "execution_count": 10,
      "id": "178297b3-5714-4b75-a23d-c10d7354c039",
      "metadata": {
        "colab": {
          "base_uri": "https://localhost:8080/"
        },
        "id": "178297b3-5714-4b75-a23d-c10d7354c039",
        "outputId": "e98d1c1f-2d18-409b-a218-56754284d9a6"
      },
      "outputs": [
        {
          "output_type": "execute_result",
          "data": {
            "text/plain": [
              "Schema([('순위', Int64),\n",
              "        ('영화명', String),\n",
              "        ('개봉일', Date),\n",
              "        ('매출액', Int64),\n",
              "        ('매출액점유율', String),\n",
              "        ('누적매출액', Int64),\n",
              "        ('관객수', Int64),\n",
              "        ('누적관객수', Int64),\n",
              "        ('스크린수', Int64),\n",
              "        ('상영횟수', Int64),\n",
              "        ('대표국적', String),\n",
              "        ('국적', String),\n",
              "        ('제작사', String),\n",
              "        ('배급사', String),\n",
              "        ('등급', String),\n",
              "        ('장르', String),\n",
              "        ('감독', String),\n",
              "        ('배우', String)])"
            ]
          },
          "metadata": {},
          "execution_count": 10
        }
      ],
      "source": [
        "df_boxoffice = df_boxoffice.with_columns(\n",
        "    pl.col('매출액', '누적매출액').str.replace_all(',', '').cast(pl.Int64),\n",
        "    pl.col('관객수', '누적관객수', '스크린수', '상영횟수').str.replace_all(',', '').cast(pl.Int64)\n",
        ")\n",
        "df_boxoffice.schema"
      ]
    },
    {
      "cell_type": "code",
      "execution_count": 11,
      "id": "b9a75f67-34e1-4171-8cf6-f5f063c4d221",
      "metadata": {
        "colab": {
          "base_uri": "https://localhost:8080/",
          "height": 859
        },
        "id": "b9a75f67-34e1-4171-8cf6-f5f063c4d221",
        "outputId": "c582e352-2a89-4dc5-a4d7-ede597d53ea6"
      },
      "outputs": [
        {
          "output_type": "execute_result",
          "data": {
            "text/plain": [
              "shape: (4_319, 18)\n",
              "┌──────┬────────────┬────────────┬────────────┬───┬────────────┬───────────┬───────────┬───────────┐\n",
              "│ 순위 ┆ 영화명     ┆ 개봉일     ┆ 매출액     ┆ … ┆ 등급       ┆ 장르      ┆ 감독      ┆ 배우      │\n",
              "│ ---  ┆ ---        ┆ ---        ┆ ---        ┆   ┆ ---        ┆ ---       ┆ ---       ┆ ---       │\n",
              "│ i64  ┆ str        ┆ date       ┆ i64        ┆   ┆ str        ┆ list[str] ┆ str       ┆ list[str] │\n",
              "╞══════╪════════════╪════════════╪════════════╪═══╪════════════╪═══════════╪═══════════╪═══════════╡\n",
              "│ null ┆ null       ┆ null       ┆ null       ┆ … ┆ null       ┆ null      ┆ null      ┆ null      │\n",
              "│ 1    ┆ 파묘       ┆ 2024-02-22 ┆ 1151574904 ┆ … ┆ 15세이상관 ┆ [\"미스터  ┆ 장재현    ┆ [\"최민식\" │\n",
              "│      ┆            ┆            ┆ 14         ┆   ┆ 람가       ┆ 리\", \"공  ┆           ┆ ,         │\n",
              "│      ┆            ┆            ┆            ┆   ┆            ┆ 포(호러)\" ┆           ┆ \"김고은\", │\n",
              "│      ┆            ┆            ┆            ┆   ┆            ┆ ]         ┆           ┆ …         │\n",
              "│      ┆            ┆            ┆            ┆   ┆            ┆           ┆           ┆ \"김하영\"] │\n",
              "│ 2    ┆ 범죄도시4  ┆ 2024-04-24 ┆ 1100500007 ┆ … ┆ 15세이상관 ┆ [\"액션\",  ┆ 허명행    ┆ [\"김무열\" │\n",
              "│      ┆            ┆            ┆ 34         ┆   ┆ 람가       ┆ \"범죄\"]   ┆           ┆ ,         │\n",
              "│      ┆            ┆            ┆            ┆   ┆            ┆           ┆           ┆ \"박지환\", │\n",
              "│      ┆            ┆            ┆            ┆   ┆            ┆           ┆           ┆ …         │\n",
              "│      ┆            ┆            ┆            ┆   ┆            ┆           ┆           ┆ \"조석인\"] │\n",
              "│ 3    ┆ 인사이드   ┆ 2024-06-12 ┆ 8450928403 ┆ … ┆ 전체관람가 ┆ [\"애니메  ┆ 켈시 만   ┆ [\"에이미  │\n",
              "│      ┆ 아웃 2     ┆            ┆ 6          ┆   ┆            ┆ 이션\"]    ┆           ┆ 포엘러\",  │\n",
              "│      ┆            ┆            ┆            ┆   ┆            ┆           ┆           ┆ \"토니     │\n",
              "│      ┆            ┆            ┆            ┆   ┆            ┆           ┆           ┆ 헤일\"]    │\n",
              "│ 4    ┆ 베테랑2    ┆ 2024-09-13 ┆ 7247403581 ┆ … ┆ 15세이상관 ┆ [\"액션\",  ┆ 류승완    ┆ [\"황정민\" │\n",
              "│      ┆            ┆            ┆ 4          ┆   ┆ 람가       ┆ \"범죄\"]   ┆           ┆ ,         │\n",
              "│      ┆            ┆            ┆            ┆   ┆            ┆           ┆           ┆ \"정해인\", │\n",
              "│      ┆            ┆            ┆            ┆   ┆            ┆           ┆           ┆ …         │\n",
              "│      ┆            ┆            ┆            ┆   ┆            ┆           ┆           ┆ \"이상협\"] │\n",
              "│ …    ┆ …          ┆ …          ┆ …          ┆ … ┆ …          ┆ …         ┆ …         ┆ …         │\n",
              "│ 4124 ┆ 헌팅 파티  ┆ null       ┆ 0          ┆ … ┆ null       ┆ [\"코미디\" ┆ null      ┆ null      │\n",
              "│      ┆            ┆            ┆            ┆   ┆            ┆ , \"멜로/  ┆           ┆           │\n",
              "│      ┆            ┆            ┆            ┆   ┆            ┆ 로맨스\"]  ┆           ┆           │\n",
              "│ 4124 ┆ 헬리오폴리 ┆ null       ┆ 0          ┆ … ┆ null       ┆ [\"기타\"]  ┆ 자파르    ┆ null      │\n",
              "│      ┆ 스         ┆            ┆            ┆   ┆            ┆           ┆ 가셈      ┆           │\n",
              "│ 4124 ┆ 황산벌     ┆ 2003-10-17 ┆ 0          ┆ … ┆ 15세관람가 ┆ [\"코미디\" ┆ 이준익    ┆ [\"박중훈\" │\n",
              "│      ┆            ┆            ┆            ┆   ┆            ┆ ]         ┆           ┆ ,         │\n",
              "│      ┆            ┆            ┆            ┆   ┆            ┆           ┆           ┆ \"정진영\", │\n",
              "│      ┆            ┆            ┆            ┆   ┆            ┆           ┆           ┆ …         │\n",
              "│      ┆            ┆            ┆            ┆   ┆            ┆           ┆           ┆ \"김형일\"] │\n",
              "│ 4124 ┆ 회오리     ┆ 2010-02-25 ┆ 0          ┆ … ┆ 15세이상관 ┆ [\"드라마\" ┆ 장건재    ┆ [\"서준영\" │\n",
              "│      ┆ 바람       ┆            ┆            ┆   ┆ 람가       ┆ , \"멜로/  ┆           ┆ ,         │\n",
              "│      ┆            ┆            ┆            ┆   ┆            ┆ 로맨스\"]  ┆           ┆ \"권혁풍\", │\n",
              "│      ┆            ┆            ┆            ┆   ┆            ┆           ┆           ┆ …         │\n",
              "│      ┆            ┆            ┆            ┆   ┆            ┆           ┆           ┆ \"임희라\"] │\n",
              "│ 4124 ┆ 휘파람의   ┆ null       ┆ 0          ┆ … ┆ null       ┆ [\"드라마\" ┆ 기욤      ┆ null      │\n",
              "│      ┆ 노래: 시벨 ┆            ┆            ┆   ┆            ┆ ]         ┆ 조바네티  ┆           │\n",
              "└──────┴────────────┴────────────┴────────────┴───┴────────────┴───────────┴───────────┴───────────┘"
            ],
            "text/html": [
              "<div><style>\n",
              ".dataframe > thead > tr,\n",
              ".dataframe > tbody > tr {\n",
              "  text-align: right;\n",
              "  white-space: pre-wrap;\n",
              "}\n",
              "</style>\n",
              "<small>shape: (4_319, 18)</small><table border=\"1\" class=\"dataframe\"><thead><tr><th>순위</th><th>영화명</th><th>개봉일</th><th>매출액</th><th>매출액점유율</th><th>누적매출액</th><th>관객수</th><th>누적관객수</th><th>스크린수</th><th>상영횟수</th><th>대표국적</th><th>국적</th><th>제작사</th><th>배급사</th><th>등급</th><th>장르</th><th>감독</th><th>배우</th></tr><tr><td>i64</td><td>str</td><td>date</td><td>i64</td><td>str</td><td>i64</td><td>i64</td><td>i64</td><td>i64</td><td>i64</td><td>str</td><td>str</td><td>str</td><td>str</td><td>str</td><td>list[str]</td><td>str</td><td>list[str]</td></tr></thead><tbody><tr><td>null</td><td>null</td><td>null</td><td>null</td><td>&quot;점유율 &quot;</td><td>null</td><td>null</td><td>null</td><td>null</td><td>null</td><td>null</td><td>null</td><td>null</td><td>null</td><td>null</td><td>null</td><td>null</td><td>null</td></tr><tr><td>1</td><td>&quot;파묘&quot;</td><td>2024-02-22</td><td>115157490414</td><td>&quot;9.6%&quot;</td><td>115157490414</td><td>11914784</td><td>11914784</td><td>2367</td><td>364955</td><td>&quot;한국&quot;</td><td>&quot;한국&quot;</td><td>&quot;(주)쇼박스&quot;</td><td>&quot;(주)쇼박스&quot;</td><td>&quot;15세이상관람가&quot;</td><td>[&quot;미스터리&quot;, &quot;공포(호러)&quot;]</td><td>&quot;장재현&quot;</td><td>[&quot;최민식&quot;, &quot;김고은&quot;, … &quot;김하영&quot;]</td></tr><tr><td>2</td><td>&quot;범죄도시4&quot;</td><td>2024-04-24</td><td>110050000734</td><td>&quot;9.2%&quot;</td><td>110050000734</td><td>11502779</td><td>11502779</td><td>2980</td><td>375434</td><td>&quot;한국&quot;</td><td>&quot;한국&quot;</td><td>&quot;주식회사 빅펀치픽쳐스,(주)홍필름,(주)비에이엔터테인먼…</td><td>&quot;주식회사 에이비오엔터테인먼트,플러스엠 엔터테인먼트&quot;</td><td>&quot;15세이상관람가&quot;</td><td>[&quot;액션&quot;, &quot;범죄&quot;]</td><td>&quot;허명행&quot;</td><td>[&quot;김무열&quot;, &quot;박지환&quot;, … &quot;조석인&quot;]</td></tr><tr><td>3</td><td>&quot;인사이드 아웃 2&quot;</td><td>2024-06-12</td><td>84509284036</td><td>&quot;7.1%&quot;</td><td>84509284036</td><td>8799013</td><td>8799013</td><td>2619</td><td>331341</td><td>&quot;미국&quot;</td><td>&quot;미국&quot;</td><td>&quot;월트 디즈니 픽쳐스,픽사 애니메이션 스튜디오&quot;</td><td>&quot;월트디즈니컴퍼니코리아 유한책임회사&quot;</td><td>&quot;전체관람가&quot;</td><td>[&quot;애니메이션&quot;]</td><td>&quot;켈시 만&quot;</td><td>[&quot;에이미 포엘러&quot;, &quot;토니 헤일&quot;]</td></tr><tr><td>4</td><td>&quot;베테랑2&quot;</td><td>2024-09-13</td><td>72474035814</td><td>&quot;6.1%&quot;</td><td>72474035814</td><td>7525339</td><td>7525339</td><td>2691</td><td>279673</td><td>&quot;한국&quot;</td><td>&quot;한국&quot;</td><td>&quot;(주)외유내강&quot;</td><td>&quot;(주)씨제이이엔엠&quot;</td><td>&quot;15세이상관람가&quot;</td><td>[&quot;액션&quot;, &quot;범죄&quot;]</td><td>&quot;류승완&quot;</td><td>[&quot;황정민&quot;, &quot;정해인&quot;, … &quot;이상협&quot;]</td></tr><tr><td>&hellip;</td><td>&hellip;</td><td>&hellip;</td><td>&hellip;</td><td>&hellip;</td><td>&hellip;</td><td>&hellip;</td><td>&hellip;</td><td>&hellip;</td><td>&hellip;</td><td>&hellip;</td><td>&hellip;</td><td>&hellip;</td><td>&hellip;</td><td>&hellip;</td><td>&hellip;</td><td>&hellip;</td><td>&hellip;</td></tr><tr><td>4124</td><td>&quot;헌팅 파티&quot;</td><td>null</td><td>0</td><td>&quot;0.0%&quot;</td><td>0</td><td>0</td><td>0</td><td>1</td><td>1</td><td>&quot;기타&quot;</td><td>&quot;기타&quot;</td><td>null</td><td>null</td><td>null</td><td>[&quot;코미디&quot;, &quot;멜로/로맨스&quot;]</td><td>null</td><td>null</td></tr><tr><td>4124</td><td>&quot;헬리오폴리스&quot;</td><td>null</td><td>0</td><td>&quot;0.0%&quot;</td><td>474000</td><td>0</td><td>158</td><td>1</td><td>1</td><td>&quot;기타&quot;</td><td>&quot;기타&quot;</td><td>null</td><td>null</td><td>null</td><td>[&quot;기타&quot;]</td><td>&quot;자파르 가셈&quot;</td><td>null</td></tr><tr><td>4124</td><td>&quot;황산벌&quot;</td><td>2003-10-17</td><td>0</td><td>&quot;0.0%&quot;</td><td>41867500</td><td>0</td><td>5665</td><td>1</td><td>2</td><td>&quot;한국&quot;</td><td>&quot;한국&quot;</td><td>&quot;(주)씨네월드&quot;</td><td>&quot;(주)씨네월드&quot;</td><td>&quot;15세관람가&quot;</td><td>[&quot;코미디&quot;]</td><td>&quot;이준익&quot;</td><td>[&quot;박중훈&quot;, &quot;정진영&quot;, … &quot;김형일&quot;]</td></tr><tr><td>4124</td><td>&quot;회오리 바람&quot;</td><td>2010-02-25</td><td>0</td><td>&quot;0.0%&quot;</td><td>16680500</td><td>0</td><td>2275</td><td>1</td><td>1</td><td>&quot;한국&quot;</td><td>&quot;한국&quot;</td><td>&quot;(주)모쿠슈라&quot;</td><td>&quot;(주)영화사 진진&quot;</td><td>&quot;15세이상관람가&quot;</td><td>[&quot;드라마&quot;, &quot;멜로/로맨스&quot;]</td><td>&quot;장건재&quot;</td><td>[&quot;서준영&quot;, &quot;권혁풍&quot;, … &quot;임희라&quot;]</td></tr><tr><td>4124</td><td>&quot;휘파람의 노래: 시벨&quot;</td><td>null</td><td>0</td><td>&quot;0.0%&quot;</td><td>0</td><td>0</td><td>0</td><td>1</td><td>1</td><td>&quot;터키&quot;</td><td>&quot;터키&quot;</td><td>null</td><td>null</td><td>null</td><td>[&quot;드라마&quot;]</td><td>&quot;기욤 조바네티&quot;</td><td>null</td></tr></tbody></table></div>"
            ]
          },
          "metadata": {},
          "execution_count": 11
        }
      ],
      "source": [
        "df_boxoffice = df_boxoffice.with_columns(\n",
        "    pl.col('장르').str.split(','),\n",
        "    pl.col('배우').str.split(','),\n",
        ")\n",
        "df_boxoffice"
      ]
    },
    {
      "cell_type": "code",
      "execution_count": 12,
      "id": "1895e504-4a1b-4c07-b42c-733a22d4edc4",
      "metadata": {
        "colab": {
          "base_uri": "https://localhost:8080/",
          "height": 1000
        },
        "id": "1895e504-4a1b-4c07-b42c-733a22d4edc4",
        "outputId": "155c4d88-8adc-4636-8c99-58136c8a3cc2"
      },
      "outputs": [
        {
          "output_type": "execute_result",
          "data": {
            "text/plain": [
              "shape: (4_319, 21)\n",
              "┌──────┬─────────────┬────────────┬────────────┬───┬────────────┬────────┬────────────┬────────────┐\n",
              "│ 순위 ┆ 영화명      ┆ 개봉일     ┆ 매출액     ┆ … ┆ 배우       ┆ 객단가 ┆ 상영횟수당 ┆ 상영횟수당 │\n",
              "│ ---  ┆ ---         ┆ ---        ┆ ---        ┆   ┆ ---        ┆ ---    ┆ 매출액     ┆ 관객수     │\n",
              "│ i64  ┆ str         ┆ date       ┆ i64        ┆   ┆ list[str]  ┆ f64    ┆ ---        ┆ ---        │\n",
              "│      ┆             ┆            ┆            ┆   ┆            ┆        ┆ f64        ┆ f64        │\n",
              "╞══════╪═════════════╪════════════╪════════════╪═══╪════════════╪════════╪════════════╪════════════╡\n",
              "│ null ┆ null        ┆ null       ┆ null       ┆ … ┆ null       ┆ null   ┆ null       ┆ null       │\n",
              "│ 1    ┆ 파묘        ┆ 2024-02-22 ┆ 1151574904 ┆ … ┆ [\"최민식\", ┆ 9665.1 ┆ 315538.9   ┆ 32.6       │\n",
              "│      ┆             ┆            ┆ 14         ┆   ┆ \"김고은\",  ┆        ┆            ┆            │\n",
              "│      ┆             ┆            ┆            ┆   ┆ …          ┆        ┆            ┆            │\n",
              "│      ┆             ┆            ┆            ┆   ┆ \"김하영\"]  ┆        ┆            ┆            │\n",
              "│ 2    ┆ 범죄도시4   ┆ 2024-04-24 ┆ 1100500007 ┆ … ┆ [\"김무열\", ┆ 9567.3 ┆ 293127.4   ┆ 30.6       │\n",
              "│      ┆             ┆            ┆ 34         ┆   ┆ \"박지환\",  ┆        ┆            ┆            │\n",
              "│      ┆             ┆            ┆            ┆   ┆ …          ┆        ┆            ┆            │\n",
              "│      ┆             ┆            ┆            ┆   ┆ \"조석인\"]  ┆        ┆            ┆            │\n",
              "│ 3    ┆ 인사이드    ┆ 2024-06-12 ┆ 8450928403 ┆ … ┆ [\"에이미   ┆ 9604.4 ┆ 255052.3   ┆ 26.6       │\n",
              "│      ┆ 아웃 2      ┆            ┆ 6          ┆   ┆ 포엘러\",   ┆        ┆            ┆            │\n",
              "│      ┆             ┆            ┆            ┆   ┆ \"토니      ┆        ┆            ┆            │\n",
              "│      ┆             ┆            ┆            ┆   ┆ 헤일\"]     ┆        ┆            ┆            │\n",
              "│ 4    ┆ 베테랑2     ┆ 2024-09-13 ┆ 7247403581 ┆ … ┆ [\"황정민\", ┆ 9630.7 ┆ 259138.5   ┆ 26.9       │\n",
              "│      ┆             ┆            ┆ 4          ┆   ┆ \"정해인\",  ┆        ┆            ┆            │\n",
              "│      ┆             ┆            ┆            ┆   ┆ …          ┆        ┆            ┆            │\n",
              "│      ┆             ┆            ┆            ┆   ┆ \"이상협\"]  ┆        ┆            ┆            │\n",
              "│ …    ┆ …           ┆ …          ┆ …          ┆ … ┆ …          ┆ …      ┆ …          ┆ …          │\n",
              "│ 4124 ┆ 헌팅 파티   ┆ null       ┆ 0          ┆ … ┆ null       ┆ NaN    ┆ 0.0        ┆ 0.0        │\n",
              "│ 4124 ┆ 헬리오폴리  ┆ null       ┆ 0          ┆ … ┆ null       ┆ NaN    ┆ 0.0        ┆ 0.0        │\n",
              "│      ┆ 스          ┆            ┆            ┆   ┆            ┆        ┆            ┆            │\n",
              "│ 4124 ┆ 황산벌      ┆ 2003-10-17 ┆ 0          ┆ … ┆ [\"박중훈\", ┆ NaN    ┆ 0.0        ┆ 0.0        │\n",
              "│      ┆             ┆            ┆            ┆   ┆ \"정진영\",  ┆        ┆            ┆            │\n",
              "│      ┆             ┆            ┆            ┆   ┆ …          ┆        ┆            ┆            │\n",
              "│      ┆             ┆            ┆            ┆   ┆ \"김형일\"]  ┆        ┆            ┆            │\n",
              "│ 4124 ┆ 회오리 바람 ┆ 2010-02-25 ┆ 0          ┆ … ┆ [\"서준영\", ┆ NaN    ┆ 0.0        ┆ 0.0        │\n",
              "│      ┆             ┆            ┆            ┆   ┆ \"권혁풍\",  ┆        ┆            ┆            │\n",
              "│      ┆             ┆            ┆            ┆   ┆ …          ┆        ┆            ┆            │\n",
              "│      ┆             ┆            ┆            ┆   ┆ \"임희라\"]  ┆        ┆            ┆            │\n",
              "│ 4124 ┆ 휘파람의    ┆ null       ┆ 0          ┆ … ┆ null       ┆ NaN    ┆ 0.0        ┆ 0.0        │\n",
              "│      ┆ 노래: 시벨  ┆            ┆            ┆   ┆            ┆        ┆            ┆            │\n",
              "└──────┴─────────────┴────────────┴────────────┴───┴────────────┴────────┴────────────┴────────────┘"
            ],
            "text/html": [
              "<div><style>\n",
              ".dataframe > thead > tr,\n",
              ".dataframe > tbody > tr {\n",
              "  text-align: right;\n",
              "  white-space: pre-wrap;\n",
              "}\n",
              "</style>\n",
              "<small>shape: (4_319, 21)</small><table border=\"1\" class=\"dataframe\"><thead><tr><th>순위</th><th>영화명</th><th>개봉일</th><th>매출액</th><th>매출액점유율</th><th>누적매출액</th><th>관객수</th><th>누적관객수</th><th>스크린수</th><th>상영횟수</th><th>대표국적</th><th>국적</th><th>제작사</th><th>배급사</th><th>등급</th><th>장르</th><th>감독</th><th>배우</th><th>객단가</th><th>상영횟수당매출액</th><th>상영횟수당관객수</th></tr><tr><td>i64</td><td>str</td><td>date</td><td>i64</td><td>str</td><td>i64</td><td>i64</td><td>i64</td><td>i64</td><td>i64</td><td>str</td><td>str</td><td>str</td><td>str</td><td>str</td><td>list[str]</td><td>str</td><td>list[str]</td><td>f64</td><td>f64</td><td>f64</td></tr></thead><tbody><tr><td>null</td><td>null</td><td>null</td><td>null</td><td>&quot;점유율 &quot;</td><td>null</td><td>null</td><td>null</td><td>null</td><td>null</td><td>null</td><td>null</td><td>null</td><td>null</td><td>null</td><td>null</td><td>null</td><td>null</td><td>null</td><td>null</td><td>null</td></tr><tr><td>1</td><td>&quot;파묘&quot;</td><td>2024-02-22</td><td>115157490414</td><td>&quot;9.6%&quot;</td><td>115157490414</td><td>11914784</td><td>11914784</td><td>2367</td><td>364955</td><td>&quot;한국&quot;</td><td>&quot;한국&quot;</td><td>&quot;(주)쇼박스&quot;</td><td>&quot;(주)쇼박스&quot;</td><td>&quot;15세이상관람가&quot;</td><td>[&quot;미스터리&quot;, &quot;공포(호러)&quot;]</td><td>&quot;장재현&quot;</td><td>[&quot;최민식&quot;, &quot;김고은&quot;, … &quot;김하영&quot;]</td><td>9665.1</td><td>315538.9</td><td>32.6</td></tr><tr><td>2</td><td>&quot;범죄도시4&quot;</td><td>2024-04-24</td><td>110050000734</td><td>&quot;9.2%&quot;</td><td>110050000734</td><td>11502779</td><td>11502779</td><td>2980</td><td>375434</td><td>&quot;한국&quot;</td><td>&quot;한국&quot;</td><td>&quot;주식회사 빅펀치픽쳐스,(주)홍필름,(주)비에이엔터테인먼…</td><td>&quot;주식회사 에이비오엔터테인먼트,플러스엠 엔터테인먼트&quot;</td><td>&quot;15세이상관람가&quot;</td><td>[&quot;액션&quot;, &quot;범죄&quot;]</td><td>&quot;허명행&quot;</td><td>[&quot;김무열&quot;, &quot;박지환&quot;, … &quot;조석인&quot;]</td><td>9567.3</td><td>293127.4</td><td>30.6</td></tr><tr><td>3</td><td>&quot;인사이드 아웃 2&quot;</td><td>2024-06-12</td><td>84509284036</td><td>&quot;7.1%&quot;</td><td>84509284036</td><td>8799013</td><td>8799013</td><td>2619</td><td>331341</td><td>&quot;미국&quot;</td><td>&quot;미국&quot;</td><td>&quot;월트 디즈니 픽쳐스,픽사 애니메이션 스튜디오&quot;</td><td>&quot;월트디즈니컴퍼니코리아 유한책임회사&quot;</td><td>&quot;전체관람가&quot;</td><td>[&quot;애니메이션&quot;]</td><td>&quot;켈시 만&quot;</td><td>[&quot;에이미 포엘러&quot;, &quot;토니 헤일&quot;]</td><td>9604.4</td><td>255052.3</td><td>26.6</td></tr><tr><td>4</td><td>&quot;베테랑2&quot;</td><td>2024-09-13</td><td>72474035814</td><td>&quot;6.1%&quot;</td><td>72474035814</td><td>7525339</td><td>7525339</td><td>2691</td><td>279673</td><td>&quot;한국&quot;</td><td>&quot;한국&quot;</td><td>&quot;(주)외유내강&quot;</td><td>&quot;(주)씨제이이엔엠&quot;</td><td>&quot;15세이상관람가&quot;</td><td>[&quot;액션&quot;, &quot;범죄&quot;]</td><td>&quot;류승완&quot;</td><td>[&quot;황정민&quot;, &quot;정해인&quot;, … &quot;이상협&quot;]</td><td>9630.7</td><td>259138.5</td><td>26.9</td></tr><tr><td>&hellip;</td><td>&hellip;</td><td>&hellip;</td><td>&hellip;</td><td>&hellip;</td><td>&hellip;</td><td>&hellip;</td><td>&hellip;</td><td>&hellip;</td><td>&hellip;</td><td>&hellip;</td><td>&hellip;</td><td>&hellip;</td><td>&hellip;</td><td>&hellip;</td><td>&hellip;</td><td>&hellip;</td><td>&hellip;</td><td>&hellip;</td><td>&hellip;</td><td>&hellip;</td></tr><tr><td>4124</td><td>&quot;헌팅 파티&quot;</td><td>null</td><td>0</td><td>&quot;0.0%&quot;</td><td>0</td><td>0</td><td>0</td><td>1</td><td>1</td><td>&quot;기타&quot;</td><td>&quot;기타&quot;</td><td>null</td><td>null</td><td>null</td><td>[&quot;코미디&quot;, &quot;멜로/로맨스&quot;]</td><td>null</td><td>null</td><td>NaN</td><td>0.0</td><td>0.0</td></tr><tr><td>4124</td><td>&quot;헬리오폴리스&quot;</td><td>null</td><td>0</td><td>&quot;0.0%&quot;</td><td>474000</td><td>0</td><td>158</td><td>1</td><td>1</td><td>&quot;기타&quot;</td><td>&quot;기타&quot;</td><td>null</td><td>null</td><td>null</td><td>[&quot;기타&quot;]</td><td>&quot;자파르 가셈&quot;</td><td>null</td><td>NaN</td><td>0.0</td><td>0.0</td></tr><tr><td>4124</td><td>&quot;황산벌&quot;</td><td>2003-10-17</td><td>0</td><td>&quot;0.0%&quot;</td><td>41867500</td><td>0</td><td>5665</td><td>1</td><td>2</td><td>&quot;한국&quot;</td><td>&quot;한국&quot;</td><td>&quot;(주)씨네월드&quot;</td><td>&quot;(주)씨네월드&quot;</td><td>&quot;15세관람가&quot;</td><td>[&quot;코미디&quot;]</td><td>&quot;이준익&quot;</td><td>[&quot;박중훈&quot;, &quot;정진영&quot;, … &quot;김형일&quot;]</td><td>NaN</td><td>0.0</td><td>0.0</td></tr><tr><td>4124</td><td>&quot;회오리 바람&quot;</td><td>2010-02-25</td><td>0</td><td>&quot;0.0%&quot;</td><td>16680500</td><td>0</td><td>2275</td><td>1</td><td>1</td><td>&quot;한국&quot;</td><td>&quot;한국&quot;</td><td>&quot;(주)모쿠슈라&quot;</td><td>&quot;(주)영화사 진진&quot;</td><td>&quot;15세이상관람가&quot;</td><td>[&quot;드라마&quot;, &quot;멜로/로맨스&quot;]</td><td>&quot;장건재&quot;</td><td>[&quot;서준영&quot;, &quot;권혁풍&quot;, … &quot;임희라&quot;]</td><td>NaN</td><td>0.0</td><td>0.0</td></tr><tr><td>4124</td><td>&quot;휘파람의 노래: 시벨&quot;</td><td>null</td><td>0</td><td>&quot;0.0%&quot;</td><td>0</td><td>0</td><td>0</td><td>1</td><td>1</td><td>&quot;터키&quot;</td><td>&quot;터키&quot;</td><td>null</td><td>null</td><td>null</td><td>[&quot;드라마&quot;]</td><td>&quot;기욤 조바네티&quot;</td><td>null</td><td>NaN</td><td>0.0</td><td>0.0</td></tr></tbody></table></div>"
            ]
          },
          "metadata": {},
          "execution_count": 12
        }
      ],
      "source": [
        "df_boxoffice.with_columns(\n",
        "    (pl.col('매출액')/pl.col('관객수')).round(1).alias('객단가'),\n",
        "    (pl.col('매출액')/pl.col('상영횟수')).round(1).alias('상영횟수당매출액'),\n",
        "    (pl.col('관객수')/pl.col('상영횟수')).round(1).alias('상영횟수당관객수')\n",
        ")"
      ]
    },
    {
      "cell_type": "code",
      "execution_count": 13,
      "id": "1cd70a9a-8c3d-4d27-a0c8-bafafb17d464",
      "metadata": {
        "colab": {
          "base_uri": "https://localhost:8080/",
          "height": 443
        },
        "id": "1cd70a9a-8c3d-4d27-a0c8-bafafb17d464",
        "outputId": "6919d26e-9620-4714-88a6-ba02076b1b8c"
      },
      "outputs": [
        {
          "output_type": "execute_result",
          "data": {
            "text/plain": [
              "shape: (4_319, 2)\n",
              "┌─────────────────────────────────┬────────┐\n",
              "│ 영화명                          ┆ 배우수 │\n",
              "│ ---                             ┆ ---    │\n",
              "│ str                             ┆ u32    │\n",
              "╞═════════════════════════════════╪════════╡\n",
              "│ 세자매                          ┆ 190    │\n",
              "│ 노량: 죽음의 바다               ┆ 172    │\n",
              "│ 봉오동 전투                     ┆ 156    │\n",
              "│ 기묘한 가족                     ┆ 152    │\n",
              "│ 야구소녀                        ┆ 151    │\n",
              "│ …                               ┆ …      │\n",
              "│ 필름다빈X아리랑인디웨이브 섹션  ┆ 0      │\n",
              "│ 3                               ┆        │\n",
              "│ 필름다빈X아리랑인디웨이브 섹션1 ┆ 0      │\n",
              "│ 헌팅 파티                       ┆ 0      │\n",
              "│ 헬리오폴리스                    ┆ 0      │\n",
              "│ 휘파람의 노래: 시벨             ┆ 0      │\n",
              "└─────────────────────────────────┴────────┘"
            ],
            "text/html": [
              "<div><style>\n",
              ".dataframe > thead > tr,\n",
              ".dataframe > tbody > tr {\n",
              "  text-align: right;\n",
              "  white-space: pre-wrap;\n",
              "}\n",
              "</style>\n",
              "<small>shape: (4_319, 2)</small><table border=\"1\" class=\"dataframe\"><thead><tr><th>영화명</th><th>배우수</th></tr><tr><td>str</td><td>u32</td></tr></thead><tbody><tr><td>&quot;세자매&quot;</td><td>190</td></tr><tr><td>&quot;노량: 죽음의 바다&quot;</td><td>172</td></tr><tr><td>&quot;봉오동 전투&quot;</td><td>156</td></tr><tr><td>&quot;기묘한 가족&quot;</td><td>152</td></tr><tr><td>&quot;야구소녀&quot;</td><td>151</td></tr><tr><td>&hellip;</td><td>&hellip;</td></tr><tr><td>&quot;필름다빈X아리랑인디웨이브 섹션 3&quot;</td><td>0</td></tr><tr><td>&quot;필름다빈X아리랑인디웨이브 섹션1&quot;</td><td>0</td></tr><tr><td>&quot;헌팅 파티&quot;</td><td>0</td></tr><tr><td>&quot;헬리오폴리스&quot;</td><td>0</td></tr><tr><td>&quot;휘파람의 노래: 시벨&quot;</td><td>0</td></tr></tbody></table></div>"
            ]
          },
          "metadata": {},
          "execution_count": 13
        }
      ],
      "source": [
        "df_boxoffice.select(\n",
        "    pl.col('영화명'),\n",
        "    pl.col('배우').list.len().alias('배우수')\n",
        ").sort('배우수', descending = True)"
      ]
    },
    {
      "cell_type": "code",
      "execution_count": 14,
      "id": "5e002fa6-fac0-43c7-9c27-869a1e141530",
      "metadata": {
        "colab": {
          "base_uri": "https://localhost:8080/",
          "height": 981
        },
        "id": "5e002fa6-fac0-43c7-9c27-869a1e141530",
        "outputId": "b3de32b3-db43-436c-ab93-27ce1015d2e9"
      },
      "outputs": [
        {
          "output_type": "execute_result",
          "data": {
            "text/plain": [
              "shape: (4_319, 19)\n",
              "┌──────┬────────────┬────────────┬────────────┬───┬────────────┬────────────┬───────────┬──────────┐\n",
              "│ 순위 ┆ 영화명     ┆ 개봉일     ┆ 매출액     ┆ … ┆ 장르       ┆ 감독       ┆ 배우      ┆ 기준연도 │\n",
              "│ ---  ┆ ---        ┆ ---        ┆ ---        ┆   ┆ ---        ┆ ---        ┆ ---       ┆ ---      │\n",
              "│ i64  ┆ str        ┆ date       ┆ i64        ┆   ┆ list[str]  ┆ str        ┆ list[str] ┆ i32      │\n",
              "╞══════╪════════════╪════════════╪════════════╪═══╪════════════╪════════════╪═══════════╪══════════╡\n",
              "│ null ┆ null       ┆ null       ┆ null       ┆ … ┆ null       ┆ null       ┆ null      ┆ 2024     │\n",
              "│ 1    ┆ 파묘       ┆ 2024-02-22 ┆ 1151574904 ┆ … ┆ [\"미스터리 ┆ 장재현     ┆ [\"최민식\" ┆ 2024     │\n",
              "│      ┆            ┆            ┆ 14         ┆   ┆ \", \"공포(  ┆            ┆ ,         ┆          │\n",
              "│      ┆            ┆            ┆            ┆   ┆ 호러)\"]    ┆            ┆ \"김고은\", ┆          │\n",
              "│      ┆            ┆            ┆            ┆   ┆            ┆            ┆ …         ┆          │\n",
              "│      ┆            ┆            ┆            ┆   ┆            ┆            ┆ \"김하영\"] ┆          │\n",
              "│ 2    ┆ 범죄도시4  ┆ 2024-04-24 ┆ 1100500007 ┆ … ┆ [\"액션\",   ┆ 허명행     ┆ [\"김무열\" ┆ 2024     │\n",
              "│      ┆            ┆            ┆ 34         ┆   ┆ \"범죄\"]    ┆            ┆ ,         ┆          │\n",
              "│      ┆            ┆            ┆            ┆   ┆            ┆            ┆ \"박지환\", ┆          │\n",
              "│      ┆            ┆            ┆            ┆   ┆            ┆            ┆ …         ┆          │\n",
              "│      ┆            ┆            ┆            ┆   ┆            ┆            ┆ \"조석인\"] ┆          │\n",
              "│ 3    ┆ 인사이드   ┆ 2024-06-12 ┆ 8450928403 ┆ … ┆ [\"애니메이 ┆ 켈시 만    ┆ [\"에이미  ┆ 2024     │\n",
              "│      ┆ 아웃 2     ┆            ┆ 6          ┆   ┆ 션\"]       ┆            ┆ 포엘러\",  ┆          │\n",
              "│      ┆            ┆            ┆            ┆   ┆            ┆            ┆ \"토니     ┆          │\n",
              "│      ┆            ┆            ┆            ┆   ┆            ┆            ┆ 헤일\"]    ┆          │\n",
              "│ 4    ┆ 베테랑2    ┆ 2024-09-13 ┆ 7247403581 ┆ … ┆ [\"액션\",   ┆ 류승완     ┆ [\"황정민\" ┆ 2024     │\n",
              "│      ┆            ┆            ┆ 4          ┆   ┆ \"범죄\"]    ┆            ┆ ,         ┆          │\n",
              "│      ┆            ┆            ┆            ┆   ┆            ┆            ┆ \"정해인\", ┆          │\n",
              "│      ┆            ┆            ┆            ┆   ┆            ┆            ┆ …         ┆          │\n",
              "│      ┆            ┆            ┆            ┆   ┆            ┆            ┆ \"이상협\"] ┆          │\n",
              "│ …    ┆ …          ┆ …          ┆ …          ┆ … ┆ …          ┆ …          ┆ …         ┆ …        │\n",
              "│ 4124 ┆ 헌팅 파티  ┆ null       ┆ 0          ┆ … ┆ [\"코미디\", ┆ null       ┆ null      ┆ 2024     │\n",
              "│      ┆            ┆            ┆            ┆   ┆ \"멜로/로맨 ┆            ┆           ┆          │\n",
              "│      ┆            ┆            ┆            ┆   ┆ 스\"]       ┆            ┆           ┆          │\n",
              "│ 4124 ┆ 헬리오폴리 ┆ null       ┆ 0          ┆ … ┆ [\"기타\"]   ┆ 자파르     ┆ null      ┆ 2024     │\n",
              "│      ┆ 스         ┆            ┆            ┆   ┆            ┆ 가셈       ┆           ┆          │\n",
              "│ 4124 ┆ 황산벌     ┆ 2003-10-17 ┆ 0          ┆ … ┆ [\"코미디\"] ┆ 이준익     ┆ [\"박중훈\" ┆ 2024     │\n",
              "│      ┆            ┆            ┆            ┆   ┆            ┆            ┆ ,         ┆          │\n",
              "│      ┆            ┆            ┆            ┆   ┆            ┆            ┆ \"정진영\", ┆          │\n",
              "│      ┆            ┆            ┆            ┆   ┆            ┆            ┆ …         ┆          │\n",
              "│      ┆            ┆            ┆            ┆   ┆            ┆            ┆ \"김형일\"] ┆          │\n",
              "│ 4124 ┆ 회오리     ┆ 2010-02-25 ┆ 0          ┆ … ┆ [\"드라마\", ┆ 장건재     ┆ [\"서준영\" ┆ 2024     │\n",
              "│      ┆ 바람       ┆            ┆            ┆   ┆ \"멜로/로맨 ┆            ┆ ,         ┆          │\n",
              "│      ┆            ┆            ┆            ┆   ┆ 스\"]       ┆            ┆ \"권혁풍\", ┆          │\n",
              "│      ┆            ┆            ┆            ┆   ┆            ┆            ┆ …         ┆          │\n",
              "│      ┆            ┆            ┆            ┆   ┆            ┆            ┆ \"임희라\"] ┆          │\n",
              "│ 4124 ┆ 휘파람의   ┆ null       ┆ 0          ┆ … ┆ [\"드라마\"] ┆ 기욤       ┆ null      ┆ 2024     │\n",
              "│      ┆ 노래: 시벨 ┆            ┆            ┆   ┆            ┆ 조바네티   ┆           ┆          │\n",
              "└──────┴────────────┴────────────┴────────────┴───┴────────────┴────────────┴───────────┴──────────┘"
            ],
            "text/html": [
              "<div><style>\n",
              ".dataframe > thead > tr,\n",
              ".dataframe > tbody > tr {\n",
              "  text-align: right;\n",
              "  white-space: pre-wrap;\n",
              "}\n",
              "</style>\n",
              "<small>shape: (4_319, 19)</small><table border=\"1\" class=\"dataframe\"><thead><tr><th>순위</th><th>영화명</th><th>개봉일</th><th>매출액</th><th>매출액점유율</th><th>누적매출액</th><th>관객수</th><th>누적관객수</th><th>스크린수</th><th>상영횟수</th><th>대표국적</th><th>국적</th><th>제작사</th><th>배급사</th><th>등급</th><th>장르</th><th>감독</th><th>배우</th><th>기준연도</th></tr><tr><td>i64</td><td>str</td><td>date</td><td>i64</td><td>str</td><td>i64</td><td>i64</td><td>i64</td><td>i64</td><td>i64</td><td>str</td><td>str</td><td>str</td><td>str</td><td>str</td><td>list[str]</td><td>str</td><td>list[str]</td><td>i32</td></tr></thead><tbody><tr><td>null</td><td>null</td><td>null</td><td>null</td><td>&quot;점유율 &quot;</td><td>null</td><td>null</td><td>null</td><td>null</td><td>null</td><td>null</td><td>null</td><td>null</td><td>null</td><td>null</td><td>null</td><td>null</td><td>null</td><td>2024</td></tr><tr><td>1</td><td>&quot;파묘&quot;</td><td>2024-02-22</td><td>115157490414</td><td>&quot;9.6%&quot;</td><td>115157490414</td><td>11914784</td><td>11914784</td><td>2367</td><td>364955</td><td>&quot;한국&quot;</td><td>&quot;한국&quot;</td><td>&quot;(주)쇼박스&quot;</td><td>&quot;(주)쇼박스&quot;</td><td>&quot;15세이상관람가&quot;</td><td>[&quot;미스터리&quot;, &quot;공포(호러)&quot;]</td><td>&quot;장재현&quot;</td><td>[&quot;최민식&quot;, &quot;김고은&quot;, … &quot;김하영&quot;]</td><td>2024</td></tr><tr><td>2</td><td>&quot;범죄도시4&quot;</td><td>2024-04-24</td><td>110050000734</td><td>&quot;9.2%&quot;</td><td>110050000734</td><td>11502779</td><td>11502779</td><td>2980</td><td>375434</td><td>&quot;한국&quot;</td><td>&quot;한국&quot;</td><td>&quot;주식회사 빅펀치픽쳐스,(주)홍필름,(주)비에이엔터테인먼…</td><td>&quot;주식회사 에이비오엔터테인먼트,플러스엠 엔터테인먼트&quot;</td><td>&quot;15세이상관람가&quot;</td><td>[&quot;액션&quot;, &quot;범죄&quot;]</td><td>&quot;허명행&quot;</td><td>[&quot;김무열&quot;, &quot;박지환&quot;, … &quot;조석인&quot;]</td><td>2024</td></tr><tr><td>3</td><td>&quot;인사이드 아웃 2&quot;</td><td>2024-06-12</td><td>84509284036</td><td>&quot;7.1%&quot;</td><td>84509284036</td><td>8799013</td><td>8799013</td><td>2619</td><td>331341</td><td>&quot;미국&quot;</td><td>&quot;미국&quot;</td><td>&quot;월트 디즈니 픽쳐스,픽사 애니메이션 스튜디오&quot;</td><td>&quot;월트디즈니컴퍼니코리아 유한책임회사&quot;</td><td>&quot;전체관람가&quot;</td><td>[&quot;애니메이션&quot;]</td><td>&quot;켈시 만&quot;</td><td>[&quot;에이미 포엘러&quot;, &quot;토니 헤일&quot;]</td><td>2024</td></tr><tr><td>4</td><td>&quot;베테랑2&quot;</td><td>2024-09-13</td><td>72474035814</td><td>&quot;6.1%&quot;</td><td>72474035814</td><td>7525339</td><td>7525339</td><td>2691</td><td>279673</td><td>&quot;한국&quot;</td><td>&quot;한국&quot;</td><td>&quot;(주)외유내강&quot;</td><td>&quot;(주)씨제이이엔엠&quot;</td><td>&quot;15세이상관람가&quot;</td><td>[&quot;액션&quot;, &quot;범죄&quot;]</td><td>&quot;류승완&quot;</td><td>[&quot;황정민&quot;, &quot;정해인&quot;, … &quot;이상협&quot;]</td><td>2024</td></tr><tr><td>&hellip;</td><td>&hellip;</td><td>&hellip;</td><td>&hellip;</td><td>&hellip;</td><td>&hellip;</td><td>&hellip;</td><td>&hellip;</td><td>&hellip;</td><td>&hellip;</td><td>&hellip;</td><td>&hellip;</td><td>&hellip;</td><td>&hellip;</td><td>&hellip;</td><td>&hellip;</td><td>&hellip;</td><td>&hellip;</td><td>&hellip;</td></tr><tr><td>4124</td><td>&quot;헌팅 파티&quot;</td><td>null</td><td>0</td><td>&quot;0.0%&quot;</td><td>0</td><td>0</td><td>0</td><td>1</td><td>1</td><td>&quot;기타&quot;</td><td>&quot;기타&quot;</td><td>null</td><td>null</td><td>null</td><td>[&quot;코미디&quot;, &quot;멜로/로맨스&quot;]</td><td>null</td><td>null</td><td>2024</td></tr><tr><td>4124</td><td>&quot;헬리오폴리스&quot;</td><td>null</td><td>0</td><td>&quot;0.0%&quot;</td><td>474000</td><td>0</td><td>158</td><td>1</td><td>1</td><td>&quot;기타&quot;</td><td>&quot;기타&quot;</td><td>null</td><td>null</td><td>null</td><td>[&quot;기타&quot;]</td><td>&quot;자파르 가셈&quot;</td><td>null</td><td>2024</td></tr><tr><td>4124</td><td>&quot;황산벌&quot;</td><td>2003-10-17</td><td>0</td><td>&quot;0.0%&quot;</td><td>41867500</td><td>0</td><td>5665</td><td>1</td><td>2</td><td>&quot;한국&quot;</td><td>&quot;한국&quot;</td><td>&quot;(주)씨네월드&quot;</td><td>&quot;(주)씨네월드&quot;</td><td>&quot;15세관람가&quot;</td><td>[&quot;코미디&quot;]</td><td>&quot;이준익&quot;</td><td>[&quot;박중훈&quot;, &quot;정진영&quot;, … &quot;김형일&quot;]</td><td>2024</td></tr><tr><td>4124</td><td>&quot;회오리 바람&quot;</td><td>2010-02-25</td><td>0</td><td>&quot;0.0%&quot;</td><td>16680500</td><td>0</td><td>2275</td><td>1</td><td>1</td><td>&quot;한국&quot;</td><td>&quot;한국&quot;</td><td>&quot;(주)모쿠슈라&quot;</td><td>&quot;(주)영화사 진진&quot;</td><td>&quot;15세이상관람가&quot;</td><td>[&quot;드라마&quot;, &quot;멜로/로맨스&quot;]</td><td>&quot;장건재&quot;</td><td>[&quot;서준영&quot;, &quot;권혁풍&quot;, … &quot;임희라&quot;]</td><td>2024</td></tr><tr><td>4124</td><td>&quot;휘파람의 노래: 시벨&quot;</td><td>null</td><td>0</td><td>&quot;0.0%&quot;</td><td>0</td><td>0</td><td>0</td><td>1</td><td>1</td><td>&quot;터키&quot;</td><td>&quot;터키&quot;</td><td>null</td><td>null</td><td>null</td><td>[&quot;드라마&quot;]</td><td>&quot;기욤 조바네티&quot;</td><td>null</td><td>2024</td></tr></tbody></table></div>"
            ]
          },
          "metadata": {},
          "execution_count": 14
        }
      ],
      "source": [
        "df_boxoffice.with_columns(\n",
        "    pl.lit(2024).alias('기준연도')\n",
        ")"
      ]
    },
    {
      "cell_type": "code",
      "execution_count": 15,
      "id": "f4e56b29-9691-4eb0-9f6c-0fd74b48d132",
      "metadata": {
        "colab": {
          "base_uri": "https://localhost:8080/",
          "height": 129
        },
        "id": "f4e56b29-9691-4eb0-9f6c-0fd74b48d132",
        "outputId": "1335c808-cdee-47e4-ae22-fad78efa07ad"
      },
      "outputs": [
        {
          "output_type": "execute_result",
          "data": {
            "text/plain": [
              "shape: (1, 1)\n",
              "┌─────────┐\n",
              "│ literal │\n",
              "│ ---     │\n",
              "│ u32     │\n",
              "╞═════════╡\n",
              "│ 13      │\n",
              "└─────────┘"
            ],
            "text/html": [
              "<div><style>\n",
              ".dataframe > thead > tr,\n",
              ".dataframe > tbody > tr {\n",
              "  text-align: right;\n",
              "  white-space: pre-wrap;\n",
              "}\n",
              "</style>\n",
              "<small>shape: (1, 1)</small><table border=\"1\" class=\"dataframe\"><thead><tr><th>literal</th></tr><tr><td>u32</td></tr></thead><tbody><tr><td>13</td></tr></tbody></table></div>"
            ]
          },
          "metadata": {},
          "execution_count": 15
        }
      ],
      "source": [
        "(df_boxoffice.select(\n",
        "    pl.when(pl.col('배우').list.contains('현봉식')).\n",
        "       then(pl.lit(True)).otherwise(pl.lit(False))\n",
        "    ).sum()\n",
        ")"
      ]
    },
    {
      "cell_type": "code",
      "execution_count": 16,
      "id": "506037b1-287d-4a1b-adc9-ec961129b71d",
      "metadata": {
        "colab": {
          "base_uri": "https://localhost:8080/",
          "height": 255
        },
        "id": "506037b1-287d-4a1b-adc9-ec961129b71d",
        "outputId": "a528cb82-4ff4-449f-a886-3a7907fbcdc6"
      },
      "outputs": [
        {
          "output_type": "execute_result",
          "data": {
            "text/plain": [
              "shape: (5, 2)\n",
              "┌────────────┬───────┐\n",
              "│ 관객수급간 ┆ count │\n",
              "│ ---        ┆ ---   │\n",
              "│ str        ┆ u32   │\n",
              "╞════════════╪═══════╡\n",
              "│ 백만이하   ┆ 4290  │\n",
              "│ 백만이상   ┆ 21    │\n",
              "│ 삼백만이상 ┆ 4     │\n",
              "│ 오백만이상 ┆ 2     │\n",
              "│ 천만이상   ┆ 2     │\n",
              "└────────────┴───────┘"
            ],
            "text/html": [
              "<div><style>\n",
              ".dataframe > thead > tr,\n",
              ".dataframe > tbody > tr {\n",
              "  text-align: right;\n",
              "  white-space: pre-wrap;\n",
              "}\n",
              "</style>\n",
              "<small>shape: (5, 2)</small><table border=\"1\" class=\"dataframe\"><thead><tr><th>관객수급간</th><th>count</th></tr><tr><td>str</td><td>u32</td></tr></thead><tbody><tr><td>&quot;백만이하&quot;</td><td>4290</td></tr><tr><td>&quot;백만이상&quot;</td><td>21</td></tr><tr><td>&quot;삼백만이상&quot;</td><td>4</td></tr><tr><td>&quot;오백만이상&quot;</td><td>2</td></tr><tr><td>&quot;천만이상&quot;</td><td>2</td></tr></tbody></table></div>"
            ]
          },
          "metadata": {},
          "execution_count": 16
        }
      ],
      "source": [
        "(df_boxoffice.select(\n",
        "    pl.col('영화명'),\n",
        "    pl.when(pl.col('관객수') > 10_000_000).then(pl.lit('천만이상')).\n",
        "       when((pl.col('관객수') <= 10_000_000) & (pl.col('관객수') > 5_000_000)).\n",
        "       then(pl.lit('오백만이상')).\n",
        "       when((pl.col('관객수') <= 5_000_000) & (pl.col('관객수') > 3_000_000)).\n",
        "       then(pl.lit('삼백만이상')).\n",
        "       when((pl.col('관객수') <= 3_000_000) & (pl.col('관객수') > 1_000_000)).\n",
        "       then(pl.lit('백만이상')).\n",
        "       otherwise(pl.lit('백만이하')).alias('관객수급간')).\n",
        " select(\n",
        "    pl.col('관객수급간').value_counts()).\n",
        " unnest('관객수급간') .sort('count', descending = True)\n",
        ")"
      ]
    },
    {
      "cell_type": "code",
      "execution_count": 17,
      "id": "798f1342-a7fc-4f4a-a2c4-d9f97e311f09",
      "metadata": {
        "colab": {
          "base_uri": "https://localhost:8080/",
          "height": 443
        },
        "id": "798f1342-a7fc-4f4a-a2c4-d9f97e311f09",
        "outputId": "8d9baedc-9615-47bc-d160-c3eb679a74e2"
      },
      "outputs": [
        {
          "output_type": "execute_result",
          "data": {
            "text/plain": [
              "shape: (4_319, 2)\n",
              "┌──────────┬──────────────┐\n",
              "│ 대표국적 ┆ 국적별매출액 │\n",
              "│ ---      ┆ ---          │\n",
              "│ str      ┆ i64          │\n",
              "╞══════════╪══════════════╡\n",
              "│ null     ┆ 34484700     │\n",
              "│ 한국     ┆ 690954323260 │\n",
              "│ 한국     ┆ 690954323260 │\n",
              "│ 미국     ┆ 417311741729 │\n",
              "│ 한국     ┆ 690954323260 │\n",
              "│ …        ┆ …            │\n",
              "│ 기타     ┆ 92816400     │\n",
              "│ 기타     ┆ 92816400     │\n",
              "│ 한국     ┆ 690954323260 │\n",
              "│ 한국     ┆ 690954323260 │\n",
              "│ 터키     ┆ 848000       │\n",
              "└──────────┴──────────────┘"
            ],
            "text/html": [
              "<div><style>\n",
              ".dataframe > thead > tr,\n",
              ".dataframe > tbody > tr {\n",
              "  text-align: right;\n",
              "  white-space: pre-wrap;\n",
              "}\n",
              "</style>\n",
              "<small>shape: (4_319, 2)</small><table border=\"1\" class=\"dataframe\"><thead><tr><th>대표국적</th><th>국적별매출액</th></tr><tr><td>str</td><td>i64</td></tr></thead><tbody><tr><td>null</td><td>34484700</td></tr><tr><td>&quot;한국&quot;</td><td>690954323260</td></tr><tr><td>&quot;한국&quot;</td><td>690954323260</td></tr><tr><td>&quot;미국&quot;</td><td>417311741729</td></tr><tr><td>&quot;한국&quot;</td><td>690954323260</td></tr><tr><td>&hellip;</td><td>&hellip;</td></tr><tr><td>&quot;기타&quot;</td><td>92816400</td></tr><tr><td>&quot;기타&quot;</td><td>92816400</td></tr><tr><td>&quot;한국&quot;</td><td>690954323260</td></tr><tr><td>&quot;한국&quot;</td><td>690954323260</td></tr><tr><td>&quot;터키&quot;</td><td>848000</td></tr></tbody></table></div>"
            ]
          },
          "metadata": {},
          "execution_count": 17
        }
      ],
      "source": [
        "df_boxoffice.select(\n",
        "    pl.col('대표국적'),\n",
        "    pl.col('매출액').sum().over(\"대표국적\").alias('국적별매출액')\n",
        ")"
      ]
    },
    {
      "cell_type": "code",
      "execution_count": 18,
      "id": "63825ba2-6ad8-4ba2-baed-27ac3316ca3e",
      "metadata": {
        "colab": {
          "base_uri": "https://localhost:8080/",
          "height": 443
        },
        "id": "63825ba2-6ad8-4ba2-baed-27ac3316ca3e",
        "outputId": "480d8617-b24d-422a-fdde-df901f44e54f"
      },
      "outputs": [
        {
          "output_type": "execute_result",
          "data": {
            "text/plain": [
              "shape: (4_319, 5)\n",
              "┌─────────────────────┬──────────┬──────────┬──────────────┬────────────────┐\n",
              "│ 영화명              ┆ 대표국적 ┆ 관객수   ┆ 국적별관객수 ┆ 국적별관객비율 │\n",
              "│ ---                 ┆ ---      ┆ ---      ┆ ---          ┆ ---            │\n",
              "│ str                 ┆ str      ┆ i64      ┆ i64          ┆ f64            │\n",
              "╞═════════════════════╪══════════╪══════════╪══════════════╪════════════════╡\n",
              "│ null                ┆ null     ┆ null     ┆ 7030         ┆ null           │\n",
              "│ 파묘                ┆ 한국     ┆ 11914784 ┆ 71472495     ┆ 16.7           │\n",
              "│ 범죄도시4           ┆ 한국     ┆ 11502779 ┆ 71472495     ┆ 16.1           │\n",
              "│ 인사이드 아웃 2     ┆ 미국     ┆ 8799013  ┆ 42708702     ┆ 20.6           │\n",
              "│ 베테랑2             ┆ 한국     ┆ 7525339  ┆ 71472495     ┆ 10.5           │\n",
              "│ …                   ┆ …        ┆ …        ┆ …            ┆ …              │\n",
              "│ 헌팅 파티           ┆ 기타     ┆ 0        ┆ 13723        ┆ 0.0            │\n",
              "│ 헬리오폴리스        ┆ 기타     ┆ 0        ┆ 13723        ┆ 0.0            │\n",
              "│ 황산벌              ┆ 한국     ┆ 0        ┆ 71472495     ┆ 0.0            │\n",
              "│ 회오리 바람         ┆ 한국     ┆ 0        ┆ 71472495     ┆ 0.0            │\n",
              "│ 휘파람의 노래: 시벨 ┆ 터키     ┆ 0        ┆ 166          ┆ 0.0            │\n",
              "└─────────────────────┴──────────┴──────────┴──────────────┴────────────────┘"
            ],
            "text/html": [
              "<div><style>\n",
              ".dataframe > thead > tr,\n",
              ".dataframe > tbody > tr {\n",
              "  text-align: right;\n",
              "  white-space: pre-wrap;\n",
              "}\n",
              "</style>\n",
              "<small>shape: (4_319, 5)</small><table border=\"1\" class=\"dataframe\"><thead><tr><th>영화명</th><th>대표국적</th><th>관객수</th><th>국적별관객수</th><th>국적별관객비율</th></tr><tr><td>str</td><td>str</td><td>i64</td><td>i64</td><td>f64</td></tr></thead><tbody><tr><td>null</td><td>null</td><td>null</td><td>7030</td><td>null</td></tr><tr><td>&quot;파묘&quot;</td><td>&quot;한국&quot;</td><td>11914784</td><td>71472495</td><td>16.7</td></tr><tr><td>&quot;범죄도시4&quot;</td><td>&quot;한국&quot;</td><td>11502779</td><td>71472495</td><td>16.1</td></tr><tr><td>&quot;인사이드 아웃 2&quot;</td><td>&quot;미국&quot;</td><td>8799013</td><td>42708702</td><td>20.6</td></tr><tr><td>&quot;베테랑2&quot;</td><td>&quot;한국&quot;</td><td>7525339</td><td>71472495</td><td>10.5</td></tr><tr><td>&hellip;</td><td>&hellip;</td><td>&hellip;</td><td>&hellip;</td><td>&hellip;</td></tr><tr><td>&quot;헌팅 파티&quot;</td><td>&quot;기타&quot;</td><td>0</td><td>13723</td><td>0.0</td></tr><tr><td>&quot;헬리오폴리스&quot;</td><td>&quot;기타&quot;</td><td>0</td><td>13723</td><td>0.0</td></tr><tr><td>&quot;황산벌&quot;</td><td>&quot;한국&quot;</td><td>0</td><td>71472495</td><td>0.0</td></tr><tr><td>&quot;회오리 바람&quot;</td><td>&quot;한국&quot;</td><td>0</td><td>71472495</td><td>0.0</td></tr><tr><td>&quot;휘파람의 노래: 시벨&quot;</td><td>&quot;터키&quot;</td><td>0</td><td>166</td><td>0.0</td></tr></tbody></table></div>"
            ]
          },
          "metadata": {},
          "execution_count": 18
        }
      ],
      "source": [
        "df_boxoffice.select(\n",
        "    pl.col('영화명'), pl.col('대표국적'),\n",
        "    pl.col('관객수'),\n",
        "    pl.col('관객수').sum().over('대표국적').alias('국적별관객수'),\n",
        "    (pl.col('관객수')/(pl.col('관객수').sum().over('대표국적'))*100).\n",
        "    round(1).alias('국적별관객비율')\n",
        ")"
      ]
    },
    {
      "cell_type": "code",
      "execution_count": 19,
      "id": "78e41834-90d7-454b-8189-7ec5e3572092",
      "metadata": {
        "colab": {
          "base_uri": "https://localhost:8080/",
          "height": 411
        },
        "id": "78e41834-90d7-454b-8189-7ec5e3572092",
        "outputId": "a0cda9cb-b129-4ab2-d9b4-c91073f72276"
      },
      "outputs": [
        {
          "output_type": "execute_result",
          "data": {
            "text/plain": [
              "shape: (10, 4)\n",
              "┌─────────────────────────────────┬──────────┬──────────┬────────────┐\n",
              "│ 영화명                          ┆ 관객수   ┆ 대표국적 ┆ 국적별순위 │\n",
              "│ ---                             ┆ ---      ┆ ---      ┆ ---        │\n",
              "│ str                             ┆ i64      ┆ str      ┆ i16        │\n",
              "╞═════════════════════════════════╪══════════╪══════════╪════════════╡\n",
              "│ null                            ┆ null     ┆ null     ┆ null       │\n",
              "│ 파묘                            ┆ 11914784 ┆ 한국     ┆ 1          │\n",
              "│ 인사이드 아웃 2                 ┆ 8799013  ┆ 미국     ┆ 1          │\n",
              "│ 명탐정 코난: 100만 달러의       ┆ 753606   ┆ 일본     ┆ 1          │\n",
              "│ 펜타그램                        ┆          ┆          ┆            │\n",
              "│ 소년시절의 너                   ┆ 212185   ┆ 중국     ┆ 1          │\n",
              "│ 서브스턴스                      ┆ 156215   ┆ 영국     ┆ 1          │\n",
              "│ 청춘 18X2 너에게로 이어지는 길  ┆ 112157   ┆ 대만     ┆ 1          │\n",
              "│ 추락의 해부                     ┆ 104100   ┆ 프랑스   ┆ 1          │\n",
              "│ 악마와의 토크쇼                 ┆ 101204   ┆ 호주     ┆ 1          │\n",
              "│ 로봇 드림                       ┆ 66628    ┆ 스페인   ┆ 1          │\n",
              "└─────────────────────────────────┴──────────┴──────────┴────────────┘"
            ],
            "text/html": [
              "<div><style>\n",
              ".dataframe > thead > tr,\n",
              ".dataframe > tbody > tr {\n",
              "  text-align: right;\n",
              "  white-space: pre-wrap;\n",
              "}\n",
              "</style>\n",
              "<small>shape: (10, 4)</small><table border=\"1\" class=\"dataframe\"><thead><tr><th>영화명</th><th>관객수</th><th>대표국적</th><th>국적별순위</th></tr><tr><td>str</td><td>i64</td><td>str</td><td>i16</td></tr></thead><tbody><tr><td>null</td><td>null</td><td>null</td><td>null</td></tr><tr><td>&quot;파묘&quot;</td><td>11914784</td><td>&quot;한국&quot;</td><td>1</td></tr><tr><td>&quot;인사이드 아웃 2&quot;</td><td>8799013</td><td>&quot;미국&quot;</td><td>1</td></tr><tr><td>&quot;명탐정 코난: 100만 달러의 펜타그램&quot;</td><td>753606</td><td>&quot;일본&quot;</td><td>1</td></tr><tr><td>&quot;소년시절의 너&quot;</td><td>212185</td><td>&quot;중국&quot;</td><td>1</td></tr><tr><td>&quot;서브스턴스&quot;</td><td>156215</td><td>&quot;영국&quot;</td><td>1</td></tr><tr><td>&quot;청춘 18X2 너에게로 이어지는 길&quot;</td><td>112157</td><td>&quot;대만&quot;</td><td>1</td></tr><tr><td>&quot;추락의 해부&quot;</td><td>104100</td><td>&quot;프랑스&quot;</td><td>1</td></tr><tr><td>&quot;악마와의 토크쇼&quot;</td><td>101204</td><td>&quot;호주&quot;</td><td>1</td></tr><tr><td>&quot;로봇 드림&quot;</td><td>66628</td><td>&quot;스페인&quot;</td><td>1</td></tr></tbody></table></div>"
            ]
          },
          "metadata": {},
          "execution_count": 19
        }
      ],
      "source": [
        "df_boxoffice.select(\n",
        "    pl.col('영화명', '관객수', '대표국적'),\n",
        "    pl.col('관객수').rank(descending=True).\n",
        "    cast(pl.Int16).over('대표국적').alias('국적별순위')\n",
        ").sort('국적별순위').head(10)"
      ]
    },
    {
      "cell_type": "code",
      "execution_count": 20,
      "id": "da48cd8e-daa4-4fd4-b1f0-7cac4c0d122e",
      "metadata": {
        "colab": {
          "base_uri": "https://localhost:8080/",
          "height": 400
        },
        "id": "da48cd8e-daa4-4fd4-b1f0-7cac4c0d122e",
        "outputId": "bae1f8b8-64f2-467b-9d11-69141283b90f"
      },
      "outputs": [
        {
          "output_type": "execute_result",
          "data": {
            "text/plain": [
              "shape: (3, 18)\n",
              "┌──────┬────────────┬────────────┬────────────┬───┬────────────┬────────────┬─────────┬────────────┐\n",
              "│ 순위 ┆ 영화명     ┆ 개봉일     ┆ 매출액     ┆ … ┆ 등급       ┆ 장르       ┆ 감독    ┆ 배우       │\n",
              "│ ---  ┆ ---        ┆ ---        ┆ ---        ┆   ┆ ---        ┆ ---        ┆ ---     ┆ ---        │\n",
              "│ i64  ┆ str        ┆ date       ┆ i64        ┆   ┆ str        ┆ list[str]  ┆ str     ┆ list[str]  │\n",
              "╞══════╪════════════╪════════════╪════════════╪═══╪════════════╪════════════╪═════════╪════════════╡\n",
              "│ 1    ┆ 파묘       ┆ 2024-02-22 ┆ 1151574904 ┆ … ┆ 15세이상관 ┆ [\"미스터리 ┆ 장재현  ┆ [\"최민식\", │\n",
              "│      ┆            ┆            ┆ 14         ┆   ┆ 람가       ┆ \", \"공포(  ┆         ┆ \"김고은\",  │\n",
              "│      ┆            ┆            ┆            ┆   ┆            ┆ 호러)\"]    ┆         ┆ …          │\n",
              "│      ┆            ┆            ┆            ┆   ┆            ┆            ┆         ┆ \"김하영\"]  │\n",
              "│ 2    ┆ 범죄도시4  ┆ 2024-04-24 ┆ 1100500007 ┆ … ┆ 15세이상관 ┆ [\"액션\",   ┆ 허명행  ┆ [\"김무열\", │\n",
              "│      ┆            ┆            ┆ 34         ┆   ┆ 람가       ┆ \"범죄\"]    ┆         ┆ \"박지환\",  │\n",
              "│      ┆            ┆            ┆            ┆   ┆            ┆            ┆         ┆ …          │\n",
              "│      ┆            ┆            ┆            ┆   ┆            ┆            ┆         ┆ \"조석인\"]  │\n",
              "│ 3    ┆ 인사이드   ┆ 2024-06-12 ┆ 8450928403 ┆ … ┆ 전체관람가 ┆ [\"애니메이 ┆ 켈시 만 ┆ [\"에이미   │\n",
              "│      ┆ 아웃 2     ┆            ┆ 6          ┆   ┆            ┆ 션\"]       ┆         ┆ 포엘러\",   │\n",
              "│      ┆            ┆            ┆            ┆   ┆            ┆            ┆         ┆ \"토니      │\n",
              "│      ┆            ┆            ┆            ┆   ┆            ┆            ┆         ┆ 헤일\"]     │\n",
              "└──────┴────────────┴────────────┴────────────┴───┴────────────┴────────────┴─────────┴────────────┘"
            ],
            "text/html": [
              "<div><style>\n",
              ".dataframe > thead > tr,\n",
              ".dataframe > tbody > tr {\n",
              "  text-align: right;\n",
              "  white-space: pre-wrap;\n",
              "}\n",
              "</style>\n",
              "<small>shape: (3, 18)</small><table border=\"1\" class=\"dataframe\"><thead><tr><th>순위</th><th>영화명</th><th>개봉일</th><th>매출액</th><th>매출액점유율</th><th>누적매출액</th><th>관객수</th><th>누적관객수</th><th>스크린수</th><th>상영횟수</th><th>대표국적</th><th>국적</th><th>제작사</th><th>배급사</th><th>등급</th><th>장르</th><th>감독</th><th>배우</th></tr><tr><td>i64</td><td>str</td><td>date</td><td>i64</td><td>str</td><td>i64</td><td>i64</td><td>i64</td><td>i64</td><td>i64</td><td>str</td><td>str</td><td>str</td><td>str</td><td>str</td><td>list[str]</td><td>str</td><td>list[str]</td></tr></thead><tbody><tr><td>1</td><td>&quot;파묘&quot;</td><td>2024-02-22</td><td>115157490414</td><td>&quot;9.6%&quot;</td><td>115157490414</td><td>11914784</td><td>11914784</td><td>2367</td><td>364955</td><td>&quot;한국&quot;</td><td>&quot;한국&quot;</td><td>&quot;(주)쇼박스&quot;</td><td>&quot;(주)쇼박스&quot;</td><td>&quot;15세이상관람가&quot;</td><td>[&quot;미스터리&quot;, &quot;공포(호러)&quot;]</td><td>&quot;장재현&quot;</td><td>[&quot;최민식&quot;, &quot;김고은&quot;, … &quot;김하영&quot;]</td></tr><tr><td>2</td><td>&quot;범죄도시4&quot;</td><td>2024-04-24</td><td>110050000734</td><td>&quot;9.2%&quot;</td><td>110050000734</td><td>11502779</td><td>11502779</td><td>2980</td><td>375434</td><td>&quot;한국&quot;</td><td>&quot;한국&quot;</td><td>&quot;주식회사 빅펀치픽쳐스,(주)홍필름,(주)비에이엔터테인먼…</td><td>&quot;주식회사 에이비오엔터테인먼트,플러스엠 엔터테인먼트&quot;</td><td>&quot;15세이상관람가&quot;</td><td>[&quot;액션&quot;, &quot;범죄&quot;]</td><td>&quot;허명행&quot;</td><td>[&quot;김무열&quot;, &quot;박지환&quot;, … &quot;조석인&quot;]</td></tr><tr><td>3</td><td>&quot;인사이드 아웃 2&quot;</td><td>2024-06-12</td><td>84509284036</td><td>&quot;7.1%&quot;</td><td>84509284036</td><td>8799013</td><td>8799013</td><td>2619</td><td>331341</td><td>&quot;미국&quot;</td><td>&quot;미국&quot;</td><td>&quot;월트 디즈니 픽쳐스,픽사 애니메이션 스튜디오&quot;</td><td>&quot;월트디즈니컴퍼니코리아 유한책임회사&quot;</td><td>&quot;전체관람가&quot;</td><td>[&quot;애니메이션&quot;]</td><td>&quot;켈시 만&quot;</td><td>[&quot;에이미 포엘러&quot;, &quot;토니 헤일&quot;]</td></tr></tbody></table></div>"
            ]
          },
          "metadata": {},
          "execution_count": 20
        }
      ],
      "source": [
        "df_boxoffice[[1, 2, 3]]"
      ]
    },
    {
      "cell_type": "code",
      "execution_count": 21,
      "id": "d19a64a3-7dc5-4505-a8aa-b9116bea5c0e",
      "metadata": {
        "colab": {
          "base_uri": "https://localhost:8080/",
          "height": 192
        },
        "id": "d19a64a3-7dc5-4505-a8aa-b9116bea5c0e",
        "outputId": "82dfb0f1-dc9a-4097-b242-feeba95eec31"
      },
      "outputs": [
        {
          "output_type": "execute_result",
          "data": {
            "text/plain": [
              "shape: (3, 4)\n",
              "┌──────┬─────────────────┬──────────────┬──────────┐\n",
              "│ 순위 ┆ 영화명          ┆ 매출액       ┆ 관객수   │\n",
              "│ ---  ┆ ---             ┆ ---          ┆ ---      │\n",
              "│ i64  ┆ str             ┆ i64          ┆ i64      │\n",
              "╞══════╪═════════════════╪══════════════╪══════════╡\n",
              "│ 1    ┆ 파묘            ┆ 115157490414 ┆ 11914784 │\n",
              "│ 2    ┆ 범죄도시4       ┆ 110050000734 ┆ 11502779 │\n",
              "│ 3    ┆ 인사이드 아웃 2 ┆ 84509284036  ┆ 8799013  │\n",
              "└──────┴─────────────────┴──────────────┴──────────┘"
            ],
            "text/html": [
              "<div><style>\n",
              ".dataframe > thead > tr,\n",
              ".dataframe > tbody > tr {\n",
              "  text-align: right;\n",
              "  white-space: pre-wrap;\n",
              "}\n",
              "</style>\n",
              "<small>shape: (3, 4)</small><table border=\"1\" class=\"dataframe\"><thead><tr><th>순위</th><th>영화명</th><th>매출액</th><th>관객수</th></tr><tr><td>i64</td><td>str</td><td>i64</td><td>i64</td></tr></thead><tbody><tr><td>1</td><td>&quot;파묘&quot;</td><td>115157490414</td><td>11914784</td></tr><tr><td>2</td><td>&quot;범죄도시4&quot;</td><td>110050000734</td><td>11502779</td></tr><tr><td>3</td><td>&quot;인사이드 아웃 2&quot;</td><td>84509284036</td><td>8799013</td></tr></tbody></table></div>"
            ]
          },
          "metadata": {},
          "execution_count": 21
        }
      ],
      "source": [
        "df_boxoffice[[1, 2, 3], ['순위', '영화명', '매출액', '관객수']]"
      ]
    },
    {
      "cell_type": "code",
      "execution_count": 22,
      "id": "291edfa0-f6e5-4135-97d9-e02fd96acca2",
      "metadata": {
        "colab": {
          "base_uri": "https://localhost:8080/",
          "height": 255
        },
        "id": "291edfa0-f6e5-4135-97d9-e02fd96acca2",
        "outputId": "9df2a9e4-4f5e-4996-b605-68713c831c48"
      },
      "outputs": [
        {
          "output_type": "execute_result",
          "data": {
            "text/plain": [
              "shape: (5, 5)\n",
              "┌──────┬─────────────────────────┬─────────────┬─────────┬──────────────┐\n",
              "│ 순위 ┆ 영화명                  ┆ 매출액      ┆ 관객수  ┆ 객단가       │\n",
              "│ ---  ┆ ---                     ┆ ---         ┆ ---     ┆ ---          │\n",
              "│ i64  ┆ str                     ┆ i64         ┆ i64     ┆ f64          │\n",
              "╞══════╪═════════════════════════╪═════════════╪═════════╪══════════════╡\n",
              "│ 12   ┆ 듄: 파트2               ┆ 23677872449 ┆ 2019129 ┆ 11726.77548  │\n",
              "│ 13   ┆ 에이리언: 로물루스      ┆ 20443955430 ┆ 2002033 ┆ 10211.597626 │\n",
              "│ 14   ┆ 데드풀과 울버린         ┆ 20489875630 ┆ 1977010 ┆ 10364.072832 │\n",
              "│ 20   ┆ 퓨리오사: 매드맥스 사가 ┆ 16497842188 ┆ 1606378 ┆ 10270.211736 │\n",
              "│ 32   ┆ 혹성탈출: 새로운 시대   ┆ 9177184782  ┆ 907155  ┆ 10116.446232 │\n",
              "└──────┴─────────────────────────┴─────────────┴─────────┴──────────────┘"
            ],
            "text/html": [
              "<div><style>\n",
              ".dataframe > thead > tr,\n",
              ".dataframe > tbody > tr {\n",
              "  text-align: right;\n",
              "  white-space: pre-wrap;\n",
              "}\n",
              "</style>\n",
              "<small>shape: (5, 5)</small><table border=\"1\" class=\"dataframe\"><thead><tr><th>순위</th><th>영화명</th><th>매출액</th><th>관객수</th><th>객단가</th></tr><tr><td>i64</td><td>str</td><td>i64</td><td>i64</td><td>f64</td></tr></thead><tbody><tr><td>12</td><td>&quot;듄: 파트2&quot;</td><td>23677872449</td><td>2019129</td><td>11726.77548</td></tr><tr><td>13</td><td>&quot;에이리언: 로물루스&quot;</td><td>20443955430</td><td>2002033</td><td>10211.597626</td></tr><tr><td>14</td><td>&quot;데드풀과 울버린&quot;</td><td>20489875630</td><td>1977010</td><td>10364.072832</td></tr><tr><td>20</td><td>&quot;퓨리오사: 매드맥스 사가&quot;</td><td>16497842188</td><td>1606378</td><td>10270.211736</td></tr><tr><td>32</td><td>&quot;혹성탈출: 새로운 시대&quot;</td><td>9177184782</td><td>907155</td><td>10116.446232</td></tr></tbody></table></div>"
            ]
          },
          "metadata": {},
          "execution_count": 22
        }
      ],
      "source": [
        "df_boxoffice.select(\n",
        "    pl.col('순위', '영화명', '매출액', '관객수'),\n",
        "    (pl.col('매출액') / pl.col('관객수')).alias('객단가')\n",
        ").filter(\n",
        "    pl.col('객단가') > 10000\n",
        ").sort('순위').head(5)"
      ]
    },
    {
      "cell_type": "code",
      "execution_count": 23,
      "id": "c7359d79-1af2-43eb-9407-cb4888c2a9df",
      "metadata": {
        "colab": {
          "base_uri": "https://localhost:8080/",
          "height": 1000
        },
        "id": "c7359d79-1af2-43eb-9407-cb4888c2a9df",
        "outputId": "34eb0627-6df5-4adc-d5e7-bdf9f2538554"
      },
      "outputs": [
        {
          "output_type": "execute_result",
          "data": {
            "text/plain": [
              "shape: (377, 18)\n",
              "┌──────┬────────────┬────────────┬────────────┬───┬────────────┬───────────┬───────────┬───────────┐\n",
              "│ 순위 ┆ 영화명     ┆ 개봉일     ┆ 매출액     ┆ … ┆ 등급       ┆ 장르      ┆ 감독      ┆ 배우      │\n",
              "│ ---  ┆ ---        ┆ ---        ┆ ---        ┆   ┆ ---        ┆ ---       ┆ ---       ┆ ---       │\n",
              "│ i64  ┆ str        ┆ date       ┆ i64        ┆   ┆ str        ┆ list[str] ┆ str       ┆ list[str] │\n",
              "╞══════╪════════════╪════════════╪════════════╪═══╪════════════╪═══════════╪═══════════╪═══════════╡\n",
              "│ 3    ┆ 인사이드   ┆ 2024-06-12 ┆ 8450928403 ┆ … ┆ 전체관람가 ┆ [\"애니메  ┆ 켈시 만   ┆ [\"에이미  │\n",
              "│      ┆ 아웃 2     ┆            ┆ 6          ┆   ┆            ┆ 이션\"]    ┆           ┆ 포엘러\",  │\n",
              "│      ┆            ┆            ┆            ┆   ┆            ┆           ┆           ┆ \"토니     │\n",
              "│      ┆            ┆            ┆            ┆   ┆            ┆           ┆           ┆ 헤일\"]    │\n",
              "│ 6    ┆ 웡카       ┆ 2024-01-31 ┆ 3395882118 ┆ … ┆ 전체관람가 ┆ [\"판타지\" ┆ 폴 킹     ┆ [\"티모시  │\n",
              "│      ┆            ┆            ┆ 9          ┆   ┆            ┆ ,         ┆           ┆ 샬라메\",  │\n",
              "│      ┆            ┆            ┆            ┆   ┆            ┆ \"드라마\"] ┆           ┆ \"칼라     │\n",
              "│      ┆            ┆            ┆            ┆   ┆            ┆           ┆           ┆ 레인\", …  │\n",
              "│      ┆            ┆            ┆            ┆   ┆            ┆           ┆           ┆ \"샐리     │\n",
              "│      ┆            ┆            ┆            ┆   ┆            ┆           ┆           ┆ 호킨스…   │\n",
              "│ 7    ┆ 모아나 2   ┆ 2024-11-27 ┆ 3112032807 ┆ … ┆ 전체관람가 ┆ [\"애니메  ┆ 데이브    ┆ [\"아우이  │\n",
              "│      ┆            ┆            ┆ 0          ┆   ┆            ┆ 이션\"]    ┆ 데릭      ┆ 크라발호\" │\n",
              "│      ┆            ┆            ┆            ┆   ┆            ┆           ┆ 주니어    ┆ , \"드웨인 │\n",
              "│      ┆            ┆            ┆            ┆   ┆            ┆           ┆           ┆ 존슨\"]    │\n",
              "│ 11   ┆ 위키드     ┆ 2024-11-20 ┆ 2027770285 ┆ … ┆ 전체관람가 ┆ [\"판타지\" ┆ 존 추     ┆ [\"아리아  │\n",
              "│      ┆            ┆            ┆ 0          ┆   ┆            ┆ ,         ┆           ┆ 나        │\n",
              "│      ┆            ┆            ┆            ┆   ┆            ┆ \"뮤지컬\"] ┆           ┆ 그란데\",  │\n",
              "│      ┆            ┆            ┆            ┆   ┆            ┆           ┆           ┆ \"조나단   │\n",
              "│      ┆            ┆            ┆            ┆   ┆            ┆           ┆           ┆ 베일리\",  │\n",
              "│      ┆            ┆            ┆            ┆   ┆            ┆           ┆           ┆ … \"제프 … │\n",
              "│ 17   ┆ 쿵푸팬더4  ┆ 2024-04-10 ┆ 1653553515 ┆ … ┆ 전체관람가 ┆ [\"애니메  ┆ 마이크    ┆ [\"잭      │\n",
              "│      ┆            ┆            ┆ 2          ┆   ┆            ┆ 이션\",    ┆ 미첼,스테 ┆ 블랙\",    │\n",
              "│      ┆            ┆            ┆            ┆   ┆            ┆ \"액션\",   ┆ 파니      ┆ \"아콰피나 │\n",
              "│      ┆            ┆            ┆            ┆   ┆            ┆ \"코미디\"] ┆ 스티네    ┆ \", …      │\n",
              "│      ┆            ┆            ┆            ┆   ┆            ┆           ┆           ┆ \"이눈솔\"] │\n",
              "│ …    ┆ …          ┆ …          ┆ …          ┆ … ┆ …          ┆ …         ┆ …         ┆ …         │\n",
              "│ 4124 ┆ 그라운드의 ┆ 2015-03-19 ┆ 0          ┆ … ┆ 전체관람가 ┆ [\"다큐멘  ┆ 김명준    ┆ [\"김근\",  │\n",
              "│      ┆ 이방인     ┆            ┆            ┆   ┆            ┆ 터리\"]    ┆           ┆ \"양시철\", │\n",
              "│      ┆            ┆            ┆            ┆   ┆            ┆           ┆           ┆ …         │\n",
              "│      ┆            ┆            ┆            ┆   ┆            ┆           ┆           ┆ \"김정아\"] │\n",
              "│ 4124 ┆ 다시       ┆ null       ┆ 0          ┆ … ┆ 전체관람가 ┆ [\"드라마\" ┆ 전주희    ┆ [\"김규리\" │\n",
              "│      ┆            ┆            ┆            ┆   ┆            ┆ , \"어드벤 ┆           ┆ , \"빅알렉 │\n",
              "│      ┆            ┆            ┆            ┆   ┆            ┆ 처\"]      ┆           ┆ 스\", …    │\n",
              "│      ┆            ┆            ┆            ┆   ┆            ┆           ┆           ┆ \"황미선\"] │\n",
              "│ 4124 ┆ 레전더리   ┆ 2021-01-03 ┆ 0          ┆ … ┆ 전체관람가 ┆ [\"공연\"]  ┆ null      ┆ null      │\n",
              "│      ┆ 콘서트:    ┆            ┆            ┆   ┆            ┆           ┆           ┆           │\n",
              "│      ┆ 레너드     ┆            ┆            ┆   ┆            ┆           ┆           ┆           │\n",
              "│      ┆ 번스타인   ┆            ┆            ┆   ┆            ┆           ┆           ┆           │\n",
              "│ 4124 ┆ 슈퍼스타   ┆ 2004-09-17 ┆ 0          ┆ … ┆ 전체관람가 ┆ [\"드라마\" ┆ 김종현    ┆ [\"이범수\" │\n",
              "│      ┆ 감사용     ┆            ┆            ┆   ┆            ┆ ]         ┆           ┆ , \"공유\", │\n",
              "│      ┆            ┆            ┆            ┆   ┆            ┆           ┆           ┆ …         │\n",
              "│      ┆            ┆            ┆            ┆   ┆            ┆           ┆           ┆ \"권유준\"] │\n",
              "│ 4124 ┆ 스코어:    ┆ 2017-10-19 ┆ 0          ┆ … ┆ 전체관람가 ┆ [\"다큐멘  ┆ 맷        ┆ null      │\n",
              "│      ┆ 영화음악의 ┆            ┆            ┆   ┆            ┆ 터리\"]    ┆ 슈레이더  ┆           │\n",
              "│      ┆ 모든 것    ┆            ┆            ┆   ┆            ┆           ┆           ┆           │\n",
              "└──────┴────────────┴────────────┴────────────┴───┴────────────┴───────────┴───────────┴───────────┘"
            ],
            "text/html": [
              "<div><style>\n",
              ".dataframe > thead > tr,\n",
              ".dataframe > tbody > tr {\n",
              "  text-align: right;\n",
              "  white-space: pre-wrap;\n",
              "}\n",
              "</style>\n",
              "<small>shape: (377, 18)</small><table border=\"1\" class=\"dataframe\"><thead><tr><th>순위</th><th>영화명</th><th>개봉일</th><th>매출액</th><th>매출액점유율</th><th>누적매출액</th><th>관객수</th><th>누적관객수</th><th>스크린수</th><th>상영횟수</th><th>대표국적</th><th>국적</th><th>제작사</th><th>배급사</th><th>등급</th><th>장르</th><th>감독</th><th>배우</th></tr><tr><td>i64</td><td>str</td><td>date</td><td>i64</td><td>str</td><td>i64</td><td>i64</td><td>i64</td><td>i64</td><td>i64</td><td>str</td><td>str</td><td>str</td><td>str</td><td>str</td><td>list[str]</td><td>str</td><td>list[str]</td></tr></thead><tbody><tr><td>3</td><td>&quot;인사이드 아웃 2&quot;</td><td>2024-06-12</td><td>84509284036</td><td>&quot;7.1%&quot;</td><td>84509284036</td><td>8799013</td><td>8799013</td><td>2619</td><td>331341</td><td>&quot;미국&quot;</td><td>&quot;미국&quot;</td><td>&quot;월트 디즈니 픽쳐스,픽사 애니메이션 스튜디오&quot;</td><td>&quot;월트디즈니컴퍼니코리아 유한책임회사&quot;</td><td>&quot;전체관람가&quot;</td><td>[&quot;애니메이션&quot;]</td><td>&quot;켈시 만&quot;</td><td>[&quot;에이미 포엘러&quot;, &quot;토니 헤일&quot;]</td></tr><tr><td>6</td><td>&quot;웡카&quot;</td><td>2024-01-31</td><td>33958821189</td><td>&quot;2.8%&quot;</td><td>33958821189</td><td>3531717</td><td>3531717</td><td>1753</td><td>152290</td><td>&quot;미국&quot;</td><td>&quot;미국&quot;</td><td>null</td><td>&quot;워너브러더스 코리아(주)&quot;</td><td>&quot;전체관람가&quot;</td><td>[&quot;판타지&quot;, &quot;드라마&quot;]</td><td>&quot;폴 킹&quot;</td><td>[&quot;티모시 샬라메&quot;, &quot;칼라 레인&quot;, … &quot;샐리 호킨스&quot;]</td></tr><tr><td>7</td><td>&quot;모아나 2&quot;</td><td>2024-11-27</td><td>31120328070</td><td>&quot;2.6%&quot;</td><td>31120328070</td><td>3373139</td><td>3373139</td><td>1985</td><td>126584</td><td>&quot;미국&quot;</td><td>&quot;미국,캐나다&quot;</td><td>null</td><td>&quot;월트디즈니컴퍼니코리아 유한책임회사&quot;</td><td>&quot;전체관람가&quot;</td><td>[&quot;애니메이션&quot;]</td><td>&quot;데이브 데릭 주니어&quot;</td><td>[&quot;아우이 크라발호&quot;, &quot;드웨인 존슨&quot;]</td></tr><tr><td>11</td><td>&quot;위키드&quot;</td><td>2024-11-20</td><td>20277702850</td><td>&quot;1.7%&quot;</td><td>20277702850</td><td>2059163</td><td>2059163</td><td>1803</td><td>95250</td><td>&quot;미국&quot;</td><td>&quot;미국&quot;</td><td>null</td><td>&quot;유니버설픽쳐스인터내셔널 코리아(유)&quot;</td><td>&quot;전체관람가&quot;</td><td>[&quot;판타지&quot;, &quot;뮤지컬&quot;]</td><td>&quot;존 추&quot;</td><td>[&quot;아리아나 그란데&quot;, &quot;조나단 베일리&quot;, … &quot;제프 골드블럼&quot;]</td></tr><tr><td>17</td><td>&quot;쿵푸팬더4&quot;</td><td>2024-04-10</td><td>16535535152</td><td>&quot;1.4%&quot;</td><td>16535535152</td><td>1771738</td><td>1771738</td><td>2311</td><td>103250</td><td>&quot;미국&quot;</td><td>&quot;미국&quot;</td><td>null</td><td>&quot;유니버설픽쳐스인터내셔널 코리아(유)&quot;</td><td>&quot;전체관람가&quot;</td><td>[&quot;애니메이션&quot;, &quot;액션&quot;, &quot;코미디&quot;]</td><td>&quot;마이크 미첼,스테파니 스티네&quot;</td><td>[&quot;잭 블랙&quot;, &quot;아콰피나&quot;, … &quot;이눈솔&quot;]</td></tr><tr><td>&hellip;</td><td>&hellip;</td><td>&hellip;</td><td>&hellip;</td><td>&hellip;</td><td>&hellip;</td><td>&hellip;</td><td>&hellip;</td><td>&hellip;</td><td>&hellip;</td><td>&hellip;</td><td>&hellip;</td><td>&hellip;</td><td>&hellip;</td><td>&hellip;</td><td>&hellip;</td><td>&hellip;</td><td>&hellip;</td></tr><tr><td>4124</td><td>&quot;그라운드의 이방인&quot;</td><td>2015-03-19</td><td>0</td><td>&quot;0.0%&quot;</td><td>26222000</td><td>0</td><td>4017</td><td>1</td><td>1</td><td>&quot;한국&quot;</td><td>&quot;한국&quot;</td><td>&quot;㈜인디스토리&quot;</td><td>&quot;㈜인디스토리&quot;</td><td>&quot;전체관람가&quot;</td><td>[&quot;다큐멘터리&quot;]</td><td>&quot;김명준&quot;</td><td>[&quot;김근&quot;, &quot;양시철&quot;, … &quot;김정아&quot;]</td></tr><tr><td>4124</td><td>&quot;다시&quot;</td><td>null</td><td>0</td><td>&quot;0.0%&quot;</td><td>0</td><td>0</td><td>0</td><td>1</td><td>2</td><td>&quot;한국&quot;</td><td>&quot;한국&quot;</td><td>&quot;원더메이커&quot;</td><td>null</td><td>&quot;전체관람가&quot;</td><td>[&quot;드라마&quot;, &quot;어드벤처&quot;]</td><td>&quot;전주희&quot;</td><td>[&quot;김규리&quot;, &quot;빅알렉스&quot;, … &quot;황미선&quot;]</td></tr><tr><td>4124</td><td>&quot;레전더리 콘서트: 레너드 번스타인&quot;</td><td>2021-01-03</td><td>0</td><td>&quot;0.0%&quot;</td><td>13413500</td><td>0</td><td>519</td><td>1</td><td>1</td><td>&quot;독일&quot;</td><td>&quot;독일&quot;</td><td>null</td><td>&quot;(주)케빈앤컴퍼니&quot;</td><td>&quot;전체관람가&quot;</td><td>[&quot;공연&quot;]</td><td>null</td><td>null</td></tr><tr><td>4124</td><td>&quot;슈퍼스타 감사용&quot;</td><td>2004-09-17</td><td>0</td><td>&quot;0.0%&quot;</td><td>4072692000</td><td>0</td><td>627141</td><td>1</td><td>1</td><td>&quot;한국&quot;</td><td>&quot;한국&quot;</td><td>&quot;(주)싸이더스&quot;</td><td>&quot;씨제이엔터테인먼트&quot;</td><td>&quot;전체관람가&quot;</td><td>[&quot;드라마&quot;]</td><td>&quot;김종현&quot;</td><td>[&quot;이범수&quot;, &quot;공유&quot;, … &quot;권유준&quot;]</td></tr><tr><td>4124</td><td>&quot;스코어: 영화음악의 모든 것&quot;</td><td>2017-10-19</td><td>0</td><td>&quot;0.0%&quot;</td><td>103431000</td><td>0</td><td>13550</td><td>1</td><td>1</td><td>&quot;미국&quot;</td><td>&quot;미국&quot;</td><td>null</td><td>&quot;(주)라이크콘텐츠&quot;</td><td>&quot;전체관람가&quot;</td><td>[&quot;다큐멘터리&quot;]</td><td>&quot;맷 슈레이더&quot;</td><td>null</td></tr></tbody></table></div>"
            ]
          },
          "metadata": {},
          "execution_count": 23
        }
      ],
      "source": [
        "df_boxoffice.filter(\n",
        "    pl.col('등급') == '전체관람가'\n",
        ")"
      ]
    },
    {
      "cell_type": "code",
      "execution_count": 24,
      "id": "459a1c2f-9d32-4ced-9d78-a80a1d02762e",
      "metadata": {
        "colab": {
          "base_uri": "https://localhost:8080/",
          "height": 876
        },
        "id": "459a1c2f-9d32-4ced-9d78-a80a1d02762e",
        "outputId": "c36dcbd8-c9a0-4fae-86b2-44891fe6c8e2"
      },
      "outputs": [
        {
          "output_type": "execute_result",
          "data": {
            "text/plain": [
              "shape: (24, 18)\n",
              "┌──────┬────────────┬────────────┬────────────┬───┬────────────┬───────────┬───────────┬───────────┐\n",
              "│ 순위 ┆ 영화명     ┆ 개봉일     ┆ 매출액     ┆ … ┆ 등급       ┆ 장르      ┆ 감독      ┆ 배우      │\n",
              "│ ---  ┆ ---        ┆ ---        ┆ ---        ┆   ┆ ---        ┆ ---       ┆ ---       ┆ ---       │\n",
              "│ i64  ┆ str        ┆ date       ┆ i64        ┆   ┆ str        ┆ list[str] ┆ str       ┆ list[str] │\n",
              "╞══════╪════════════╪════════════╪════════════╪═══╪════════════╪═══════════╪═══════════╪═══════════╡\n",
              "│ 1    ┆ 파묘       ┆ 2024-02-22 ┆ 1151574904 ┆ … ┆ 15세이상관 ┆ [\"미스터  ┆ 장재현    ┆ [\"최민식\" │\n",
              "│      ┆            ┆            ┆ 14         ┆   ┆ 람가       ┆ 리\", \"공  ┆           ┆ ,         │\n",
              "│      ┆            ┆            ┆            ┆   ┆            ┆ 포(호러)\" ┆           ┆ \"김고은\", │\n",
              "│      ┆            ┆            ┆            ┆   ┆            ┆ ]         ┆           ┆ …         │\n",
              "│      ┆            ┆            ┆            ┆   ┆            ┆           ┆           ┆ \"김하영\"] │\n",
              "│ 19   ┆ 시민덕희   ┆ 2024-01-24 ┆ 1617418009 ┆ … ┆ 15세이상관 ┆ [\"드라마\" ┆ 박영주    ┆ [\"라미란\" │\n",
              "│      ┆            ┆            ┆ 7          ┆   ┆ 람가       ┆ ]         ┆           ┆ , \"공명\", │\n",
              "│      ┆            ┆            ┆            ┆   ┆            ┆           ┆           ┆ …         │\n",
              "│      ┆            ┆            ┆            ┆   ┆            ┆           ┆           ┆ \"김율호\"] │\n",
              "│ 25   ┆ 사랑의     ┆ 2024-08-07 ┆ 1110779429 ┆ … ┆ 전체관람가 ┆ [\"애니메  ┆ 김수훈    ┆ [\"이지현\" │\n",
              "│      ┆ 하츄핑     ┆            ┆ 2          ┆   ┆            ┆ 이션\"]    ┆           ┆ ,         │\n",
              "│      ┆            ┆            ┆            ┆   ┆            ┆           ┆           ┆ \"조경이\", │\n",
              "│      ┆            ┆            ┆            ┆   ┆            ┆           ┆           ┆ …         │\n",
              "│      ┆            ┆            ┆            ┆   ┆            ┆           ┆           ┆ \"엄상현\"] │\n",
              "│ 74   ┆ 사흘       ┆ 2024-11-14 ┆ 1878697640 ┆ … ┆ 15세이상관 ┆ [\"공포(호 ┆ 현문섭    ┆ [\"박신양\" │\n",
              "│      ┆            ┆            ┆            ┆   ┆ 람가       ┆ 러)\", \"미 ┆           ┆ ,         │\n",
              "│      ┆            ┆            ┆            ┆   ┆            ┆ 스터리\"]  ┆           ┆ \"이민기\", │\n",
              "│      ┆            ┆            ┆            ┆   ┆            ┆           ┆           ┆ \"이레\"]   │\n",
              "│ 90   ┆ 청춘 18X2  ┆ 2024-05-22 ┆ 1076288964 ┆ … ┆ 12세이상관 ┆ [\"멜로/로 ┆ 후지이    ┆ [\"허광한\" │\n",
              "│      ┆ 너에게로   ┆            ┆            ┆   ┆ 람가       ┆ 맨스\"]    ┆ 미치히토  ┆ ,         │\n",
              "│      ┆ 이어지는   ┆            ┆            ┆   ┆            ┆           ┆           ┆ \"키요하라 │\n",
              "│      ┆ 길         ┆            ┆            ┆   ┆            ┆           ┆           ┆ 카야\", …  │\n",
              "│      ┆            ┆            ┆            ┆   ┆            ┆           ┆           ┆ \"쿠로키   │\n",
              "│      ┆            ┆            ┆            ┆   ┆            ┆           ┆           ┆ 히토미\"…  │\n",
              "│ …    ┆ …          ┆ …          ┆ …          ┆ … ┆ …          ┆ …         ┆ …         ┆ …         │\n",
              "│ 3038 ┆ 럭키       ┆ 2016-10-13 ┆ 154000     ┆ … ┆ 15세이상관 ┆ [\"코미디\" ┆ 이계벽    ┆ [\"김운\",  │\n",
              "│      ┆            ┆            ┆            ┆   ┆ 람가       ┆ ]         ┆           ┆ \"유해진\", │\n",
              "│      ┆            ┆            ┆            ┆   ┆            ┆           ┆           ┆ …         │\n",
              "│      ┆            ┆            ┆            ┆   ┆            ┆           ┆           ┆ \"이승철\"] │\n",
              "│ 3112 ┆ 곤지암     ┆ 2018-03-28 ┆ 150700     ┆ … ┆ 15세이상관 ┆ [\"공포(호 ┆ 정범식    ┆ [\"위하준\" │\n",
              "│      ┆            ┆            ┆            ┆   ┆ 람가       ┆ 러)\",     ┆           ┆ ,         │\n",
              "│      ┆            ┆            ┆            ┆   ┆            ┆ \"스릴러\"] ┆           ┆ \"박지현\", │\n",
              "│      ┆            ┆            ┆            ┆   ┆            ┆           ┆           ┆ … \"정아노 │\n",
              "│      ┆            ┆            ┆            ┆   ┆            ┆           ┆           ┆ 마\"]      │\n",
              "│ 4124 ┆ 범죄의     ┆ 2004-04-15 ┆ 0          ┆ … ┆ 18세관람가 ┆ [\"스릴러\" ┆ 최동훈    ┆ [\"김윤석\" │\n",
              "│      ┆ 재구성     ┆            ┆            ┆   ┆            ┆ ]         ┆           ┆ ,         │\n",
              "│      ┆            ┆            ┆            ┆   ┆            ┆           ┆           ┆ \"박신양\", │\n",
              "│      ┆            ┆            ┆            ┆   ┆            ┆           ┆           ┆ …         │\n",
              "│      ┆            ┆            ┆            ┆   ┆            ┆           ┆           ┆ \"최화진\"] │\n",
              "│ 4124 ┆ 비공식작전 ┆ 2023-08-02 ┆ 0          ┆ … ┆ 12세이상관 ┆ [\"드라마\" ┆ 김성훈    ┆ [\"하정우\" │\n",
              "│      ┆            ┆            ┆            ┆   ┆ 람가       ┆ ]         ┆           ┆ ,         │\n",
              "│      ┆            ┆            ┆            ┆   ┆            ┆           ┆           ┆ \"주지훈\", │\n",
              "│      ┆            ┆            ┆            ┆   ┆            ┆           ┆           ┆ …         │\n",
              "│      ┆            ┆            ┆            ┆   ┆            ┆           ┆           ┆ \"이승민\"] │\n",
              "│ 4124 ┆ 웰컴 투    ┆ 2005-08-04 ┆ 0          ┆ … ┆ 12세관람가 ┆ [\"전쟁\",  ┆ 박광현    ┆ [\"신하균\" │\n",
              "│      ┆ 동막골     ┆            ┆            ┆   ┆            ┆ \"드라마\"] ┆           ┆ ,         │\n",
              "│      ┆            ┆            ┆            ┆   ┆            ┆           ┆           ┆ \"정재영\", │\n",
              "│      ┆            ┆            ┆            ┆   ┆            ┆           ┆           ┆ …         │\n",
              "│      ┆            ┆            ┆            ┆   ┆            ┆           ┆           ┆ \"하성광\"] │\n",
              "└──────┴────────────┴────────────┴────────────┴───┴────────────┴───────────┴───────────┴───────────┘"
            ],
            "text/html": [
              "<div><style>\n",
              ".dataframe > thead > tr,\n",
              ".dataframe > tbody > tr {\n",
              "  text-align: right;\n",
              "  white-space: pre-wrap;\n",
              "}\n",
              "</style>\n",
              "<small>shape: (24, 18)</small><table border=\"1\" class=\"dataframe\"><thead><tr><th>순위</th><th>영화명</th><th>개봉일</th><th>매출액</th><th>매출액점유율</th><th>누적매출액</th><th>관객수</th><th>누적관객수</th><th>스크린수</th><th>상영횟수</th><th>대표국적</th><th>국적</th><th>제작사</th><th>배급사</th><th>등급</th><th>장르</th><th>감독</th><th>배우</th></tr><tr><td>i64</td><td>str</td><td>date</td><td>i64</td><td>str</td><td>i64</td><td>i64</td><td>i64</td><td>i64</td><td>i64</td><td>str</td><td>str</td><td>str</td><td>str</td><td>str</td><td>list[str]</td><td>str</td><td>list[str]</td></tr></thead><tbody><tr><td>1</td><td>&quot;파묘&quot;</td><td>2024-02-22</td><td>115157490414</td><td>&quot;9.6%&quot;</td><td>115157490414</td><td>11914784</td><td>11914784</td><td>2367</td><td>364955</td><td>&quot;한국&quot;</td><td>&quot;한국&quot;</td><td>&quot;(주)쇼박스&quot;</td><td>&quot;(주)쇼박스&quot;</td><td>&quot;15세이상관람가&quot;</td><td>[&quot;미스터리&quot;, &quot;공포(호러)&quot;]</td><td>&quot;장재현&quot;</td><td>[&quot;최민식&quot;, &quot;김고은&quot;, … &quot;김하영&quot;]</td></tr><tr><td>19</td><td>&quot;시민덕희&quot;</td><td>2024-01-24</td><td>16174180097</td><td>&quot;1.4%&quot;</td><td>16174180097</td><td>1715064</td><td>1715064</td><td>1281</td><td>96283</td><td>&quot;한국&quot;</td><td>&quot;한국&quot;</td><td>&quot;(주)씨제스스튜디오,페이지원필름(주)&quot;</td><td>&quot;(주)쇼박스&quot;</td><td>&quot;15세이상관람가&quot;</td><td>[&quot;드라마&quot;]</td><td>&quot;박영주&quot;</td><td>[&quot;라미란&quot;, &quot;공명&quot;, … &quot;김율호&quot;]</td></tr><tr><td>25</td><td>&quot;사랑의 하츄핑&quot;</td><td>2024-08-07</td><td>11107794292</td><td>&quot;0.9%&quot;</td><td>11107794292</td><td>1239178</td><td>1239178</td><td>1159</td><td>57721</td><td>&quot;한국&quot;</td><td>&quot;한국&quot;</td><td>&quot;(주)에스에이엠지엔터테인먼트&quot;</td><td>&quot;(주)쇼박스&quot;</td><td>&quot;전체관람가&quot;</td><td>[&quot;애니메이션&quot;]</td><td>&quot;김수훈&quot;</td><td>[&quot;이지현&quot;, &quot;조경이&quot;, … &quot;엄상현&quot;]</td></tr><tr><td>74</td><td>&quot;사흘&quot;</td><td>2024-11-14</td><td>1878697640</td><td>&quot;0.2%&quot;</td><td>1878697640</td><td>200490</td><td>200490</td><td>836</td><td>19197</td><td>&quot;한국&quot;</td><td>&quot;한국&quot;</td><td>&quot;(주)아이필름코퍼레이션&quot;</td><td>&quot;(주)쇼박스&quot;</td><td>&quot;15세이상관람가&quot;</td><td>[&quot;공포(호러)&quot;, &quot;미스터리&quot;]</td><td>&quot;현문섭&quot;</td><td>[&quot;박신양&quot;, &quot;이민기&quot;, &quot;이레&quot;]</td></tr><tr><td>90</td><td>&quot;청춘 18X2 너에게로 이어지는 길&quot;</td><td>2024-05-22</td><td>1076288964</td><td>&quot;0.1%&quot;</td><td>1076288964</td><td>112157</td><td>112157</td><td>635</td><td>13647</td><td>&quot;대만&quot;</td><td>&quot;대만,일본&quot;</td><td>null</td><td>&quot;(주)쇼박스&quot;</td><td>&quot;12세이상관람가&quot;</td><td>[&quot;멜로/로맨스&quot;]</td><td>&quot;후지이 미치히토&quot;</td><td>[&quot;허광한&quot;, &quot;키요하라 카야&quot;, … &quot;쿠로키 히토미&quot;]</td></tr><tr><td>&hellip;</td><td>&hellip;</td><td>&hellip;</td><td>&hellip;</td><td>&hellip;</td><td>&hellip;</td><td>&hellip;</td><td>&hellip;</td><td>&hellip;</td><td>&hellip;</td><td>&hellip;</td><td>&hellip;</td><td>&hellip;</td><td>&hellip;</td><td>&hellip;</td><td>&hellip;</td><td>&hellip;</td><td>&hellip;</td></tr><tr><td>3038</td><td>&quot;럭키&quot;</td><td>2016-10-13</td><td>154000</td><td>&quot;0.0%&quot;</td><td>56445477256</td><td>16</td><td>6975647</td><td>1</td><td>2</td><td>&quot;한국&quot;</td><td>&quot;한국&quot;</td><td>&quot;(주)용필름&quot;</td><td>&quot;(주)쇼박스&quot;</td><td>&quot;15세이상관람가&quot;</td><td>[&quot;코미디&quot;]</td><td>&quot;이계벽&quot;</td><td>[&quot;김운&quot;, &quot;유해진&quot;, … &quot;이승철&quot;]</td></tr><tr><td>3112</td><td>&quot;곤지암&quot;</td><td>2018-03-28</td><td>150700</td><td>&quot;0.0%&quot;</td><td>21460681144</td><td>12</td><td>2678116</td><td>1</td><td>2</td><td>&quot;한국&quot;</td><td>&quot;한국&quot;</td><td>&quot;(주)하이브미디어코프&quot;</td><td>&quot;(주)쇼박스&quot;</td><td>&quot;15세이상관람가&quot;</td><td>[&quot;공포(호러)&quot;, &quot;스릴러&quot;]</td><td>&quot;정범식&quot;</td><td>[&quot;위하준&quot;, &quot;박지현&quot;, … &quot;정아노마&quot;]</td></tr><tr><td>4124</td><td>&quot;범죄의 재구성&quot;</td><td>2004-04-15</td><td>0</td><td>&quot;0.0%&quot;</td><td>6138742500</td><td>0</td><td>943241</td><td>1</td><td>2</td><td>&quot;한국&quot;</td><td>&quot;한국&quot;</td><td>&quot;(주)싸이더스&quot;</td><td>&quot;(주)쇼박스&quot;</td><td>&quot;18세관람가&quot;</td><td>[&quot;스릴러&quot;]</td><td>&quot;최동훈&quot;</td><td>[&quot;김윤석&quot;, &quot;박신양&quot;, … &quot;최화진&quot;]</td></tr><tr><td>4124</td><td>&quot;비공식작전&quot;</td><td>2023-08-02</td><td>0</td><td>&quot;0.0%&quot;</td><td>10192841216</td><td>0</td><td>1058745</td><td>1</td><td>1</td><td>&quot;한국&quot;</td><td>&quot;한국&quot;</td><td>&quot;(주)와인드업필름,와이낫필름&quot;</td><td>&quot;(주)쇼박스&quot;</td><td>&quot;12세이상관람가&quot;</td><td>[&quot;드라마&quot;]</td><td>&quot;김성훈&quot;</td><td>[&quot;하정우&quot;, &quot;주지훈&quot;, … &quot;이승민&quot;]</td></tr><tr><td>4124</td><td>&quot;웰컴 투 동막골&quot;</td><td>2005-08-04</td><td>0</td><td>&quot;0.0%&quot;</td><td>40285363500</td><td>0</td><td>6430103</td><td>1</td><td>2</td><td>&quot;한국&quot;</td><td>&quot;한국&quot;</td><td>&quot;필름있수다,(주)쇼박스&quot;</td><td>&quot;(주)쇼박스&quot;</td><td>&quot;12세관람가&quot;</td><td>[&quot;전쟁&quot;, &quot;드라마&quot;]</td><td>&quot;박광현&quot;</td><td>[&quot;신하균&quot;, &quot;정재영&quot;, … &quot;하성광&quot;]</td></tr></tbody></table></div>"
            ]
          },
          "metadata": {},
          "execution_count": 24
        }
      ],
      "source": [
        "df_boxoffice.filter(\n",
        "    pl.col('배급사').str.contains('쇼박스')\n",
        ")"
      ]
    },
    {
      "cell_type": "code",
      "execution_count": 25,
      "id": "af006453-92f6-4e4b-9f6a-12879cfaaabb",
      "metadata": {
        "colab": {
          "base_uri": "https://localhost:8080/",
          "height": 963
        },
        "id": "af006453-92f6-4e4b-9f6a-12879cfaaabb",
        "outputId": "65c8bbb6-e835-4295-b7b4-b8249f310586"
      },
      "outputs": [
        {
          "output_type": "execute_result",
          "data": {
            "text/plain": [
              "shape: (30, 18)\n",
              "┌──────┬────────────┬────────────┬────────────┬───┬────────────┬───────────┬───────────┬───────────┐\n",
              "│ 순위 ┆ 영화명     ┆ 개봉일     ┆ 매출액     ┆ … ┆ 등급       ┆ 장르      ┆ 감독      ┆ 배우      │\n",
              "│ ---  ┆ ---        ┆ ---        ┆ ---        ┆   ┆ ---        ┆ ---       ┆ ---       ┆ ---       │\n",
              "│ i64  ┆ str        ┆ date       ┆ i64        ┆   ┆ str        ┆ list[str] ┆ str       ┆ list[str] │\n",
              "╞══════╪════════════╪════════════╪════════════╪═══╪════════════╪═══════════╪═══════════╪═══════════╡\n",
              "│ 36   ┆ 극장판     ┆ 2024-05-15 ┆ 7634168967 ┆ … ┆ 전체관람가 ┆ [\"애니메  ┆ 미츠나카  ┆ [\"무라세  │\n",
              "│      ┆ 하이큐!!   ┆            ┆            ┆   ┆            ┆ 이션\"]    ┆ 스스무    ┆ 아유무\",  │\n",
              "│      ┆ 쓰레기장의 ┆            ┆            ┆   ┆            ┆           ┆           ┆ \"이시카와 │\n",
              "│      ┆ 결전       ┆            ┆            ┆   ┆            ┆           ┆           ┆ 카이토\",  │\n",
              "│      ┆            ┆            ┆            ┆   ┆            ┆           ┆           ┆ …         │\n",
              "│      ┆            ┆            ┆            ┆   ┆            ┆           ┆           ┆ \"나카무…  │\n",
              "│ 46   ┆ 극장판     ┆ 2024-12-18 ┆ 5342377380 ┆ … ┆ 전체관람가 ┆ [\"애니메  ┆ 사사키    ┆ [\"박영남\" │\n",
              "│      ┆ 짱구는     ┆            ┆            ┆   ┆            ┆ 이션\"]    ┆ 시노부    ┆ ,         │\n",
              "│      ┆ 못말려:    ┆            ┆            ┆   ┆            ┆           ┆           ┆ \"강희선\", │\n",
              "│      ┆ 우리들의   ┆            ┆            ┆   ┆            ┆           ┆           ┆ \"김환진\"] │\n",
              "│      ┆ 공룡일기   ┆            ┆            ┆   ┆            ┆           ┆           ┆           │\n",
              "│ 64   ┆ 극장판     ┆ 2024-03-20 ┆ 2825664960 ┆ … ┆ 12세이상관 ┆ [\"애니메  ┆ 카타기리  ┆ [\"에구치  │\n",
              "│      ┆ 스파이     ┆            ┆            ┆   ┆ 람가       ┆ 이션\"]    ┆ 타카시    ┆ 타쿠야\",  │\n",
              "│      ┆ 패밀리     ┆            ┆            ┆   ┆            ┆           ┆           ┆ \"타네자키 │\n",
              "│      ┆ 코드 :     ┆            ┆            ┆   ┆            ┆           ┆           ┆ 아츠미\",  │\n",
              "│      ┆ 화이트     ┆            ┆            ┆   ┆            ┆           ┆           ┆ \"하야미   │\n",
              "│      ┆            ┆            ┆            ┆   ┆            ┆           ┆           ┆ 사…       │\n",
              "│ 96   ┆ 극장판     ┆ 2024-07-10 ┆ 859962300  ┆ … ┆ 전체관람가 ┆ [\"애니메  ┆ 이마이    ┆ null      │\n",
              "│      ┆ 도라에몽:  ┆            ┆            ┆   ┆            ┆ 이션\"]    ┆ 카즈아키  ┆           │\n",
              "│      ┆ 진구의     ┆            ┆            ┆   ┆            ┆           ┆           ┆           │\n",
              "│      ┆ 지구       ┆            ┆            ┆   ┆            ┆           ┆           ┆           │\n",
              "│      ┆ 교향곡     ┆            ┆            ┆   ┆            ┆           ┆           ┆           │\n",
              "│ 99   ┆ 극장판     ┆ 2024-08-21 ┆ 900996900  ┆ … ┆ 12세이상관 ┆ [\"애니메  ┆ 이시카와  ┆ [\"시마자  │\n",
              "│      ┆ 블루 록    ┆            ┆            ┆   ┆ 람가       ┆ 이션\"]    ┆ 슌스케    ┆ 키 노부나 │\n",
              "│      ┆ -에피소드  ┆            ┆            ┆   ┆            ┆           ┆           ┆ 가\",      │\n",
              "│      ┆ 나기-      ┆            ┆            ┆   ┆            ┆           ┆           ┆ \"우치다   │\n",
              "│      ┆            ┆            ┆            ┆   ┆            ┆           ┆           ┆ 유우마\",  │\n",
              "│      ┆            ┆            ┆            ┆   ┆            ┆           ┆           ┆ … \"우라…  │\n",
              "│ …    ┆ …          ┆ …          ┆ …          ┆ … ┆ …          ┆ …         ┆ …         ┆ …         │\n",
              "│ 1571 ┆ 극장판     ┆ 2024-09-16 ┆ 1106000    ┆ … ┆ 12세이상관 ┆ [\"드라마\" ┆ 타나카    ┆ [\"타케노  │\n",
              "│      ┆ 이치케이의 ┆            ┆            ┆   ┆ 람가       ┆ ]         ┆ 아키라    ┆ 우치      │\n",
              "│      ┆ 까마귀     ┆            ┆            ┆   ┆            ┆           ┆           ┆ 유타카\",  │\n",
              "│      ┆            ┆            ┆            ┆   ┆            ┆           ┆           ┆ \"쿠로키   │\n",
              "│      ┆            ┆            ┆            ┆   ┆            ┆           ┆           ┆ 하루\"]    │\n",
              "│ 1647 ┆ 극장판     ┆ 2024-02-16 ┆ 965039     ┆ … ┆ 15세이상관 ┆ [\"애니메  ┆ 키노시타  ┆ [\"이이다  │\n",
              "│      ┆ 오드 택시  ┆            ┆            ┆   ┆ 람가       ┆ 이션\"]    ┆ 바쿠      ┆ 리호\",    │\n",
              "│      ┆ 인 더 우즈 ┆            ┆            ┆   ┆            ┆           ┆           ┆ \"키무라   │\n",
              "│      ┆            ┆            ┆            ┆   ┆            ┆           ┆           ┆ 료헤이\"]  │\n",
              "│ 1647 ┆ 극장판     ┆ 2023-11-30 ┆ 1050500    ┆ … ┆ 전체관람가 ┆ [\"애니메  ┆ 정지훈    ┆ [\"김은아\" │\n",
              "│      ┆ 우당탕탕   ┆            ┆            ┆   ┆            ┆ 이션\"]    ┆           ┆ ,         │\n",
              "│      ┆ 은하안전단 ┆            ┆            ┆   ┆            ┆           ┆           ┆ \"엄상현\", │\n",
              "│      ┆ : 진정한   ┆            ┆            ┆   ┆            ┆           ┆           ┆ …         │\n",
              "│      ┆ 용기!      ┆            ┆            ┆   ┆            ┆           ┆           ┆ \"홍소영\"] │\n",
              "│ 2545 ┆ 극장판     ┆ 2023-09-06 ┆ 368000     ┆ … ┆ 12세이상관 ┆ [\"애니메  ┆ 이시히라  ┆ [\"사이토  │\n",
              "│      ┆ 사사키와   ┆            ┆            ┆   ┆ 람가       ┆ 이션\"]    ┆ 신지      ┆ 소마\",    │\n",
              "│      ┆ 미야노 -   ┆            ┆            ┆   ┆            ┆           ┆           ┆ \"시라이   │\n",
              "│      ┆ 졸업편     ┆            ┆            ┆   ┆            ┆           ┆           ┆ 유스케\"]  │\n",
              "│ 2704 ┆ 극장판     ┆ 2022-09-22 ┆ 240000     ┆ … ┆ 12세이상관 ┆ [\"애니메  ┆ 진보      ┆ [\"마츠오  │\n",
              "│      ┆ 5등분의    ┆            ┆            ┆   ┆ 람가       ┆ 이션\",    ┆ 마사토    ┆ 카 요시츠 │\n",
              "│      ┆ 신부       ┆            ┆            ┆   ┆            ┆ \"드라마\"] ┆           ┆ 구\",      │\n",
              "│      ┆            ┆            ┆            ┆   ┆            ┆           ┆           ┆ \"하나자와 │\n",
              "│      ┆            ┆            ┆            ┆   ┆            ┆           ┆           ┆ 카나\", …  │\n",
              "│      ┆            ┆            ┆            ┆   ┆            ┆           ┆           ┆ \"미나…    │\n",
              "└──────┴────────────┴────────────┴────────────┴───┴────────────┴───────────┴───────────┴───────────┘"
            ],
            "text/html": [
              "<div><style>\n",
              ".dataframe > thead > tr,\n",
              ".dataframe > tbody > tr {\n",
              "  text-align: right;\n",
              "  white-space: pre-wrap;\n",
              "}\n",
              "</style>\n",
              "<small>shape: (30, 18)</small><table border=\"1\" class=\"dataframe\"><thead><tr><th>순위</th><th>영화명</th><th>개봉일</th><th>매출액</th><th>매출액점유율</th><th>누적매출액</th><th>관객수</th><th>누적관객수</th><th>스크린수</th><th>상영횟수</th><th>대표국적</th><th>국적</th><th>제작사</th><th>배급사</th><th>등급</th><th>장르</th><th>감독</th><th>배우</th></tr><tr><td>i64</td><td>str</td><td>date</td><td>i64</td><td>str</td><td>i64</td><td>i64</td><td>i64</td><td>i64</td><td>i64</td><td>str</td><td>str</td><td>str</td><td>str</td><td>str</td><td>list[str]</td><td>str</td><td>list[str]</td></tr></thead><tbody><tr><td>36</td><td>&quot;극장판 하이큐!! 쓰레기장의 결전&quot;</td><td>2024-05-15</td><td>7634168967</td><td>&quot;0.6%&quot;</td><td>7634168967</td><td>744549</td><td>744549</td><td>1212</td><td>45171</td><td>&quot;일본&quot;</td><td>&quot;일본&quot;</td><td>null</td><td>&quot;(주)넥스트엔터테인먼트월드(NEW),씨제이 씨지브이(C…</td><td>&quot;전체관람가&quot;</td><td>[&quot;애니메이션&quot;]</td><td>&quot;미츠나카 스스무&quot;</td><td>[&quot;무라세 아유무&quot;, &quot;이시카와 카이토&quot;, … &quot;나카무라 유이치&quot;]</td></tr><tr><td>46</td><td>&quot;극장판 짱구는 못말려: 우리들의 공룡일기&quot;</td><td>2024-12-18</td><td>5342377380</td><td>&quot;0.4%&quot;</td><td>5342377380</td><td>567274</td><td>567274</td><td>880</td><td>22804</td><td>&quot;일본&quot;</td><td>&quot;일본&quot;</td><td>null</td><td>&quot;(주)씨제이이엔엠&quot;</td><td>&quot;전체관람가&quot;</td><td>[&quot;애니메이션&quot;]</td><td>&quot;사사키 시노부&quot;</td><td>[&quot;박영남&quot;, &quot;강희선&quot;, &quot;김환진&quot;]</td></tr><tr><td>64</td><td>&quot;극장판 스파이 패밀리 코드 : 화이트&quot;</td><td>2024-03-20</td><td>2825664960</td><td>&quot;0.2%&quot;</td><td>2825664960</td><td>284079</td><td>284079</td><td>917</td><td>26129</td><td>&quot;일본&quot;</td><td>&quot;일본&quot;</td><td>null</td><td>&quot;(주)넥스트엔터테인먼트월드(NEW),(주)대교 미디어콘…</td><td>&quot;12세이상관람가&quot;</td><td>[&quot;애니메이션&quot;]</td><td>&quot;카타기리 타카시&quot;</td><td>[&quot;에구치 타쿠야&quot;, &quot;타네자키 아츠미&quot;, &quot;하야미 사오리&quot;]</td></tr><tr><td>96</td><td>&quot;극장판 도라에몽: 진구의 지구 교향곡&quot;</td><td>2024-07-10</td><td>859962300</td><td>&quot;0.1%&quot;</td><td>859962300</td><td>102856</td><td>102856</td><td>276</td><td>6724</td><td>&quot;일본&quot;</td><td>&quot;일본&quot;</td><td>null</td><td>&quot;씨제이 씨지브이(CJ CGV)(주)&quot;</td><td>&quot;전체관람가&quot;</td><td>[&quot;애니메이션&quot;]</td><td>&quot;이마이 카즈아키&quot;</td><td>null</td></tr><tr><td>99</td><td>&quot;극장판 블루 록 -에피소드 나기-&quot;</td><td>2024-08-21</td><td>900996900</td><td>&quot;0.1%&quot;</td><td>900996900</td><td>100110</td><td>100110</td><td>276</td><td>7535</td><td>&quot;일본&quot;</td><td>&quot;일본&quot;</td><td>null</td><td>&quot;씨제이 씨지브이(CJ CGV)(주)&quot;</td><td>&quot;12세이상관람가&quot;</td><td>[&quot;애니메이션&quot;]</td><td>&quot;이시카와 슌스케&quot;</td><td>[&quot;시마자키 노부나가&quot;, &quot;우치다 유우마&quot;, … &quot;우라 카즈키&quot;]</td></tr><tr><td>&hellip;</td><td>&hellip;</td><td>&hellip;</td><td>&hellip;</td><td>&hellip;</td><td>&hellip;</td><td>&hellip;</td><td>&hellip;</td><td>&hellip;</td><td>&hellip;</td><td>&hellip;</td><td>&hellip;</td><td>&hellip;</td><td>&hellip;</td><td>&hellip;</td><td>&hellip;</td><td>&hellip;</td><td>&hellip;</td></tr><tr><td>1571</td><td>&quot;극장판 이치케이의 까마귀&quot;</td><td>2024-09-16</td><td>1106000</td><td>&quot;0.0%&quot;</td><td>1106000</td><td>157</td><td>157</td><td>4</td><td>61</td><td>&quot;일본&quot;</td><td>&quot;일본&quot;</td><td>null</td><td>&quot;(주)미디어캐슬&quot;</td><td>&quot;12세이상관람가&quot;</td><td>[&quot;드라마&quot;]</td><td>&quot;타나카 아키라&quot;</td><td>[&quot;타케노우치 유타카&quot;, &quot;쿠로키 하루&quot;]</td></tr><tr><td>1647</td><td>&quot;극장판 오드 택시 인 더 우즈&quot;</td><td>2024-02-16</td><td>965039</td><td>&quot;0.0%&quot;</td><td>965039</td><td>143</td><td>143</td><td>6</td><td>68</td><td>&quot;일본&quot;</td><td>&quot;일본&quot;</td><td>null</td><td>&quot;(주)미디어캐슬&quot;</td><td>&quot;15세이상관람가&quot;</td><td>[&quot;애니메이션&quot;]</td><td>&quot;키노시타 바쿠&quot;</td><td>[&quot;이이다 리호&quot;, &quot;키무라 료헤이&quot;]</td></tr><tr><td>1647</td><td>&quot;극장판 우당탕탕 은하안전단: 진정한 용기!&quot;</td><td>2023-11-30</td><td>1050500</td><td>&quot;0.0%&quot;</td><td>257124930</td><td>143</td><td>34001</td><td>2</td><td>16</td><td>&quot;한국&quot;</td><td>&quot;한국&quot;</td><td>&quot;(주)마로스튜디오&quot;</td><td>&quot;(주)넥스트엔터테인먼트월드(NEW)&quot;</td><td>&quot;전체관람가&quot;</td><td>[&quot;애니메이션&quot;]</td><td>&quot;정지훈&quot;</td><td>[&quot;김은아&quot;, &quot;엄상현&quot;, … &quot;홍소영&quot;]</td></tr><tr><td>2545</td><td>&quot;극장판 사사키와 미야노 - 졸업편&quot;</td><td>2023-09-06</td><td>368000</td><td>&quot;0.0%&quot;</td><td>37862900</td><td>40</td><td>3858</td><td>1</td><td>6</td><td>&quot;일본&quot;</td><td>&quot;일본&quot;</td><td>null</td><td>&quot;(주)디스테이션&quot;</td><td>&quot;12세이상관람가&quot;</td><td>[&quot;애니메이션&quot;]</td><td>&quot;이시히라 신지&quot;</td><td>[&quot;사이토 소마&quot;, &quot;시라이 유스케&quot;]</td></tr><tr><td>2704</td><td>&quot;극장판 5등분의 신부&quot;</td><td>2022-09-22</td><td>240000</td><td>&quot;0.0%&quot;</td><td>673250823</td><td>30</td><td>62471</td><td>1</td><td>1</td><td>&quot;일본&quot;</td><td>&quot;일본&quot;</td><td>null</td><td>&quot;(주)애니플러스&quot;</td><td>&quot;12세이상관람가&quot;</td><td>[&quot;애니메이션&quot;, &quot;드라마&quot;]</td><td>&quot;진보 마사토&quot;</td><td>[&quot;마츠오카 요시츠구&quot;, &quot;하나자와 카나&quot;, … &quot;미나세 이노리&quot;]</td></tr></tbody></table></div>"
            ]
          },
          "metadata": {},
          "execution_count": 25
        }
      ],
      "source": [
        "df_boxoffice.filter(\n",
        "    pl.col('영화명').str.starts_with('극장판')\n",
        ")"
      ]
    },
    {
      "cell_type": "code",
      "execution_count": 26,
      "id": "2551fd38-208a-4693-b70a-b252d3f7af9b",
      "metadata": {
        "colab": {
          "base_uri": "https://localhost:8080/",
          "height": 1000
        },
        "id": "2551fd38-208a-4693-b70a-b252d3f7af9b",
        "outputId": "eb0c7ded-68f8-4646-c2bb-64f6c9563fea"
      },
      "outputs": [
        {
          "output_type": "execute_result",
          "data": {
            "text/plain": [
              "shape: (226, 18)\n",
              "┌──────┬────────────┬────────────┬────────────┬───┬────────────┬───────────┬───────────┬───────────┐\n",
              "│ 순위 ┆ 영화명     ┆ 개봉일     ┆ 매출액     ┆ … ┆ 등급       ┆ 장르      ┆ 감독      ┆ 배우      │\n",
              "│ ---  ┆ ---        ┆ ---        ┆ ---        ┆   ┆ ---        ┆ ---       ┆ ---       ┆ ---       │\n",
              "│ i64  ┆ str        ┆ date       ┆ i64        ┆   ┆ str        ┆ list[str] ┆ str       ┆ list[str] │\n",
              "╞══════╪════════════╪════════════╪════════════╪═══╪════════════╪═══════════╪═══════════╪═══════════╡\n",
              "│ 65   ┆ 브레드이발 ┆ 2024-09-14 ┆ 2288885000 ┆ … ┆ 전체관람가 ┆ [\"애니메  ┆ 정지환    ┆ [\"엄상현\" │\n",
              "│      ┆ 소:        ┆            ┆            ┆   ┆            ┆ 이션\"]    ┆           ┆ ,         │\n",
              "│      ┆ 빵스타의   ┆            ┆            ┆   ┆            ┆           ┆           ┆ \"박윤희\", │\n",
              "│      ┆ 탄생       ┆            ┆            ┆   ┆            ┆           ┆           ┆ …         │\n",
              "│      ┆            ┆            ┆            ┆   ┆            ┆           ┆           ┆ \"정의진\"] │\n",
              "│ 130  ┆ 너의 색    ┆ 2024-10-12 ┆ 425313200  ┆ … ┆ 전체관람가 ┆ [\"애니메  ┆ 야마다    ┆ [\"스즈카  │\n",
              "│      ┆            ┆            ┆            ┆   ┆            ┆ 이션\"]    ┆ 나오코    ┆ 와 사유\", │\n",
              "│      ┆            ┆            ┆            ┆   ┆            ┆           ┆           ┆ \"타카이시 │\n",
              "│      ┆            ┆            ┆            ┆   ┆            ┆           ┆           ┆ 아카리\",  │\n",
              "│      ┆            ┆            ┆            ┆   ┆            ┆           ┆           ┆ …         │\n",
              "│      ┆            ┆            ┆            ┆   ┆            ┆           ┆           ┆ \"아라가…  │\n",
              "│ 139  ┆ 쇼생크     ┆ 1995-02-04 ┆ 424003186  ┆ … ┆ 고등학생이 ┆ [\"드라마\" ┆ 프랭크    ┆ [\"팀      │\n",
              "│      ┆ 탈출       ┆            ┆            ┆   ┆ 상관람가,1 ┆ ]         ┆ 다라본트  ┆ 로빈스\",  │\n",
              "│      ┆            ┆            ┆            ┆   ┆ 5세이상관  ┆           ┆           ┆ \"모건     │\n",
              "│      ┆            ┆            ┆            ┆   ┆ 람가       ┆           ┆           ┆ 프리먼\"]  │\n",
              "│ 177  ┆ 비포       ┆ 1996-03-30 ┆ 308232208  ┆ … ┆ 고등학생이 ┆ [\"멜로/로 ┆ 리차드    ┆ [\"에단    │\n",
              "│      ┆ 선라이즈   ┆            ┆            ┆   ┆ 상관람가,1 ┆ 맨스\",    ┆ 링클레이  ┆ 호크\",    │\n",
              "│      ┆            ┆            ┆            ┆   ┆ 5세이상관  ┆ \"드라마\"] ┆ 터        ┆ \"줄리     │\n",
              "│      ┆            ┆            ┆            ┆   ┆ 람가       ┆           ┆           ┆ 델피\"]    │\n",
              "│ 195  ┆ 중경삼림   ┆ 1995-09-02 ┆ 235706679  ┆ … ┆ 고등학생이 ┆ [\"드라마\" ┆ 왕가위    ┆ [\"임청하\" │\n",
              "│      ┆            ┆            ┆            ┆   ┆ 상관람가,1 ┆ ]         ┆           ┆ ,         │\n",
              "│      ┆            ┆            ┆            ┆   ┆ 5세이상관  ┆           ┆           ┆ \"양조위\", │\n",
              "│      ┆            ┆            ┆            ┆   ┆ 람가       ┆           ┆           ┆ …         │\n",
              "│      ┆            ┆            ┆            ┆   ┆            ┆           ┆           ┆ \"금성무\"] │\n",
              "│ …    ┆ …          ┆ …          ┆ …          ┆ … ┆ …          ┆ …         ┆ …         ┆ …         │\n",
              "│ 4124 ┆ 미망인     ┆ 1955-12-10 ┆ 0          ┆ … ┆ 청소년관람 ┆ [\"드라마\" ┆ 박남옥    ┆ [\"이민자\" │\n",
              "│      ┆            ┆            ┆            ┆   ┆ 불가       ┆ , \"멜로/  ┆           ┆ ]         │\n",
              "│      ┆            ┆            ┆            ┆   ┆            ┆ 로맨스\"]  ┆           ┆           │\n",
              "│ 4124 ┆ 바이 준    ┆ 1998-03-28 ┆ 0          ┆ … ┆ 18세       ┆ [\"드라마\" ┆ 최호      ┆ [\"김하늘\" │\n",
              "│      ┆            ┆            ┆            ┆   ┆ 미만인     ┆ , \"멜로/  ┆           ┆ ,         │\n",
              "│      ┆            ┆            ┆            ┆   ┆ 자는       ┆ 로맨스\"]  ┆           ┆ \"이장욱\", │\n",
              "│      ┆            ┆            ┆            ┆   ┆ 관람할 수  ┆           ┆           ┆ …         │\n",
              "│      ┆            ┆            ┆            ┆   ┆ 없는 등급  ┆           ┆           ┆ \"서영희\"] │\n",
              "│ 4124 ┆ 짝코       ┆ 1983-10-23 ┆ 0          ┆ … ┆ 연소자관람 ┆ [\"드라마\" ┆ 임권택    ┆ [\"김희라\" │\n",
              "│      ┆            ┆            ┆            ┆   ┆ 불가       ┆ , \"범죄\", ┆           ┆ ,         │\n",
              "│      ┆            ┆            ┆            ┆   ┆            ┆ \"스릴러\"] ┆           ┆ \"최윤석\", │\n",
              "│      ┆            ┆            ┆            ┆   ┆            ┆           ┆           ┆ …         │\n",
              "│      ┆            ┆            ┆            ┆   ┆            ┆           ┆           ┆ \"김지영\"] │\n",
              "│ 4124 ┆ 파이란     ┆ 2001-04-28 ┆ 0          ┆ … ┆ 15세관람가 ┆ [\"드라마\" ┆ 송해성    ┆ [\"최민식\" │\n",
              "│      ┆            ┆            ┆            ┆   ┆            ┆ ]         ┆           ┆ ,         │\n",
              "│      ┆            ┆            ┆            ┆   ┆            ┆           ┆           ┆ \"장백지\", │\n",
              "│      ┆            ┆            ┆            ┆   ┆            ┆           ┆           ┆ …         │\n",
              "│      ┆            ┆            ┆            ┆   ┆            ┆           ┆           ┆ \"김수현\"] │\n",
              "│ 4124 ┆ 해가       ┆ 1998-12-19 ┆ 0          ┆ … ┆ 15세       ┆ [\"멜로/로 ┆ 이은      ┆ [\"고소영\" │\n",
              "│      ┆ 서쪽에서   ┆            ┆            ┆   ┆ 미만인     ┆ 맨스\",    ┆           ┆ ,         │\n",
              "│      ┆ 뜬다면     ┆            ┆            ┆   ┆ 자는       ┆ \"드라마\"] ┆           ┆ \"차승원\", │\n",
              "│      ┆            ┆            ┆            ┆   ┆ 관람할 수  ┆           ┆           ┆ …         │\n",
              "│      ┆            ┆            ┆            ┆   ┆ 없는 등급  ┆           ┆           ┆ \"권민중\"] │\n",
              "└──────┴────────────┴────────────┴────────────┴───┴────────────┴───────────┴───────────┴───────────┘"
            ],
            "text/html": [
              "<div><style>\n",
              ".dataframe > thead > tr,\n",
              ".dataframe > tbody > tr {\n",
              "  text-align: right;\n",
              "  white-space: pre-wrap;\n",
              "}\n",
              "</style>\n",
              "<small>shape: (226, 18)</small><table border=\"1\" class=\"dataframe\"><thead><tr><th>순위</th><th>영화명</th><th>개봉일</th><th>매출액</th><th>매출액점유율</th><th>누적매출액</th><th>관객수</th><th>누적관객수</th><th>스크린수</th><th>상영횟수</th><th>대표국적</th><th>국적</th><th>제작사</th><th>배급사</th><th>등급</th><th>장르</th><th>감독</th><th>배우</th></tr><tr><td>i64</td><td>str</td><td>date</td><td>i64</td><td>str</td><td>i64</td><td>i64</td><td>i64</td><td>i64</td><td>i64</td><td>str</td><td>str</td><td>str</td><td>str</td><td>str</td><td>list[str]</td><td>str</td><td>list[str]</td></tr></thead><tbody><tr><td>65</td><td>&quot;브레드이발소: 빵스타의 탄생&quot;</td><td>2024-09-14</td><td>2288885000</td><td>&quot;0.2%&quot;</td><td>2288885000</td><td>266128</td><td>266128</td><td>427</td><td>12701</td><td>&quot;한국&quot;</td><td>&quot;한국&quot;</td><td>&quot;㈜브레드이발소&quot;</td><td>&quot;씨제이 씨지브이(CJ CGV)(주)&quot;</td><td>&quot;전체관람가&quot;</td><td>[&quot;애니메이션&quot;]</td><td>&quot;정지환&quot;</td><td>[&quot;엄상현&quot;, &quot;박윤희&quot;, … &quot;정의진&quot;]</td></tr><tr><td>130</td><td>&quot;너의 색&quot;</td><td>2024-10-12</td><td>425313200</td><td>&quot;0.0%&quot;</td><td>425313200</td><td>48691</td><td>48691</td><td>269</td><td>6873</td><td>&quot;일본&quot;</td><td>&quot;일본&quot;</td><td>null</td><td>&quot;씨제이 씨지브이(CJ CGV)(주)&quot;</td><td>&quot;전체관람가&quot;</td><td>[&quot;애니메이션&quot;]</td><td>&quot;야마다 나오코&quot;</td><td>[&quot;스즈카와 사유&quot;, &quot;타카이시 아카리&quot;, … &quot;아라가키 유이&quot;]</td></tr><tr><td>139</td><td>&quot;쇼생크 탈출&quot;</td><td>1995-02-04</td><td>424003186</td><td>&quot;0.0%&quot;</td><td>497466986</td><td>46196</td><td>57609</td><td>136</td><td>3795</td><td>&quot;미국&quot;</td><td>&quot;미국&quot;</td><td>&quot;캐슬 락 엔터테인먼트,콜럼비아 픽쳐스 코포레이션&quot;</td><td>&quot;(주)팝엔터테인먼트,THE 픽쳐스&quot;</td><td>&quot;고등학생이상관람가,15세이상관람가&quot;</td><td>[&quot;드라마&quot;]</td><td>&quot;프랭크 다라본트&quot;</td><td>[&quot;팀 로빈스&quot;, &quot;모건 프리먼&quot;]</td></tr><tr><td>177</td><td>&quot;비포 선라이즈&quot;</td><td>1996-03-30</td><td>308232208</td><td>&quot;0.0%&quot;</td><td>797150956</td><td>31362</td><td>91446</td><td>86</td><td>1738</td><td>&quot;미국&quot;</td><td>&quot;미국,오스트리아 ,스위스&quot;</td><td>&quot;캐슬 락 엔터테인먼트&quot;</td><td>&quot;에무 시네마 앤 카페,(주)드림팩트엔터테인먼트&quot;</td><td>&quot;고등학생이상관람가,15세이상관람가&quot;</td><td>[&quot;멜로/로맨스&quot;, &quot;드라마&quot;]</td><td>&quot;리차드 링클레이터&quot;</td><td>[&quot;에단 호크&quot;, &quot;줄리 델피&quot;]</td></tr><tr><td>195</td><td>&quot;중경삼림&quot;</td><td>1995-09-02</td><td>235706679</td><td>&quot;0.0%&quot;</td><td>1161971269</td><td>24826</td><td>123457</td><td>53</td><td>1432</td><td>&quot;홍콩&quot;</td><td>&quot;홍콩&quot;</td><td>&quot;젯톤프로덕션&quot;</td><td>&quot;(주)디스테이션&quot;</td><td>&quot;고등학생이상관람가,15세이상관람가&quot;</td><td>[&quot;드라마&quot;]</td><td>&quot;왕가위&quot;</td><td>[&quot;임청하&quot;, &quot;양조위&quot;, … &quot;금성무&quot;]</td></tr><tr><td>&hellip;</td><td>&hellip;</td><td>&hellip;</td><td>&hellip;</td><td>&hellip;</td><td>&hellip;</td><td>&hellip;</td><td>&hellip;</td><td>&hellip;</td><td>&hellip;</td><td>&hellip;</td><td>&hellip;</td><td>&hellip;</td><td>&hellip;</td><td>&hellip;</td><td>&hellip;</td><td>&hellip;</td><td>&hellip;</td></tr><tr><td>4124</td><td>&quot;미망인&quot;</td><td>1955-12-10</td><td>0</td><td>&quot;0.0%&quot;</td><td>4877000</td><td>0</td><td>1605</td><td>1</td><td>2</td><td>&quot;한국&quot;</td><td>&quot;한국&quot;</td><td>null</td><td>null</td><td>&quot;청소년관람불가&quot;</td><td>[&quot;드라마&quot;, &quot;멜로/로맨스&quot;]</td><td>&quot;박남옥&quot;</td><td>[&quot;이민자&quot;]</td></tr><tr><td>4124</td><td>&quot;바이 준&quot;</td><td>1998-03-28</td><td>0</td><td>&quot;0.0%&quot;</td><td>0</td><td>0</td><td>0</td><td>1</td><td>2</td><td>&quot;한국&quot;</td><td>&quot;한국&quot;</td><td>&quot;(주)동아수출공사&quot;</td><td>null</td><td>&quot;18세 미만인 자는 관람할 수 없는 등급&quot;</td><td>[&quot;드라마&quot;, &quot;멜로/로맨스&quot;]</td><td>&quot;최호&quot;</td><td>[&quot;김하늘&quot;, &quot;이장욱&quot;, … &quot;서영희&quot;]</td></tr><tr><td>4124</td><td>&quot;짝코&quot;</td><td>1983-10-23</td><td>0</td><td>&quot;0.0%&quot;</td><td>199000</td><td>0</td><td>62</td><td>1</td><td>2</td><td>&quot;한국&quot;</td><td>&quot;한국&quot;</td><td>&quot;(주)삼영필림&quot;</td><td>null</td><td>&quot;연소자관람불가&quot;</td><td>[&quot;드라마&quot;, &quot;범죄&quot;, &quot;스릴러&quot;]</td><td>&quot;임권택&quot;</td><td>[&quot;김희라&quot;, &quot;최윤석&quot;, … &quot;김지영&quot;]</td></tr><tr><td>4124</td><td>&quot;파이란&quot;</td><td>2001-04-28</td><td>0</td><td>&quot;0.0%&quot;</td><td>13402270</td><td>0</td><td>1380</td><td>1</td><td>2</td><td>&quot;한국&quot;</td><td>&quot;한국&quot;</td><td>&quot;튜브픽쳐스(주)&quot;</td><td>&quot;(주)영화사오원,(주)튜브엔터테인먼트&quot;</td><td>&quot;15세관람가&quot;</td><td>[&quot;드라마&quot;]</td><td>&quot;송해성&quot;</td><td>[&quot;최민식&quot;, &quot;장백지&quot;, … &quot;김수현&quot;]</td></tr><tr><td>4124</td><td>&quot;해가 서쪽에서 뜬다면&quot;</td><td>1998-12-19</td><td>0</td><td>&quot;0.0%&quot;</td><td>0</td><td>0</td><td>0</td><td>1</td><td>1</td><td>&quot;한국&quot;</td><td>&quot;한국&quot;</td><td>&quot;(주)명필름&quot;</td><td>null</td><td>&quot;15세 미만인 자는 관람할 수 없는 등급&quot;</td><td>[&quot;멜로/로맨스&quot;, &quot;드라마&quot;]</td><td>&quot;이은&quot;</td><td>[&quot;고소영&quot;, &quot;차승원&quot;, … &quot;권민중&quot;]</td></tr></tbody></table></div>"
            ]
          },
          "metadata": {},
          "execution_count": 26
        }
      ],
      "source": [
        "df_boxoffice.filter(\n",
        "    pl.col('개봉일').dt.weekday() >= 6\n",
        ")"
      ]
    },
    {
      "cell_type": "code",
      "execution_count": 27,
      "id": "736d1090-b425-4f25-adcb-c7c6707c0cc7",
      "metadata": {
        "colab": {
          "base_uri": "https://localhost:8080/",
          "height": 581
        },
        "id": "736d1090-b425-4f25-adcb-c7c6707c0cc7",
        "outputId": "53a06cf5-afb3-4ee7-c93c-dfb68ac586ff"
      },
      "outputs": [
        {
          "output_type": "execute_result",
          "data": {
            "text/plain": [
              "shape: (6, 18)\n",
              "┌──────┬────────────┬────────────┬────────────┬───┬────────────┬───────────┬───────────┬───────────┐\n",
              "│ 순위 ┆ 영화명     ┆ 개봉일     ┆ 매출액     ┆ … ┆ 등급       ┆ 장르      ┆ 감독      ┆ 배우      │\n",
              "│ ---  ┆ ---        ┆ ---        ┆ ---        ┆   ┆ ---        ┆ ---       ┆ ---       ┆ ---       │\n",
              "│ i64  ┆ str        ┆ date       ┆ i64        ┆   ┆ str        ┆ list[str] ┆ str       ┆ list[str] │\n",
              "╞══════╪════════════╪════════════╪════════════╪═══╪════════════╪═══════════╪═══════════╪═══════════╡\n",
              "│ 25   ┆ 사랑의     ┆ 2024-08-07 ┆ 1110779429 ┆ … ┆ 전체관람가 ┆ [\"애니메  ┆ 김수훈    ┆ [\"이지현\" │\n",
              "│      ┆ 하츄핑     ┆            ┆ 2          ┆   ┆            ┆ 이션\"]    ┆           ┆ ,         │\n",
              "│      ┆            ┆            ┆            ┆   ┆            ┆           ┆           ┆ \"조경이\", │\n",
              "│      ┆            ┆            ┆            ┆   ┆            ┆           ┆           ┆ …         │\n",
              "│      ┆            ┆            ┆            ┆   ┆            ┆           ┆           ┆ \"엄상현\"] │\n",
              "│ 34   ┆ 청설       ┆ 2024-11-06 ┆ 7484993310 ┆ … ┆ 전체관람가 ┆ [\"드라마\" ┆ 조선호    ┆ [\"홍경\",  │\n",
              "│      ┆            ┆            ┆            ┆   ┆            ┆ , \"멜로/  ┆           ┆ \"송유라\", │\n",
              "│      ┆            ┆            ┆            ┆   ┆            ┆ 로맨스\"]  ┆           ┆ … \"천랑\"] │\n",
              "│ 59   ┆ 임영웅│아  ┆ 2024-08-28 ┆ 1011714250 ┆ … ┆ 전체관람가 ┆ [\"공연\",  ┆ 조우영,정 ┆ [\"임영웅\" │\n",
              "│      ┆ 임 히어로  ┆            ┆ 0          ┆   ┆            ┆ \"다큐멘터 ┆ 현철      ┆ ]         │\n",
              "│      ┆ 더         ┆            ┆            ┆   ┆            ┆ 리\"]      ┆           ┆           │\n",
              "│      ┆ 스타디움   ┆            ┆            ┆   ┆            ┆           ┆           ┆           │\n",
              "│ 65   ┆ 브레드이발 ┆ 2024-09-14 ┆ 2288885000 ┆ … ┆ 전체관람가 ┆ [\"애니메  ┆ 정지환    ┆ [\"엄상현\" │\n",
              "│      ┆ 소:        ┆            ┆            ┆   ┆            ┆ 이션\"]    ┆           ┆ ,         │\n",
              "│      ┆ 빵스타의   ┆            ┆            ┆   ┆            ┆           ┆           ┆ \"박윤희\", │\n",
              "│      ┆ 탄생       ┆            ┆            ┆   ┆            ┆           ┆           ┆ …         │\n",
              "│      ┆            ┆            ┆            ┆   ┆            ┆           ┆           ┆ \"정의진\"] │\n",
              "│ 66   ┆ 안녕,      ┆ 2024-09-04 ┆ 2432238239 ┆ … ┆ 전체관람가 ┆ [\"다큐멘  ┆ 심형준,토 ┆ [\"푸바오\" │\n",
              "│      ┆ 할부지     ┆            ┆            ┆   ┆            ┆ 터리\",    ┆ 마스 고   ┆ , \"아이바 │\n",
              "│      ┆            ┆            ┆            ┆   ┆            ┆ \"애니메이 ┆           ┆ 오\", …    │\n",
              "│      ┆            ┆            ┆            ┆   ┆            ┆ 션\"]      ┆           ┆ \"이세현\"] │\n",
              "│ 73   ┆ 브레드이발 ┆ 2024-03-01 ┆ 1730786580 ┆ … ┆ 전체관람가 ┆ [\"애니메  ┆ 정지환    ┆ [\"엄상현\" │\n",
              "│      ┆ 소: 셀럽   ┆            ┆            ┆   ┆            ┆ 이션\"]    ┆           ┆ ,         │\n",
              "│      ┆ 인 베이커  ┆            ┆            ┆   ┆            ┆           ┆           ┆ \"박윤희\", │\n",
              "│      ┆ 리타운     ┆            ┆            ┆   ┆            ┆           ┆           ┆ …         │\n",
              "│      ┆            ┆            ┆            ┆   ┆            ┆           ┆           ┆ \"김신우\"] │\n",
              "└──────┴────────────┴────────────┴────────────┴───┴────────────┴───────────┴───────────┴───────────┘"
            ],
            "text/html": [
              "<div><style>\n",
              ".dataframe > thead > tr,\n",
              ".dataframe > tbody > tr {\n",
              "  text-align: right;\n",
              "  white-space: pre-wrap;\n",
              "}\n",
              "</style>\n",
              "<small>shape: (6, 18)</small><table border=\"1\" class=\"dataframe\"><thead><tr><th>순위</th><th>영화명</th><th>개봉일</th><th>매출액</th><th>매출액점유율</th><th>누적매출액</th><th>관객수</th><th>누적관객수</th><th>스크린수</th><th>상영횟수</th><th>대표국적</th><th>국적</th><th>제작사</th><th>배급사</th><th>등급</th><th>장르</th><th>감독</th><th>배우</th></tr><tr><td>i64</td><td>str</td><td>date</td><td>i64</td><td>str</td><td>i64</td><td>i64</td><td>i64</td><td>i64</td><td>i64</td><td>str</td><td>str</td><td>str</td><td>str</td><td>str</td><td>list[str]</td><td>str</td><td>list[str]</td></tr></thead><tbody><tr><td>25</td><td>&quot;사랑의 하츄핑&quot;</td><td>2024-08-07</td><td>11107794292</td><td>&quot;0.9%&quot;</td><td>11107794292</td><td>1239178</td><td>1239178</td><td>1159</td><td>57721</td><td>&quot;한국&quot;</td><td>&quot;한국&quot;</td><td>&quot;(주)에스에이엠지엔터테인먼트&quot;</td><td>&quot;(주)쇼박스&quot;</td><td>&quot;전체관람가&quot;</td><td>[&quot;애니메이션&quot;]</td><td>&quot;김수훈&quot;</td><td>[&quot;이지현&quot;, &quot;조경이&quot;, … &quot;엄상현&quot;]</td></tr><tr><td>34</td><td>&quot;청설&quot;</td><td>2024-11-06</td><td>7484993310</td><td>&quot;0.6%&quot;</td><td>7484993310</td><td>802133</td><td>802133</td><td>1060</td><td>62744</td><td>&quot;한국&quot;</td><td>&quot;한국&quot;</td><td>&quot;(주)무비락&quot;</td><td>&quot;플러스엠 엔터테인먼트&quot;</td><td>&quot;전체관람가&quot;</td><td>[&quot;드라마&quot;, &quot;멜로/로맨스&quot;]</td><td>&quot;조선호&quot;</td><td>[&quot;홍경&quot;, &quot;송유라&quot;, … &quot;천랑&quot;]</td></tr><tr><td>59</td><td>&quot;임영웅│아임 히어로 더 스타디움&quot;</td><td>2024-08-28</td><td>10117142500</td><td>&quot;0.8%&quot;</td><td>10117142500</td><td>357858</td><td>357858</td><td>224</td><td>16382</td><td>&quot;한국&quot;</td><td>&quot;한국&quot;</td><td>&quot;(주)씨제이이엔엠&quot;</td><td>&quot;씨지브이 아이스콘,씨제이포디플렉스 주식회사&quot;</td><td>&quot;전체관람가&quot;</td><td>[&quot;공연&quot;, &quot;다큐멘터리&quot;]</td><td>&quot;조우영,정현철&quot;</td><td>[&quot;임영웅&quot;]</td></tr><tr><td>65</td><td>&quot;브레드이발소: 빵스타의 탄생&quot;</td><td>2024-09-14</td><td>2288885000</td><td>&quot;0.2%&quot;</td><td>2288885000</td><td>266128</td><td>266128</td><td>427</td><td>12701</td><td>&quot;한국&quot;</td><td>&quot;한국&quot;</td><td>&quot;㈜브레드이발소&quot;</td><td>&quot;씨제이 씨지브이(CJ CGV)(주)&quot;</td><td>&quot;전체관람가&quot;</td><td>[&quot;애니메이션&quot;]</td><td>&quot;정지환&quot;</td><td>[&quot;엄상현&quot;, &quot;박윤희&quot;, … &quot;정의진&quot;]</td></tr><tr><td>66</td><td>&quot;안녕, 할부지&quot;</td><td>2024-09-04</td><td>2432238239</td><td>&quot;0.2%&quot;</td><td>2432238239</td><td>264244</td><td>264244</td><td>1021</td><td>28701</td><td>&quot;한국&quot;</td><td>&quot;한국&quot;</td><td>&quot;(주)에이컴즈&quot;</td><td>&quot;(주)바른손이앤에이&quot;</td><td>&quot;전체관람가&quot;</td><td>[&quot;다큐멘터리&quot;, &quot;애니메이션&quot;]</td><td>&quot;심형준,토마스 고&quot;</td><td>[&quot;푸바오&quot;, &quot;아이바오&quot;, … &quot;이세현&quot;]</td></tr><tr><td>73</td><td>&quot;브레드이발소: 셀럽 인 베이커리타운&quot;</td><td>2024-03-01</td><td>1730786580</td><td>&quot;0.1%&quot;</td><td>1730786580</td><td>202361</td><td>202361</td><td>342</td><td>8282</td><td>&quot;한국&quot;</td><td>&quot;한국&quot;</td><td>&quot;㈜브레드이발소&quot;</td><td>&quot;롯데컬처웍스(주)롯데엔터테인먼트&quot;</td><td>&quot;전체관람가&quot;</td><td>[&quot;애니메이션&quot;]</td><td>&quot;정지환&quot;</td><td>[&quot;엄상현&quot;, &quot;박윤희&quot;, … &quot;김신우&quot;]</td></tr></tbody></table></div>"
            ]
          },
          "metadata": {},
          "execution_count": 27
        }
      ],
      "source": [
        "df_boxoffice.filter(\n",
        "    (pl.col('등급') == '전체관람가') & (pl.col('국적') == '한국') &\n",
        "    (pl.col('관객수') > 100_000)\n",
        ")\n"
      ]
    },
    {
      "cell_type": "code",
      "execution_count": 28,
      "id": "612afa89-bed0-4d3e-8bb0-41d27e258c2c",
      "metadata": {
        "colab": {
          "base_uri": "https://localhost:8080/",
          "height": 365
        },
        "id": "612afa89-bed0-4d3e-8bb0-41d27e258c2c",
        "outputId": "fadb96c0-9593-43b5-af2b-ae08f63e38dd"
      },
      "outputs": [
        {
          "output_type": "execute_result",
          "data": {
            "text/plain": [
              "shape: (3, 18)\n",
              "┌──────┬────────────┬────────────┬────────────┬───┬────────────┬───────────┬───────────┬───────────┐\n",
              "│ 순위 ┆ 영화명     ┆ 개봉일     ┆ 매출액     ┆ … ┆ 등급       ┆ 장르      ┆ 감독      ┆ 배우      │\n",
              "│ ---  ┆ ---        ┆ ---        ┆ ---        ┆   ┆ ---        ┆ ---       ┆ ---       ┆ ---       │\n",
              "│ i64  ┆ str        ┆ date       ┆ i64        ┆   ┆ str        ┆ list[str] ┆ str       ┆ list[str] │\n",
              "╞══════╪════════════╪════════════╪════════════╪═══╪════════════╪═══════════╪═══════════╪═══════════╡\n",
              "│ 5    ┆ 파일럿     ┆ 2024-07-31 ┆ 4320407920 ┆ … ┆ 12세이상관 ┆ [\"코미디\" ┆ 김한결    ┆ [\"조정석\" │\n",
              "│      ┆            ┆            ┆ 1          ┆   ┆ 람가       ┆ ]         ┆           ┆ ,         │\n",
              "│      ┆            ┆            ┆            ┆   ┆            ┆           ┆           ┆ \"이주명\", │\n",
              "│      ┆            ┆            ┆            ┆   ┆            ┆           ┆           ┆ …         │\n",
              "│      ┆            ┆            ┆            ┆   ┆            ┆           ┆           ┆ \"한지혁\"] │\n",
              "│ 13   ┆ 에이리언:  ┆ 2024-08-14 ┆ 2044395543 ┆ … ┆ 15세이상관 ┆ [\"공포(호 ┆ 페데      ┆ [\"케일리  │\n",
              "│      ┆ 로물루스   ┆            ┆ 0          ┆   ┆ 람가       ┆ 러)\",     ┆ 알바레즈  ┆ 스패니\",  │\n",
              "│      ┆            ┆            ┆            ┆   ┆            ┆ \"SF\"]     ┆           ┆ \"데이비드 │\n",
              "│      ┆            ┆            ┆            ┆   ┆            ┆           ┆           ┆ 존슨\",    │\n",
              "│      ┆            ┆            ┆            ┆   ┆            ┆           ┆           ┆ \"이사벨라 │\n",
              "│      ┆            ┆            ┆            ┆   ┆            ┆           ┆           ┆ 머…       │\n",
              "│ 14   ┆ 데드풀과   ┆ 2024-07-24 ┆ 2048987563 ┆ … ┆ 청소년관람 ┆ [\"액션\",  ┆ 숀 레비   ┆ [\"라이언  │\n",
              "│      ┆ 울버린     ┆            ┆ 0          ┆   ┆ 불가       ┆ \"코미디\", ┆           ┆ 레이놀즈\" │\n",
              "│      ┆            ┆            ┆            ┆   ┆            ┆ \"SF\"]     ┆           ┆ , \"휴     │\n",
              "│      ┆            ┆            ┆            ┆   ┆            ┆           ┆           ┆ 잭맨\"]    │\n",
              "└──────┴────────────┴────────────┴────────────┴───┴────────────┴───────────┴───────────┴───────────┘"
            ],
            "text/html": [
              "<div><style>\n",
              ".dataframe > thead > tr,\n",
              ".dataframe > tbody > tr {\n",
              "  text-align: right;\n",
              "  white-space: pre-wrap;\n",
              "}\n",
              "</style>\n",
              "<small>shape: (3, 18)</small><table border=\"1\" class=\"dataframe\"><thead><tr><th>순위</th><th>영화명</th><th>개봉일</th><th>매출액</th><th>매출액점유율</th><th>누적매출액</th><th>관객수</th><th>누적관객수</th><th>스크린수</th><th>상영횟수</th><th>대표국적</th><th>국적</th><th>제작사</th><th>배급사</th><th>등급</th><th>장르</th><th>감독</th><th>배우</th></tr><tr><td>i64</td><td>str</td><td>date</td><td>i64</td><td>str</td><td>i64</td><td>i64</td><td>i64</td><td>i64</td><td>i64</td><td>str</td><td>str</td><td>str</td><td>str</td><td>str</td><td>list[str]</td><td>str</td><td>list[str]</td></tr></thead><tbody><tr><td>5</td><td>&quot;파일럿&quot;</td><td>2024-07-31</td><td>43204079201</td><td>&quot;3.6%&quot;</td><td>43204079201</td><td>4718036</td><td>4718036</td><td>1956</td><td>203283</td><td>&quot;한국&quot;</td><td>&quot;한국&quot;</td><td>&quot;쇼트케이크(주),(주)무비락&quot;</td><td>&quot;롯데컬처웍스(주)롯데엔터테인먼트&quot;</td><td>&quot;12세이상관람가&quot;</td><td>[&quot;코미디&quot;]</td><td>&quot;김한결&quot;</td><td>[&quot;조정석&quot;, &quot;이주명&quot;, … &quot;한지혁&quot;]</td></tr><tr><td>13</td><td>&quot;에이리언: 로물루스&quot;</td><td>2024-08-14</td><td>20443955430</td><td>&quot;1.7%&quot;</td><td>20443955430</td><td>2002033</td><td>2002033</td><td>1436</td><td>107880</td><td>&quot;미국&quot;</td><td>&quot;미국&quot;</td><td>null</td><td>&quot;월트디즈니컴퍼니코리아 유한책임회사&quot;</td><td>&quot;15세이상관람가&quot;</td><td>[&quot;공포(호러)&quot;, &quot;SF&quot;]</td><td>&quot;페데 알바레즈&quot;</td><td>[&quot;케일리 스패니&quot;, &quot;데이비드 존슨&quot;, &quot;이사벨라 머세드&quot;]</td></tr><tr><td>14</td><td>&quot;데드풀과 울버린&quot;</td><td>2024-07-24</td><td>20489875630</td><td>&quot;1.7%&quot;</td><td>20489875630</td><td>1977010</td><td>1977010</td><td>1948</td><td>95673</td><td>&quot;미국&quot;</td><td>&quot;미국&quot;</td><td>null</td><td>&quot;월트디즈니컴퍼니코리아 유한책임회사&quot;</td><td>&quot;청소년관람불가&quot;</td><td>[&quot;액션&quot;, &quot;코미디&quot;, &quot;SF&quot;]</td><td>&quot;숀 레비&quot;</td><td>[&quot;라이언 레이놀즈&quot;, &quot;휴 잭맨&quot;]</td></tr></tbody></table></div>"
            ]
          },
          "metadata": {},
          "execution_count": 28
        }
      ],
      "source": [
        "from datetime import datetime\n",
        "df_boxoffice.filter(\n",
        "    pl.col('개봉일').is_between(datetime(2024, 7, 15), datetime(2024,8,31))\n",
        ").sort('관객수', descending = True).head(3)"
      ]
    },
    {
      "cell_type": "code",
      "execution_count": 29,
      "id": "52ee6823-cbab-484a-9ef3-fba2f16e3dbb",
      "metadata": {
        "colab": {
          "base_uri": "https://localhost:8080/",
          "height": 928
        },
        "id": "52ee6823-cbab-484a-9ef3-fba2f16e3dbb",
        "outputId": "88aed6fb-1023-457e-8b3e-3ebd264b9c0c"
      },
      "outputs": [
        {
          "output_type": "execute_result",
          "data": {
            "text/plain": [
              "shape: (871, 18)\n",
              "┌──────┬────────────┬────────────┬────────────┬───┬────────────┬───────────┬───────────┬───────────┐\n",
              "│ 순위 ┆ 영화명     ┆ 개봉일     ┆ 매출액     ┆ … ┆ 등급       ┆ 장르      ┆ 감독      ┆ 배우      │\n",
              "│ ---  ┆ ---        ┆ ---        ┆ ---        ┆   ┆ ---        ┆ ---       ┆ ---       ┆ ---       │\n",
              "│ i64  ┆ str        ┆ date       ┆ i64        ┆   ┆ str        ┆ list[str] ┆ str       ┆ list[str] │\n",
              "╞══════╪════════════╪════════════╪════════════╪═══╪════════════╪═══════════╪═══════════╪═══════════╡\n",
              "│ 3    ┆ 인사이드   ┆ 2024-06-12 ┆ 8450928403 ┆ … ┆ 전체관람가 ┆ [\"애니메  ┆ 켈시 만   ┆ [\"에이미  │\n",
              "│      ┆ 아웃 2     ┆            ┆ 6          ┆   ┆            ┆ 이션\"]    ┆           ┆ 포엘러\",  │\n",
              "│      ┆            ┆            ┆            ┆   ┆            ┆           ┆           ┆ \"토니     │\n",
              "│      ┆            ┆            ┆            ┆   ┆            ┆           ┆           ┆ 헤일\"]    │\n",
              "│ 5    ┆ 파일럿     ┆ 2024-07-31 ┆ 4320407920 ┆ … ┆ 12세이상관 ┆ [\"코미디\" ┆ 김한결    ┆ [\"조정석\" │\n",
              "│      ┆            ┆            ┆ 1          ┆   ┆ 람가       ┆ ]         ┆           ┆ ,         │\n",
              "│      ┆            ┆            ┆            ┆   ┆            ┆           ┆           ┆ \"이주명\", │\n",
              "│      ┆            ┆            ┆            ┆   ┆            ┆           ┆           ┆ …         │\n",
              "│      ┆            ┆            ┆            ┆   ┆            ┆           ┆           ┆ \"한지혁\"] │\n",
              "│ 6    ┆ 웡카       ┆ 2024-01-31 ┆ 3395882118 ┆ … ┆ 전체관람가 ┆ [\"판타지\" ┆ 폴 킹     ┆ [\"티모시  │\n",
              "│      ┆            ┆            ┆ 9          ┆   ┆            ┆ ,         ┆           ┆ 샬라메\",  │\n",
              "│      ┆            ┆            ┆            ┆   ┆            ┆ \"드라마\"] ┆           ┆ \"칼라     │\n",
              "│      ┆            ┆            ┆            ┆   ┆            ┆           ┆           ┆ 레인\", …  │\n",
              "│      ┆            ┆            ┆            ┆   ┆            ┆           ┆           ┆ \"샐리     │\n",
              "│      ┆            ┆            ┆            ┆   ┆            ┆           ┆           ┆ 호킨스…   │\n",
              "│ 7    ┆ 모아나 2   ┆ 2024-11-27 ┆ 3112032807 ┆ … ┆ 전체관람가 ┆ [\"애니메  ┆ 데이브    ┆ [\"아우이  │\n",
              "│      ┆            ┆            ┆ 0          ┆   ┆            ┆ 이션\"]    ┆ 데릭      ┆ 크라발호\" │\n",
              "│      ┆            ┆            ┆            ┆   ┆            ┆           ┆ 주니어    ┆ , \"드웨인 │\n",
              "│      ┆            ┆            ┆            ┆   ┆            ┆           ┆           ┆ 존슨\"]    │\n",
              "│ 8    ┆ 소방관     ┆ 2024-12-04 ┆ 3116163469 ┆ … ┆ 12세이상관 ┆ [\"드라마\" ┆ 곽경택    ┆ [\"권영민\" │\n",
              "│      ┆            ┆            ┆ 0          ┆   ┆ 람가       ┆ ]         ┆           ┆ , \"주원\", │\n",
              "│      ┆            ┆            ┆            ┆   ┆            ┆           ┆           ┆ …         │\n",
              "│      ┆            ┆            ┆            ┆   ┆            ┆           ┆           ┆ \"장영남\"] │\n",
              "│ …    ┆ …          ┆ …          ┆ …          ┆ … ┆ …          ┆ …         ┆ …         ┆ …         │\n",
              "│ 4124 ┆ 오늘       ┆ 2023-04-05 ┆ 0          ┆ … ┆ 12세이상관 ┆ [\"드라마\" ┆ 김성환    ┆ [\"양흥주\" │\n",
              "│      ┆ 출가합니다 ┆            ┆            ┆   ┆ 람가       ┆ ]         ┆           ┆ ,         │\n",
              "│      ┆            ┆            ┆            ┆   ┆            ┆           ┆           ┆ \"나현준\", │\n",
              "│      ┆            ┆            ┆            ┆   ┆            ┆           ┆           ┆ …         │\n",
              "│      ┆            ┆            ┆            ┆   ┆            ┆           ┆           ┆ \"손성수\"] │\n",
              "│ 4124 ┆ 윤시내가   ┆ 2022-06-08 ┆ 0          ┆ … ┆ 12세이상관 ┆ [\"드라마\" ┆ 김진화    ┆ [\"이주영\" │\n",
              "│      ┆ 사라졌다   ┆            ┆            ┆   ┆ 람가       ┆ ]         ┆           ┆ ,         │\n",
              "│      ┆            ┆            ┆            ┆   ┆            ┆           ┆           ┆ \"오민애\", │\n",
              "│      ┆            ┆            ┆            ┆   ┆            ┆           ┆           ┆ …         │\n",
              "│      ┆            ┆            ┆            ┆   ┆            ┆           ┆           ┆ \"윤시내\"] │\n",
              "│ 4124 ┆ 자객       ┆ 2016-02-04 ┆ 0          ┆ … ┆ 12세이상관 ┆ [\"사극\",  ┆ 허우      ┆ [\"서기\",  │\n",
              "│      ┆ 섭은낭     ┆            ┆            ┆   ┆ 람가       ┆ \"액션\"]   ┆ 샤오시엔  ┆ \"장첸\",   │\n",
              "│      ┆            ┆            ┆            ┆   ┆            ┆           ┆           ┆ \"츠마부키 │\n",
              "│      ┆            ┆            ┆            ┆   ┆            ┆           ┆           ┆ 사토시\"]  │\n",
              "│ 4124 ┆ 컨버세이션 ┆ 2023-02-23 ┆ 0          ┆ … ┆ 12세이상관 ┆ [\"기타\"]  ┆ 김덕중    ┆ [\"조은지\" │\n",
              "│      ┆            ┆            ┆            ┆   ┆ 람가       ┆           ┆           ┆ ,         │\n",
              "│      ┆            ┆            ┆            ┆   ┆            ┆           ┆           ┆ \"박종환\", │\n",
              "│      ┆            ┆            ┆            ┆   ┆            ┆           ┆           ┆ …         │\n",
              "│      ┆            ┆            ┆            ┆   ┆            ┆           ┆           ┆ \"정재윤\"] │\n",
              "│ 4124 ┆ 퍼펙트     ┆ 2011-12-21 ┆ 0          ┆ … ┆ 12세이상관 ┆ [\"드라마\" ┆ 박희곤    ┆ [\"조승우\" │\n",
              "│      ┆ 게임       ┆            ┆            ┆   ┆ 람가       ┆ ]         ┆           ┆ ,         │\n",
              "│      ┆            ┆            ┆            ┆   ┆            ┆           ┆           ┆ \"양동근\", │\n",
              "│      ┆            ┆            ┆            ┆   ┆            ┆           ┆           ┆ …         │\n",
              "│      ┆            ┆            ┆            ┆   ┆            ┆           ┆           ┆ \"곽병민\"] │\n",
              "└──────┴────────────┴────────────┴────────────┴───┴────────────┴───────────┴───────────┴───────────┘"
            ],
            "text/html": [
              "<div><style>\n",
              ".dataframe > thead > tr,\n",
              ".dataframe > tbody > tr {\n",
              "  text-align: right;\n",
              "  white-space: pre-wrap;\n",
              "}\n",
              "</style>\n",
              "<small>shape: (871, 18)</small><table border=\"1\" class=\"dataframe\"><thead><tr><th>순위</th><th>영화명</th><th>개봉일</th><th>매출액</th><th>매출액점유율</th><th>누적매출액</th><th>관객수</th><th>누적관객수</th><th>스크린수</th><th>상영횟수</th><th>대표국적</th><th>국적</th><th>제작사</th><th>배급사</th><th>등급</th><th>장르</th><th>감독</th><th>배우</th></tr><tr><td>i64</td><td>str</td><td>date</td><td>i64</td><td>str</td><td>i64</td><td>i64</td><td>i64</td><td>i64</td><td>i64</td><td>str</td><td>str</td><td>str</td><td>str</td><td>str</td><td>list[str]</td><td>str</td><td>list[str]</td></tr></thead><tbody><tr><td>3</td><td>&quot;인사이드 아웃 2&quot;</td><td>2024-06-12</td><td>84509284036</td><td>&quot;7.1%&quot;</td><td>84509284036</td><td>8799013</td><td>8799013</td><td>2619</td><td>331341</td><td>&quot;미국&quot;</td><td>&quot;미국&quot;</td><td>&quot;월트 디즈니 픽쳐스,픽사 애니메이션 스튜디오&quot;</td><td>&quot;월트디즈니컴퍼니코리아 유한책임회사&quot;</td><td>&quot;전체관람가&quot;</td><td>[&quot;애니메이션&quot;]</td><td>&quot;켈시 만&quot;</td><td>[&quot;에이미 포엘러&quot;, &quot;토니 헤일&quot;]</td></tr><tr><td>5</td><td>&quot;파일럿&quot;</td><td>2024-07-31</td><td>43204079201</td><td>&quot;3.6%&quot;</td><td>43204079201</td><td>4718036</td><td>4718036</td><td>1956</td><td>203283</td><td>&quot;한국&quot;</td><td>&quot;한국&quot;</td><td>&quot;쇼트케이크(주),(주)무비락&quot;</td><td>&quot;롯데컬처웍스(주)롯데엔터테인먼트&quot;</td><td>&quot;12세이상관람가&quot;</td><td>[&quot;코미디&quot;]</td><td>&quot;김한결&quot;</td><td>[&quot;조정석&quot;, &quot;이주명&quot;, … &quot;한지혁&quot;]</td></tr><tr><td>6</td><td>&quot;웡카&quot;</td><td>2024-01-31</td><td>33958821189</td><td>&quot;2.8%&quot;</td><td>33958821189</td><td>3531717</td><td>3531717</td><td>1753</td><td>152290</td><td>&quot;미국&quot;</td><td>&quot;미국&quot;</td><td>null</td><td>&quot;워너브러더스 코리아(주)&quot;</td><td>&quot;전체관람가&quot;</td><td>[&quot;판타지&quot;, &quot;드라마&quot;]</td><td>&quot;폴 킹&quot;</td><td>[&quot;티모시 샬라메&quot;, &quot;칼라 레인&quot;, … &quot;샐리 호킨스&quot;]</td></tr><tr><td>7</td><td>&quot;모아나 2&quot;</td><td>2024-11-27</td><td>31120328070</td><td>&quot;2.6%&quot;</td><td>31120328070</td><td>3373139</td><td>3373139</td><td>1985</td><td>126584</td><td>&quot;미국&quot;</td><td>&quot;미국,캐나다&quot;</td><td>null</td><td>&quot;월트디즈니컴퍼니코리아 유한책임회사&quot;</td><td>&quot;전체관람가&quot;</td><td>[&quot;애니메이션&quot;]</td><td>&quot;데이브 데릭 주니어&quot;</td><td>[&quot;아우이 크라발호&quot;, &quot;드웨인 존슨&quot;]</td></tr><tr><td>8</td><td>&quot;소방관&quot;</td><td>2024-12-04</td><td>31161634690</td><td>&quot;2.6%&quot;</td><td>31161634690</td><td>3317319</td><td>3317319</td><td>1594</td><td>119780</td><td>&quot;한국&quot;</td><td>&quot;한국&quot;</td><td>&quot;주식회사 에스크로드,(주)아센디오&quot;</td><td>&quot;(주)바이포엠스튜디오&quot;</td><td>&quot;12세이상관람가&quot;</td><td>[&quot;드라마&quot;]</td><td>&quot;곽경택&quot;</td><td>[&quot;권영민&quot;, &quot;주원&quot;, … &quot;장영남&quot;]</td></tr><tr><td>&hellip;</td><td>&hellip;</td><td>&hellip;</td><td>&hellip;</td><td>&hellip;</td><td>&hellip;</td><td>&hellip;</td><td>&hellip;</td><td>&hellip;</td><td>&hellip;</td><td>&hellip;</td><td>&hellip;</td><td>&hellip;</td><td>&hellip;</td><td>&hellip;</td><td>&hellip;</td><td>&hellip;</td><td>&hellip;</td></tr><tr><td>4124</td><td>&quot;오늘 출가합니다&quot;</td><td>2023-04-05</td><td>0</td><td>&quot;0.0%&quot;</td><td>8915799</td><td>0</td><td>1019</td><td>1</td><td>1</td><td>&quot;한국&quot;</td><td>&quot;한국&quot;</td><td>&quot;미러볼 스튜디오&quot;</td><td>&quot;(주)트리플픽쳐스&quot;</td><td>&quot;12세이상관람가&quot;</td><td>[&quot;드라마&quot;]</td><td>&quot;김성환&quot;</td><td>[&quot;양흥주&quot;, &quot;나현준&quot;, … &quot;손성수&quot;]</td></tr><tr><td>4124</td><td>&quot;윤시내가 사라졌다&quot;</td><td>2022-06-08</td><td>0</td><td>&quot;0.0%&quot;</td><td>38366200</td><td>0</td><td>4172</td><td>1</td><td>1</td><td>&quot;한국&quot;</td><td>&quot;한국&quot;</td><td>&quot;한국영화아카데미&quot;</td><td>&quot;(주)블루라벨픽쳐스,디스트릭 몽&quot;</td><td>&quot;12세이상관람가&quot;</td><td>[&quot;드라마&quot;]</td><td>&quot;김진화&quot;</td><td>[&quot;이주영&quot;, &quot;오민애&quot;, … &quot;윤시내&quot;]</td></tr><tr><td>4124</td><td>&quot;자객 섭은낭&quot;</td><td>2016-02-04</td><td>0</td><td>&quot;0.0%&quot;</td><td>122950200</td><td>0</td><td>15880</td><td>1</td><td>1</td><td>&quot;대만&quot;</td><td>&quot;대만&quot;</td><td>null</td><td>&quot;(주)영화사 진진&quot;</td><td>&quot;12세이상관람가&quot;</td><td>[&quot;사극&quot;, &quot;액션&quot;]</td><td>&quot;허우 샤오시엔&quot;</td><td>[&quot;서기&quot;, &quot;장첸&quot;, &quot;츠마부키 사토시&quot;]</td></tr><tr><td>4124</td><td>&quot;컨버세이션&quot;</td><td>2023-02-23</td><td>0</td><td>&quot;0.0%&quot;</td><td>12842698</td><td>0</td><td>1584</td><td>1</td><td>1</td><td>&quot;한국&quot;</td><td>&quot;한국&quot;</td><td>&quot;풀잎필름&quot;</td><td>&quot;필름다빈&quot;</td><td>&quot;12세이상관람가&quot;</td><td>[&quot;기타&quot;]</td><td>&quot;김덕중&quot;</td><td>[&quot;조은지&quot;, &quot;박종환&quot;, … &quot;정재윤&quot;]</td></tr><tr><td>4124</td><td>&quot;퍼펙트 게임&quot;</td><td>2011-12-21</td><td>0</td><td>&quot;0.0%&quot;</td><td>11220412500</td><td>0</td><td>1507085</td><td>1</td><td>1</td><td>&quot;한국&quot;</td><td>&quot;한국&quot;</td><td>&quot;(주)동아수출공사,밀리언 스토리,(주)다세포클럽&quot;</td><td>&quot;롯데쇼핑㈜롯데엔터테인먼트&quot;</td><td>&quot;12세이상관람가&quot;</td><td>[&quot;드라마&quot;]</td><td>&quot;박희곤&quot;</td><td>[&quot;조승우&quot;, &quot;양동근&quot;, … &quot;곽병민&quot;]</td></tr></tbody></table></div>"
            ]
          },
          "metadata": {},
          "execution_count": 29
        }
      ],
      "source": [
        "df_boxoffice.filter(\n",
        "    pl.col('등급').is_in(['전체관람가', '12세이상관람가'])\n",
        ")"
      ]
    },
    {
      "cell_type": "code",
      "execution_count": 30,
      "id": "96da6eda-0c31-46b2-9b77-ce80b604cf49",
      "metadata": {
        "colab": {
          "base_uri": "https://localhost:8080/",
          "height": 998
        },
        "id": "96da6eda-0c31-46b2-9b77-ce80b604cf49",
        "outputId": "e01f42c7-dd3c-42eb-e209-3cf801f4a495"
      },
      "outputs": [
        {
          "output_type": "execute_result",
          "data": {
            "text/plain": [
              "shape: (54, 18)\n",
              "┌──────┬────────────┬────────────┬────────────┬───┬────────────┬───────────┬───────────┬───────────┐\n",
              "│ 순위 ┆ 영화명     ┆ 개봉일     ┆ 매출액     ┆ … ┆ 등급       ┆ 장르      ┆ 감독      ┆ 배우      │\n",
              "│ ---  ┆ ---        ┆ ---        ┆ ---        ┆   ┆ ---        ┆ ---       ┆ ---       ┆ ---       │\n",
              "│ i64  ┆ str        ┆ date       ┆ i64        ┆   ┆ str        ┆ list[str] ┆ str       ┆ list[str] │\n",
              "╞══════╪════════════╪════════════╪════════════╪═══╪════════════╪═══════════╪═══════════╪═══════════╡\n",
              "│ 5    ┆ 파일럿     ┆ 2024-07-31 ┆ 4320407920 ┆ … ┆ 12세이상관 ┆ [\"코미디\" ┆ 김한결    ┆ [\"조정석\" │\n",
              "│      ┆            ┆            ┆ 1          ┆   ┆ 람가       ┆ ]         ┆           ┆ ,         │\n",
              "│      ┆            ┆            ┆            ┆   ┆            ┆           ┆           ┆ \"이주명\", │\n",
              "│      ┆            ┆            ┆            ┆   ┆            ┆           ┆           ┆ …         │\n",
              "│      ┆            ┆            ┆            ┆   ┆            ┆           ┆           ┆ \"한지혁\"] │\n",
              "│ 21   ┆ 슈퍼배드 4 ┆ 2024-07-24 ┆ 1420209360 ┆ … ┆ 전체관람가 ┆ [\"애니메  ┆ 크리스    ┆ [\"스티브  │\n",
              "│      ┆            ┆            ┆ 7          ┆   ┆            ┆ 이션\",    ┆ 리노드    ┆ 카렐\",    │\n",
              "│      ┆            ┆            ┆            ┆   ┆            ┆ \"액션\", … ┆           ┆ \"크리스틴 │\n",
              "│      ┆            ┆            ┆            ┆   ┆            ┆ \"코미디\"] ┆           ┆ 위그\", …  │\n",
              "│      ┆            ┆            ┆            ┆   ┆            ┆           ┆           ┆ \"피에르   │\n",
              "│      ┆            ┆            ┆            ┆   ┆            ┆           ┆           ┆ 꼬…       │\n",
              "│ 25   ┆ 사랑의     ┆ 2024-08-07 ┆ 1110779429 ┆ … ┆ 전체관람가 ┆ [\"애니메  ┆ 김수훈    ┆ [\"이지현\" │\n",
              "│      ┆ 하츄핑     ┆            ┆ 2          ┆   ┆            ┆ 이션\"]    ┆           ┆ ,         │\n",
              "│      ┆            ┆            ┆            ┆   ┆            ┆           ┆           ┆ \"조경이\", │\n",
              "│      ┆            ┆            ┆            ┆   ┆            ┆           ┆           ┆ …         │\n",
              "│      ┆            ┆            ┆            ┆   ┆            ┆           ┆           ┆ \"엄상현\"] │\n",
              "│ 35   ┆ 명탐정     ┆ 2024-07-17 ┆ 7334914832 ┆ … ┆ 12세이상관 ┆ [\"애니메  ┆ 나가오카  ┆ [\"김선혜\" │\n",
              "│      ┆ 코난:      ┆            ┆            ┆   ┆ 람가       ┆ 이션\"]    ┆ 치카      ┆ ,         │\n",
              "│      ┆ 100만      ┆            ┆            ┆   ┆            ┆           ┆           ┆ \"강수진\", │\n",
              "│      ┆ 달러의     ┆            ┆            ┆   ┆            ┆           ┆           ┆ …         │\n",
              "│      ┆ 펜타그램   ┆            ┆            ┆   ┆            ┆           ┆           ┆ \"최재호\"] │\n",
              "│ 37   ┆ 행복의     ┆ 2024-08-14 ┆ 6564144142 ┆ … ┆ 12세이상관 ┆ [\"드라마\" ┆ 추창민    ┆ [\"조정석\" │\n",
              "│      ┆ 나라       ┆            ┆            ┆   ┆ 람가       ┆ ]         ┆           ┆ ,         │\n",
              "│      ┆            ┆            ┆            ┆   ┆            ┆           ┆           ┆ \"이선균\", │\n",
              "│      ┆            ┆            ┆            ┆   ┆            ┆           ┆           ┆ …         │\n",
              "│      ┆            ┆            ┆            ┆   ┆            ┆           ┆           ┆ \"권성일\"] │\n",
              "│ …    ┆ …          ┆ …          ┆ …          ┆ … ┆ …          ┆ …         ┆ …         ┆ …         │\n",
              "│ 1183 ┆ 핑크퐁     ┆ 2024-07-18 ┆ 2014000    ┆ … ┆ 전체관람가 ┆ [\"애니메  ┆ null      ┆ [\"조경이\" │\n",
              "│      ┆ 원더스타   ┆            ┆            ┆   ┆            ┆ 이션\"]    ┆           ┆ ,         │\n",
              "│      ┆ 특별편:    ┆            ┆            ┆   ┆            ┆           ┆           ┆ \"이소은\", │\n",
              "│      ┆ 호기와     ┆            ┆            ┆   ┆            ┆           ┆           ┆ …         │\n",
              "│      ┆ 도둑자동차 ┆            ┆            ┆   ┆            ┆           ┆           ┆ \"정재헌\"] │\n",
              "│ 1359 ┆ 영화       ┆ 2024-08-16 ┆ 1464600    ┆ … ┆ 12세이상관 ┆ [\"판타지\" ┆ 니나가와  ┆ [\"카미키  │\n",
              "│      ┆ xxx홀릭    ┆            ┆            ┆   ┆ 람가       ┆ ,         ┆ 미카      ┆ 류노스케\" │\n",
              "│      ┆            ┆            ┆            ┆   ┆            ┆ \"드라마\", ┆           ┆ ,         │\n",
              "│      ┆            ┆            ┆            ┆   ┆            ┆ \"미스터리 ┆           ┆ \"시바사키 │\n",
              "│      ┆            ┆            ┆            ┆   ┆            ┆ \"]        ┆           ┆ 코우\"]    │\n",
              "│ 1914 ┆ 아스테릭스 ┆ 2024-08-28 ┆ 852500     ┆ … ┆ 전체관람가 ┆ [\"코미디\" ┆ 기욤 까네 ┆ [\"기욤    │\n",
              "│      ┆ : 더 미들  ┆            ┆            ┆   ┆            ┆ , \"어드벤 ┆           ┆ 까네\",    │\n",
              "│      ┆ 킹덤       ┆            ┆            ┆   ┆            ┆ 처\"]      ┆           ┆ \"질       │\n",
              "│      ┆            ┆            ┆            ┆   ┆            ┆           ┆           ┆ 를르슈\",  │\n",
              "│      ┆            ┆            ┆            ┆   ┆            ┆           ┆           ┆ … \"즐라탄 │\n",
              "│      ┆            ┆            ┆            ┆   ┆            ┆           ┆           ┆ 이브라히… │\n",
              "│ 2850 ┆ 토끼는     ┆ 2024-07-17 ┆ 223000     ┆ … ┆ 전체관람가 ┆ [\"공연\"]  ┆ null      ┆ null      │\n",
              "│      ┆ 어디로     ┆            ┆            ┆   ┆            ┆           ┆           ┆           │\n",
              "│      ┆ 갔나요?    ┆            ┆            ┆   ┆            ┆           ┆           ┆           │\n",
              "│ 3162 ┆ 1942       ┆ 2024-07-15 ┆ 60000      ┆ … ┆ 12세이상관 ┆ [\"전쟁\"]  ┆ null      ┆ null      │\n",
              "│      ┆ 배틀오버   ┆            ┆            ┆   ┆ 람가       ┆           ┆           ┆           │\n",
              "└──────┴────────────┴────────────┴────────────┴───┴────────────┴───────────┴───────────┴───────────┘"
            ],
            "text/html": [
              "<div><style>\n",
              ".dataframe > thead > tr,\n",
              ".dataframe > tbody > tr {\n",
              "  text-align: right;\n",
              "  white-space: pre-wrap;\n",
              "}\n",
              "</style>\n",
              "<small>shape: (54, 18)</small><table border=\"1\" class=\"dataframe\"><thead><tr><th>순위</th><th>영화명</th><th>개봉일</th><th>매출액</th><th>매출액점유율</th><th>누적매출액</th><th>관객수</th><th>누적관객수</th><th>스크린수</th><th>상영횟수</th><th>대표국적</th><th>국적</th><th>제작사</th><th>배급사</th><th>등급</th><th>장르</th><th>감독</th><th>배우</th></tr><tr><td>i64</td><td>str</td><td>date</td><td>i64</td><td>str</td><td>i64</td><td>i64</td><td>i64</td><td>i64</td><td>i64</td><td>str</td><td>str</td><td>str</td><td>str</td><td>str</td><td>list[str]</td><td>str</td><td>list[str]</td></tr></thead><tbody><tr><td>5</td><td>&quot;파일럿&quot;</td><td>2024-07-31</td><td>43204079201</td><td>&quot;3.6%&quot;</td><td>43204079201</td><td>4718036</td><td>4718036</td><td>1956</td><td>203283</td><td>&quot;한국&quot;</td><td>&quot;한국&quot;</td><td>&quot;쇼트케이크(주),(주)무비락&quot;</td><td>&quot;롯데컬처웍스(주)롯데엔터테인먼트&quot;</td><td>&quot;12세이상관람가&quot;</td><td>[&quot;코미디&quot;]</td><td>&quot;김한결&quot;</td><td>[&quot;조정석&quot;, &quot;이주명&quot;, … &quot;한지혁&quot;]</td></tr><tr><td>21</td><td>&quot;슈퍼배드 4&quot;</td><td>2024-07-24</td><td>14202093607</td><td>&quot;1.2%&quot;</td><td>14202093607</td><td>1562001</td><td>1562001</td><td>1178</td><td>73283</td><td>&quot;미국&quot;</td><td>&quot;미국&quot;</td><td>null</td><td>&quot;유니버설픽쳐스인터내셔널 코리아(유)&quot;</td><td>&quot;전체관람가&quot;</td><td>[&quot;애니메이션&quot;, &quot;액션&quot;, … &quot;코미디&quot;]</td><td>&quot;크리스 리노드&quot;</td><td>[&quot;스티브 카렐&quot;, &quot;크리스틴 위그&quot;, … &quot;피에르 꼬팽&quot;]</td></tr><tr><td>25</td><td>&quot;사랑의 하츄핑&quot;</td><td>2024-08-07</td><td>11107794292</td><td>&quot;0.9%&quot;</td><td>11107794292</td><td>1239178</td><td>1239178</td><td>1159</td><td>57721</td><td>&quot;한국&quot;</td><td>&quot;한국&quot;</td><td>&quot;(주)에스에이엠지엔터테인먼트&quot;</td><td>&quot;(주)쇼박스&quot;</td><td>&quot;전체관람가&quot;</td><td>[&quot;애니메이션&quot;]</td><td>&quot;김수훈&quot;</td><td>[&quot;이지현&quot;, &quot;조경이&quot;, … &quot;엄상현&quot;]</td></tr><tr><td>35</td><td>&quot;명탐정 코난: 100만 달러의 펜타그램&quot;</td><td>2024-07-17</td><td>7334914832</td><td>&quot;0.6%&quot;</td><td>7334914832</td><td>753606</td><td>753606</td><td>1089</td><td>43184</td><td>&quot;일본&quot;</td><td>&quot;일본&quot;</td><td>&quot;TMS 엔터테인먼트&quot;</td><td>&quot;(주)씨제이이엔엠&quot;</td><td>&quot;12세이상관람가&quot;</td><td>[&quot;애니메이션&quot;]</td><td>&quot;나가오카 치카&quot;</td><td>[&quot;김선혜&quot;, &quot;강수진&quot;, … &quot;최재호&quot;]</td></tr><tr><td>37</td><td>&quot;행복의 나라&quot;</td><td>2024-08-14</td><td>6564144142</td><td>&quot;0.5%&quot;</td><td>6564144142</td><td>710620</td><td>710620</td><td>1096</td><td>47841</td><td>&quot;한국&quot;</td><td>&quot;한국&quot;</td><td>&quot;(주)파파스필름,오스카10스튜디오&quot;</td><td>&quot;(주)넥스트엔터테인먼트월드(NEW)&quot;</td><td>&quot;12세이상관람가&quot;</td><td>[&quot;드라마&quot;]</td><td>&quot;추창민&quot;</td><td>[&quot;조정석&quot;, &quot;이선균&quot;, … &quot;권성일&quot;]</td></tr><tr><td>&hellip;</td><td>&hellip;</td><td>&hellip;</td><td>&hellip;</td><td>&hellip;</td><td>&hellip;</td><td>&hellip;</td><td>&hellip;</td><td>&hellip;</td><td>&hellip;</td><td>&hellip;</td><td>&hellip;</td><td>&hellip;</td><td>&hellip;</td><td>&hellip;</td><td>&hellip;</td><td>&hellip;</td><td>&hellip;</td></tr><tr><td>1183</td><td>&quot;핑크퐁 원더스타 특별편: 호기와 도둑자동차&quot;</td><td>2024-07-18</td><td>2014000</td><td>&quot;0.0%&quot;</td><td>2014000</td><td>297</td><td>297</td><td>2</td><td>15</td><td>&quot;한국&quot;</td><td>&quot;한국&quot;</td><td>&quot;더핑크퐁컴퍼니(주)&quot;</td><td>&quot;더핑크퐁컴퍼니(주)&quot;</td><td>&quot;전체관람가&quot;</td><td>[&quot;애니메이션&quot;]</td><td>null</td><td>[&quot;조경이&quot;, &quot;이소은&quot;, … &quot;정재헌&quot;]</td></tr><tr><td>1359</td><td>&quot;영화 xxx홀릭&quot;</td><td>2024-08-16</td><td>1464600</td><td>&quot;0.0%&quot;</td><td>1464600</td><td>209</td><td>209</td><td>5</td><td>64</td><td>&quot;일본&quot;</td><td>&quot;일본&quot;</td><td>null</td><td>&quot;(주)미디어캐슬&quot;</td><td>&quot;12세이상관람가&quot;</td><td>[&quot;판타지&quot;, &quot;드라마&quot;, &quot;미스터리&quot;]</td><td>&quot;니나가와 미카&quot;</td><td>[&quot;카미키 류노스케&quot;, &quot;시바사키 코우&quot;]</td></tr><tr><td>1914</td><td>&quot;아스테릭스: 더 미들 킹덤&quot;</td><td>2024-08-28</td><td>852500</td><td>&quot;0.0%&quot;</td><td>852500</td><td>97</td><td>97</td><td>24</td><td>55</td><td>&quot;프랑스&quot;</td><td>&quot;프랑스&quot;</td><td>null</td><td>&quot;(주)스튜디오디에이치엘&quot;</td><td>&quot;전체관람가&quot;</td><td>[&quot;코미디&quot;, &quot;어드벤처&quot;]</td><td>&quot;기욤 까네&quot;</td><td>[&quot;기욤 까네&quot;, &quot;질 를르슈&quot;, … &quot;즐라탄 이브라히모비치&quot;]</td></tr><tr><td>2850</td><td>&quot;토끼는 어디로 갔나요?&quot;</td><td>2024-07-17</td><td>223000</td><td>&quot;0.0%&quot;</td><td>223000</td><td>21</td><td>21</td><td>3</td><td>15</td><td>&quot;한국&quot;</td><td>&quot;한국&quot;</td><td>&quot;한국문화예술위원회&quot;</td><td>&quot;주식회사 푸른잎커뮤니케이션&quot;</td><td>&quot;전체관람가&quot;</td><td>[&quot;공연&quot;]</td><td>null</td><td>null</td></tr><tr><td>3162</td><td>&quot;1942 배틀오버&quot;</td><td>2024-07-15</td><td>60000</td><td>&quot;0.0%&quot;</td><td>60000</td><td>10</td><td>10</td><td>1</td><td>1</td><td>&quot;영국&quot;</td><td>&quot;영국&quot;</td><td>null</td><td>&quot;(주)제이에이와이이엔터테인먼트&quot;</td><td>&quot;12세이상관람가&quot;</td><td>[&quot;전쟁&quot;]</td><td>null</td><td>null</td></tr></tbody></table></div>"
            ]
          },
          "metadata": {},
          "execution_count": 30
        }
      ],
      "source": [
        "(df_boxoffice.filter(\n",
        "    pl.col('개봉일').is_between(datetime(2024, 7, 15), datetime(2024,8,31))).\n",
        " filter(\n",
        "    pl.col('등급').is_in(['전체관람가', '12세이상관람가'])\n",
        "    )\n",
        ")"
      ]
    },
    {
      "cell_type": "code",
      "execution_count": 31,
      "id": "73ec660d-5c84-44d1-acea-fac945a996a5",
      "metadata": {
        "colab": {
          "base_uri": "https://localhost:8080/",
          "height": 443
        },
        "id": "73ec660d-5c84-44d1-acea-fac945a996a5",
        "outputId": "59a346d7-0620-4c65-c4fc-73d7f2098671"
      },
      "outputs": [
        {
          "output_type": "execute_result",
          "data": {
            "text/plain": [
              "shape: (54, 8)\n",
              "┌──────┬──────────────┬────────────┬─────────┬──────────────┬──────────────┬─────────┬─────────────┐\n",
              "│ 순위 ┆ 영화명       ┆ 개봉일     ┆ 관객수  ┆ 등급         ┆ 장르         ┆ 객단가  ┆ 상영횟수당  │\n",
              "│ ---  ┆ ---          ┆ ---        ┆ ---     ┆ ---          ┆ ---          ┆ ---     ┆ 관객수      │\n",
              "│ i64  ┆ str          ┆ date       ┆ i64     ┆ str          ┆ list[str]    ┆ f64     ┆ ---         │\n",
              "│      ┆              ┆            ┆         ┆              ┆              ┆         ┆ f64         │\n",
              "╞══════╪══════════════╪════════════╪═════════╪══════════════╪══════════════╪═════════╪═════════════╡\n",
              "│ 5    ┆ 파일럿       ┆ 2024-07-31 ┆ 4718036 ┆ 12세이상관람 ┆ [\"코미디\"]   ┆ 9157.2  ┆ 23.2        │\n",
              "│      ┆              ┆            ┆         ┆ 가           ┆              ┆         ┆             │\n",
              "│ 21   ┆ 슈퍼배드 4   ┆ 2024-07-24 ┆ 1562001 ┆ 전체관람가   ┆ [\"애니메이션 ┆ 9092.2  ┆ 21.3        │\n",
              "│      ┆              ┆            ┆         ┆              ┆ \", \"액션\", … ┆         ┆             │\n",
              "│      ┆              ┆            ┆         ┆              ┆ \"코미디\"]    ┆         ┆             │\n",
              "│ 25   ┆ 사랑의       ┆ 2024-08-07 ┆ 1239178 ┆ 전체관람가   ┆ [\"애니메이션 ┆ 8963.8  ┆ 21.5        │\n",
              "│      ┆ 하츄핑       ┆            ┆         ┆              ┆ \"]           ┆         ┆             │\n",
              "│ 35   ┆ 명탐정 코난: ┆ 2024-07-17 ┆ 753606  ┆ 12세이상관람 ┆ [\"애니메이션 ┆ 9733.1  ┆ 17.5        │\n",
              "│      ┆ 100만 달러의 ┆            ┆         ┆ 가           ┆ \"]           ┆         ┆             │\n",
              "│      ┆ 펜타그램     ┆            ┆         ┆              ┆              ┆         ┆             │\n",
              "│ 37   ┆ 행복의 나라  ┆ 2024-08-14 ┆ 710620  ┆ 12세이상관람 ┆ [\"드라마\"]   ┆ 9237.2  ┆ 14.9        │\n",
              "│      ┆              ┆            ┆         ┆ 가           ┆              ┆         ┆             │\n",
              "│ …    ┆ …            ┆ …          ┆ …       ┆ …            ┆ …            ┆ …       ┆ …           │\n",
              "│ 1183 ┆ 핑크퐁       ┆ 2024-07-18 ┆ 297     ┆ 전체관람가   ┆ [\"애니메이션 ┆ 6781.1  ┆ 19.8        │\n",
              "│      ┆ 원더스타     ┆            ┆         ┆              ┆ \"]           ┆         ┆             │\n",
              "│      ┆ 특별편:      ┆            ┆         ┆              ┆              ┆         ┆             │\n",
              "│      ┆ 호기와       ┆            ┆         ┆              ┆              ┆         ┆             │\n",
              "│      ┆ 도둑자동차   ┆            ┆         ┆              ┆              ┆         ┆             │\n",
              "│ 1359 ┆ 영화 xxx홀릭 ┆ 2024-08-16 ┆ 209     ┆ 12세이상관람 ┆ [\"판타지\",   ┆ 7007.7  ┆ 3.3         │\n",
              "│      ┆              ┆            ┆         ┆ 가           ┆ \"드라마\",    ┆         ┆             │\n",
              "│      ┆              ┆            ┆         ┆              ┆ \"미스터리\"]  ┆         ┆             │\n",
              "│ 1914 ┆ 아스테릭스:  ┆ 2024-08-28 ┆ 97      ┆ 전체관람가   ┆ [\"코미디\",   ┆ 8788.7  ┆ 1.8         │\n",
              "│      ┆ 더 미들 킹덤 ┆            ┆         ┆              ┆ \"어드벤처\"]  ┆         ┆             │\n",
              "│ 2850 ┆ 토끼는       ┆ 2024-07-17 ┆ 21      ┆ 전체관람가   ┆ [\"공연\"]     ┆ 10619.0 ┆ 1.4         │\n",
              "│      ┆ 어디로       ┆            ┆         ┆              ┆              ┆         ┆             │\n",
              "│      ┆ 갔나요?      ┆            ┆         ┆              ┆              ┆         ┆             │\n",
              "│ 3162 ┆ 1942         ┆ 2024-07-15 ┆ 10      ┆ 12세이상관람 ┆ [\"전쟁\"]     ┆ 6000.0  ┆ 10.0        │\n",
              "│      ┆ 배틀오버     ┆            ┆         ┆ 가           ┆              ┆         ┆             │\n",
              "└──────┴──────────────┴────────────┴─────────┴──────────────┴──────────────┴─────────┴─────────────┘"
            ],
            "text/html": [
              "<div><style>\n",
              ".dataframe > thead > tr,\n",
              ".dataframe > tbody > tr {\n",
              "  text-align: right;\n",
              "  white-space: pre-wrap;\n",
              "}\n",
              "</style>\n",
              "<small>shape: (54, 8)</small><table border=\"1\" class=\"dataframe\"><thead><tr><th>순위</th><th>영화명</th><th>개봉일</th><th>관객수</th><th>등급</th><th>장르</th><th>객단가</th><th>상영횟수당관객수</th></tr><tr><td>i64</td><td>str</td><td>date</td><td>i64</td><td>str</td><td>list[str]</td><td>f64</td><td>f64</td></tr></thead><tbody><tr><td>5</td><td>&quot;파일럿&quot;</td><td>2024-07-31</td><td>4718036</td><td>&quot;12세이상관람가&quot;</td><td>[&quot;코미디&quot;]</td><td>9157.2</td><td>23.2</td></tr><tr><td>21</td><td>&quot;슈퍼배드 4&quot;</td><td>2024-07-24</td><td>1562001</td><td>&quot;전체관람가&quot;</td><td>[&quot;애니메이션&quot;, &quot;액션&quot;, … &quot;코미디&quot;]</td><td>9092.2</td><td>21.3</td></tr><tr><td>25</td><td>&quot;사랑의 하츄핑&quot;</td><td>2024-08-07</td><td>1239178</td><td>&quot;전체관람가&quot;</td><td>[&quot;애니메이션&quot;]</td><td>8963.8</td><td>21.5</td></tr><tr><td>35</td><td>&quot;명탐정 코난: 100만 달러의 펜타그램&quot;</td><td>2024-07-17</td><td>753606</td><td>&quot;12세이상관람가&quot;</td><td>[&quot;애니메이션&quot;]</td><td>9733.1</td><td>17.5</td></tr><tr><td>37</td><td>&quot;행복의 나라&quot;</td><td>2024-08-14</td><td>710620</td><td>&quot;12세이상관람가&quot;</td><td>[&quot;드라마&quot;]</td><td>9237.2</td><td>14.9</td></tr><tr><td>&hellip;</td><td>&hellip;</td><td>&hellip;</td><td>&hellip;</td><td>&hellip;</td><td>&hellip;</td><td>&hellip;</td><td>&hellip;</td></tr><tr><td>1183</td><td>&quot;핑크퐁 원더스타 특별편: 호기와 도둑자동차&quot;</td><td>2024-07-18</td><td>297</td><td>&quot;전체관람가&quot;</td><td>[&quot;애니메이션&quot;]</td><td>6781.1</td><td>19.8</td></tr><tr><td>1359</td><td>&quot;영화 xxx홀릭&quot;</td><td>2024-08-16</td><td>209</td><td>&quot;12세이상관람가&quot;</td><td>[&quot;판타지&quot;, &quot;드라마&quot;, &quot;미스터리&quot;]</td><td>7007.7</td><td>3.3</td></tr><tr><td>1914</td><td>&quot;아스테릭스: 더 미들 킹덤&quot;</td><td>2024-08-28</td><td>97</td><td>&quot;전체관람가&quot;</td><td>[&quot;코미디&quot;, &quot;어드벤처&quot;]</td><td>8788.7</td><td>1.8</td></tr><tr><td>2850</td><td>&quot;토끼는 어디로 갔나요?&quot;</td><td>2024-07-17</td><td>21</td><td>&quot;전체관람가&quot;</td><td>[&quot;공연&quot;]</td><td>10619.0</td><td>1.4</td></tr><tr><td>3162</td><td>&quot;1942 배틀오버&quot;</td><td>2024-07-15</td><td>10</td><td>&quot;12세이상관람가&quot;</td><td>[&quot;전쟁&quot;]</td><td>6000.0</td><td>10.0</td></tr></tbody></table></div>"
            ]
          },
          "metadata": {},
          "execution_count": 31
        }
      ],
      "source": [
        "(df_boxoffice.filter(\n",
        "    pl.col('개봉일').is_between(datetime(2024, 7, 15), datetime(2024,8,31))).\n",
        " filter(\n",
        "     pl.col('등급').is_in(['전체관람가', '12세이상관람가'])).\n",
        " with_columns(\n",
        "     (pl.col('매출액')/pl.col('관객수')).round(1).alias('객단가'),\n",
        "     (pl.col('관객수')/pl.col('상영횟수')).round(1).alias('상영횟수당관객수')\n",
        "     ).\n",
        " select(\n",
        "     pl.col(['순위', '영화명', '개봉일', '관객수', '등급', '장르',\n",
        "             '객단가', '상영횟수당관객수'])\n",
        "     )\n",
        ")"
      ]
    },
    {
      "cell_type": "code",
      "execution_count": 32,
      "id": "8b0d8440-d2ea-4cba-b4cc-6cead5d3c8fd",
      "metadata": {
        "colab": {
          "base_uri": "https://localhost:8080/",
          "height": 911
        },
        "id": "8b0d8440-d2ea-4cba-b4cc-6cead5d3c8fd",
        "outputId": "834ef29a-7116-49df-91f1-a51ef8e4ea53"
      },
      "outputs": [
        {
          "output_type": "execute_result",
          "data": {
            "text/plain": [
              "shape: (3_268, 18)\n",
              "┌──────┬────────────┬────────────┬────────────┬───┬────────────┬───────────┬───────────┬───────────┐\n",
              "│ 순위 ┆ 영화명     ┆ 개봉일     ┆ 매출액     ┆ … ┆ 등급       ┆ 장르      ┆ 감독      ┆ 배우      │\n",
              "│ ---  ┆ ---        ┆ ---        ┆ ---        ┆   ┆ ---        ┆ ---       ┆ ---       ┆ ---       │\n",
              "│ i64  ┆ str        ┆ date       ┆ i64        ┆   ┆ str        ┆ list[str] ┆ str       ┆ list[str] │\n",
              "╞══════╪════════════╪════════════╪════════════╪═══╪════════════╪═══════════╪═══════════╪═══════════╡\n",
              "│ 1    ┆ 파묘       ┆ 2024-02-22 ┆ 1151574904 ┆ … ┆ 15세이상관 ┆ [\"미스터  ┆ 장재현    ┆ [\"최민식\" │\n",
              "│      ┆            ┆            ┆ 14         ┆   ┆ 람가       ┆ 리\", \"공  ┆           ┆ ,         │\n",
              "│      ┆            ┆            ┆            ┆   ┆            ┆ 포(호러)\" ┆           ┆ \"김고은\", │\n",
              "│      ┆            ┆            ┆            ┆   ┆            ┆ ]         ┆           ┆ …         │\n",
              "│      ┆            ┆            ┆            ┆   ┆            ┆           ┆           ┆ \"김하영\"] │\n",
              "│ 2    ┆ 범죄도시4  ┆ 2024-04-24 ┆ 1100500007 ┆ … ┆ 15세이상관 ┆ [\"액션\",  ┆ 허명행    ┆ [\"김무열\" │\n",
              "│      ┆            ┆            ┆ 34         ┆   ┆ 람가       ┆ \"범죄\"]   ┆           ┆ ,         │\n",
              "│      ┆            ┆            ┆            ┆   ┆            ┆           ┆           ┆ \"박지환\", │\n",
              "│      ┆            ┆            ┆            ┆   ┆            ┆           ┆           ┆ …         │\n",
              "│      ┆            ┆            ┆            ┆   ┆            ┆           ┆           ┆ \"조석인\"] │\n",
              "│ 3    ┆ 인사이드   ┆ 2024-06-12 ┆ 8450928403 ┆ … ┆ 전체관람가 ┆ [\"애니메  ┆ 켈시 만   ┆ [\"에이미  │\n",
              "│      ┆ 아웃 2     ┆            ┆ 6          ┆   ┆            ┆ 이션\"]    ┆           ┆ 포엘러\",  │\n",
              "│      ┆            ┆            ┆            ┆   ┆            ┆           ┆           ┆ \"토니     │\n",
              "│      ┆            ┆            ┆            ┆   ┆            ┆           ┆           ┆ 헤일\"]    │\n",
              "│ 4    ┆ 베테랑2    ┆ 2024-09-13 ┆ 7247403581 ┆ … ┆ 15세이상관 ┆ [\"액션\",  ┆ 류승완    ┆ [\"황정민\" │\n",
              "│      ┆            ┆            ┆ 4          ┆   ┆ 람가       ┆ \"범죄\"]   ┆           ┆ ,         │\n",
              "│      ┆            ┆            ┆            ┆   ┆            ┆           ┆           ┆ \"정해인\", │\n",
              "│      ┆            ┆            ┆            ┆   ┆            ┆           ┆           ┆ …         │\n",
              "│      ┆            ┆            ┆            ┆   ┆            ┆           ┆           ┆ \"이상협\"] │\n",
              "│ 5    ┆ 파일럿     ┆ 2024-07-31 ┆ 4320407920 ┆ … ┆ 12세이상관 ┆ [\"코미디\" ┆ 김한결    ┆ [\"조정석\" │\n",
              "│      ┆            ┆            ┆ 1          ┆   ┆ 람가       ┆ ]         ┆           ┆ ,         │\n",
              "│      ┆            ┆            ┆            ┆   ┆            ┆           ┆           ┆ \"이주명\", │\n",
              "│      ┆            ┆            ┆            ┆   ┆            ┆           ┆           ┆ …         │\n",
              "│      ┆            ┆            ┆            ┆   ┆            ┆           ┆           ┆ \"한지혁\"] │\n",
              "│ …    ┆ …          ┆ …          ┆ …          ┆ … ┆ …          ┆ …         ┆ …         ┆ …         │\n",
              "│ 3365 ┆ 평평남녀   ┆ 2022-04-28 ┆ 8000       ┆ … ┆ 12세이상관 ┆ [\"드라마\" ┆ 김수정    ┆ [\"이태경\" │\n",
              "│      ┆            ┆            ┆            ┆   ┆ 람가       ┆ , \"멜로/  ┆           ┆ ,         │\n",
              "│      ┆            ┆            ┆            ┆   ┆            ┆ 로맨스\"]  ┆           ┆ \"이한주\", │\n",
              "│      ┆            ┆            ┆            ┆   ┆            ┆           ┆           ┆ …         │\n",
              "│      ┆            ┆            ┆            ┆   ┆            ┆           ┆           ┆ \"박종환\"] │\n",
              "│ 3365 ┆ 한 남자    ┆ 2023-08-30 ┆ 10000      ┆ … ┆ 12세이상관 ┆ [\"범죄\",  ┆ 이시카와  ┆ [\"츠마부  │\n",
              "│      ┆            ┆            ┆            ┆   ┆ 람가       ┆ \"멜로/로  ┆ 케이      ┆ 키        │\n",
              "│      ┆            ┆            ┆            ┆   ┆            ┆ 맨스\",    ┆           ┆ 사토시\",  │\n",
              "│      ┆            ┆            ┆            ┆   ┆            ┆ \"스릴러\"] ┆           ┆ \"안도     │\n",
              "│      ┆            ┆            ┆            ┆   ┆            ┆           ┆           ┆ 사쿠라\"]  │\n",
              "│ 3365 ┆ 헝거       ┆ 2022-04-21 ┆ 3000       ┆ … ┆ 12세이상관 ┆ [\"SF\",    ┆ 강다연    ┆ [\"김유나\" │\n",
              "│      ┆            ┆            ┆            ┆   ┆ 람가       ┆ \"드라마\"] ┆           ┆ ,         │\n",
              "│      ┆            ┆            ┆            ┆   ┆            ┆           ┆           ┆ \"최윤우\", │\n",
              "│      ┆            ┆            ┆            ┆   ┆            ┆           ┆           ┆ …         │\n",
              "│      ┆            ┆            ┆            ┆   ┆            ┆           ┆           ┆ \"조은강\"] │\n",
              "│ 3365 ┆ 호피와     ┆ null       ┆ 8000       ┆ … ┆ null       ┆ [\"애니메  ┆ 신동헌    ┆ null      │\n",
              "│      ┆ 차돌바위   ┆            ┆            ┆   ┆            ┆ 이션\"]    ┆           ┆           │\n",
              "│ 3365 ┆ 희수       ┆ 2022-12-15 ┆ 5000       ┆ … ┆ 12세이상관 ┆ [\"드라마\" ┆ 감정원    ┆ [\"공민정\" │\n",
              "│      ┆            ┆            ┆            ┆   ┆ 람가       ┆ ]         ┆           ┆ ]         │\n",
              "└──────┴────────────┴────────────┴────────────┴───┴────────────┴───────────┴───────────┴───────────┘"
            ],
            "text/html": [
              "<div><style>\n",
              ".dataframe > thead > tr,\n",
              ".dataframe > tbody > tr {\n",
              "  text-align: right;\n",
              "  white-space: pre-wrap;\n",
              "}\n",
              "</style>\n",
              "<small>shape: (3_268, 18)</small><table border=\"1\" class=\"dataframe\"><thead><tr><th>순위</th><th>영화명</th><th>개봉일</th><th>매출액</th><th>매출액점유율</th><th>누적매출액</th><th>관객수</th><th>누적관객수</th><th>스크린수</th><th>상영횟수</th><th>대표국적</th><th>국적</th><th>제작사</th><th>배급사</th><th>등급</th><th>장르</th><th>감독</th><th>배우</th></tr><tr><td>i64</td><td>str</td><td>date</td><td>i64</td><td>str</td><td>i64</td><td>i64</td><td>i64</td><td>i64</td><td>i64</td><td>str</td><td>str</td><td>str</td><td>str</td><td>str</td><td>list[str]</td><td>str</td><td>list[str]</td></tr></thead><tbody><tr><td>1</td><td>&quot;파묘&quot;</td><td>2024-02-22</td><td>115157490414</td><td>&quot;9.6%&quot;</td><td>115157490414</td><td>11914784</td><td>11914784</td><td>2367</td><td>364955</td><td>&quot;한국&quot;</td><td>&quot;한국&quot;</td><td>&quot;(주)쇼박스&quot;</td><td>&quot;(주)쇼박스&quot;</td><td>&quot;15세이상관람가&quot;</td><td>[&quot;미스터리&quot;, &quot;공포(호러)&quot;]</td><td>&quot;장재현&quot;</td><td>[&quot;최민식&quot;, &quot;김고은&quot;, … &quot;김하영&quot;]</td></tr><tr><td>2</td><td>&quot;범죄도시4&quot;</td><td>2024-04-24</td><td>110050000734</td><td>&quot;9.2%&quot;</td><td>110050000734</td><td>11502779</td><td>11502779</td><td>2980</td><td>375434</td><td>&quot;한국&quot;</td><td>&quot;한국&quot;</td><td>&quot;주식회사 빅펀치픽쳐스,(주)홍필름,(주)비에이엔터테인먼…</td><td>&quot;주식회사 에이비오엔터테인먼트,플러스엠 엔터테인먼트&quot;</td><td>&quot;15세이상관람가&quot;</td><td>[&quot;액션&quot;, &quot;범죄&quot;]</td><td>&quot;허명행&quot;</td><td>[&quot;김무열&quot;, &quot;박지환&quot;, … &quot;조석인&quot;]</td></tr><tr><td>3</td><td>&quot;인사이드 아웃 2&quot;</td><td>2024-06-12</td><td>84509284036</td><td>&quot;7.1%&quot;</td><td>84509284036</td><td>8799013</td><td>8799013</td><td>2619</td><td>331341</td><td>&quot;미국&quot;</td><td>&quot;미국&quot;</td><td>&quot;월트 디즈니 픽쳐스,픽사 애니메이션 스튜디오&quot;</td><td>&quot;월트디즈니컴퍼니코리아 유한책임회사&quot;</td><td>&quot;전체관람가&quot;</td><td>[&quot;애니메이션&quot;]</td><td>&quot;켈시 만&quot;</td><td>[&quot;에이미 포엘러&quot;, &quot;토니 헤일&quot;]</td></tr><tr><td>4</td><td>&quot;베테랑2&quot;</td><td>2024-09-13</td><td>72474035814</td><td>&quot;6.1%&quot;</td><td>72474035814</td><td>7525339</td><td>7525339</td><td>2691</td><td>279673</td><td>&quot;한국&quot;</td><td>&quot;한국&quot;</td><td>&quot;(주)외유내강&quot;</td><td>&quot;(주)씨제이이엔엠&quot;</td><td>&quot;15세이상관람가&quot;</td><td>[&quot;액션&quot;, &quot;범죄&quot;]</td><td>&quot;류승완&quot;</td><td>[&quot;황정민&quot;, &quot;정해인&quot;, … &quot;이상협&quot;]</td></tr><tr><td>5</td><td>&quot;파일럿&quot;</td><td>2024-07-31</td><td>43204079201</td><td>&quot;3.6%&quot;</td><td>43204079201</td><td>4718036</td><td>4718036</td><td>1956</td><td>203283</td><td>&quot;한국&quot;</td><td>&quot;한국&quot;</td><td>&quot;쇼트케이크(주),(주)무비락&quot;</td><td>&quot;롯데컬처웍스(주)롯데엔터테인먼트&quot;</td><td>&quot;12세이상관람가&quot;</td><td>[&quot;코미디&quot;]</td><td>&quot;김한결&quot;</td><td>[&quot;조정석&quot;, &quot;이주명&quot;, … &quot;한지혁&quot;]</td></tr><tr><td>&hellip;</td><td>&hellip;</td><td>&hellip;</td><td>&hellip;</td><td>&hellip;</td><td>&hellip;</td><td>&hellip;</td><td>&hellip;</td><td>&hellip;</td><td>&hellip;</td><td>&hellip;</td><td>&hellip;</td><td>&hellip;</td><td>&hellip;</td><td>&hellip;</td><td>&hellip;</td><td>&hellip;</td><td>&hellip;</td></tr><tr><td>3365</td><td>&quot;평평남녀&quot;</td><td>2022-04-28</td><td>8000</td><td>&quot;0.0%&quot;</td><td>11582200</td><td>1</td><td>1317</td><td>1</td><td>1</td><td>&quot;한국&quot;</td><td>&quot;한국&quot;</td><td>&quot;브릿지 프로덕션,냉이영화&quot;</td><td>&quot;영화배급협동조합 씨네소파&quot;</td><td>&quot;12세이상관람가&quot;</td><td>[&quot;드라마&quot;, &quot;멜로/로맨스&quot;]</td><td>&quot;김수정&quot;</td><td>[&quot;이태경&quot;, &quot;이한주&quot;, … &quot;박종환&quot;]</td></tr><tr><td>3365</td><td>&quot;한 남자&quot;</td><td>2023-08-30</td><td>10000</td><td>&quot;0.0%&quot;</td><td>139270250</td><td>1</td><td>15939</td><td>1</td><td>1</td><td>&quot;일본&quot;</td><td>&quot;일본&quot;</td><td>null</td><td>&quot;트윈플러스파트너스(주)&quot;</td><td>&quot;12세이상관람가&quot;</td><td>[&quot;범죄&quot;, &quot;멜로/로맨스&quot;, &quot;스릴러&quot;]</td><td>&quot;이시카와 케이&quot;</td><td>[&quot;츠마부키 사토시&quot;, &quot;안도 사쿠라&quot;]</td></tr><tr><td>3365</td><td>&quot;헝거&quot;</td><td>2022-04-21</td><td>3000</td><td>&quot;0.0%&quot;</td><td>6007060</td><td>1</td><td>778</td><td>1</td><td>1</td><td>&quot;한국&quot;</td><td>&quot;한국&quot;</td><td>&quot;영화사 케디필름&quot;</td><td>&quot;(주)디오시네마,(주)태양미디어그룹&quot;</td><td>&quot;12세이상관람가&quot;</td><td>[&quot;SF&quot;, &quot;드라마&quot;]</td><td>&quot;강다연&quot;</td><td>[&quot;김유나&quot;, &quot;최윤우&quot;, … &quot;조은강&quot;]</td></tr><tr><td>3365</td><td>&quot;호피와 차돌바위&quot;</td><td>null</td><td>8000</td><td>&quot;0.0%&quot;</td><td>28000</td><td>1</td><td>4</td><td>1</td><td>1</td><td>&quot;한국&quot;</td><td>&quot;한국&quot;</td><td>null</td><td>null</td><td>null</td><td>[&quot;애니메이션&quot;]</td><td>&quot;신동헌&quot;</td><td>null</td></tr><tr><td>3365</td><td>&quot;희수&quot;</td><td>2022-12-15</td><td>5000</td><td>&quot;0.0%&quot;</td><td>4795500</td><td>1</td><td>617</td><td>1</td><td>1</td><td>&quot;한국&quot;</td><td>&quot;한국&quot;</td><td>&quot;영화사 정원&quot;</td><td>&quot;영화사 정원&quot;</td><td>&quot;12세이상관람가&quot;</td><td>[&quot;드라마&quot;]</td><td>&quot;감정원&quot;</td><td>[&quot;공민정&quot;]</td></tr></tbody></table></div>"
            ]
          },
          "metadata": {},
          "execution_count": 32
        }
      ],
      "source": [
        "df_boxoffice = (df_boxoffice.filter(\n",
        "    pl.col('순위').is_not_null()).\n",
        "                filter(~(pl.col('장르').list.contains('성인물(에로)'))).\n",
        "                filter(pl.col('매출액') != 0).\n",
        "                filter(~((pl.col('관객수') <= 1) & (pl.col('누적관객수') <= 1) &\n",
        "                         (pl.col('스크린수') <= 1) & (pl.col('상영횟수') <= 1)))\n",
        "                )\n",
        "\n",
        "df_boxoffice"
      ]
    },
    {
      "cell_type": "code",
      "execution_count": 33,
      "id": "076c4a55-ce48-4c8f-b2e3-0395c98b1f57",
      "metadata": {
        "colab": {
          "base_uri": "https://localhost:8080/",
          "height": 255
        },
        "id": "076c4a55-ce48-4c8f-b2e3-0395c98b1f57",
        "outputId": "1f35981c-415b-4b10-f61d-ec7e064bcdc0"
      },
      "outputs": [
        {
          "output_type": "execute_result",
          "data": {
            "text/plain": [
              "shape: (5, 4)\n",
              "┌──────────┬──────────────┬──────────────┬──────────────┐\n",
              "│ 대표국적 ┆ 국적별영화수 ┆ 국적별매출액 ┆ 국적별관객수 │\n",
              "│ ---      ┆ ---          ┆ ---          ┆ ---          │\n",
              "│ str      ┆ u32          ┆ i64          ┆ i64          │\n",
              "╞══════════╪══════════════╪══════════════╪══════════════╡\n",
              "│ 한국     ┆ 1095         ┆ 690940351260 ┆ 71469836     │\n",
              "│ 미국     ┆ 751          ┆ 417311726729 ┆ 42708692     │\n",
              "│ 일본     ┆ 356          ┆ 64189795050  ┆ 6514217      │\n",
              "│ 영국     ┆ 104          ┆ 4147005075   ┆ 447508       │\n",
              "│ 프랑스   ┆ 202          ┆ 3975783505   ┆ 429495       │\n",
              "└──────────┴──────────────┴──────────────┴──────────────┘"
            ],
            "text/html": [
              "<div><style>\n",
              ".dataframe > thead > tr,\n",
              ".dataframe > tbody > tr {\n",
              "  text-align: right;\n",
              "  white-space: pre-wrap;\n",
              "}\n",
              "</style>\n",
              "<small>shape: (5, 4)</small><table border=\"1\" class=\"dataframe\"><thead><tr><th>대표국적</th><th>국적별영화수</th><th>국적별매출액</th><th>국적별관객수</th></tr><tr><td>str</td><td>u32</td><td>i64</td><td>i64</td></tr></thead><tbody><tr><td>&quot;한국&quot;</td><td>1095</td><td>690940351260</td><td>71469836</td></tr><tr><td>&quot;미국&quot;</td><td>751</td><td>417311726729</td><td>42708692</td></tr><tr><td>&quot;일본&quot;</td><td>356</td><td>64189795050</td><td>6514217</td></tr><tr><td>&quot;영국&quot;</td><td>104</td><td>4147005075</td><td>447508</td></tr><tr><td>&quot;프랑스&quot;</td><td>202</td><td>3975783505</td><td>429495</td></tr></tbody></table></div>"
            ]
          },
          "metadata": {},
          "execution_count": 33
        }
      ],
      "source": [
        "df_boxoffice.select(\n",
        "    pl.col('대표국적'),\n",
        "    pl.col('영화명').count().over(\"대표국적\").alias('국적별영화수'),\n",
        "    pl.col('매출액').sum().over(\"대표국적\").alias('국적별매출액'),\n",
        "    pl.col('관객수').sum().over(\"대표국적\").alias('국적별관객수')\n",
        ").unique().sort('국적별매출액', descending = True).head(5)"
      ]
    },
    {
      "cell_type": "code",
      "execution_count": 34,
      "id": "cfc6a2d2-1f9e-4bac-a9f7-79172b95ab04",
      "metadata": {
        "colab": {
          "base_uri": "https://localhost:8080/"
        },
        "id": "cfc6a2d2-1f9e-4bac-a9f7-79172b95ab04",
        "outputId": "4b099066-5aec-40dc-c625-59ef5e11dfdb"
      },
      "outputs": [
        {
          "output_type": "execute_result",
          "data": {
            "text/plain": [
              "<polars.dataframe.group_by.GroupBy at 0x7a9c24431490>"
            ]
          },
          "metadata": {},
          "execution_count": 34
        }
      ],
      "source": [
        "df_boxoffice.group_by(\n",
        "    '대표국적',\t\t## pl.col()없이 열 이름 직접 사용\n",
        "    pl.col('개봉일').dt.month().alias('개봉월')\n",
        ")"
      ]
    },
    {
      "cell_type": "code",
      "execution_count": 35,
      "id": "80270684-edbb-4fb0-9cd6-08c58e9194fe",
      "metadata": {
        "colab": {
          "base_uri": "https://localhost:8080/",
          "height": 981
        },
        "id": "80270684-edbb-4fb0-9cd6-08c58e9194fe",
        "outputId": "b9218ec7-5904-4c38-e999-95bcbbc87f17"
      },
      "outputs": [
        {
          "output_type": "execute_result",
          "data": {
            "text/plain": [
              "shape: (21, 18)\n",
              "┌────────────┬──────┬────────────┬────────────┬───┬────────────┬───────────┬───────────┬───────────┐\n",
              "│ 장르       ┆ 순위 ┆ 영화명     ┆ 개봉일     ┆ … ┆ 배급사     ┆ 등급      ┆ 감독      ┆ 배우      │\n",
              "│ ---        ┆ ---  ┆ ---        ┆ ---        ┆   ┆ ---        ┆ ---       ┆ ---       ┆ ---       │\n",
              "│ str        ┆ i64  ┆ str        ┆ date       ┆   ┆ str        ┆ str       ┆ str       ┆ list[str] │\n",
              "╞════════════╪══════╪════════════╪════════════╪═══╪════════════╪═══════════╪═══════════╪═══════════╡\n",
              "│ 미스터리   ┆ 1    ┆ 파묘       ┆ 2024-02-22 ┆ … ┆ (주)쇼박스 ┆ 15세이상  ┆ 장재현    ┆ [\"최민식\" │\n",
              "│            ┆      ┆            ┆            ┆   ┆            ┆ 관람가    ┆           ┆ ,         │\n",
              "│            ┆      ┆            ┆            ┆   ┆            ┆           ┆           ┆ \"김고은\", │\n",
              "│            ┆      ┆            ┆            ┆   ┆            ┆           ┆           ┆ …         │\n",
              "│            ┆      ┆            ┆            ┆   ┆            ┆           ┆           ┆ \"김하영\"] │\n",
              "│ 공포(호러) ┆ 1    ┆ 파묘       ┆ 2024-02-22 ┆ … ┆ (주)쇼박스 ┆ 15세이상  ┆ 장재현    ┆ [\"최민식\" │\n",
              "│            ┆      ┆            ┆            ┆   ┆            ┆ 관람가    ┆           ┆ ,         │\n",
              "│            ┆      ┆            ┆            ┆   ┆            ┆           ┆           ┆ \"김고은\", │\n",
              "│            ┆      ┆            ┆            ┆   ┆            ┆           ┆           ┆ …         │\n",
              "│            ┆      ┆            ┆            ┆   ┆            ┆           ┆           ┆ \"김하영\"] │\n",
              "│ 액션       ┆ 2    ┆ 범죄도시4  ┆ 2024-04-24 ┆ … ┆ 주식회사   ┆ 15세이상  ┆ 허명행    ┆ [\"김무열\" │\n",
              "│            ┆      ┆            ┆            ┆   ┆ 에이비오엔 ┆ 관람가    ┆           ┆ ,         │\n",
              "│            ┆      ┆            ┆            ┆   ┆ 터테인먼트 ┆           ┆           ┆ \"박지환\", │\n",
              "│            ┆      ┆            ┆            ┆   ┆ ,플러스엠  ┆           ┆           ┆ …         │\n",
              "│            ┆      ┆            ┆            ┆   ┆ 엔터테인먼 ┆           ┆           ┆ \"조석인\"] │\n",
              "│            ┆      ┆            ┆            ┆   ┆ 트         ┆           ┆           ┆           │\n",
              "│ 범죄       ┆ 2    ┆ 범죄도시4  ┆ 2024-04-24 ┆ … ┆ 주식회사   ┆ 15세이상  ┆ 허명행    ┆ [\"김무열\" │\n",
              "│            ┆      ┆            ┆            ┆   ┆ 에이비오엔 ┆ 관람가    ┆           ┆ ,         │\n",
              "│            ┆      ┆            ┆            ┆   ┆ 터테인먼트 ┆           ┆           ┆ \"박지환\", │\n",
              "│            ┆      ┆            ┆            ┆   ┆ ,플러스엠  ┆           ┆           ┆ …         │\n",
              "│            ┆      ┆            ┆            ┆   ┆ 엔터테인먼 ┆           ┆           ┆ \"조석인\"] │\n",
              "│            ┆      ┆            ┆            ┆   ┆ 트         ┆           ┆           ┆           │\n",
              "│ 애니메이션 ┆ 3    ┆ 인사이드   ┆ 2024-06-12 ┆ … ┆ 월트디즈니 ┆ 전체관람  ┆ 켈시 만   ┆ [\"에이미  │\n",
              "│            ┆      ┆ 아웃 2     ┆            ┆   ┆ 컴퍼니코리 ┆ 가        ┆           ┆ 포엘러\",  │\n",
              "│            ┆      ┆            ┆            ┆   ┆ 아 유한책  ┆           ┆           ┆ \"토니     │\n",
              "│            ┆      ┆            ┆            ┆   ┆ 임회사     ┆           ┆           ┆ 헤일\"]    │\n",
              "│ …          ┆ …    ┆ …          ┆ …          ┆ … ┆ …          ┆ …         ┆ …         ┆ …         │\n",
              "│ 공연       ┆ 59   ┆ 임영웅│아  ┆ 2024-08-28 ┆ … ┆ 씨지브이   ┆ 전체관람  ┆ 조우영,정 ┆ [\"임영웅\" │\n",
              "│            ┆      ┆ 임 히어로  ┆            ┆   ┆ 아이스콘,  ┆ 가        ┆ 현철      ┆ ]         │\n",
              "│            ┆      ┆ 더         ┆            ┆   ┆ 씨제이포디 ┆           ┆           ┆           │\n",
              "│            ┆      ┆ 스타디움   ┆            ┆   ┆ 플렉스     ┆           ┆           ┆           │\n",
              "│            ┆      ┆            ┆            ┆   ┆ 주식회사   ┆           ┆           ┆           │\n",
              "│ 가족       ┆ 71   ┆ 소년시절의 ┆ 2020-07-09 ┆ … ┆ (주)바이포 ┆ 15세이상  ┆ 증국상    ┆ [\"주동우\" │\n",
              "│            ┆      ┆ 너         ┆            ┆   ┆ 엠스튜디오 ┆ 관람가    ┆           ┆ ]         │\n",
              "│            ┆      ┆            ┆            ┆   ┆ ,(주)영화  ┆           ┆           ┆           │\n",
              "│            ┆      ┆            ┆            ┆   ┆ 특별시에스 ┆           ┆           ┆           │\n",
              "│            ┆      ┆            ┆            ┆   ┆ 엠씨,(주)  ┆           ┆           ┆           │\n",
              "│            ┆      ┆            ┆            ┆   ┆ 콘텐…      ┆           ┆           ┆           │\n",
              "│ 전쟁       ┆ 125  ┆ 더         ┆ 2024-09-27 ┆ … ┆ (주)제이앤 ┆ 15세이상  ┆ 가이 리치 ┆ [\"제이크  │\n",
              "│            ┆      ┆ 커버넌트   ┆            ┆   ┆ 씨미디어그 ┆ 관람가    ┆           ┆ 질렌할\",  │\n",
              "│            ┆      ┆            ┆            ┆   ┆ 룹,와이드  ┆           ┆           ┆ \"다       │\n",
              "│            ┆      ┆            ┆            ┆   ┆ 릴리즈(주) ┆           ┆           ┆ 살림\"]    │\n",
              "│ 서부극(웨  ┆ 671  ┆ 아파치요새 ┆ 1971-05-01 ┆ … ┆ null       ┆ null      ┆ 존 포드   ┆ [\"셜리    │\n",
              "│ 스턴)      ┆      ┆            ┆            ┆   ┆            ┆           ┆           ┆ 템플\",    │\n",
              "│            ┆      ┆            ┆            ┆   ┆            ┆           ┆           ┆ \"헨리     │\n",
              "│            ┆      ┆            ┆            ┆   ┆            ┆           ┆           ┆ 폰다\",    │\n",
              "│            ┆      ┆            ┆            ┆   ┆            ┆           ┆           ┆ \"존       │\n",
              "│            ┆      ┆            ┆            ┆   ┆            ┆           ┆           ┆ 웨인\"]    │\n",
              "│ null       ┆ 683  ┆ 지상       ┆ null       ┆ … ┆ null       ┆ null      ┆ null      ┆ null      │\n",
              "│            ┆      ┆ 최대의     ┆            ┆   ┆            ┆           ┆           ┆           │\n",
              "│            ┆      ┆ 작전       ┆            ┆   ┆            ┆           ┆           ┆           │\n",
              "└────────────┴──────┴────────────┴────────────┴───┴────────────┴───────────┴───────────┴───────────┘"
            ],
            "text/html": [
              "<div><style>\n",
              ".dataframe > thead > tr,\n",
              ".dataframe > tbody > tr {\n",
              "  text-align: right;\n",
              "  white-space: pre-wrap;\n",
              "}\n",
              "</style>\n",
              "<small>shape: (21, 18)</small><table border=\"1\" class=\"dataframe\"><thead><tr><th>장르</th><th>순위</th><th>영화명</th><th>개봉일</th><th>매출액</th><th>매출액점유율</th><th>누적매출액</th><th>관객수</th><th>누적관객수</th><th>스크린수</th><th>상영횟수</th><th>대표국적</th><th>국적</th><th>제작사</th><th>배급사</th><th>등급</th><th>감독</th><th>배우</th></tr><tr><td>str</td><td>i64</td><td>str</td><td>date</td><td>i64</td><td>str</td><td>i64</td><td>i64</td><td>i64</td><td>i64</td><td>i64</td><td>str</td><td>str</td><td>str</td><td>str</td><td>str</td><td>str</td><td>list[str]</td></tr></thead><tbody><tr><td>&quot;미스터리&quot;</td><td>1</td><td>&quot;파묘&quot;</td><td>2024-02-22</td><td>115157490414</td><td>&quot;9.6%&quot;</td><td>115157490414</td><td>11914784</td><td>11914784</td><td>2367</td><td>364955</td><td>&quot;한국&quot;</td><td>&quot;한국&quot;</td><td>&quot;(주)쇼박스&quot;</td><td>&quot;(주)쇼박스&quot;</td><td>&quot;15세이상관람가&quot;</td><td>&quot;장재현&quot;</td><td>[&quot;최민식&quot;, &quot;김고은&quot;, … &quot;김하영&quot;]</td></tr><tr><td>&quot;공포(호러)&quot;</td><td>1</td><td>&quot;파묘&quot;</td><td>2024-02-22</td><td>115157490414</td><td>&quot;9.6%&quot;</td><td>115157490414</td><td>11914784</td><td>11914784</td><td>2367</td><td>364955</td><td>&quot;한국&quot;</td><td>&quot;한국&quot;</td><td>&quot;(주)쇼박스&quot;</td><td>&quot;(주)쇼박스&quot;</td><td>&quot;15세이상관람가&quot;</td><td>&quot;장재현&quot;</td><td>[&quot;최민식&quot;, &quot;김고은&quot;, … &quot;김하영&quot;]</td></tr><tr><td>&quot;액션&quot;</td><td>2</td><td>&quot;범죄도시4&quot;</td><td>2024-04-24</td><td>110050000734</td><td>&quot;9.2%&quot;</td><td>110050000734</td><td>11502779</td><td>11502779</td><td>2980</td><td>375434</td><td>&quot;한국&quot;</td><td>&quot;한국&quot;</td><td>&quot;주식회사 빅펀치픽쳐스,(주)홍필름,(주)비에이엔터테인먼…</td><td>&quot;주식회사 에이비오엔터테인먼트,플러스엠 엔터테인먼트&quot;</td><td>&quot;15세이상관람가&quot;</td><td>&quot;허명행&quot;</td><td>[&quot;김무열&quot;, &quot;박지환&quot;, … &quot;조석인&quot;]</td></tr><tr><td>&quot;범죄&quot;</td><td>2</td><td>&quot;범죄도시4&quot;</td><td>2024-04-24</td><td>110050000734</td><td>&quot;9.2%&quot;</td><td>110050000734</td><td>11502779</td><td>11502779</td><td>2980</td><td>375434</td><td>&quot;한국&quot;</td><td>&quot;한국&quot;</td><td>&quot;주식회사 빅펀치픽쳐스,(주)홍필름,(주)비에이엔터테인먼…</td><td>&quot;주식회사 에이비오엔터테인먼트,플러스엠 엔터테인먼트&quot;</td><td>&quot;15세이상관람가&quot;</td><td>&quot;허명행&quot;</td><td>[&quot;김무열&quot;, &quot;박지환&quot;, … &quot;조석인&quot;]</td></tr><tr><td>&quot;애니메이션&quot;</td><td>3</td><td>&quot;인사이드 아웃 2&quot;</td><td>2024-06-12</td><td>84509284036</td><td>&quot;7.1%&quot;</td><td>84509284036</td><td>8799013</td><td>8799013</td><td>2619</td><td>331341</td><td>&quot;미국&quot;</td><td>&quot;미국&quot;</td><td>&quot;월트 디즈니 픽쳐스,픽사 애니메이션 스튜디오&quot;</td><td>&quot;월트디즈니컴퍼니코리아 유한책임회사&quot;</td><td>&quot;전체관람가&quot;</td><td>&quot;켈시 만&quot;</td><td>[&quot;에이미 포엘러&quot;, &quot;토니 헤일&quot;]</td></tr><tr><td>&hellip;</td><td>&hellip;</td><td>&hellip;</td><td>&hellip;</td><td>&hellip;</td><td>&hellip;</td><td>&hellip;</td><td>&hellip;</td><td>&hellip;</td><td>&hellip;</td><td>&hellip;</td><td>&hellip;</td><td>&hellip;</td><td>&hellip;</td><td>&hellip;</td><td>&hellip;</td><td>&hellip;</td><td>&hellip;</td></tr><tr><td>&quot;공연&quot;</td><td>59</td><td>&quot;임영웅│아임 히어로 더 스타디움&quot;</td><td>2024-08-28</td><td>10117142500</td><td>&quot;0.8%&quot;</td><td>10117142500</td><td>357858</td><td>357858</td><td>224</td><td>16382</td><td>&quot;한국&quot;</td><td>&quot;한국&quot;</td><td>&quot;(주)씨제이이엔엠&quot;</td><td>&quot;씨지브이 아이스콘,씨제이포디플렉스 주식회사&quot;</td><td>&quot;전체관람가&quot;</td><td>&quot;조우영,정현철&quot;</td><td>[&quot;임영웅&quot;]</td></tr><tr><td>&quot;가족&quot;</td><td>71</td><td>&quot;소년시절의 너&quot;</td><td>2020-07-09</td><td>2027736150</td><td>&quot;0.2%&quot;</td><td>2704847980</td><td>212185</td><td>292798</td><td>467</td><td>14450</td><td>&quot;중국&quot;</td><td>&quot;중국&quot;</td><td>null</td><td>&quot;(주)바이포엠스튜디오,(주)영화특별시에스엠씨,(주)콘텐…</td><td>&quot;15세이상관람가&quot;</td><td>&quot;증국상&quot;</td><td>[&quot;주동우&quot;]</td></tr><tr><td>&quot;전쟁&quot;</td><td>125</td><td>&quot;더 커버넌트&quot;</td><td>2024-09-27</td><td>457833950</td><td>&quot;0.0%&quot;</td><td>457833950</td><td>50793</td><td>50793</td><td>230</td><td>3883</td><td>&quot;미국&quot;</td><td>&quot;미국&quot;</td><td>null</td><td>&quot;(주)제이앤씨미디어그룹,와이드 릴리즈(주)&quot;</td><td>&quot;15세이상관람가&quot;</td><td>&quot;가이 리치&quot;</td><td>[&quot;제이크 질렌할&quot;, &quot;다 살림&quot;]</td></tr><tr><td>&quot;서부극(웨스턴)&quot;</td><td>671</td><td>&quot;아파치요새&quot;</td><td>1971-05-01</td><td>2527000</td><td>&quot;0.0%&quot;</td><td>15947500</td><td>1184</td><td>7325</td><td>1</td><td>22</td><td>&quot;미국&quot;</td><td>&quot;미국&quot;</td><td>null</td><td>null</td><td>null</td><td>&quot;존 포드&quot;</td><td>[&quot;셜리 템플&quot;, &quot;헨리 폰다&quot;, &quot;존 웨인&quot;]</td></tr><tr><td>null</td><td>683</td><td>&quot;지상 최대의 작전&quot;</td><td>null</td><td>2374000</td><td>&quot;0.0%&quot;</td><td>22561500</td><td>1125</td><td>10995</td><td>1</td><td>13</td><td>null</td><td>null</td><td>null</td><td>null</td><td>null</td><td>null</td><td>null</td></tr></tbody></table></div>"
            ]
          },
          "metadata": {},
          "execution_count": 35
        }
      ],
      "source": [
        "df_boxoffice.explode('장르').group_by('장르', maintain_order = True).first()"
      ]
    },
    {
      "cell_type": "code",
      "execution_count": 36,
      "id": "f4a55fc1-0bc0-4eff-b830-85cf75305ae6",
      "metadata": {
        "colab": {
          "base_uri": "https://localhost:8080/",
          "height": 411
        },
        "id": "f4a55fc1-0bc0-4eff-b830-85cf75305ae6",
        "outputId": "0cbe3777-9d71-48fb-fa53-d6bbd47b8381"
      },
      "outputs": [
        {
          "output_type": "execute_result",
          "data": {
            "text/plain": [
              "shape: (10, 3)\n",
              "┌──────────┬─────────────────────────────────┬────────┐\n",
              "│ 대표국적 ┆ 영화명                          ┆ 영화수 │\n",
              "│ ---      ┆ ---                             ┆ ---    │\n",
              "│ str      ┆ list[str]                       ┆ u32    │\n",
              "╞══════════╪═════════════════════════════════╪════════╡\n",
              "│ 한국     ┆ [\"파묘\", \"범죄도시4\", … \"희수\"] ┆ 1095   │\n",
              "│ 미국     ┆ [\"인사이드 아웃 2\", \"웡카\", …   ┆ 751    │\n",
              "│          ┆ \"스탠바이, 웬…                  ┆        │\n",
              "│ 일본     ┆ [\"명탐정 코난: 100만 달러의     ┆ 356    │\n",
              "│          ┆ 펜타그램\", \"극장판…             ┆        │\n",
              "│ 프랑스   ┆ [\"추락의 해부\", \"정글번치:      ┆ 202    │\n",
              "│          ┆ 월드투어\", … \"컨트…             ┆        │\n",
              "│ 기타     ┆ [\"공포분자\", \"이상한 나라의     ┆ 131    │\n",
              "│          ┆ 달빛요정\", … \"할아…             ┆        │\n",
              "│ 영국     ┆ [\"서브스턴스\", \"10 라이브즈\", … ┆ 104    │\n",
              "│          ┆ \"원 챈스\"]                      ┆        │\n",
              "│ 이탈리아 ┆ [\"키메라\", \"콜 미 바이 유어     ┆ 94     │\n",
              "│          ┆ 네임\", … \"달콤한…               ┆        │\n",
              "│ 독일     ┆ [\"니코: 오로라 원정대의 모험\",  ┆ 68     │\n",
              "│          ┆ \"꼬마참새 리차드:…              ┆        │\n",
              "│ 중국     ┆ [\"소년시절의 너\", \"아이엠       ┆ 46     │\n",
              "│          ┆ 티라노\", … \"빅샤크:…            ┆        │\n",
              "│ 캐나다   ┆ [\"용감한 돌고래 벨루와 바닷속   ┆ 36     │\n",
              "│          ┆ 친구들\", \"사랑의 탐…            ┆        │\n",
              "└──────────┴─────────────────────────────────┴────────┘"
            ],
            "text/html": [
              "<div><style>\n",
              ".dataframe > thead > tr,\n",
              ".dataframe > tbody > tr {\n",
              "  text-align: right;\n",
              "  white-space: pre-wrap;\n",
              "}\n",
              "</style>\n",
              "<small>shape: (10, 3)</small><table border=\"1\" class=\"dataframe\"><thead><tr><th>대표국적</th><th>영화명</th><th>영화수</th></tr><tr><td>str</td><td>list[str]</td><td>u32</td></tr></thead><tbody><tr><td>&quot;한국&quot;</td><td>[&quot;파묘&quot;, &quot;범죄도시4&quot;, … &quot;희수&quot;]</td><td>1095</td></tr><tr><td>&quot;미국&quot;</td><td>[&quot;인사이드 아웃 2&quot;, &quot;웡카&quot;, … &quot;스탠바이, 웬디&quot;]</td><td>751</td></tr><tr><td>&quot;일본&quot;</td><td>[&quot;명탐정 코난: 100만 달러의 펜타그램&quot;, &quot;극장판 하이큐!! 쓰레기장의 결전&quot;, … &quot;한 남자&quot;]</td><td>356</td></tr><tr><td>&quot;프랑스&quot;</td><td>[&quot;추락의 해부&quot;, &quot;정글번치: 월드투어&quot;, … &quot;컨트리 카바레&quot;]</td><td>202</td></tr><tr><td>&quot;기타&quot;</td><td>[&quot;공포분자&quot;, &quot;이상한 나라의 달빛요정&quot;, … &quot;할아버지와 부두 + 어반 제네시스&quot;]</td><td>131</td></tr><tr><td>&quot;영국&quot;</td><td>[&quot;서브스턴스&quot;, &quot;10 라이브즈&quot;, … &quot;원 챈스&quot;]</td><td>104</td></tr><tr><td>&quot;이탈리아&quot;</td><td>[&quot;키메라&quot;, &quot;콜 미 바이 유어 네임&quot;, … &quot;달콤한 인생에 관한 진실&quot;]</td><td>94</td></tr><tr><td>&quot;독일&quot;</td><td>[&quot;니코: 오로라 원정대의 모험&quot;, &quot;꼬마참새 리차드: 신비한 보석 탐험대&quot;, … &quot;뮤직&quot;]</td><td>68</td></tr><tr><td>&quot;중국&quot;</td><td>[&quot;소년시절의 너&quot;, &quot;아이엠 티라노&quot;, … &quot;빅샤크: 매직체인지&quot;]</td><td>46</td></tr><tr><td>&quot;캐나다&quot;</td><td>[&quot;용감한 돌고래 벨루와 바닷속 친구들&quot;, &quot;사랑의 탐구&quot;, … &quot;집으로 가는 기차&quot;]</td><td>36</td></tr></tbody></table></div>"
            ]
          },
          "metadata": {},
          "execution_count": 36
        }
      ],
      "source": [
        "df_boxoffice.group_by('대표국적').agg(\n",
        "    pl.col('영화명'), pl.len().alias('영화수')).sort('영화수', descending = True).head(10)"
      ]
    },
    {
      "cell_type": "code",
      "execution_count": 37,
      "id": "d3f438fd-fd9e-42ee-9ba5-d2da5e131f0c",
      "metadata": {
        "colab": {
          "base_uri": "https://localhost:8080/",
          "height": 129
        },
        "id": "d3f438fd-fd9e-42ee-9ba5-d2da5e131f0c",
        "outputId": "dfe0efcc-89c2-498b-afea-13d564a31f6e"
      },
      "outputs": [
        {
          "output_type": "execute_result",
          "data": {
            "text/plain": [
              "shape: (1, 4)\n",
              "┌──────────┬─────────────────────────────────┬──────┬─────────────────────────────────┐\n",
              "│ 대표국적 ┆ 영화명                          ┆ len  ┆ 관객수                          │\n",
              "│ ---      ┆ ---                             ┆ ---  ┆ ---                             │\n",
              "│ str      ┆ list[str]                       ┆ u32  ┆ list[i64]                       │\n",
              "╞══════════╪═════════════════════════════════╪══════╪═════════════════════════════════╡\n",
              "│ 한국     ┆ [\"파묘\", \"범죄도시4\",           ┆ 1095 ┆ [11914784, 23417563, 30942902,… │\n",
              "│          ┆ \"베테랑2\", \"파일럿\",…           ┆      ┆                                 │\n",
              "└──────────┴─────────────────────────────────┴──────┴─────────────────────────────────┘"
            ],
            "text/html": [
              "<div><style>\n",
              ".dataframe > thead > tr,\n",
              ".dataframe > tbody > tr {\n",
              "  text-align: right;\n",
              "  white-space: pre-wrap;\n",
              "}\n",
              "</style>\n",
              "<small>shape: (1, 4)</small><table border=\"1\" class=\"dataframe\"><thead><tr><th>대표국적</th><th>영화명</th><th>len</th><th>관객수</th></tr><tr><td>str</td><td>list[str]</td><td>u32</td><td>list[i64]</td></tr></thead><tbody><tr><td>&quot;한국&quot;</td><td>[&quot;파묘&quot;, &quot;범죄도시4&quot;, &quot;베테랑2&quot;, &quot;파일럿&quot;, … &quot;희수&quot;]</td><td>1095</td><td>[11914784, 23417563, 30942902, 35660938, … 71469836]</td></tr></tbody></table></div>"
            ]
          },
          "metadata": {},
          "execution_count": 37
        }
      ],
      "source": [
        "pl.Config.set_fmt_table_cell_list_len(5)\n",
        "(df_boxoffice.group_by('대표국적').\n",
        " agg(pl.col('영화명'), pl.len(),\n",
        "     pl.cum_sum('관객수')).filter(pl.col('대표국적') == '한국')\n",
        ")\n"
      ]
    },
    {
      "cell_type": "code",
      "execution_count": 38,
      "id": "d8106378-8f42-4ae4-969a-8f18ef3adb61",
      "metadata": {
        "colab": {
          "base_uri": "https://localhost:8080/",
          "height": 411
        },
        "id": "d8106378-8f42-4ae4-969a-8f18ef3adb61",
        "outputId": "69ab9fdb-2705-4b9b-b38c-c78206374ae8"
      },
      "outputs": [
        {
          "output_type": "execute_result",
          "data": {
            "text/plain": [
              "shape: (10, 2)\n",
              "┌──────────┬────────┐\n",
              "│ 대표국적 ┆ 관객수 │\n",
              "│ ---      ┆ ---    │\n",
              "│ str      ┆ f64    │\n",
              "╞══════════╪════════╡\n",
              "│ 한국     ┆ 7140.5 │\n",
              "│ 미국     ┆ 4266.1 │\n",
              "│ 일본     ┆ 649.3  │\n",
              "│ 영국     ┆ 44.0   │\n",
              "│ 프랑스   ┆ 41.7   │\n",
              "│ 중국     ┆ 38.6   │\n",
              "│ 대만     ┆ 17.0   │\n",
              "│ 독일     ┆ 14.9   │\n",
              "│ 홍콩     ┆ 13.0   │\n",
              "│ 스페인   ┆ 11.5   │\n",
              "└──────────┴────────┘"
            ],
            "text/html": [
              "<div><style>\n",
              ".dataframe > thead > tr,\n",
              ".dataframe > tbody > tr {\n",
              "  text-align: right;\n",
              "  white-space: pre-wrap;\n",
              "}\n",
              "</style>\n",
              "<small>shape: (10, 2)</small><table border=\"1\" class=\"dataframe\"><thead><tr><th>대표국적</th><th>관객수</th></tr><tr><td>str</td><td>f64</td></tr></thead><tbody><tr><td>&quot;한국&quot;</td><td>7140.5</td></tr><tr><td>&quot;미국&quot;</td><td>4266.1</td></tr><tr><td>&quot;일본&quot;</td><td>649.3</td></tr><tr><td>&quot;영국&quot;</td><td>44.0</td></tr><tr><td>&quot;프랑스&quot;</td><td>41.7</td></tr><tr><td>&quot;중국&quot;</td><td>38.6</td></tr><tr><td>&quot;대만&quot;</td><td>17.0</td></tr><tr><td>&quot;독일&quot;</td><td>14.9</td></tr><tr><td>&quot;홍콩&quot;</td><td>13.0</td></tr><tr><td>&quot;스페인&quot;</td><td>11.5</td></tr></tbody></table></div>"
            ]
          },
          "metadata": {},
          "execution_count": 38
        }
      ],
      "source": [
        "df_boxoffice.group_by('대표국적').agg(\n",
        "    (pl.col('관객수')/10000).round(1).sum()\n",
        ").sort('관객수', descending = True).limit(10)"
      ]
    },
    {
      "cell_type": "code",
      "execution_count": 39,
      "id": "36eee0ab-929f-4412-bd48-4809c12310b5",
      "metadata": {
        "colab": {
          "base_uri": "https://localhost:8080/",
          "height": 463
        },
        "id": "36eee0ab-929f-4412-bd48-4809c12310b5",
        "outputId": "8e2d03b2-09a0-4988-d2da-83b1a67ddb57"
      },
      "outputs": [
        {
          "output_type": "execute_result",
          "data": {
            "text/plain": [
              "shape: (10, 4)\n",
              "┌────────────┬────────┬─────────────────────────────────┬─────────┐\n",
              "│ 대표국적   ┆ 영화수 ┆ 영화명                          ┆ 객단가  │\n",
              "│ ---        ┆ ---    ┆ ---                             ┆ ---     │\n",
              "│ str        ┆ u32    ┆ list[str]                       ┆ f64     │\n",
              "╞════════════╪════════╪═════════════════════════════════╪═════════╡\n",
              "│ 네덜란드   ┆ 10     ┆ [\"지젤\", \"스페터스\", \"블랙북\",  ┆ 18642.9 │\n",
              "│            ┆        ┆ \"파울 페르후번…                 ┆         │\n",
              "│ 오스트리아 ┆ 8      ┆ [\"레드불 T1 다큐멘터리 : 함께   ┆ 17246.0 │\n",
              "│            ┆        ┆ 날아오르다\", \"클…               ┆         │\n",
              "│ 베트남     ┆ 4      ┆ [\"마야\", \"비엣과 남\", \"돈       ┆ 12246.1 │\n",
              "│            ┆        ┆ 크라이 버터플라이\",…            ┆         │\n",
              "│ 덴마크     ┆ 33     ┆ [\"멜랑콜리아\", \"갓랜드\",        ┆ 10090.7 │\n",
              "│            ┆        ┆ \"도그빌\", \"백치들\",…            ┆         │\n",
              "│ 콜롬비아   ┆ 1      ┆ [\"이구알라다, 쟁취하는 자\"]     ┆ 10000.0 │\n",
              "│ 세르비아   ┆ 1      ┆ [\"78일\"]                        ┆ 10000.0 │\n",
              "│ 필리핀     ┆ 1      ┆ [\"루키\"]                        ┆ 9955.1  │\n",
              "│ 일본       ┆ 356    ┆ [\"명탐정 코난: 100만 달러의     ┆ 9853.8  │\n",
              "│            ┆        ┆ 펜타그램\", \"극장판…             ┆         │\n",
              "│ 미국       ┆ 751    ┆ [\"인사이드 아웃 2\", \"웡카\",     ┆ 9771.1  │\n",
              "│            ┆        ┆ \"모아나 2\", \"…                  ┆         │\n",
              "│ 한국       ┆ 1095   ┆ [\"파묘\", \"범죄도시4\",           ┆ 9667.6  │\n",
              "│            ┆        ┆ \"베테랑2\", \"파일럿\",…           ┆         │\n",
              "└────────────┴────────┴─────────────────────────────────┴─────────┘"
            ],
            "text/html": [
              "<div><style>\n",
              ".dataframe > thead > tr,\n",
              ".dataframe > tbody > tr {\n",
              "  text-align: right;\n",
              "  white-space: pre-wrap;\n",
              "}\n",
              "</style>\n",
              "<small>shape: (10, 4)</small><table border=\"1\" class=\"dataframe\"><thead><tr><th>대표국적</th><th>영화수</th><th>영화명</th><th>객단가</th></tr><tr><td>str</td><td>u32</td><td>list[str]</td><td>f64</td></tr></thead><tbody><tr><td>&quot;네덜란드&quot;</td><td>10</td><td>[&quot;지젤&quot;, &quot;스페터스&quot;, &quot;블랙북&quot;, &quot;파울 페르후번 초기 단편&quot;, … &quot;탐욕의 식민 전쟁&quot;]</td><td>18642.9</td></tr><tr><td>&quot;오스트리아&quot;</td><td>8</td><td>[&quot;레드불 T1 다큐멘터리 : 함께 날아오르다&quot;, &quot;클럽 제로&quot;, &quot;들장미&quot;, &quot;그라페넥 미드 썸머 갈라&quot;, … &quot;꿈꾸는 개들&quot;]</td><td>17246.0</td></tr><tr><td>&quot;베트남&quot;</td><td>4</td><td>[&quot;마야&quot;, &quot;비엣과 남&quot;, &quot;돈 크라이 버터플라이&quot;, &quot;더 하우스 오브 노 맨&quot;]</td><td>12246.1</td></tr><tr><td>&quot;덴마크&quot;</td><td>33</td><td>[&quot;멜랑콜리아&quot;, &quot;갓랜드&quot;, &quot;도그빌&quot;, &quot;백치들&quot;, … &quot;커피 전성시대&quot;]</td><td>10090.7</td></tr><tr><td>&quot;콜롬비아&quot;</td><td>1</td><td>[&quot;이구알라다, 쟁취하는 자&quot;]</td><td>10000.0</td></tr><tr><td>&quot;세르비아&quot;</td><td>1</td><td>[&quot;78일&quot;]</td><td>10000.0</td></tr><tr><td>&quot;필리핀&quot;</td><td>1</td><td>[&quot;루키&quot;]</td><td>9955.1</td></tr><tr><td>&quot;일본&quot;</td><td>356</td><td>[&quot;명탐정 코난: 100만 달러의 펜타그램&quot;, &quot;극장판 하이큐!! 쓰레기장의 결전&quot;, &quot;극장판 짱구는 못말려: 우리들의 공룡일기&quot;, &quot;귀멸의 칼날: 인연의 기적, 그리고 합동 강화 훈련으로&quot;, … &quot;한 남자&quot;]</td><td>9853.8</td></tr><tr><td>&quot;미국&quot;</td><td>751</td><td>[&quot;인사이드 아웃 2&quot;, &quot;웡카&quot;, &quot;모아나 2&quot;, &quot;위키드&quot;, … &quot;스탠바이, 웬디&quot;]</td><td>9771.1</td></tr><tr><td>&quot;한국&quot;</td><td>1095</td><td>[&quot;파묘&quot;, &quot;범죄도시4&quot;, &quot;베테랑2&quot;, &quot;파일럿&quot;, … &quot;희수&quot;]</td><td>9667.6</td></tr></tbody></table></div>"
            ]
          },
          "metadata": {},
          "execution_count": 39
        }
      ],
      "source": [
        "df_boxoffice.group_by('대표국적').agg(\n",
        "    pl.len().alias('영화수'), pl.col('영화명'),\n",
        "    (pl.col('매출액').sum() / pl.col('관객수').sum()).round(1).alias('객단가')\n",
        ").sort('객단가', descending = True).limit(10)"
      ]
    },
    {
      "cell_type": "code",
      "execution_count": 40,
      "id": "cbe5be0c-a705-4211-871b-d772a0a1d40f",
      "metadata": {
        "colab": {
          "base_uri": "https://localhost:8080/",
          "height": 411
        },
        "id": "cbe5be0c-a705-4211-871b-d772a0a1d40f",
        "outputId": "f5e8677d-5e0f-48cd-ec4a-c586aa770a7a"
      },
      "outputs": [
        {
          "output_type": "execute_result",
          "data": {
            "text/plain": [
              "shape: (10, 4)\n",
              "┌──────────┬──────────┬──────────┬──────────┐\n",
              "│ 대표국적 ┆ 영화비율 ┆ 매출비율 ┆ 관객비율 │\n",
              "│ ---      ┆ ---      ┆ ---      ┆ ---      │\n",
              "│ str      ┆ f64      ┆ f64      ┆ f64      │\n",
              "╞══════════╪══════════╪══════════╪══════════╡\n",
              "│ 한국     ┆ 33.5     ┆ 57.8     ┆ 58.0     │\n",
              "│ 미국     ┆ 23.0     ┆ 34.9     ┆ 34.7     │\n",
              "│ 일본     ┆ 10.9     ┆ 5.4      ┆ 5.3      │\n",
              "│ 프랑스   ┆ 6.2      ┆ 0.3      ┆ 0.3      │\n",
              "│ 기타     ┆ 4.0      ┆ 0.0      ┆ 0.0      │\n",
              "│ 영국     ┆ 3.2      ┆ 0.3      ┆ 0.4      │\n",
              "│ 이탈리아 ┆ 2.9      ┆ 0.1      ┆ 0.1      │\n",
              "│ 독일     ┆ 2.1      ┆ 0.1      ┆ 0.1      │\n",
              "│ 중국     ┆ 1.4      ┆ 0.3      ┆ 0.3      │\n",
              "│ 캐나다   ┆ 1.1      ┆ 0.0      ┆ 0.0      │\n",
              "└──────────┴──────────┴──────────┴──────────┘"
            ],
            "text/html": [
              "<div><style>\n",
              ".dataframe > thead > tr,\n",
              ".dataframe > tbody > tr {\n",
              "  text-align: right;\n",
              "  white-space: pre-wrap;\n",
              "}\n",
              "</style>\n",
              "<small>shape: (10, 4)</small><table border=\"1\" class=\"dataframe\"><thead><tr><th>대표국적</th><th>영화비율</th><th>매출비율</th><th>관객비율</th></tr><tr><td>str</td><td>f64</td><td>f64</td><td>f64</td></tr></thead><tbody><tr><td>&quot;한국&quot;</td><td>33.5</td><td>57.8</td><td>58.0</td></tr><tr><td>&quot;미국&quot;</td><td>23.0</td><td>34.9</td><td>34.7</td></tr><tr><td>&quot;일본&quot;</td><td>10.9</td><td>5.4</td><td>5.3</td></tr><tr><td>&quot;프랑스&quot;</td><td>6.2</td><td>0.3</td><td>0.3</td></tr><tr><td>&quot;기타&quot;</td><td>4.0</td><td>0.0</td><td>0.0</td></tr><tr><td>&quot;영국&quot;</td><td>3.2</td><td>0.3</td><td>0.4</td></tr><tr><td>&quot;이탈리아&quot;</td><td>2.9</td><td>0.1</td><td>0.1</td></tr><tr><td>&quot;독일&quot;</td><td>2.1</td><td>0.1</td><td>0.1</td></tr><tr><td>&quot;중국&quot;</td><td>1.4</td><td>0.3</td><td>0.3</td></tr><tr><td>&quot;캐나다&quot;</td><td>1.1</td><td>0.0</td><td>0.0</td></tr></tbody></table></div>"
            ]
          },
          "metadata": {},
          "execution_count": 40
        }
      ],
      "source": [
        "df_boxoffice.with_columns(\n",
        "    pl.len().alias('전체영화수'),\n",
        "    pl.col('매출액').sum().alias('전체매출액'),\n",
        "    pl.col('관객수').sum().alias('전체관객수')\n",
        ").group_by('대표국적').agg(\n",
        "    (pl.len() / pl.col('전체영화수').first()*100).round(1).alias('영화비율'),\n",
        "    (pl.col('매출액').sum() / pl.col('전체매출액').first()*100).round(1).alias('매출비율'),\n",
        "    (pl.col('관객수').sum() / pl.col('전체관객수').first()*100).round(1).alias('관객비율')\n",
        ").sort('영화비율', descending = True).head(10)"
      ]
    },
    {
      "cell_type": "code",
      "execution_count": 41,
      "id": "96168c1b-9703-425a-a627-33ccd8f0f185",
      "metadata": {
        "colab": {
          "base_uri": "https://localhost:8080/",
          "height": 411
        },
        "id": "96168c1b-9703-425a-a627-33ccd8f0f185",
        "outputId": "4204f65e-bf0f-4730-f217-0559f723286c"
      },
      "outputs": [
        {
          "output_type": "execute_result",
          "data": {
            "text/plain": [
              "shape: (10, 6)\n",
              "┌──────────┬────────────┬──────────────────┬────────────────┬───────────────────┬──────────────────┐\n",
              "│ 대표국적 ┆ 전체영화수 ┆ 전체관람가영화수 ┆ 전체관람가비율 ┆ 12세이상관람가영  ┆ 12세이상관람가비 │\n",
              "│ ---      ┆ ---        ┆ ---              ┆ ---            ┆ 화수              ┆ 율               │\n",
              "│ str      ┆ u32        ┆ u32              ┆ f64            ┆ ---               ┆ ---              │\n",
              "│          ┆            ┆                  ┆                ┆ u32               ┆ f64              │\n",
              "╞══════════╪════════════╪══════════════════╪════════════════╪═══════════════════╪══════════════════╡\n",
              "│ 한국     ┆ 1095       ┆ 154              ┆ 14.1           ┆ 232               ┆ 21.2             │\n",
              "│ 미국     ┆ 751        ┆ 67               ┆ 8.9            ┆ 67                ┆ 8.9              │\n",
              "│ 일본     ┆ 356        ┆ 80               ┆ 22.5           ┆ 95                ┆ 26.7             │\n",
              "│ 프랑스   ┆ 202        ┆ 10               ┆ 5.0            ┆ 25                ┆ 12.4             │\n",
              "│ 기타     ┆ 131        ┆ 2                ┆ 1.5            ┆ 1                 ┆ 0.8              │\n",
              "│ 영국     ┆ 104        ┆ 10               ┆ 9.6            ┆ 12                ┆ 11.5             │\n",
              "│ 이탈리아 ┆ 94         ┆ 9                ┆ 9.6            ┆ 12                ┆ 12.8             │\n",
              "│ 독일     ┆ 68         ┆ 9                ┆ 13.2           ┆ 5                 ┆ 7.4              │\n",
              "│ 중국     ┆ 46         ┆ 7                ┆ 15.2           ┆ 7                 ┆ 15.2             │\n",
              "│ 캐나다   ┆ 36         ┆ 1                ┆ 2.8            ┆ 1                 ┆ 2.8              │\n",
              "└──────────┴────────────┴──────────────────┴────────────────┴───────────────────┴──────────────────┘"
            ],
            "text/html": [
              "<div><style>\n",
              ".dataframe > thead > tr,\n",
              ".dataframe > tbody > tr {\n",
              "  text-align: right;\n",
              "  white-space: pre-wrap;\n",
              "}\n",
              "</style>\n",
              "<small>shape: (10, 6)</small><table border=\"1\" class=\"dataframe\"><thead><tr><th>대표국적</th><th>전체영화수</th><th>전체관람가영화수</th><th>전체관람가비율</th><th>12세이상관람가영화수</th><th>12세이상관람가비율</th></tr><tr><td>str</td><td>u32</td><td>u32</td><td>f64</td><td>u32</td><td>f64</td></tr></thead><tbody><tr><td>&quot;한국&quot;</td><td>1095</td><td>154</td><td>14.1</td><td>232</td><td>21.2</td></tr><tr><td>&quot;미국&quot;</td><td>751</td><td>67</td><td>8.9</td><td>67</td><td>8.9</td></tr><tr><td>&quot;일본&quot;</td><td>356</td><td>80</td><td>22.5</td><td>95</td><td>26.7</td></tr><tr><td>&quot;프랑스&quot;</td><td>202</td><td>10</td><td>5.0</td><td>25</td><td>12.4</td></tr><tr><td>&quot;기타&quot;</td><td>131</td><td>2</td><td>1.5</td><td>1</td><td>0.8</td></tr><tr><td>&quot;영국&quot;</td><td>104</td><td>10</td><td>9.6</td><td>12</td><td>11.5</td></tr><tr><td>&quot;이탈리아&quot;</td><td>94</td><td>9</td><td>9.6</td><td>12</td><td>12.8</td></tr><tr><td>&quot;독일&quot;</td><td>68</td><td>9</td><td>13.2</td><td>5</td><td>7.4</td></tr><tr><td>&quot;중국&quot;</td><td>46</td><td>7</td><td>15.2</td><td>7</td><td>15.2</td></tr><tr><td>&quot;캐나다&quot;</td><td>36</td><td>1</td><td>2.8</td><td>1</td><td>2.8</td></tr></tbody></table></div>"
            ]
          },
          "metadata": {},
          "execution_count": 41
        }
      ],
      "source": [
        "(df_boxoffice.group_by('대표국적').agg(\n",
        "    pl.len().alias('전체영화수'),\n",
        "    (pl.col('등급') == '12세이상관람가').sum().alias('12세이상관람가영화수'),\n",
        "    (pl.col('등급') == '전체관람가').sum().alias('전체관람가영화수'),).\n",
        " select(\n",
        "    pl.col('대표국적'),\n",
        "    pl.col('전체영화수'), pl.col('전체관람가영화수'),\n",
        "    (pl.col('전체관람가영화수')/pl.col('전체영화수')*100).round(1).alias('전체관람가비율'),\n",
        "    pl.col('12세이상관람가영화수'),\n",
        "    (pl.col('12세이상관람가영화수')/pl.col('전체영화수')*100).round(1).alias('12세이상관람가비율')).\n",
        " sort('전체영화수', descending = True).limit(10)\n",
        ")"
      ]
    },
    {
      "cell_type": "code",
      "execution_count": 42,
      "id": "ba1fc86a-e8ee-4fa0-846f-dcc82077f097",
      "metadata": {
        "colab": {
          "base_uri": "https://localhost:8080/",
          "height": 411
        },
        "id": "ba1fc86a-e8ee-4fa0-846f-dcc82077f097",
        "outputId": "7d8d8699-d65e-4d45-d044-4170fd8410d4"
      },
      "outputs": [
        {
          "output_type": "execute_result",
          "data": {
            "text/plain": [
              "shape: (10, 3)\n",
              "┌────────────┬────────────────┬──────────────┐\n",
              "│ 대표국적   ┆ 10만이상영화수 ┆ 매출액       │\n",
              "│ ---        ┆ ---            ┆ ---          │\n",
              "│ str        ┆ u32            ┆ i64          │\n",
              "╞════════════╪════════════════╪══════════════╡\n",
              "│ 한국       ┆ 42             ┆ 660033904298 │\n",
              "│ 미국       ┆ 37             ┆ 397196444820 │\n",
              "│ 일본       ┆ 15             ┆ 47907378609  │\n",
              "│ 중국       ┆ 1              ┆ 2027736150   │\n",
              "│ 영국       ┆ 1              ┆ 1520511600   │\n",
              "│ 대만       ┆ 1              ┆ 1076288964   │\n",
              "│ 프랑스     ┆ 1              ┆ 1022035703   │\n",
              "│ 호주       ┆ 1              ┆ 983043800    │\n",
              "│ 아르헨티나 ┆ 0              ┆ 0            │\n",
              "│ 쿠바       ┆ 0              ┆ 0            │\n",
              "└────────────┴────────────────┴──────────────┘"
            ],
            "text/html": [
              "<div><style>\n",
              ".dataframe > thead > tr,\n",
              ".dataframe > tbody > tr {\n",
              "  text-align: right;\n",
              "  white-space: pre-wrap;\n",
              "}\n",
              "</style>\n",
              "<small>shape: (10, 3)</small><table border=\"1\" class=\"dataframe\"><thead><tr><th>대표국적</th><th>10만이상영화수</th><th>매출액</th></tr><tr><td>str</td><td>u32</td><td>i64</td></tr></thead><tbody><tr><td>&quot;한국&quot;</td><td>42</td><td>660033904298</td></tr><tr><td>&quot;미국&quot;</td><td>37</td><td>397196444820</td></tr><tr><td>&quot;일본&quot;</td><td>15</td><td>47907378609</td></tr><tr><td>&quot;중국&quot;</td><td>1</td><td>2027736150</td></tr><tr><td>&quot;영국&quot;</td><td>1</td><td>1520511600</td></tr><tr><td>&quot;대만&quot;</td><td>1</td><td>1076288964</td></tr><tr><td>&quot;프랑스&quot;</td><td>1</td><td>1022035703</td></tr><tr><td>&quot;호주&quot;</td><td>1</td><td>983043800</td></tr><tr><td>&quot;아르헨티나&quot;</td><td>0</td><td>0</td></tr><tr><td>&quot;쿠바&quot;</td><td>0</td><td>0</td></tr></tbody></table></div>"
            ]
          },
          "metadata": {},
          "execution_count": 42
        }
      ],
      "source": [
        "df_boxoffice.group_by('대표국적').agg(\n",
        "    pl.col('매출액').filter(pl.col('관객수') > 100_000).len().alias('10만이상영화수'),\n",
        "    pl.col('매출액').filter(pl.col('관객수') > 100_000).sum()\n",
        ").sort('매출액', descending = True).limit(10)"
      ]
    },
    {
      "cell_type": "code",
      "execution_count": 43,
      "id": "b1cc00e3-7a9d-4afa-8863-73e0e1264f48",
      "metadata": {
        "colab": {
          "base_uri": "https://localhost:8080/",
          "height": 192
        },
        "id": "b1cc00e3-7a9d-4afa-8863-73e0e1264f48",
        "outputId": "8f4c49a3-7a5b-46fa-95c3-2b0f824ce3eb"
      },
      "outputs": [
        {
          "output_type": "execute_result",
          "data": {
            "text/plain": [
              "shape: (3, 3)\n",
              "┌──────────┬────────┬────────┐\n",
              "│ 대표국적 ┆ 개봉월 ┆ 영화수 │\n",
              "│ ---      ┆ ---    ┆ ---    │\n",
              "│ str      ┆ i8     ┆ u32    │\n",
              "╞══════════╪════════╪════════╡\n",
              "│ 미국     ┆ 12     ┆ 38     │\n",
              "│ 일본     ┆ 10     ┆ 30     │\n",
              "│ 한국     ┆ 11     ┆ 67     │\n",
              "└──────────┴────────┴────────┘"
            ],
            "text/html": [
              "<div><style>\n",
              ".dataframe > thead > tr,\n",
              ".dataframe > tbody > tr {\n",
              "  text-align: right;\n",
              "  white-space: pre-wrap;\n",
              "}\n",
              "</style>\n",
              "<small>shape: (3, 3)</small><table border=\"1\" class=\"dataframe\"><thead><tr><th>대표국적</th><th>개봉월</th><th>영화수</th></tr><tr><td>str</td><td>i8</td><td>u32</td></tr></thead><tbody><tr><td>&quot;미국&quot;</td><td>12</td><td>38</td></tr><tr><td>&quot;일본&quot;</td><td>10</td><td>30</td></tr><tr><td>&quot;한국&quot;</td><td>11</td><td>67</td></tr></tbody></table></div>"
            ]
          },
          "metadata": {},
          "execution_count": 43
        }
      ],
      "source": [
        "(df_boxoffice.filter(pl.col('대표국적').is_in(['한국', '미국', '일본']) &\n",
        "                    (pl.col('개봉일').is_not_null() == True)).\n",
        " group_by(pl.col('개봉일').dt.month().alias('개봉월'), '대표국적').\n",
        " agg(pl.len().alias('영화수')).\n",
        " group_by('대표국적').agg(pl.all().sort_by('영화수').last())\n",
        ")"
      ]
    }
  ],
  "metadata": {
    "kernelspec": {
      "display_name": "venv-polars",
      "language": "python",
      "name": "venv-polars"
    },
    "language_info": {
      "codemirror_mode": {
        "name": "ipython",
        "version": 3
      },
      "file_extension": ".py",
      "mimetype": "text/x-python",
      "name": "python",
      "nbconvert_exporter": "python",
      "pygments_lexer": "ipython3",
      "version": "3.12.7"
    },
    "colab": {
      "provenance": [],
      "include_colab_link": true
    }
  },
  "nbformat": 4,
  "nbformat_minor": 5
}