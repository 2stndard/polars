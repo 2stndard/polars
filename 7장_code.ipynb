{
  "cells": [
    {
      "cell_type": "markdown",
      "metadata": {
        "id": "view-in-github",
        "colab_type": "text"
      },
      "source": [
        "<a href=\"https://colab.research.google.com/github/2stndard/polars/blob/main/7%EC%9E%A5_code.ipynb\" target=\"_parent\"><img src=\"https://colab.research.google.com/assets/colab-badge.svg\" alt=\"Open In Colab\"/></a>"
      ]
    },
    {
      "cell_type": "code",
      "execution_count": 2,
      "id": "44991be8-2599-4149-a24b-393bd837742d",
      "metadata": {
        "id": "44991be8-2599-4149-a24b-393bd837742d"
      },
      "outputs": [],
      "source": [
        "## 사전 실행 코드\n",
        "import polars as pl\n",
        "df_boxoffice = pl.read_csv(\"./movie/KOBIS_기간별박스오피스.csv\", skip_rows = 4, try_parse_dates=True)\n",
        "boxoffice_cols = df_boxoffice.columns\n",
        "boxoffice_cols[4] = '매출액점유율'\n",
        "df_boxoffice.columns = [i.replace(' ', '') for i in boxoffice_cols]\n",
        "df_boxoffice = df_boxoffice.with_columns(\n",
        "    pl.col('매출액', '누적매출액').str.replace_all(',', '').cast(pl.Int64),\n",
        "    pl.col('관객수', '누적관객수', '스크린수', '상영횟수').str.replace_all(',', '').cast(pl.Int64)\n",
        ")\n",
        "df_boxoffice = df_boxoffice.with_columns(\n",
        "    pl.col('장르').str.split(','),\n",
        "    pl.col('배우').str.split(','),\n",
        ")\n",
        "df_boxoffice = (df_boxoffice.filter(\n",
        "    pl.col('순위').is_not_null()).\n",
        "                filter(~(pl.col('장르').list.contains('성인물(에로)'))).\n",
        "                filter(pl.col('매출액') != 0).\n",
        "                filter(~((pl.col('관객수') <= 1) & (pl.col('누적관객수') <= 1) &\n",
        "                         (pl.col('스크린수') <= 1) & (pl.col('상영횟수') <= 1)))\n",
        "                )"
      ]
    },
    {
      "cell_type": "markdown",
      "id": "838f3782-eb04-40d7-ab5b-f210cc70c357",
      "metadata": {
        "id": "838f3782-eb04-40d7-ab5b-f210cc70c357"
      },
      "source": [
        "7.1 데이터프레임 조인"
      ]
    },
    {
      "cell_type": "code",
      "execution_count": 4,
      "id": "eb642e60-70e8-4fc6-9348-1485954579f6",
      "metadata": {
        "colab": {
          "base_uri": "https://localhost:8080/",
          "height": 443
        },
        "id": "eb642e60-70e8-4fc6-9348-1485954579f6",
        "outputId": "ea4b75a7-46a8-4896-857f-8927a40394d5"
      },
      "outputs": [
        {
          "output_type": "execute_result",
          "data": {
            "text/plain": [
              "shape: (1_467, 10)\n",
              "┌──────┬────────────┬────────────┬────────────┬───┬────────────┬───────────┬───────────┬───────────┐\n",
              "│ 순위 ┆ 영화명     ┆ 개봉일     ┆ 좌석판매율 ┆ … ┆ 매출액     ┆ 누적매출  ┆ 관객수    ┆ 누적관객  │\n",
              "│ ---  ┆ ---        ┆ ---        ┆ ---        ┆   ┆ ---        ┆ 액        ┆ ---       ┆ 수        │\n",
              "│ i64  ┆ str        ┆ date       ┆ str        ┆   ┆ str        ┆ ---       ┆ str       ┆ ---       │\n",
              "│      ┆            ┆            ┆            ┆   ┆            ┆ str       ┆           ┆ str       │\n",
              "╞══════╪════════════╪════════════╪════════════╪═══╪════════════╪═══════════╪═══════════╪═══════════╡\n",
              "│ 1    ┆ 파묘       ┆ 2024-02-22 ┆ 22.2%      ┆ … ┆ 115,157,49 ┆ 115,157,4 ┆ 11,914,78 ┆ 11,914,78 │\n",
              "│      ┆            ┆            ┆            ┆   ┆ 0,414      ┆ 90,414    ┆ 4         ┆ 4         │\n",
              "│ 2    ┆ 범죄도시4  ┆ 2024-04-24 ┆ 21.5%      ┆ … ┆ 110,050,00 ┆ 110,050,0 ┆ 11,502,77 ┆ 11,502,77 │\n",
              "│      ┆            ┆            ┆            ┆   ┆ 0,734      ┆ 00,734    ┆ 9         ┆ 9         │\n",
              "│ 3    ┆ 인사이드   ┆ 2024-06-12 ┆ 17.5%      ┆ … ┆ 84,509,284 ┆ 84,509,28 ┆ 8,799,013 ┆ 8,799,013 │\n",
              "│      ┆ 아웃 2     ┆            ┆            ┆   ┆ ,036       ┆ 4,036     ┆           ┆           │\n",
              "│ 4    ┆ 베테랑2    ┆ 2024-09-13 ┆ 18.3%      ┆ … ┆ 72,474,035 ┆ 72,474,03 ┆ 7,525,339 ┆ 7,525,339 │\n",
              "│      ┆            ┆            ┆            ┆   ┆ ,814       ┆ 5,814     ┆           ┆           │\n",
              "│ 5    ┆ 파일럿     ┆ 2024-07-31 ┆ 15.7%      ┆ … ┆ 43,204,079 ┆ 43,204,07 ┆ 4,718,036 ┆ 4,718,036 │\n",
              "│      ┆            ┆            ┆            ┆   ┆ ,201       ┆ 9,201     ┆           ┆           │\n",
              "│ …    ┆ …          ┆ …          ┆ …          ┆ … ┆ …          ┆ …         ┆ …         ┆ …         │\n",
              "│ 1438 ┆ 파이란     ┆ 2001-04-28 ┆ 0.0%       ┆ … ┆ 0          ┆ 13,402,27 ┆ 0         ┆ 1,380     │\n",
              "│      ┆            ┆            ┆            ┆   ┆            ┆ 0         ┆           ┆           │\n",
              "│ 1438 ┆ 퍼펙트     ┆ 2011-12-21 ┆ 0.0%       ┆ … ┆ 0          ┆ 11,220,41 ┆ 0         ┆ 1,507,085 │\n",
              "│      ┆ 게임       ┆            ┆            ┆   ┆            ┆ 2,500     ┆           ┆           │\n",
              "│ 1438 ┆ 해가       ┆ 1998-12-19 ┆ 0.0%       ┆ … ┆ 0          ┆ 0         ┆ 0         ┆ 0         │\n",
              "│      ┆ 서쪽에서   ┆            ┆            ┆   ┆            ┆           ┆           ┆           │\n",
              "│      ┆ 뜬다면     ┆            ┆            ┆   ┆            ┆           ┆           ┆           │\n",
              "│ 1438 ┆ 헌트       ┆ 2022-08-10 ┆ 0.0%       ┆ … ┆ 0          ┆ 44,602,46 ┆ 0         ┆ 4,352,513 │\n",
              "│      ┆            ┆            ┆            ┆   ┆            ┆ 3,153     ┆           ┆           │\n",
              "│ 1438 ┆ 황산벌     ┆ 2003-10-17 ┆ 0.0%       ┆ … ┆ 0          ┆ 41,867,50 ┆ 0         ┆ 5,665     │\n",
              "│      ┆            ┆            ┆            ┆   ┆            ┆ 0         ┆           ┆           │\n",
              "└──────┴────────────┴────────────┴────────────┴───┴────────────┴───────────┴───────────┴───────────┘"
            ],
            "text/html": [
              "<div><style>\n",
              ".dataframe > thead > tr,\n",
              ".dataframe > tbody > tr {\n",
              "  text-align: right;\n",
              "  white-space: pre-wrap;\n",
              "}\n",
              "</style>\n",
              "<small>shape: (1_467, 10)</small><table border=\"1\" class=\"dataframe\"><thead><tr><th>순위</th><th>영화명</th><th>개봉일</th><th>좌석판매율</th><th>좌석점유율</th><th>좌석수</th><th>매출액</th><th>누적매출액</th><th>관객수</th><th>누적관객수</th></tr><tr><td>i64</td><td>str</td><td>date</td><td>str</td><td>str</td><td>str</td><td>str</td><td>str</td><td>str</td><td>str</td></tr></thead><tbody><tr><td>1</td><td>&quot;파묘&quot;</td><td>2024-02-22</td><td>&quot;22.2%&quot;</td><td>&quot;6.1%&quot;</td><td>&quot;53,450,628&quot;</td><td>&quot;115,157,490,414&quot;</td><td>&quot;115,157,490,414&quot;</td><td>&quot;11,914,784&quot;</td><td>&quot;11,914,784&quot;</td></tr><tr><td>2</td><td>&quot;범죄도시4&quot;</td><td>2024-04-24</td><td>&quot;21.5%&quot;</td><td>&quot;6.0%&quot;</td><td>&quot;53,350,464&quot;</td><td>&quot;110,050,000,734&quot;</td><td>&quot;110,050,000,734&quot;</td><td>&quot;11,502,779&quot;</td><td>&quot;11,502,779&quot;</td></tr><tr><td>3</td><td>&quot;인사이드 아웃 2&quot;</td><td>2024-06-12</td><td>&quot;17.5%&quot;</td><td>&quot;5.7%&quot;</td><td>&quot;50,018,740&quot;</td><td>&quot;84,509,284,036&quot;</td><td>&quot;84,509,284,036&quot;</td><td>&quot;8,799,013&quot;</td><td>&quot;8,799,013&quot;</td></tr><tr><td>4</td><td>&quot;베테랑2&quot;</td><td>2024-09-13</td><td>&quot;18.3%&quot;</td><td>&quot;4.6%&quot;</td><td>&quot;40,990,441&quot;</td><td>&quot;72,474,035,814&quot;</td><td>&quot;72,474,035,814&quot;</td><td>&quot;7,525,339&quot;</td><td>&quot;7,525,339&quot;</td></tr><tr><td>5</td><td>&quot;파일럿&quot;</td><td>2024-07-31</td><td>&quot;15.7%&quot;</td><td>&quot;3.4%&quot;</td><td>&quot;30,046,075&quot;</td><td>&quot;43,204,079,201&quot;</td><td>&quot;43,204,079,201&quot;</td><td>&quot;4,718,036&quot;</td><td>&quot;4,718,036&quot;</td></tr><tr><td>&hellip;</td><td>&hellip;</td><td>&hellip;</td><td>&hellip;</td><td>&hellip;</td><td>&hellip;</td><td>&hellip;</td><td>&hellip;</td><td>&hellip;</td><td>&hellip;</td></tr><tr><td>1438</td><td>&quot;파이란&quot;</td><td>2001-04-28</td><td>&quot;0.0%&quot;</td><td>&quot;0.0%&quot;</td><td>&quot;424&quot;</td><td>&quot;0&quot;</td><td>&quot;13,402,270&quot;</td><td>&quot;0&quot;</td><td>&quot;1,380&quot;</td></tr><tr><td>1438</td><td>&quot;퍼펙트 게임&quot;</td><td>2011-12-21</td><td>&quot;0.0%&quot;</td><td>&quot;0.0%&quot;</td><td>&quot;212&quot;</td><td>&quot;0&quot;</td><td>&quot;11,220,412,500&quot;</td><td>&quot;0&quot;</td><td>&quot;1,507,085&quot;</td></tr><tr><td>1438</td><td>&quot;해가 서쪽에서 뜬다면&quot;</td><td>1998-12-19</td><td>&quot;0.0%&quot;</td><td>&quot;0.0%&quot;</td><td>&quot;212&quot;</td><td>&quot;0&quot;</td><td>&quot;0&quot;</td><td>&quot;0&quot;</td><td>&quot;0&quot;</td></tr><tr><td>1438</td><td>&quot;헌트&quot;</td><td>2022-08-10</td><td>&quot;0.0%&quot;</td><td>&quot;0.0%&quot;</td><td>&quot;142&quot;</td><td>&quot;0&quot;</td><td>&quot;44,602,463,153&quot;</td><td>&quot;0&quot;</td><td>&quot;4,352,513&quot;</td></tr><tr><td>1438</td><td>&quot;황산벌&quot;</td><td>2003-10-17</td><td>&quot;0.0%&quot;</td><td>&quot;0.0%&quot;</td><td>&quot;424&quot;</td><td>&quot;0&quot;</td><td>&quot;41,867,500&quot;</td><td>&quot;0&quot;</td><td>&quot;5,665&quot;</td></tr></tbody></table></div>"
            ]
          },
          "metadata": {},
          "execution_count": 4
        }
      ],
      "source": [
        "df_seat_rate = pl.read_csv(\"./movie/KOBIS_기간별_좌석점유율.csv\",\n",
        "                           skip_rows = 4, try_parse_dates=True)\n",
        "df_seat_rate"
      ]
    },
    {
      "cell_type": "code",
      "execution_count": 5,
      "id": "44f3c9f7-1316-46de-9c06-c4874c95c06c",
      "metadata": {
        "colab": {
          "base_uri": "https://localhost:8080/",
          "height": 443
        },
        "id": "44f3c9f7-1316-46de-9c06-c4874c95c06c",
        "outputId": "863e8903-c90f-4f3e-d4b6-dcd25b06b7ca"
      },
      "outputs": [
        {
          "output_type": "execute_result",
          "data": {
            "text/plain": [
              "shape: (1_467, 6)\n",
              "┌──────┬──────────────────────┬────────────┬────────────┬────────────┬──────────┐\n",
              "│ 순위 ┆ 영화명               ┆ 개봉일     ┆ 좌석판매율 ┆ 좌석점유율 ┆ 좌석수   │\n",
              "│ ---  ┆ ---                  ┆ ---        ┆ ---        ┆ ---        ┆ ---      │\n",
              "│ i64  ┆ str                  ┆ date       ┆ f64        ┆ f64        ┆ i64      │\n",
              "╞══════╪══════════════════════╪════════════╪════════════╪════════════╪══════════╡\n",
              "│ 1    ┆ 파묘                 ┆ 2024-02-22 ┆ 22.2       ┆ 6.1        ┆ 53450628 │\n",
              "│ 2    ┆ 범죄도시4            ┆ 2024-04-24 ┆ 21.5       ┆ 6.0        ┆ 53350464 │\n",
              "│ 3    ┆ 인사이드 아웃 2      ┆ 2024-06-12 ┆ 17.5       ┆ 5.7        ┆ 50018740 │\n",
              "│ 4    ┆ 베테랑2              ┆ 2024-09-13 ┆ 18.3       ┆ 4.6        ┆ 40990441 │\n",
              "│ 5    ┆ 파일럿               ┆ 2024-07-31 ┆ 15.7       ┆ 3.4        ┆ 30046075 │\n",
              "│ …    ┆ …                    ┆ …          ┆ …          ┆ …          ┆ …        │\n",
              "│ 1438 ┆ 파이란               ┆ 2001-04-28 ┆ 0.0        ┆ 0.0        ┆ 424      │\n",
              "│ 1438 ┆ 퍼펙트 게임          ┆ 2011-12-21 ┆ 0.0        ┆ 0.0        ┆ 212      │\n",
              "│ 1438 ┆ 해가 서쪽에서 뜬다면 ┆ 1998-12-19 ┆ 0.0        ┆ 0.0        ┆ 212      │\n",
              "│ 1438 ┆ 헌트                 ┆ 2022-08-10 ┆ 0.0        ┆ 0.0        ┆ 142      │\n",
              "│ 1438 ┆ 황산벌               ┆ 2003-10-17 ┆ 0.0        ┆ 0.0        ┆ 424      │\n",
              "└──────┴──────────────────────┴────────────┴────────────┴────────────┴──────────┘"
            ],
            "text/html": [
              "<div><style>\n",
              ".dataframe > thead > tr,\n",
              ".dataframe > tbody > tr {\n",
              "  text-align: right;\n",
              "  white-space: pre-wrap;\n",
              "}\n",
              "</style>\n",
              "<small>shape: (1_467, 6)</small><table border=\"1\" class=\"dataframe\"><thead><tr><th>순위</th><th>영화명</th><th>개봉일</th><th>좌석판매율</th><th>좌석점유율</th><th>좌석수</th></tr><tr><td>i64</td><td>str</td><td>date</td><td>f64</td><td>f64</td><td>i64</td></tr></thead><tbody><tr><td>1</td><td>&quot;파묘&quot;</td><td>2024-02-22</td><td>22.2</td><td>6.1</td><td>53450628</td></tr><tr><td>2</td><td>&quot;범죄도시4&quot;</td><td>2024-04-24</td><td>21.5</td><td>6.0</td><td>53350464</td></tr><tr><td>3</td><td>&quot;인사이드 아웃 2&quot;</td><td>2024-06-12</td><td>17.5</td><td>5.7</td><td>50018740</td></tr><tr><td>4</td><td>&quot;베테랑2&quot;</td><td>2024-09-13</td><td>18.3</td><td>4.6</td><td>40990441</td></tr><tr><td>5</td><td>&quot;파일럿&quot;</td><td>2024-07-31</td><td>15.7</td><td>3.4</td><td>30046075</td></tr><tr><td>&hellip;</td><td>&hellip;</td><td>&hellip;</td><td>&hellip;</td><td>&hellip;</td><td>&hellip;</td></tr><tr><td>1438</td><td>&quot;파이란&quot;</td><td>2001-04-28</td><td>0.0</td><td>0.0</td><td>424</td></tr><tr><td>1438</td><td>&quot;퍼펙트 게임&quot;</td><td>2011-12-21</td><td>0.0</td><td>0.0</td><td>212</td></tr><tr><td>1438</td><td>&quot;해가 서쪽에서 뜬다면&quot;</td><td>1998-12-19</td><td>0.0</td><td>0.0</td><td>212</td></tr><tr><td>1438</td><td>&quot;헌트&quot;</td><td>2022-08-10</td><td>0.0</td><td>0.0</td><td>142</td></tr><tr><td>1438</td><td>&quot;황산벌&quot;</td><td>2003-10-17</td><td>0.0</td><td>0.0</td><td>424</td></tr></tbody></table></div>"
            ]
          },
          "metadata": {},
          "execution_count": 5
        }
      ],
      "source": [
        "df_seat_rate = df_seat_rate.with_columns(\n",
        "    pl.col('좌석수').str.replace_all(',', '').cast(pl.Int64),\n",
        "    pl.col('좌석판매율', '좌석점유율').str.replace_all('%', '').cast(pl.Float64)\n",
        ").select(pl.exclude(['매출액', '누적매출액', '관객수', '누적관객수']))\n",
        "df_seat_rate"
      ]
    },
    {
      "cell_type": "code",
      "execution_count": 6,
      "id": "a6796479-cf36-405d-9206-fc19dfa0f74f",
      "metadata": {
        "colab": {
          "base_uri": "https://localhost:8080/",
          "height": 1000
        },
        "id": "a6796479-cf36-405d-9206-fc19dfa0f74f",
        "outputId": "b58ffeba-7c0f-4a17-d49e-6430df8eea11"
      },
      "outputs": [
        {
          "output_type": "execute_result",
          "data": {
            "text/plain": [
              "shape: (609, 22)\n",
              "┌──────┬────────────┬────────────┬────────────┬───┬────────────┬────────────┬───────────┬──────────┐\n",
              "│ 순위 ┆ 영화명     ┆ 매출액     ┆ 매출액점유 ┆ … ┆ 개봉일_좌  ┆ 좌석판매율 ┆ 좌석점유  ┆ 좌석수   │\n",
              "│ ---  ┆ ---        ┆ ---        ┆ 율         ┆   ┆ 석         ┆ ---        ┆ 율        ┆ ---      │\n",
              "│ i64  ┆ str        ┆ i64        ┆ ---        ┆   ┆ ---        ┆ f64        ┆ ---       ┆ i64      │\n",
              "│      ┆            ┆            ┆ str        ┆   ┆ date       ┆            ┆ f64       ┆          │\n",
              "╞══════╪════════════╪════════════╪════════════╪═══╪════════════╪════════════╪═══════════╪══════════╡\n",
              "│ 1    ┆ 파묘       ┆ 1151574904 ┆ 9.6%       ┆ … ┆ 2024-02-22 ┆ 22.2       ┆ 6.1       ┆ 53450628 │\n",
              "│      ┆            ┆ 14         ┆            ┆   ┆            ┆            ┆           ┆          │\n",
              "│ 2    ┆ 범죄도시4  ┆ 1100500007 ┆ 9.2%       ┆ … ┆ 2024-04-24 ┆ 21.5       ┆ 6.0       ┆ 53350464 │\n",
              "│      ┆            ┆ 34         ┆            ┆   ┆            ┆            ┆           ┆          │\n",
              "│ 3    ┆ 인사이드   ┆ 8450928403 ┆ 7.1%       ┆ … ┆ 2024-06-12 ┆ 17.5       ┆ 5.7       ┆ 50018740 │\n",
              "│      ┆ 아웃 2     ┆ 6          ┆            ┆   ┆            ┆            ┆           ┆          │\n",
              "│ 4    ┆ 베테랑2    ┆ 7247403581 ┆ 6.1%       ┆ … ┆ 2024-09-13 ┆ 18.3       ┆ 4.6       ┆ 40990441 │\n",
              "│      ┆            ┆ 4          ┆            ┆   ┆            ┆            ┆           ┆          │\n",
              "│ 5    ┆ 파일럿     ┆ 4320407920 ┆ 3.6%       ┆ … ┆ 2024-07-31 ┆ 15.7       ┆ 3.4       ┆ 30046075 │\n",
              "│      ┆            ┆ 1          ┆            ┆   ┆            ┆            ┆           ┆          │\n",
              "│ …    ┆ …          ┆ …          ┆ …          ┆ … ┆ …          ┆ …          ┆ …         ┆ …        │\n",
              "│ 3345 ┆ 귀멸의     ┆ 14000      ┆ 0.0%       ┆ … ┆ 2021-12-01 ┆ 1.5        ┆ 0.0       ┆ 130      │\n",
              "│      ┆ 칼날: 주합 ┆            ┆            ┆   ┆            ┆            ┆           ┆          │\n",
              "│      ┆ 회의·나비  ┆            ┆            ┆   ┆            ┆            ┆           ┆          │\n",
              "│      ┆ 저택 편    ┆            ┆            ┆   ┆            ┆            ┆           ┆          │\n",
              "│ 3365 ┆ 귀멸의     ┆ 7000       ┆ 0.0%       ┆ … ┆ 2021-11-10 ┆ 0.7        ┆ 0.0       ┆ 130      │\n",
              "│      ┆ 칼날:      ┆            ┆            ┆   ┆            ┆            ┆           ┆          │\n",
              "│      ┆ 남매의 연  ┆            ┆            ┆   ┆            ┆            ┆           ┆          │\n",
              "│ 3365 ┆ 귀멸의     ┆ 7000       ┆ 0.0%       ┆ … ┆ 2022-08-25 ┆ 0.7        ┆ 0.0       ┆ 130      │\n",
              "│      ┆ 칼날:      ┆            ┆            ┆   ┆            ┆            ┆           ┆          │\n",
              "│      ┆ 아사쿠사   ┆            ┆            ┆   ┆            ┆            ┆           ┆          │\n",
              "│      ┆ 편         ┆            ┆            ┆   ┆            ┆            ┆           ┆          │\n",
              "│ 3365 ┆ 미미와     ┆ 6000       ┆ 0.0%       ┆ … ┆ 1987-07-04 ┆ 1.6        ┆ 0.0       ┆ 59       │\n",
              "│      ┆ 철수의     ┆            ┆            ┆   ┆            ┆            ┆           ┆          │\n",
              "│      ┆ 청춘스케치 ┆            ┆            ┆   ┆            ┆            ┆           ┆          │\n",
              "│ 3365 ┆ 사채소년   ┆ 8000       ┆ 0.0%       ┆ … ┆ 2023-11-22 ┆ 0.3        ┆ 0.0       ┆ 332      │\n",
              "└──────┴────────────┴────────────┴────────────┴───┴────────────┴────────────┴───────────┴──────────┘"
            ],
            "text/html": [
              "<div><style>\n",
              ".dataframe > thead > tr,\n",
              ".dataframe > tbody > tr {\n",
              "  text-align: right;\n",
              "  white-space: pre-wrap;\n",
              "}\n",
              "</style>\n",
              "<small>shape: (609, 22)</small><table border=\"1\" class=\"dataframe\"><thead><tr><th>순위</th><th>영화명</th><th>매출액</th><th>매출액점유율</th><th>누적매출액</th><th>관객수</th><th>누적관객수</th><th>스크린수</th><th>상영횟수</th><th>대표국적</th><th>국적</th><th>제작사</th><th>배급사</th><th>등급</th><th>장르</th><th>감독</th><th>배우</th><th>순위_좌석</th><th>개봉일_좌석</th><th>좌석판매율</th><th>좌석점유율</th><th>좌석수</th></tr><tr><td>i64</td><td>str</td><td>i64</td><td>str</td><td>i64</td><td>i64</td><td>i64</td><td>i64</td><td>i64</td><td>str</td><td>str</td><td>str</td><td>str</td><td>str</td><td>list[str]</td><td>str</td><td>list[str]</td><td>i64</td><td>date</td><td>f64</td><td>f64</td><td>i64</td></tr></thead><tbody><tr><td>1</td><td>&quot;파묘&quot;</td><td>115157490414</td><td>&quot;9.6%&quot;</td><td>115157490414</td><td>11914784</td><td>11914784</td><td>2367</td><td>364955</td><td>&quot;한국&quot;</td><td>&quot;한국&quot;</td><td>&quot;(주)쇼박스&quot;</td><td>&quot;(주)쇼박스&quot;</td><td>&quot;15세이상관람가&quot;</td><td>[&quot;미스터리&quot;, &quot;공포(호러)&quot;]</td><td>&quot;장재현&quot;</td><td>[&quot;최민식&quot;, &quot;김고은&quot;, … &quot;김하영&quot;]</td><td>1</td><td>2024-02-22</td><td>22.2</td><td>6.1</td><td>53450628</td></tr><tr><td>2</td><td>&quot;범죄도시4&quot;</td><td>110050000734</td><td>&quot;9.2%&quot;</td><td>110050000734</td><td>11502779</td><td>11502779</td><td>2980</td><td>375434</td><td>&quot;한국&quot;</td><td>&quot;한국&quot;</td><td>&quot;주식회사 빅펀치픽쳐스,(주)홍필름,(주)비에이엔터테인먼…</td><td>&quot;주식회사 에이비오엔터테인먼트,플러스엠 엔터테인먼트&quot;</td><td>&quot;15세이상관람가&quot;</td><td>[&quot;액션&quot;, &quot;범죄&quot;]</td><td>&quot;허명행&quot;</td><td>[&quot;김무열&quot;, &quot;박지환&quot;, … &quot;조석인&quot;]</td><td>2</td><td>2024-04-24</td><td>21.5</td><td>6.0</td><td>53350464</td></tr><tr><td>3</td><td>&quot;인사이드 아웃 2&quot;</td><td>84509284036</td><td>&quot;7.1%&quot;</td><td>84509284036</td><td>8799013</td><td>8799013</td><td>2619</td><td>331341</td><td>&quot;미국&quot;</td><td>&quot;미국&quot;</td><td>&quot;월트 디즈니 픽쳐스,픽사 애니메이션 스튜디오&quot;</td><td>&quot;월트디즈니컴퍼니코리아 유한책임회사&quot;</td><td>&quot;전체관람가&quot;</td><td>[&quot;애니메이션&quot;]</td><td>&quot;켈시 만&quot;</td><td>[&quot;에이미 포엘러&quot;, &quot;토니 헤일&quot;]</td><td>3</td><td>2024-06-12</td><td>17.5</td><td>5.7</td><td>50018740</td></tr><tr><td>4</td><td>&quot;베테랑2&quot;</td><td>72474035814</td><td>&quot;6.1%&quot;</td><td>72474035814</td><td>7525339</td><td>7525339</td><td>2691</td><td>279673</td><td>&quot;한국&quot;</td><td>&quot;한국&quot;</td><td>&quot;(주)외유내강&quot;</td><td>&quot;(주)씨제이이엔엠&quot;</td><td>&quot;15세이상관람가&quot;</td><td>[&quot;액션&quot;, &quot;범죄&quot;]</td><td>&quot;류승완&quot;</td><td>[&quot;황정민&quot;, &quot;정해인&quot;, … &quot;이상협&quot;]</td><td>4</td><td>2024-09-13</td><td>18.3</td><td>4.6</td><td>40990441</td></tr><tr><td>5</td><td>&quot;파일럿&quot;</td><td>43204079201</td><td>&quot;3.6%&quot;</td><td>43204079201</td><td>4718036</td><td>4718036</td><td>1956</td><td>203283</td><td>&quot;한국&quot;</td><td>&quot;한국&quot;</td><td>&quot;쇼트케이크(주),(주)무비락&quot;</td><td>&quot;롯데컬처웍스(주)롯데엔터테인먼트&quot;</td><td>&quot;12세이상관람가&quot;</td><td>[&quot;코미디&quot;]</td><td>&quot;김한결&quot;</td><td>[&quot;조정석&quot;, &quot;이주명&quot;, … &quot;한지혁&quot;]</td><td>5</td><td>2024-07-31</td><td>15.7</td><td>3.4</td><td>30046075</td></tr><tr><td>&hellip;</td><td>&hellip;</td><td>&hellip;</td><td>&hellip;</td><td>&hellip;</td><td>&hellip;</td><td>&hellip;</td><td>&hellip;</td><td>&hellip;</td><td>&hellip;</td><td>&hellip;</td><td>&hellip;</td><td>&hellip;</td><td>&hellip;</td><td>&hellip;</td><td>&hellip;</td><td>&hellip;</td><td>&hellip;</td><td>&hellip;</td><td>&hellip;</td><td>&hellip;</td><td>&hellip;</td></tr><tr><td>3345</td><td>&quot;귀멸의 칼날: 주합회의·나비저택 편&quot;</td><td>14000</td><td>&quot;0.0%&quot;</td><td>263633000</td><td>2</td><td>27688</td><td>1</td><td>1</td><td>&quot;일본&quot;</td><td>&quot;일본&quot;</td><td>null</td><td>&quot;(주)박수엔터테인먼트&quot;</td><td>&quot;15세이상관람가&quot;</td><td>[&quot;애니메이션&quot;]</td><td>&quot;소토자키 하루오&quot;</td><td>[&quot;하나에 나츠키&quot;, &quot;키토 아카리&quot;, … &quot;마츠오카 요시츠구&quot;]</td><td>703</td><td>2021-12-01</td><td>1.5</td><td>0.0</td><td>130</td></tr><tr><td>3365</td><td>&quot;귀멸의 칼날: 남매의 연&quot;</td><td>7000</td><td>&quot;0.0%&quot;</td><td>645556440</td><td>1</td><td>65537</td><td>1</td><td>1</td><td>&quot;일본&quot;</td><td>&quot;일본&quot;</td><td>null</td><td>&quot;(주)박수엔터테인먼트&quot;</td><td>&quot;15세이상관람가&quot;</td><td>[&quot;애니메이션&quot;]</td><td>&quot;소토자키 하루오&quot;</td><td>[&quot;하나에 나츠키&quot;, &quot;키토 아카리&quot;, … &quot;마츠오카 요시츠구&quot;]</td><td>706</td><td>2021-11-10</td><td>0.7</td><td>0.0</td><td>130</td></tr><tr><td>3365</td><td>&quot;귀멸의 칼날: 아사쿠사 편&quot;</td><td>7000</td><td>&quot;0.0%&quot;</td><td>231539500</td><td>1</td><td>22389</td><td>1</td><td>1</td><td>&quot;일본&quot;</td><td>&quot;일본&quot;</td><td>null</td><td>&quot;(주)박수엔터테인먼트&quot;</td><td>&quot;15세이상관람가&quot;</td><td>[&quot;애니메이션&quot;]</td><td>&quot;소토자키 하루오&quot;</td><td>null</td><td>706</td><td>2022-08-25</td><td>0.7</td><td>0.0</td><td>130</td></tr><tr><td>3365</td><td>&quot;미미와 철수의 청춘스케치&quot;</td><td>6000</td><td>&quot;0.0%&quot;</td><td>1067100</td><td>1</td><td>185</td><td>1</td><td>1</td><td>&quot;한국&quot;</td><td>&quot;한국&quot;</td><td>&quot;㈜단성시네마&quot;</td><td>null</td><td>&quot;중학생이상관람가&quot;</td><td>[&quot;드라마&quot;]</td><td>&quot;이규형&quot;</td><td>[&quot;강수연&quot;, &quot;최양락&quot;, … &quot;김세준&quot;]</td><td>706</td><td>1987-07-04</td><td>1.6</td><td>0.0</td><td>59</td></tr><tr><td>3365</td><td>&quot;사채소년&quot;</td><td>8000</td><td>&quot;0.0%&quot;</td><td>193797300</td><td>1</td><td>26149</td><td>1</td><td>2</td><td>&quot;한국&quot;</td><td>&quot;한국&quot;</td><td>&quot;(주)26컴퍼니&quot;</td><td>&quot;영화사빅&quot;</td><td>&quot;15세이상관람가&quot;</td><td>[&quot;액션&quot;, &quot;드라마&quot;]</td><td>&quot;황동석&quot;</td><td>[&quot;유선호&quot;, &quot;강미나&quot;, … &quot;양성준&quot;]</td><td>706</td><td>2023-11-22</td><td>0.3</td><td>0.0</td><td>332</td></tr></tbody></table></div>"
            ]
          },
          "metadata": {},
          "execution_count": 6
        }
      ],
      "source": [
        "(df_boxoffice.join(df_seat_rate, on = '영화명', how = 'inner', suffix = '_좌석').\n",
        " select(pl.exclude(['개봉일']))\n",
        ")"
      ]
    },
    {
      "cell_type": "code",
      "execution_count": 7,
      "id": "9c992239-2e82-4ed8-800b-bf14c7681677",
      "metadata": {
        "colab": {
          "base_uri": "https://localhost:8080/",
          "height": 532
        },
        "id": "9c992239-2e82-4ed8-800b-bf14c7681677",
        "outputId": "3d33d519-2f14-4eb0-82bf-de68fad15ee4"
      },
      "outputs": [
        {
          "output_type": "execute_result",
          "data": {
            "text/plain": [
              "shape: (5, 22)\n",
              "┌──────┬──────────┬────────┬──────────────┬───┬─────────────┬────────────┬────────────┬────────┐\n",
              "│ 순위 ┆ 영화명   ┆ 매출액 ┆ 매출액점유율 ┆ … ┆ 개봉일_좌석 ┆ 좌석판매율 ┆ 좌석점유율 ┆ 좌석수 │\n",
              "│ ---  ┆ ---      ┆ ---    ┆ ---          ┆   ┆ ---         ┆ ---        ┆ ---        ┆ ---    │\n",
              "│ i64  ┆ str      ┆ i64    ┆ str          ┆   ┆ date        ┆ f64        ┆ f64        ┆ i64    │\n",
              "╞══════╪══════════╪════════╪══════════════╪═══╪═════════════╪════════════╪════════════╪════════╡\n",
              "│ 3365 ┆ 평평남녀 ┆ 8000   ┆ 0.0%         ┆ … ┆ null        ┆ null       ┆ null       ┆ null   │\n",
              "│ 3365 ┆ 한 남자  ┆ 10000  ┆ 0.0%         ┆ … ┆ null        ┆ null       ┆ null       ┆ null   │\n",
              "│ 3365 ┆ 헝거     ┆ 3000   ┆ 0.0%         ┆ … ┆ null        ┆ null       ┆ null       ┆ null   │\n",
              "│ 3365 ┆ 호피와   ┆ 8000   ┆ 0.0%         ┆ … ┆ null        ┆ null       ┆ null       ┆ null   │\n",
              "│      ┆ 차돌바위 ┆        ┆              ┆   ┆             ┆            ┆            ┆        │\n",
              "│ 3365 ┆ 희수     ┆ 5000   ┆ 0.0%         ┆ … ┆ null        ┆ null       ┆ null       ┆ null   │\n",
              "└──────┴──────────┴────────┴──────────────┴───┴─────────────┴────────────┴────────────┴────────┘"
            ],
            "text/html": [
              "<div><style>\n",
              ".dataframe > thead > tr,\n",
              ".dataframe > tbody > tr {\n",
              "  text-align: right;\n",
              "  white-space: pre-wrap;\n",
              "}\n",
              "</style>\n",
              "<small>shape: (5, 22)</small><table border=\"1\" class=\"dataframe\"><thead><tr><th>순위</th><th>영화명</th><th>매출액</th><th>매출액점유율</th><th>누적매출액</th><th>관객수</th><th>누적관객수</th><th>스크린수</th><th>상영횟수</th><th>대표국적</th><th>국적</th><th>제작사</th><th>배급사</th><th>등급</th><th>장르</th><th>감독</th><th>배우</th><th>순위_좌석</th><th>개봉일_좌석</th><th>좌석판매율</th><th>좌석점유율</th><th>좌석수</th></tr><tr><td>i64</td><td>str</td><td>i64</td><td>str</td><td>i64</td><td>i64</td><td>i64</td><td>i64</td><td>i64</td><td>str</td><td>str</td><td>str</td><td>str</td><td>str</td><td>list[str]</td><td>str</td><td>list[str]</td><td>i64</td><td>date</td><td>f64</td><td>f64</td><td>i64</td></tr></thead><tbody><tr><td>3365</td><td>&quot;평평남녀&quot;</td><td>8000</td><td>&quot;0.0%&quot;</td><td>11582200</td><td>1</td><td>1317</td><td>1</td><td>1</td><td>&quot;한국&quot;</td><td>&quot;한국&quot;</td><td>&quot;브릿지 프로덕션,냉이영화&quot;</td><td>&quot;영화배급협동조합 씨네소파&quot;</td><td>&quot;12세이상관람가&quot;</td><td>[&quot;드라마&quot;, &quot;멜로/로맨스&quot;]</td><td>&quot;김수정&quot;</td><td>[&quot;이태경&quot;, &quot;이한주&quot;, … &quot;박종환&quot;]</td><td>null</td><td>null</td><td>null</td><td>null</td><td>null</td></tr><tr><td>3365</td><td>&quot;한 남자&quot;</td><td>10000</td><td>&quot;0.0%&quot;</td><td>139270250</td><td>1</td><td>15939</td><td>1</td><td>1</td><td>&quot;일본&quot;</td><td>&quot;일본&quot;</td><td>null</td><td>&quot;트윈플러스파트너스(주)&quot;</td><td>&quot;12세이상관람가&quot;</td><td>[&quot;범죄&quot;, &quot;멜로/로맨스&quot;, &quot;스릴러&quot;]</td><td>&quot;이시카와 케이&quot;</td><td>[&quot;츠마부키 사토시&quot;, &quot;안도 사쿠라&quot;]</td><td>null</td><td>null</td><td>null</td><td>null</td><td>null</td></tr><tr><td>3365</td><td>&quot;헝거&quot;</td><td>3000</td><td>&quot;0.0%&quot;</td><td>6007060</td><td>1</td><td>778</td><td>1</td><td>1</td><td>&quot;한국&quot;</td><td>&quot;한국&quot;</td><td>&quot;영화사 케디필름&quot;</td><td>&quot;(주)디오시네마,(주)태양미디어그룹&quot;</td><td>&quot;12세이상관람가&quot;</td><td>[&quot;SF&quot;, &quot;드라마&quot;]</td><td>&quot;강다연&quot;</td><td>[&quot;김유나&quot;, &quot;최윤우&quot;, … &quot;조은강&quot;]</td><td>null</td><td>null</td><td>null</td><td>null</td><td>null</td></tr><tr><td>3365</td><td>&quot;호피와 차돌바위&quot;</td><td>8000</td><td>&quot;0.0%&quot;</td><td>28000</td><td>1</td><td>4</td><td>1</td><td>1</td><td>&quot;한국&quot;</td><td>&quot;한국&quot;</td><td>null</td><td>null</td><td>null</td><td>[&quot;애니메이션&quot;]</td><td>&quot;신동헌&quot;</td><td>null</td><td>null</td><td>null</td><td>null</td><td>null</td><td>null</td></tr><tr><td>3365</td><td>&quot;희수&quot;</td><td>5000</td><td>&quot;0.0%&quot;</td><td>4795500</td><td>1</td><td>617</td><td>1</td><td>1</td><td>&quot;한국&quot;</td><td>&quot;한국&quot;</td><td>&quot;영화사 정원&quot;</td><td>&quot;영화사 정원&quot;</td><td>&quot;12세이상관람가&quot;</td><td>[&quot;드라마&quot;]</td><td>&quot;감정원&quot;</td><td>[&quot;공민정&quot;]</td><td>null</td><td>null</td><td>null</td><td>null</td><td>null</td></tr></tbody></table></div>"
            ]
          },
          "metadata": {},
          "execution_count": 7
        }
      ],
      "source": [
        "(df_boxoffice.join(df_seat_rate, on = '영화명', how = 'left', suffix = '_좌석').\n",
        " select(pl.exclude(['개봉일'])).tail()\n",
        ")"
      ]
    },
    {
      "cell_type": "code",
      "execution_count": 8,
      "id": "ab03b555-fe2f-4e20-a1e4-22dde15e8b23",
      "metadata": {
        "colab": {
          "base_uri": "https://localhost:8080/",
          "height": 359
        },
        "id": "ab03b555-fe2f-4e20-a1e4-22dde15e8b23",
        "outputId": "d3700359-f73b-440b-b257-316f9e6905dd"
      },
      "outputs": [
        {
          "output_type": "execute_result",
          "data": {
            "text/plain": [
              "shape: (5, 22)\n",
              "┌──────┬────────┬──────────────┬────────────┬───┬─────────────┬────────────┬────────────┬────────┐\n",
              "│ 순위 ┆ 매출액 ┆ 매출액점유율 ┆ 누적매출액 ┆ … ┆ 개봉일_좌석 ┆ 좌석판매율 ┆ 좌석점유율 ┆ 좌석수 │\n",
              "│ ---  ┆ ---    ┆ ---          ┆ ---        ┆   ┆ ---         ┆ ---        ┆ ---        ┆ ---    │\n",
              "│ i64  ┆ i64    ┆ str          ┆ i64        ┆   ┆ date        ┆ f64        ┆ f64        ┆ i64    │\n",
              "╞══════╪════════╪══════════════╪════════════╪═══╪═════════════╪════════════╪════════════╪════════╡\n",
              "│ null ┆ null   ┆ null         ┆ null       ┆ … ┆ 2001-04-28  ┆ 0.0        ┆ 0.0        ┆ 424    │\n",
              "│ null ┆ null   ┆ null         ┆ null       ┆ … ┆ 2011-12-21  ┆ 0.0        ┆ 0.0        ┆ 212    │\n",
              "│ null ┆ null   ┆ null         ┆ null       ┆ … ┆ 1998-12-19  ┆ 0.0        ┆ 0.0        ┆ 212    │\n",
              "│ null ┆ null   ┆ null         ┆ null       ┆ … ┆ 2022-08-10  ┆ 0.0        ┆ 0.0        ┆ 142    │\n",
              "│ null ┆ null   ┆ null         ┆ null       ┆ … ┆ 2003-10-17  ┆ 0.0        ┆ 0.0        ┆ 424    │\n",
              "└──────┴────────┴──────────────┴────────────┴───┴─────────────┴────────────┴────────────┴────────┘"
            ],
            "text/html": [
              "<div><style>\n",
              ".dataframe > thead > tr,\n",
              ".dataframe > tbody > tr {\n",
              "  text-align: right;\n",
              "  white-space: pre-wrap;\n",
              "}\n",
              "</style>\n",
              "<small>shape: (5, 22)</small><table border=\"1\" class=\"dataframe\"><thead><tr><th>순위</th><th>매출액</th><th>매출액점유율</th><th>누적매출액</th><th>관객수</th><th>누적관객수</th><th>스크린수</th><th>상영횟수</th><th>대표국적</th><th>국적</th><th>제작사</th><th>배급사</th><th>등급</th><th>장르</th><th>감독</th><th>배우</th><th>순위_좌석</th><th>영화명</th><th>개봉일_좌석</th><th>좌석판매율</th><th>좌석점유율</th><th>좌석수</th></tr><tr><td>i64</td><td>i64</td><td>str</td><td>i64</td><td>i64</td><td>i64</td><td>i64</td><td>i64</td><td>str</td><td>str</td><td>str</td><td>str</td><td>str</td><td>list[str]</td><td>str</td><td>list[str]</td><td>i64</td><td>str</td><td>date</td><td>f64</td><td>f64</td><td>i64</td></tr></thead><tbody><tr><td>null</td><td>null</td><td>null</td><td>null</td><td>null</td><td>null</td><td>null</td><td>null</td><td>null</td><td>null</td><td>null</td><td>null</td><td>null</td><td>null</td><td>null</td><td>null</td><td>1438</td><td>&quot;파이란&quot;</td><td>2001-04-28</td><td>0.0</td><td>0.0</td><td>424</td></tr><tr><td>null</td><td>null</td><td>null</td><td>null</td><td>null</td><td>null</td><td>null</td><td>null</td><td>null</td><td>null</td><td>null</td><td>null</td><td>null</td><td>null</td><td>null</td><td>null</td><td>1438</td><td>&quot;퍼펙트 게임&quot;</td><td>2011-12-21</td><td>0.0</td><td>0.0</td><td>212</td></tr><tr><td>null</td><td>null</td><td>null</td><td>null</td><td>null</td><td>null</td><td>null</td><td>null</td><td>null</td><td>null</td><td>null</td><td>null</td><td>null</td><td>null</td><td>null</td><td>null</td><td>1438</td><td>&quot;해가 서쪽에서 뜬다면&quot;</td><td>1998-12-19</td><td>0.0</td><td>0.0</td><td>212</td></tr><tr><td>null</td><td>null</td><td>null</td><td>null</td><td>null</td><td>null</td><td>null</td><td>null</td><td>null</td><td>null</td><td>null</td><td>null</td><td>null</td><td>null</td><td>null</td><td>null</td><td>1438</td><td>&quot;헌트&quot;</td><td>2022-08-10</td><td>0.0</td><td>0.0</td><td>142</td></tr><tr><td>null</td><td>null</td><td>null</td><td>null</td><td>null</td><td>null</td><td>null</td><td>null</td><td>null</td><td>null</td><td>null</td><td>null</td><td>null</td><td>null</td><td>null</td><td>null</td><td>1438</td><td>&quot;황산벌&quot;</td><td>2003-10-17</td><td>0.0</td><td>0.0</td><td>424</td></tr></tbody></table></div>"
            ]
          },
          "metadata": {},
          "execution_count": 8
        }
      ],
      "source": [
        "(df_boxoffice.join(df_seat_rate, on = '영화명', how = 'right', suffix = '_좌석').\n",
        " select(pl.exclude(['개봉일'])).tail()\n",
        ")"
      ]
    },
    {
      "cell_type": "code",
      "execution_count": 9,
      "id": "5c0f016d-7b86-44e5-a39f-d5c33f6117da",
      "metadata": {
        "colab": {
          "base_uri": "https://localhost:8080/",
          "height": 1000
        },
        "id": "5c0f016d-7b86-44e5-a39f-d5c33f6117da",
        "outputId": "d8f090cc-8a7c-455f-bbe6-df671208b3d6"
      },
      "outputs": [
        {
          "output_type": "execute_result",
          "data": {
            "text/plain": [
              "shape: (4_139, 23)\n",
              "┌──────┬────────────┬────────────┬────────────┬───┬────────────┬────────────┬───────────┬──────────┐\n",
              "│ 순위 ┆ 영화명     ┆ 매출액     ┆ 매출액점유 ┆ … ┆ 개봉일_좌  ┆ 좌석판매율 ┆ 좌석점유  ┆ 좌석수   │\n",
              "│ ---  ┆ ---        ┆ ---        ┆ 율         ┆   ┆ 석         ┆ ---        ┆ 율        ┆ ---      │\n",
              "│ i64  ┆ str        ┆ i64        ┆ ---        ┆   ┆ ---        ┆ f64        ┆ ---       ┆ i64      │\n",
              "│      ┆            ┆            ┆ str        ┆   ┆ date       ┆            ┆ f64       ┆          │\n",
              "╞══════╪════════════╪════════════╪════════════╪═══╪════════════╪════════════╪═══════════╪══════════╡\n",
              "│ 1    ┆ 파묘       ┆ 1151574904 ┆ 9.6%       ┆ … ┆ 2024-02-22 ┆ 22.2       ┆ 6.1       ┆ 53450628 │\n",
              "│      ┆            ┆ 14         ┆            ┆   ┆            ┆            ┆           ┆          │\n",
              "│ 2    ┆ 범죄도시4  ┆ 1100500007 ┆ 9.2%       ┆ … ┆ 2024-04-24 ┆ 21.5       ┆ 6.0       ┆ 53350464 │\n",
              "│      ┆            ┆ 34         ┆            ┆   ┆            ┆            ┆           ┆          │\n",
              "│ 3    ┆ 인사이드   ┆ 8450928403 ┆ 7.1%       ┆ … ┆ 2024-06-12 ┆ 17.5       ┆ 5.7       ┆ 50018740 │\n",
              "│      ┆ 아웃 2     ┆ 6          ┆            ┆   ┆            ┆            ┆           ┆          │\n",
              "│ 4    ┆ 베테랑2    ┆ 7247403581 ┆ 6.1%       ┆ … ┆ 2024-09-13 ┆ 18.3       ┆ 4.6       ┆ 40990441 │\n",
              "│      ┆            ┆ 4          ┆            ┆   ┆            ┆            ┆           ┆          │\n",
              "│ 5    ┆ 파일럿     ┆ 4320407920 ┆ 3.6%       ┆ … ┆ 2024-07-31 ┆ 15.7       ┆ 3.4       ┆ 30046075 │\n",
              "│      ┆            ┆ 1          ┆            ┆   ┆            ┆            ┆           ┆          │\n",
              "│ …    ┆ …          ┆ …          ┆ …          ┆ … ┆ …          ┆ …          ┆ …         ┆ …        │\n",
              "│ null ┆ null       ┆ null       ┆ null       ┆ … ┆ 2024-02-03 ┆ 1.2        ┆ 0.0       ┆ 83       │\n",
              "│ null ┆ null       ┆ null       ┆ null       ┆ … ┆ 2024-12-05 ┆ 0.6        ┆ 0.0       ┆ 146      │\n",
              "│ null ┆ null       ┆ null       ┆ null       ┆ … ┆ 2024-01-31 ┆ 21.9       ┆ 0.0       ┆ 91       │\n",
              "│ null ┆ null       ┆ null       ┆ null       ┆ … ┆ 2024-11-26 ┆ 0.7        ┆ 0.0       ┆ 140      │\n",
              "│ null ┆ null       ┆ null       ┆ null       ┆ … ┆ 2024-07-12 ┆ 3.2        ┆ 0.0       ┆ 31       │\n",
              "└──────┴────────────┴────────────┴────────────┴───┴────────────┴────────────┴───────────┴──────────┘"
            ],
            "text/html": [
              "<div><style>\n",
              ".dataframe > thead > tr,\n",
              ".dataframe > tbody > tr {\n",
              "  text-align: right;\n",
              "  white-space: pre-wrap;\n",
              "}\n",
              "</style>\n",
              "<small>shape: (4_139, 23)</small><table border=\"1\" class=\"dataframe\"><thead><tr><th>순위</th><th>영화명</th><th>매출액</th><th>매출액점유율</th><th>누적매출액</th><th>관객수</th><th>누적관객수</th><th>스크린수</th><th>상영횟수</th><th>대표국적</th><th>국적</th><th>제작사</th><th>배급사</th><th>등급</th><th>장르</th><th>감독</th><th>배우</th><th>순위_좌석</th><th>영화명_좌석</th><th>개봉일_좌석</th><th>좌석판매율</th><th>좌석점유율</th><th>좌석수</th></tr><tr><td>i64</td><td>str</td><td>i64</td><td>str</td><td>i64</td><td>i64</td><td>i64</td><td>i64</td><td>i64</td><td>str</td><td>str</td><td>str</td><td>str</td><td>str</td><td>list[str]</td><td>str</td><td>list[str]</td><td>i64</td><td>str</td><td>date</td><td>f64</td><td>f64</td><td>i64</td></tr></thead><tbody><tr><td>1</td><td>&quot;파묘&quot;</td><td>115157490414</td><td>&quot;9.6%&quot;</td><td>115157490414</td><td>11914784</td><td>11914784</td><td>2367</td><td>364955</td><td>&quot;한국&quot;</td><td>&quot;한국&quot;</td><td>&quot;(주)쇼박스&quot;</td><td>&quot;(주)쇼박스&quot;</td><td>&quot;15세이상관람가&quot;</td><td>[&quot;미스터리&quot;, &quot;공포(호러)&quot;]</td><td>&quot;장재현&quot;</td><td>[&quot;최민식&quot;, &quot;김고은&quot;, … &quot;김하영&quot;]</td><td>1</td><td>&quot;파묘&quot;</td><td>2024-02-22</td><td>22.2</td><td>6.1</td><td>53450628</td></tr><tr><td>2</td><td>&quot;범죄도시4&quot;</td><td>110050000734</td><td>&quot;9.2%&quot;</td><td>110050000734</td><td>11502779</td><td>11502779</td><td>2980</td><td>375434</td><td>&quot;한국&quot;</td><td>&quot;한국&quot;</td><td>&quot;주식회사 빅펀치픽쳐스,(주)홍필름,(주)비에이엔터테인먼…</td><td>&quot;주식회사 에이비오엔터테인먼트,플러스엠 엔터테인먼트&quot;</td><td>&quot;15세이상관람가&quot;</td><td>[&quot;액션&quot;, &quot;범죄&quot;]</td><td>&quot;허명행&quot;</td><td>[&quot;김무열&quot;, &quot;박지환&quot;, … &quot;조석인&quot;]</td><td>2</td><td>&quot;범죄도시4&quot;</td><td>2024-04-24</td><td>21.5</td><td>6.0</td><td>53350464</td></tr><tr><td>3</td><td>&quot;인사이드 아웃 2&quot;</td><td>84509284036</td><td>&quot;7.1%&quot;</td><td>84509284036</td><td>8799013</td><td>8799013</td><td>2619</td><td>331341</td><td>&quot;미국&quot;</td><td>&quot;미국&quot;</td><td>&quot;월트 디즈니 픽쳐스,픽사 애니메이션 스튜디오&quot;</td><td>&quot;월트디즈니컴퍼니코리아 유한책임회사&quot;</td><td>&quot;전체관람가&quot;</td><td>[&quot;애니메이션&quot;]</td><td>&quot;켈시 만&quot;</td><td>[&quot;에이미 포엘러&quot;, &quot;토니 헤일&quot;]</td><td>3</td><td>&quot;인사이드 아웃 2&quot;</td><td>2024-06-12</td><td>17.5</td><td>5.7</td><td>50018740</td></tr><tr><td>4</td><td>&quot;베테랑2&quot;</td><td>72474035814</td><td>&quot;6.1%&quot;</td><td>72474035814</td><td>7525339</td><td>7525339</td><td>2691</td><td>279673</td><td>&quot;한국&quot;</td><td>&quot;한국&quot;</td><td>&quot;(주)외유내강&quot;</td><td>&quot;(주)씨제이이엔엠&quot;</td><td>&quot;15세이상관람가&quot;</td><td>[&quot;액션&quot;, &quot;범죄&quot;]</td><td>&quot;류승완&quot;</td><td>[&quot;황정민&quot;, &quot;정해인&quot;, … &quot;이상협&quot;]</td><td>4</td><td>&quot;베테랑2&quot;</td><td>2024-09-13</td><td>18.3</td><td>4.6</td><td>40990441</td></tr><tr><td>5</td><td>&quot;파일럿&quot;</td><td>43204079201</td><td>&quot;3.6%&quot;</td><td>43204079201</td><td>4718036</td><td>4718036</td><td>1956</td><td>203283</td><td>&quot;한국&quot;</td><td>&quot;한국&quot;</td><td>&quot;쇼트케이크(주),(주)무비락&quot;</td><td>&quot;롯데컬처웍스(주)롯데엔터테인먼트&quot;</td><td>&quot;12세이상관람가&quot;</td><td>[&quot;코미디&quot;]</td><td>&quot;김한결&quot;</td><td>[&quot;조정석&quot;, &quot;이주명&quot;, … &quot;한지혁&quot;]</td><td>5</td><td>&quot;파일럿&quot;</td><td>2024-07-31</td><td>15.7</td><td>3.4</td><td>30046075</td></tr><tr><td>&hellip;</td><td>&hellip;</td><td>&hellip;</td><td>&hellip;</td><td>&hellip;</td><td>&hellip;</td><td>&hellip;</td><td>&hellip;</td><td>&hellip;</td><td>&hellip;</td><td>&hellip;</td><td>&hellip;</td><td>&hellip;</td><td>&hellip;</td><td>&hellip;</td><td>&hellip;</td><td>&hellip;</td><td>&hellip;</td><td>&hellip;</td><td>&hellip;</td><td>&hellip;</td><td>&hellip;</td><td>&hellip;</td></tr><tr><td>null</td><td>null</td><td>null</td><td>null</td><td>null</td><td>null</td><td>null</td><td>null</td><td>null</td><td>null</td><td>null</td><td>null</td><td>null</td><td>null</td><td>null</td><td>null</td><td>null</td><td>706</td><td>&quot;집주인 버섯 맛에 길들여진 가사도우미&quot;</td><td>2024-02-03</td><td>1.2</td><td>0.0</td><td>83</td></tr><tr><td>null</td><td>null</td><td>null</td><td>null</td><td>null</td><td>null</td><td>null</td><td>null</td><td>null</td><td>null</td><td>null</td><td>null</td><td>null</td><td>null</td><td>null</td><td>null</td><td>null</td><td>706</td><td>&quot;돌아온 형수의 순수 욕정&quot;</td><td>2024-12-05</td><td>0.6</td><td>0.0</td><td>146</td></tr><tr><td>null</td><td>null</td><td>null</td><td>null</td><td>null</td><td>null</td><td>null</td><td>null</td><td>null</td><td>null</td><td>null</td><td>null</td><td>null</td><td>null</td><td>null</td><td>null</td><td>null</td><td>564</td><td>&quot;여직원과 야근하다 한 떡&quot;</td><td>2024-01-31</td><td>21.9</td><td>0.0</td><td>91</td></tr><tr><td>null</td><td>null</td><td>null</td><td>null</td><td>null</td><td>null</td><td>null</td><td>null</td><td>null</td><td>null</td><td>null</td><td>null</td><td>null</td><td>null</td><td>null</td><td>null</td><td>null</td><td>706</td><td>&quot;승무원 교육&quot;</td><td>2024-11-26</td><td>0.7</td><td>0.0</td><td>140</td></tr><tr><td>null</td><td>null</td><td>null</td><td>null</td><td>null</td><td>null</td><td>null</td><td>null</td><td>null</td><td>null</td><td>null</td><td>null</td><td>null</td><td>null</td><td>null</td><td>null</td><td>null</td><td>706</td><td>&quot;여사친 남사친 섹스가능2&quot;</td><td>2024-07-12</td><td>3.2</td><td>0.0</td><td>31</td></tr></tbody></table></div>"
            ]
          },
          "metadata": {},
          "execution_count": 9
        }
      ],
      "source": [
        "(df_boxoffice.join(df_seat_rate, on = '영화명', how = 'full', suffix = '_좌석').\n",
        " select(pl.exclude(['개봉일']))\n",
        ")"
      ]
    },
    {
      "cell_type": "code",
      "execution_count": 10,
      "id": "d96d2048-024f-4710-a1e4-39024fc4cbd6",
      "metadata": {
        "colab": {
          "base_uri": "https://localhost:8080/",
          "height": 1000
        },
        "id": "d96d2048-024f-4710-a1e4-39024fc4cbd6",
        "outputId": "e44da4f7-542d-4c16-fa92-8ad0fb836c2d"
      },
      "outputs": [
        {
          "output_type": "execute_result",
          "data": {
            "text/plain": [
              "shape: (607, 18)\n",
              "┌──────┬────────────┬────────────┬────────────┬───┬────────────┬───────────┬───────────┬───────────┐\n",
              "│ 순위 ┆ 영화명     ┆ 개봉일     ┆ 매출액     ┆ … ┆ 등급       ┆ 장르      ┆ 감독      ┆ 배우      │\n",
              "│ ---  ┆ ---        ┆ ---        ┆ ---        ┆   ┆ ---        ┆ ---       ┆ ---       ┆ ---       │\n",
              "│ i64  ┆ str        ┆ date       ┆ i64        ┆   ┆ str        ┆ list[str] ┆ str       ┆ list[str] │\n",
              "╞══════╪════════════╪════════════╪════════════╪═══╪════════════╪═══════════╪═══════════╪═══════════╡\n",
              "│ 1    ┆ 파묘       ┆ 2024-02-22 ┆ 1151574904 ┆ … ┆ 15세이상관 ┆ [\"미스터  ┆ 장재현    ┆ [\"최민식\" │\n",
              "│      ┆            ┆            ┆ 14         ┆   ┆ 람가       ┆ 리\", \"공  ┆           ┆ ,         │\n",
              "│      ┆            ┆            ┆            ┆   ┆            ┆ 포(호러)\" ┆           ┆ \"김고은\", │\n",
              "│      ┆            ┆            ┆            ┆   ┆            ┆ ]         ┆           ┆ …         │\n",
              "│      ┆            ┆            ┆            ┆   ┆            ┆           ┆           ┆ \"김하영\"] │\n",
              "│ 2    ┆ 범죄도시4  ┆ 2024-04-24 ┆ 1100500007 ┆ … ┆ 15세이상관 ┆ [\"액션\",  ┆ 허명행    ┆ [\"김무열\" │\n",
              "│      ┆            ┆            ┆ 34         ┆   ┆ 람가       ┆ \"범죄\"]   ┆           ┆ ,         │\n",
              "│      ┆            ┆            ┆            ┆   ┆            ┆           ┆           ┆ \"박지환\", │\n",
              "│      ┆            ┆            ┆            ┆   ┆            ┆           ┆           ┆ …         │\n",
              "│      ┆            ┆            ┆            ┆   ┆            ┆           ┆           ┆ \"조석인\"] │\n",
              "│ 3    ┆ 인사이드   ┆ 2024-06-12 ┆ 8450928403 ┆ … ┆ 전체관람가 ┆ [\"애니메  ┆ 켈시 만   ┆ [\"에이미  │\n",
              "│      ┆ 아웃 2     ┆            ┆ 6          ┆   ┆            ┆ 이션\"]    ┆           ┆ 포엘러\",  │\n",
              "│      ┆            ┆            ┆            ┆   ┆            ┆           ┆           ┆ \"토니     │\n",
              "│      ┆            ┆            ┆            ┆   ┆            ┆           ┆           ┆ 헤일\"]    │\n",
              "│ 4    ┆ 베테랑2    ┆ 2024-09-13 ┆ 7247403581 ┆ … ┆ 15세이상관 ┆ [\"액션\",  ┆ 류승완    ┆ [\"황정민\" │\n",
              "│      ┆            ┆            ┆ 4          ┆   ┆ 람가       ┆ \"범죄\"]   ┆           ┆ ,         │\n",
              "│      ┆            ┆            ┆            ┆   ┆            ┆           ┆           ┆ \"정해인\", │\n",
              "│      ┆            ┆            ┆            ┆   ┆            ┆           ┆           ┆ …         │\n",
              "│      ┆            ┆            ┆            ┆   ┆            ┆           ┆           ┆ \"이상협\"] │\n",
              "│ 5    ┆ 파일럿     ┆ 2024-07-31 ┆ 4320407920 ┆ … ┆ 12세이상관 ┆ [\"코미디\" ┆ 김한결    ┆ [\"조정석\" │\n",
              "│      ┆            ┆            ┆ 1          ┆   ┆ 람가       ┆ ]         ┆           ┆ ,         │\n",
              "│      ┆            ┆            ┆            ┆   ┆            ┆           ┆           ┆ \"이주명\", │\n",
              "│      ┆            ┆            ┆            ┆   ┆            ┆           ┆           ┆ …         │\n",
              "│      ┆            ┆            ┆            ┆   ┆            ┆           ┆           ┆ \"한지혁\"] │\n",
              "│ …    ┆ …          ┆ …          ┆ …          ┆ … ┆ …          ┆ …         ┆ …         ┆ …         │\n",
              "│ 3345 ┆ 귀멸의     ┆ 2021-12-01 ┆ 14000      ┆ … ┆ 15세이상관 ┆ [\"애니메  ┆ 소토자키  ┆ [\"하나에  │\n",
              "│      ┆ 칼날: 주합 ┆            ┆            ┆   ┆ 람가       ┆ 이션\"]    ┆ 하루오    ┆ 나츠키\",  │\n",
              "│      ┆ 회의·나비  ┆            ┆            ┆   ┆            ┆           ┆           ┆ \"키토     │\n",
              "│      ┆ 저택 편    ┆            ┆            ┆   ┆            ┆           ┆           ┆ 아카리\",  │\n",
              "│      ┆            ┆            ┆            ┆   ┆            ┆           ┆           ┆ …         │\n",
              "│      ┆            ┆            ┆            ┆   ┆            ┆           ┆           ┆ \"마츠오카 │\n",
              "│      ┆            ┆            ┆            ┆   ┆            ┆           ┆           ┆ …         │\n",
              "│ 3365 ┆ 귀멸의     ┆ 2021-11-10 ┆ 7000       ┆ … ┆ 15세이상관 ┆ [\"애니메  ┆ 소토자키  ┆ [\"하나에  │\n",
              "│      ┆ 칼날:      ┆            ┆            ┆   ┆ 람가       ┆ 이션\"]    ┆ 하루오    ┆ 나츠키\",  │\n",
              "│      ┆ 남매의 연  ┆            ┆            ┆   ┆            ┆           ┆           ┆ \"키토     │\n",
              "│      ┆            ┆            ┆            ┆   ┆            ┆           ┆           ┆ 아카리\",  │\n",
              "│      ┆            ┆            ┆            ┆   ┆            ┆           ┆           ┆ …         │\n",
              "│      ┆            ┆            ┆            ┆   ┆            ┆           ┆           ┆ \"마츠오카 │\n",
              "│      ┆            ┆            ┆            ┆   ┆            ┆           ┆           ┆ …         │\n",
              "│ 3365 ┆ 귀멸의     ┆ 2022-08-25 ┆ 7000       ┆ … ┆ 15세이상관 ┆ [\"애니메  ┆ 소토자키  ┆ null      │\n",
              "│      ┆ 칼날:      ┆            ┆            ┆   ┆ 람가       ┆ 이션\"]    ┆ 하루오    ┆           │\n",
              "│      ┆ 아사쿠사   ┆            ┆            ┆   ┆            ┆           ┆           ┆           │\n",
              "│      ┆ 편         ┆            ┆            ┆   ┆            ┆           ┆           ┆           │\n",
              "│ 3365 ┆ 미미와     ┆ 1987-07-04 ┆ 6000       ┆ … ┆ 중학생이상 ┆ [\"드라마\" ┆ 이규형    ┆ [\"강수연\" │\n",
              "│      ┆ 철수의     ┆            ┆            ┆   ┆ 관람가     ┆ ]         ┆           ┆ ,         │\n",
              "│      ┆ 청춘스케치 ┆            ┆            ┆   ┆            ┆           ┆           ┆ \"최양락\", │\n",
              "│      ┆            ┆            ┆            ┆   ┆            ┆           ┆           ┆ …         │\n",
              "│      ┆            ┆            ┆            ┆   ┆            ┆           ┆           ┆ \"김세준\"] │\n",
              "│ 3365 ┆ 사채소년   ┆ 2023-11-22 ┆ 8000       ┆ … ┆ 15세이상관 ┆ [\"액션\",  ┆ 황동석    ┆ [\"유선호\" │\n",
              "│      ┆            ┆            ┆            ┆   ┆ 람가       ┆ \"드라마\"] ┆           ┆ ,         │\n",
              "│      ┆            ┆            ┆            ┆   ┆            ┆           ┆           ┆ \"강미나\", │\n",
              "│      ┆            ┆            ┆            ┆   ┆            ┆           ┆           ┆ …         │\n",
              "│      ┆            ┆            ┆            ┆   ┆            ┆           ┆           ┆ \"양성준\"] │\n",
              "└──────┴────────────┴────────────┴────────────┴───┴────────────┴───────────┴───────────┴───────────┘"
            ],
            "text/html": [
              "<div><style>\n",
              ".dataframe > thead > tr,\n",
              ".dataframe > tbody > tr {\n",
              "  text-align: right;\n",
              "  white-space: pre-wrap;\n",
              "}\n",
              "</style>\n",
              "<small>shape: (607, 18)</small><table border=\"1\" class=\"dataframe\"><thead><tr><th>순위</th><th>영화명</th><th>개봉일</th><th>매출액</th><th>매출액점유율</th><th>누적매출액</th><th>관객수</th><th>누적관객수</th><th>스크린수</th><th>상영횟수</th><th>대표국적</th><th>국적</th><th>제작사</th><th>배급사</th><th>등급</th><th>장르</th><th>감독</th><th>배우</th></tr><tr><td>i64</td><td>str</td><td>date</td><td>i64</td><td>str</td><td>i64</td><td>i64</td><td>i64</td><td>i64</td><td>i64</td><td>str</td><td>str</td><td>str</td><td>str</td><td>str</td><td>list[str]</td><td>str</td><td>list[str]</td></tr></thead><tbody><tr><td>1</td><td>&quot;파묘&quot;</td><td>2024-02-22</td><td>115157490414</td><td>&quot;9.6%&quot;</td><td>115157490414</td><td>11914784</td><td>11914784</td><td>2367</td><td>364955</td><td>&quot;한국&quot;</td><td>&quot;한국&quot;</td><td>&quot;(주)쇼박스&quot;</td><td>&quot;(주)쇼박스&quot;</td><td>&quot;15세이상관람가&quot;</td><td>[&quot;미스터리&quot;, &quot;공포(호러)&quot;]</td><td>&quot;장재현&quot;</td><td>[&quot;최민식&quot;, &quot;김고은&quot;, … &quot;김하영&quot;]</td></tr><tr><td>2</td><td>&quot;범죄도시4&quot;</td><td>2024-04-24</td><td>110050000734</td><td>&quot;9.2%&quot;</td><td>110050000734</td><td>11502779</td><td>11502779</td><td>2980</td><td>375434</td><td>&quot;한국&quot;</td><td>&quot;한국&quot;</td><td>&quot;주식회사 빅펀치픽쳐스,(주)홍필름,(주)비에이엔터테인먼…</td><td>&quot;주식회사 에이비오엔터테인먼트,플러스엠 엔터테인먼트&quot;</td><td>&quot;15세이상관람가&quot;</td><td>[&quot;액션&quot;, &quot;범죄&quot;]</td><td>&quot;허명행&quot;</td><td>[&quot;김무열&quot;, &quot;박지환&quot;, … &quot;조석인&quot;]</td></tr><tr><td>3</td><td>&quot;인사이드 아웃 2&quot;</td><td>2024-06-12</td><td>84509284036</td><td>&quot;7.1%&quot;</td><td>84509284036</td><td>8799013</td><td>8799013</td><td>2619</td><td>331341</td><td>&quot;미국&quot;</td><td>&quot;미국&quot;</td><td>&quot;월트 디즈니 픽쳐스,픽사 애니메이션 스튜디오&quot;</td><td>&quot;월트디즈니컴퍼니코리아 유한책임회사&quot;</td><td>&quot;전체관람가&quot;</td><td>[&quot;애니메이션&quot;]</td><td>&quot;켈시 만&quot;</td><td>[&quot;에이미 포엘러&quot;, &quot;토니 헤일&quot;]</td></tr><tr><td>4</td><td>&quot;베테랑2&quot;</td><td>2024-09-13</td><td>72474035814</td><td>&quot;6.1%&quot;</td><td>72474035814</td><td>7525339</td><td>7525339</td><td>2691</td><td>279673</td><td>&quot;한국&quot;</td><td>&quot;한국&quot;</td><td>&quot;(주)외유내강&quot;</td><td>&quot;(주)씨제이이엔엠&quot;</td><td>&quot;15세이상관람가&quot;</td><td>[&quot;액션&quot;, &quot;범죄&quot;]</td><td>&quot;류승완&quot;</td><td>[&quot;황정민&quot;, &quot;정해인&quot;, … &quot;이상협&quot;]</td></tr><tr><td>5</td><td>&quot;파일럿&quot;</td><td>2024-07-31</td><td>43204079201</td><td>&quot;3.6%&quot;</td><td>43204079201</td><td>4718036</td><td>4718036</td><td>1956</td><td>203283</td><td>&quot;한국&quot;</td><td>&quot;한국&quot;</td><td>&quot;쇼트케이크(주),(주)무비락&quot;</td><td>&quot;롯데컬처웍스(주)롯데엔터테인먼트&quot;</td><td>&quot;12세이상관람가&quot;</td><td>[&quot;코미디&quot;]</td><td>&quot;김한결&quot;</td><td>[&quot;조정석&quot;, &quot;이주명&quot;, … &quot;한지혁&quot;]</td></tr><tr><td>&hellip;</td><td>&hellip;</td><td>&hellip;</td><td>&hellip;</td><td>&hellip;</td><td>&hellip;</td><td>&hellip;</td><td>&hellip;</td><td>&hellip;</td><td>&hellip;</td><td>&hellip;</td><td>&hellip;</td><td>&hellip;</td><td>&hellip;</td><td>&hellip;</td><td>&hellip;</td><td>&hellip;</td><td>&hellip;</td></tr><tr><td>3345</td><td>&quot;귀멸의 칼날: 주합회의·나비저택 편&quot;</td><td>2021-12-01</td><td>14000</td><td>&quot;0.0%&quot;</td><td>263633000</td><td>2</td><td>27688</td><td>1</td><td>1</td><td>&quot;일본&quot;</td><td>&quot;일본&quot;</td><td>null</td><td>&quot;(주)박수엔터테인먼트&quot;</td><td>&quot;15세이상관람가&quot;</td><td>[&quot;애니메이션&quot;]</td><td>&quot;소토자키 하루오&quot;</td><td>[&quot;하나에 나츠키&quot;, &quot;키토 아카리&quot;, … &quot;마츠오카 요시츠구&quot;]</td></tr><tr><td>3365</td><td>&quot;귀멸의 칼날: 남매의 연&quot;</td><td>2021-11-10</td><td>7000</td><td>&quot;0.0%&quot;</td><td>645556440</td><td>1</td><td>65537</td><td>1</td><td>1</td><td>&quot;일본&quot;</td><td>&quot;일본&quot;</td><td>null</td><td>&quot;(주)박수엔터테인먼트&quot;</td><td>&quot;15세이상관람가&quot;</td><td>[&quot;애니메이션&quot;]</td><td>&quot;소토자키 하루오&quot;</td><td>[&quot;하나에 나츠키&quot;, &quot;키토 아카리&quot;, … &quot;마츠오카 요시츠구&quot;]</td></tr><tr><td>3365</td><td>&quot;귀멸의 칼날: 아사쿠사 편&quot;</td><td>2022-08-25</td><td>7000</td><td>&quot;0.0%&quot;</td><td>231539500</td><td>1</td><td>22389</td><td>1</td><td>1</td><td>&quot;일본&quot;</td><td>&quot;일본&quot;</td><td>null</td><td>&quot;(주)박수엔터테인먼트&quot;</td><td>&quot;15세이상관람가&quot;</td><td>[&quot;애니메이션&quot;]</td><td>&quot;소토자키 하루오&quot;</td><td>null</td></tr><tr><td>3365</td><td>&quot;미미와 철수의 청춘스케치&quot;</td><td>1987-07-04</td><td>6000</td><td>&quot;0.0%&quot;</td><td>1067100</td><td>1</td><td>185</td><td>1</td><td>1</td><td>&quot;한국&quot;</td><td>&quot;한국&quot;</td><td>&quot;㈜단성시네마&quot;</td><td>null</td><td>&quot;중학생이상관람가&quot;</td><td>[&quot;드라마&quot;]</td><td>&quot;이규형&quot;</td><td>[&quot;강수연&quot;, &quot;최양락&quot;, … &quot;김세준&quot;]</td></tr><tr><td>3365</td><td>&quot;사채소년&quot;</td><td>2023-11-22</td><td>8000</td><td>&quot;0.0%&quot;</td><td>193797300</td><td>1</td><td>26149</td><td>1</td><td>2</td><td>&quot;한국&quot;</td><td>&quot;한국&quot;</td><td>&quot;(주)26컴퍼니&quot;</td><td>&quot;영화사빅&quot;</td><td>&quot;15세이상관람가&quot;</td><td>[&quot;액션&quot;, &quot;드라마&quot;]</td><td>&quot;황동석&quot;</td><td>[&quot;유선호&quot;, &quot;강미나&quot;, … &quot;양성준&quot;]</td></tr></tbody></table></div>"
            ]
          },
          "metadata": {},
          "execution_count": 10
        }
      ],
      "source": [
        "df_boxoffice.join(df_seat_rate, on = '영화명', how = 'semi', suffix = '_좌석')"
      ]
    },
    {
      "cell_type": "code",
      "execution_count": 11,
      "id": "682c4ca7-a7ec-4a16-8b87-0baf6bad4aad",
      "metadata": {
        "colab": {
          "base_uri": "https://localhost:8080/",
          "height": 911
        },
        "id": "682c4ca7-a7ec-4a16-8b87-0baf6bad4aad",
        "outputId": "06befc33-20d8-4006-daa2-5667c8551a4e"
      },
      "outputs": [
        {
          "output_type": "execute_result",
          "data": {
            "text/plain": [
              "shape: (2_661, 18)\n",
              "┌──────┬────────────┬────────────┬────────────┬───┬────────────┬───────────┬───────────┬───────────┐\n",
              "│ 순위 ┆ 영화명     ┆ 개봉일     ┆ 매출액     ┆ … ┆ 등급       ┆ 장르      ┆ 감독      ┆ 배우      │\n",
              "│ ---  ┆ ---        ┆ ---        ┆ ---        ┆   ┆ ---        ┆ ---       ┆ ---       ┆ ---       │\n",
              "│ i64  ┆ str        ┆ date       ┆ i64        ┆   ┆ str        ┆ list[str] ┆ str       ┆ list[str] │\n",
              "╞══════╪════════════╪════════════╪════════════╪═══╪════════════╪═══════════╪═══════════╪═══════════╡\n",
              "│ 27   ┆ 건국전쟁   ┆ 2024-02-01 ┆ 1090636851 ┆ … ┆ 12세이상관 ┆ [\"다큐멘  ┆ 김덕영    ┆ null      │\n",
              "│      ┆            ┆            ┆ 4          ┆   ┆ 람가       ┆ 터리\"]    ┆           ┆           │\n",
              "│ 52   ┆ 남은 인생  ┆ 2023-05-24 ┆ 4252407808 ┆ … ┆ 12세이상관 ┆ [\"멜로/로 ┆ 후지이    ┆ [\"고마츠  │\n",
              "│      ┆ 10년       ┆            ┆            ┆   ┆ 람가       ┆ 맨스\"]    ┆ 미치히토  ┆ 나나\",    │\n",
              "│      ┆            ┆            ┆            ┆   ┆            ┆           ┆           ┆ \"사카구치 │\n",
              "│      ┆            ┆            ┆            ┆   ┆            ┆           ┆           ┆ 켄타로\",  │\n",
              "│      ┆            ┆            ┆            ┆   ┆            ┆           ┆           ┆ … \"릴리   │\n",
              "│      ┆            ┆            ┆            ┆   ┆            ┆           ┆           ┆ 프…       │\n",
              "│ 56   ┆ 소풍       ┆ 2024-02-07 ┆ 3207715943 ┆ … ┆ 12세이상관 ┆ [\"드라마\" ┆ 김용균    ┆ [\"나문희\" │\n",
              "│      ┆            ┆            ┆            ┆   ┆ 람가       ┆ ]         ┆           ┆ ,         │\n",
              "│      ┆            ┆            ┆            ┆   ┆            ┆           ┆           ┆ \"김영옥\", │\n",
              "│      ┆            ┆            ┆            ┆   ┆            ┆           ┆           ┆ …         │\n",
              "│      ┆            ┆            ┆            ┆   ┆            ┆           ┆           ┆ \"성병숙\"] │\n",
              "│ 69   ┆ 비긴       ┆ 2014-08-13 ┆ 2125870640 ┆ … ┆ 15세이상관 ┆ [\"멜로/로 ┆ 존 카니   ┆ [\"키이라  │\n",
              "│      ┆ 어게인     ┆            ┆            ┆   ┆ 람가       ┆ 맨스\"]    ┆           ┆ 나이틀리\" │\n",
              "│      ┆            ┆            ┆            ┆   ┆            ┆           ┆           ┆ , \"마크   │\n",
              "│      ┆            ┆            ┆            ┆   ┆            ┆           ┆           ┆ 러팔로\",  │\n",
              "│      ┆            ┆            ┆            ┆   ┆            ┆           ┆           ┆ … \"캐서린 │\n",
              "│      ┆            ┆            ┆            ┆   ┆            ┆           ┆           ┆ …         │\n",
              "│ 71   ┆ 소년시절의 ┆ 2020-07-09 ┆ 2027736150 ┆ … ┆ 15세이상관 ┆ [\"멜로/로 ┆ 증국상    ┆ [\"주동우\" │\n",
              "│      ┆ 너         ┆            ┆            ┆   ┆ 람가       ┆ 맨스\",    ┆           ┆ ]         │\n",
              "│      ┆            ┆            ┆            ┆   ┆            ┆ \"드라마\", ┆           ┆           │\n",
              "│      ┆            ┆            ┆            ┆   ┆            ┆ … \"가족\"] ┆           ┆           │\n",
              "│ …    ┆ …          ┆ …          ┆ …          ┆ … ┆ …          ┆ …         ┆ …         ┆ …         │\n",
              "│ 3365 ┆ 평평남녀   ┆ 2022-04-28 ┆ 8000       ┆ … ┆ 12세이상관 ┆ [\"드라마\" ┆ 김수정    ┆ [\"이태경\" │\n",
              "│      ┆            ┆            ┆            ┆   ┆ 람가       ┆ , \"멜로/  ┆           ┆ ,         │\n",
              "│      ┆            ┆            ┆            ┆   ┆            ┆ 로맨스\"]  ┆           ┆ \"이한주\", │\n",
              "│      ┆            ┆            ┆            ┆   ┆            ┆           ┆           ┆ …         │\n",
              "│      ┆            ┆            ┆            ┆   ┆            ┆           ┆           ┆ \"박종환\"] │\n",
              "│ 3365 ┆ 한 남자    ┆ 2023-08-30 ┆ 10000      ┆ … ┆ 12세이상관 ┆ [\"범죄\",  ┆ 이시카와  ┆ [\"츠마부  │\n",
              "│      ┆            ┆            ┆            ┆   ┆ 람가       ┆ \"멜로/로  ┆ 케이      ┆ 키        │\n",
              "│      ┆            ┆            ┆            ┆   ┆            ┆ 맨스\",    ┆           ┆ 사토시\",  │\n",
              "│      ┆            ┆            ┆            ┆   ┆            ┆ \"스릴러\"] ┆           ┆ \"안도     │\n",
              "│      ┆            ┆            ┆            ┆   ┆            ┆           ┆           ┆ 사쿠라\"]  │\n",
              "│ 3365 ┆ 헝거       ┆ 2022-04-21 ┆ 3000       ┆ … ┆ 12세이상관 ┆ [\"SF\",    ┆ 강다연    ┆ [\"김유나\" │\n",
              "│      ┆            ┆            ┆            ┆   ┆ 람가       ┆ \"드라마\"] ┆           ┆ ,         │\n",
              "│      ┆            ┆            ┆            ┆   ┆            ┆           ┆           ┆ \"최윤우\", │\n",
              "│      ┆            ┆            ┆            ┆   ┆            ┆           ┆           ┆ …         │\n",
              "│      ┆            ┆            ┆            ┆   ┆            ┆           ┆           ┆ \"조은강\"] │\n",
              "│ 3365 ┆ 호피와     ┆ null       ┆ 8000       ┆ … ┆ null       ┆ [\"애니메  ┆ 신동헌    ┆ null      │\n",
              "│      ┆ 차돌바위   ┆            ┆            ┆   ┆            ┆ 이션\"]    ┆           ┆           │\n",
              "│ 3365 ┆ 희수       ┆ 2022-12-15 ┆ 5000       ┆ … ┆ 12세이상관 ┆ [\"드라마\" ┆ 감정원    ┆ [\"공민정\" │\n",
              "│      ┆            ┆            ┆            ┆   ┆ 람가       ┆ ]         ┆           ┆ ]         │\n",
              "└──────┴────────────┴────────────┴────────────┴───┴────────────┴───────────┴───────────┴───────────┘"
            ],
            "text/html": [
              "<div><style>\n",
              ".dataframe > thead > tr,\n",
              ".dataframe > tbody > tr {\n",
              "  text-align: right;\n",
              "  white-space: pre-wrap;\n",
              "}\n",
              "</style>\n",
              "<small>shape: (2_661, 18)</small><table border=\"1\" class=\"dataframe\"><thead><tr><th>순위</th><th>영화명</th><th>개봉일</th><th>매출액</th><th>매출액점유율</th><th>누적매출액</th><th>관객수</th><th>누적관객수</th><th>스크린수</th><th>상영횟수</th><th>대표국적</th><th>국적</th><th>제작사</th><th>배급사</th><th>등급</th><th>장르</th><th>감독</th><th>배우</th></tr><tr><td>i64</td><td>str</td><td>date</td><td>i64</td><td>str</td><td>i64</td><td>i64</td><td>i64</td><td>i64</td><td>i64</td><td>str</td><td>str</td><td>str</td><td>str</td><td>str</td><td>list[str]</td><td>str</td><td>list[str]</td></tr></thead><tbody><tr><td>27</td><td>&quot;건국전쟁&quot;</td><td>2024-02-01</td><td>10906368514</td><td>&quot;0.9%&quot;</td><td>10906368514</td><td>1173927</td><td>1173927</td><td>956</td><td>49180</td><td>&quot;한국&quot;</td><td>&quot;한국&quot;</td><td>&quot;다큐스토리&quot;</td><td>&quot;다큐스토리&quot;</td><td>&quot;12세이상관람가&quot;</td><td>[&quot;다큐멘터리&quot;]</td><td>&quot;김덕영&quot;</td><td>null</td></tr><tr><td>52</td><td>&quot;남은 인생 10년&quot;</td><td>2023-05-24</td><td>4252407808</td><td>&quot;0.4%&quot;</td><td>5721326408</td><td>425196</td><td>562828</td><td>529</td><td>25826</td><td>&quot;일본&quot;</td><td>&quot;일본&quot;</td><td>null</td><td>&quot;(주)바이포엠스튜디오,(주)디스테이션&quot;</td><td>&quot;12세이상관람가&quot;</td><td>[&quot;멜로/로맨스&quot;]</td><td>&quot;후지이 미치히토&quot;</td><td>[&quot;고마츠 나나&quot;, &quot;사카구치 켄타로&quot;, … &quot;릴리 프랭키&quot;]</td></tr><tr><td>56</td><td>&quot;소풍&quot;</td><td>2024-02-07</td><td>3207715943</td><td>&quot;0.3%&quot;</td><td>3207715943</td><td>363932</td><td>363932</td><td>729</td><td>24674</td><td>&quot;한국&quot;</td><td>&quot;한국&quot;</td><td>&quot;(주)로케트필름&quot;</td><td>&quot;롯데컬처웍스(주)롯데엔터테인먼트&quot;</td><td>&quot;12세이상관람가&quot;</td><td>[&quot;드라마&quot;]</td><td>&quot;김용균&quot;</td><td>[&quot;나문희&quot;, &quot;김영옥&quot;, … &quot;성병숙&quot;]</td></tr><tr><td>69</td><td>&quot;비긴 어게인&quot;</td><td>2014-08-13</td><td>2125870640</td><td>&quot;0.2%&quot;</td><td>29573469671</td><td>231811</td><td>3712315</td><td>475</td><td>16506</td><td>&quot;미국&quot;</td><td>&quot;미국&quot;</td><td>null</td><td>&quot;판씨네마(주)&quot;</td><td>&quot;15세이상관람가&quot;</td><td>[&quot;멜로/로맨스&quot;]</td><td>&quot;존 카니&quot;</td><td>[&quot;키이라 나이틀리&quot;, &quot;마크 러팔로&quot;, … &quot;캐서린 키너&quot;]</td></tr><tr><td>71</td><td>&quot;소년시절의 너&quot;</td><td>2020-07-09</td><td>2027736150</td><td>&quot;0.2%&quot;</td><td>2704847980</td><td>212185</td><td>292798</td><td>467</td><td>14450</td><td>&quot;중국&quot;</td><td>&quot;중국&quot;</td><td>null</td><td>&quot;(주)바이포엠스튜디오,(주)영화특별시에스엠씨,(주)콘텐…</td><td>&quot;15세이상관람가&quot;</td><td>[&quot;멜로/로맨스&quot;, &quot;드라마&quot;, … &quot;가족&quot;]</td><td>&quot;증국상&quot;</td><td>[&quot;주동우&quot;]</td></tr><tr><td>&hellip;</td><td>&hellip;</td><td>&hellip;</td><td>&hellip;</td><td>&hellip;</td><td>&hellip;</td><td>&hellip;</td><td>&hellip;</td><td>&hellip;</td><td>&hellip;</td><td>&hellip;</td><td>&hellip;</td><td>&hellip;</td><td>&hellip;</td><td>&hellip;</td><td>&hellip;</td><td>&hellip;</td><td>&hellip;</td></tr><tr><td>3365</td><td>&quot;평평남녀&quot;</td><td>2022-04-28</td><td>8000</td><td>&quot;0.0%&quot;</td><td>11582200</td><td>1</td><td>1317</td><td>1</td><td>1</td><td>&quot;한국&quot;</td><td>&quot;한국&quot;</td><td>&quot;브릿지 프로덕션,냉이영화&quot;</td><td>&quot;영화배급협동조합 씨네소파&quot;</td><td>&quot;12세이상관람가&quot;</td><td>[&quot;드라마&quot;, &quot;멜로/로맨스&quot;]</td><td>&quot;김수정&quot;</td><td>[&quot;이태경&quot;, &quot;이한주&quot;, … &quot;박종환&quot;]</td></tr><tr><td>3365</td><td>&quot;한 남자&quot;</td><td>2023-08-30</td><td>10000</td><td>&quot;0.0%&quot;</td><td>139270250</td><td>1</td><td>15939</td><td>1</td><td>1</td><td>&quot;일본&quot;</td><td>&quot;일본&quot;</td><td>null</td><td>&quot;트윈플러스파트너스(주)&quot;</td><td>&quot;12세이상관람가&quot;</td><td>[&quot;범죄&quot;, &quot;멜로/로맨스&quot;, &quot;스릴러&quot;]</td><td>&quot;이시카와 케이&quot;</td><td>[&quot;츠마부키 사토시&quot;, &quot;안도 사쿠라&quot;]</td></tr><tr><td>3365</td><td>&quot;헝거&quot;</td><td>2022-04-21</td><td>3000</td><td>&quot;0.0%&quot;</td><td>6007060</td><td>1</td><td>778</td><td>1</td><td>1</td><td>&quot;한국&quot;</td><td>&quot;한국&quot;</td><td>&quot;영화사 케디필름&quot;</td><td>&quot;(주)디오시네마,(주)태양미디어그룹&quot;</td><td>&quot;12세이상관람가&quot;</td><td>[&quot;SF&quot;, &quot;드라마&quot;]</td><td>&quot;강다연&quot;</td><td>[&quot;김유나&quot;, &quot;최윤우&quot;, … &quot;조은강&quot;]</td></tr><tr><td>3365</td><td>&quot;호피와 차돌바위&quot;</td><td>null</td><td>8000</td><td>&quot;0.0%&quot;</td><td>28000</td><td>1</td><td>4</td><td>1</td><td>1</td><td>&quot;한국&quot;</td><td>&quot;한국&quot;</td><td>null</td><td>null</td><td>null</td><td>[&quot;애니메이션&quot;]</td><td>&quot;신동헌&quot;</td><td>null</td></tr><tr><td>3365</td><td>&quot;희수&quot;</td><td>2022-12-15</td><td>5000</td><td>&quot;0.0%&quot;</td><td>4795500</td><td>1</td><td>617</td><td>1</td><td>1</td><td>&quot;한국&quot;</td><td>&quot;한국&quot;</td><td>&quot;영화사 정원&quot;</td><td>&quot;영화사 정원&quot;</td><td>&quot;12세이상관람가&quot;</td><td>[&quot;드라마&quot;]</td><td>&quot;감정원&quot;</td><td>[&quot;공민정&quot;]</td></tr></tbody></table></div>"
            ]
          },
          "metadata": {},
          "execution_count": 11
        }
      ],
      "source": [
        "df_boxoffice.join(df_seat_rate, on = '영화명', how = 'anti', suffix = '_좌석')"
      ]
    },
    {
      "cell_type": "code",
      "execution_count": 12,
      "id": "2d56400d-6827-43af-b993-9198bcf072a4",
      "metadata": {
        "colab": {
          "base_uri": "https://localhost:8080/",
          "height": 1000
        },
        "id": "2d56400d-6827-43af-b993-9198bcf072a4",
        "outputId": "1b6d0820-5828-47f7-b1f8-9df310532ec2"
      },
      "outputs": [
        {
          "output_type": "execute_result",
          "data": {
            "text/plain": [
              "shape: (4_794_156, 24)\n",
              "┌──────┬────────┬────────────┬──────────────┬───┬─────────────┬────────────┬────────────┬──────────┐\n",
              "│ 순위 ┆ 영화명 ┆ 개봉일     ┆ 매출액       ┆ … ┆ 개봉일_좌석 ┆ 좌석판매율 ┆ 좌석점유율 ┆ 좌석수   │\n",
              "│ ---  ┆ ---    ┆ ---        ┆ ---          ┆   ┆ ---         ┆ ---        ┆ ---        ┆ ---      │\n",
              "│ i64  ┆ str    ┆ date       ┆ i64          ┆   ┆ date        ┆ f64        ┆ f64        ┆ i64      │\n",
              "╞══════╪════════╪════════════╪══════════════╪═══╪═════════════╪════════════╪════════════╪══════════╡\n",
              "│ 1    ┆ 파묘   ┆ 2024-02-22 ┆ 115157490414 ┆ … ┆ 2024-02-22  ┆ 22.2       ┆ 6.1        ┆ 53450628 │\n",
              "│ 1    ┆ 파묘   ┆ 2024-02-22 ┆ 115157490414 ┆ … ┆ 2024-04-24  ┆ 21.5       ┆ 6.0        ┆ 53350464 │\n",
              "│ 1    ┆ 파묘   ┆ 2024-02-22 ┆ 115157490414 ┆ … ┆ 2024-06-12  ┆ 17.5       ┆ 5.7        ┆ 50018740 │\n",
              "│ 1    ┆ 파묘   ┆ 2024-02-22 ┆ 115157490414 ┆ … ┆ 2024-09-13  ┆ 18.3       ┆ 4.6        ┆ 40990441 │\n",
              "│ 1    ┆ 파묘   ┆ 2024-02-22 ┆ 115157490414 ┆ … ┆ 2024-07-31  ┆ 15.7       ┆ 3.4        ┆ 30046075 │\n",
              "│ …    ┆ …      ┆ …          ┆ …            ┆ … ┆ …           ┆ …          ┆ …          ┆ …        │\n",
              "│ 3365 ┆ 희수   ┆ 2022-12-15 ┆ 5000         ┆ … ┆ 2001-04-28  ┆ 0.0        ┆ 0.0        ┆ 424      │\n",
              "│ 3365 ┆ 희수   ┆ 2022-12-15 ┆ 5000         ┆ … ┆ 2011-12-21  ┆ 0.0        ┆ 0.0        ┆ 212      │\n",
              "│ 3365 ┆ 희수   ┆ 2022-12-15 ┆ 5000         ┆ … ┆ 1998-12-19  ┆ 0.0        ┆ 0.0        ┆ 212      │\n",
              "│ 3365 ┆ 희수   ┆ 2022-12-15 ┆ 5000         ┆ … ┆ 2022-08-10  ┆ 0.0        ┆ 0.0        ┆ 142      │\n",
              "│ 3365 ┆ 희수   ┆ 2022-12-15 ┆ 5000         ┆ … ┆ 2003-10-17  ┆ 0.0        ┆ 0.0        ┆ 424      │\n",
              "└──────┴────────┴────────────┴──────────────┴───┴─────────────┴────────────┴────────────┴──────────┘"
            ],
            "text/html": [
              "<div><style>\n",
              ".dataframe > thead > tr,\n",
              ".dataframe > tbody > tr {\n",
              "  text-align: right;\n",
              "  white-space: pre-wrap;\n",
              "}\n",
              "</style>\n",
              "<small>shape: (4_794_156, 24)</small><table border=\"1\" class=\"dataframe\"><thead><tr><th>순위</th><th>영화명</th><th>개봉일</th><th>매출액</th><th>매출액점유율</th><th>누적매출액</th><th>관객수</th><th>누적관객수</th><th>스크린수</th><th>상영횟수</th><th>대표국적</th><th>국적</th><th>제작사</th><th>배급사</th><th>등급</th><th>장르</th><th>감독</th><th>배우</th><th>순위_좌석</th><th>영화명_좌석</th><th>개봉일_좌석</th><th>좌석판매율</th><th>좌석점유율</th><th>좌석수</th></tr><tr><td>i64</td><td>str</td><td>date</td><td>i64</td><td>str</td><td>i64</td><td>i64</td><td>i64</td><td>i64</td><td>i64</td><td>str</td><td>str</td><td>str</td><td>str</td><td>str</td><td>list[str]</td><td>str</td><td>list[str]</td><td>i64</td><td>str</td><td>date</td><td>f64</td><td>f64</td><td>i64</td></tr></thead><tbody><tr><td>1</td><td>&quot;파묘&quot;</td><td>2024-02-22</td><td>115157490414</td><td>&quot;9.6%&quot;</td><td>115157490414</td><td>11914784</td><td>11914784</td><td>2367</td><td>364955</td><td>&quot;한국&quot;</td><td>&quot;한국&quot;</td><td>&quot;(주)쇼박스&quot;</td><td>&quot;(주)쇼박스&quot;</td><td>&quot;15세이상관람가&quot;</td><td>[&quot;미스터리&quot;, &quot;공포(호러)&quot;]</td><td>&quot;장재현&quot;</td><td>[&quot;최민식&quot;, &quot;김고은&quot;, … &quot;김하영&quot;]</td><td>1</td><td>&quot;파묘&quot;</td><td>2024-02-22</td><td>22.2</td><td>6.1</td><td>53450628</td></tr><tr><td>1</td><td>&quot;파묘&quot;</td><td>2024-02-22</td><td>115157490414</td><td>&quot;9.6%&quot;</td><td>115157490414</td><td>11914784</td><td>11914784</td><td>2367</td><td>364955</td><td>&quot;한국&quot;</td><td>&quot;한국&quot;</td><td>&quot;(주)쇼박스&quot;</td><td>&quot;(주)쇼박스&quot;</td><td>&quot;15세이상관람가&quot;</td><td>[&quot;미스터리&quot;, &quot;공포(호러)&quot;]</td><td>&quot;장재현&quot;</td><td>[&quot;최민식&quot;, &quot;김고은&quot;, … &quot;김하영&quot;]</td><td>2</td><td>&quot;범죄도시4&quot;</td><td>2024-04-24</td><td>21.5</td><td>6.0</td><td>53350464</td></tr><tr><td>1</td><td>&quot;파묘&quot;</td><td>2024-02-22</td><td>115157490414</td><td>&quot;9.6%&quot;</td><td>115157490414</td><td>11914784</td><td>11914784</td><td>2367</td><td>364955</td><td>&quot;한국&quot;</td><td>&quot;한국&quot;</td><td>&quot;(주)쇼박스&quot;</td><td>&quot;(주)쇼박스&quot;</td><td>&quot;15세이상관람가&quot;</td><td>[&quot;미스터리&quot;, &quot;공포(호러)&quot;]</td><td>&quot;장재현&quot;</td><td>[&quot;최민식&quot;, &quot;김고은&quot;, … &quot;김하영&quot;]</td><td>3</td><td>&quot;인사이드 아웃 2&quot;</td><td>2024-06-12</td><td>17.5</td><td>5.7</td><td>50018740</td></tr><tr><td>1</td><td>&quot;파묘&quot;</td><td>2024-02-22</td><td>115157490414</td><td>&quot;9.6%&quot;</td><td>115157490414</td><td>11914784</td><td>11914784</td><td>2367</td><td>364955</td><td>&quot;한국&quot;</td><td>&quot;한국&quot;</td><td>&quot;(주)쇼박스&quot;</td><td>&quot;(주)쇼박스&quot;</td><td>&quot;15세이상관람가&quot;</td><td>[&quot;미스터리&quot;, &quot;공포(호러)&quot;]</td><td>&quot;장재현&quot;</td><td>[&quot;최민식&quot;, &quot;김고은&quot;, … &quot;김하영&quot;]</td><td>4</td><td>&quot;베테랑2&quot;</td><td>2024-09-13</td><td>18.3</td><td>4.6</td><td>40990441</td></tr><tr><td>1</td><td>&quot;파묘&quot;</td><td>2024-02-22</td><td>115157490414</td><td>&quot;9.6%&quot;</td><td>115157490414</td><td>11914784</td><td>11914784</td><td>2367</td><td>364955</td><td>&quot;한국&quot;</td><td>&quot;한국&quot;</td><td>&quot;(주)쇼박스&quot;</td><td>&quot;(주)쇼박스&quot;</td><td>&quot;15세이상관람가&quot;</td><td>[&quot;미스터리&quot;, &quot;공포(호러)&quot;]</td><td>&quot;장재현&quot;</td><td>[&quot;최민식&quot;, &quot;김고은&quot;, … &quot;김하영&quot;]</td><td>5</td><td>&quot;파일럿&quot;</td><td>2024-07-31</td><td>15.7</td><td>3.4</td><td>30046075</td></tr><tr><td>&hellip;</td><td>&hellip;</td><td>&hellip;</td><td>&hellip;</td><td>&hellip;</td><td>&hellip;</td><td>&hellip;</td><td>&hellip;</td><td>&hellip;</td><td>&hellip;</td><td>&hellip;</td><td>&hellip;</td><td>&hellip;</td><td>&hellip;</td><td>&hellip;</td><td>&hellip;</td><td>&hellip;</td><td>&hellip;</td><td>&hellip;</td><td>&hellip;</td><td>&hellip;</td><td>&hellip;</td><td>&hellip;</td><td>&hellip;</td></tr><tr><td>3365</td><td>&quot;희수&quot;</td><td>2022-12-15</td><td>5000</td><td>&quot;0.0%&quot;</td><td>4795500</td><td>1</td><td>617</td><td>1</td><td>1</td><td>&quot;한국&quot;</td><td>&quot;한국&quot;</td><td>&quot;영화사 정원&quot;</td><td>&quot;영화사 정원&quot;</td><td>&quot;12세이상관람가&quot;</td><td>[&quot;드라마&quot;]</td><td>&quot;감정원&quot;</td><td>[&quot;공민정&quot;]</td><td>1438</td><td>&quot;파이란&quot;</td><td>2001-04-28</td><td>0.0</td><td>0.0</td><td>424</td></tr><tr><td>3365</td><td>&quot;희수&quot;</td><td>2022-12-15</td><td>5000</td><td>&quot;0.0%&quot;</td><td>4795500</td><td>1</td><td>617</td><td>1</td><td>1</td><td>&quot;한국&quot;</td><td>&quot;한국&quot;</td><td>&quot;영화사 정원&quot;</td><td>&quot;영화사 정원&quot;</td><td>&quot;12세이상관람가&quot;</td><td>[&quot;드라마&quot;]</td><td>&quot;감정원&quot;</td><td>[&quot;공민정&quot;]</td><td>1438</td><td>&quot;퍼펙트 게임&quot;</td><td>2011-12-21</td><td>0.0</td><td>0.0</td><td>212</td></tr><tr><td>3365</td><td>&quot;희수&quot;</td><td>2022-12-15</td><td>5000</td><td>&quot;0.0%&quot;</td><td>4795500</td><td>1</td><td>617</td><td>1</td><td>1</td><td>&quot;한국&quot;</td><td>&quot;한국&quot;</td><td>&quot;영화사 정원&quot;</td><td>&quot;영화사 정원&quot;</td><td>&quot;12세이상관람가&quot;</td><td>[&quot;드라마&quot;]</td><td>&quot;감정원&quot;</td><td>[&quot;공민정&quot;]</td><td>1438</td><td>&quot;해가 서쪽에서 뜬다면&quot;</td><td>1998-12-19</td><td>0.0</td><td>0.0</td><td>212</td></tr><tr><td>3365</td><td>&quot;희수&quot;</td><td>2022-12-15</td><td>5000</td><td>&quot;0.0%&quot;</td><td>4795500</td><td>1</td><td>617</td><td>1</td><td>1</td><td>&quot;한국&quot;</td><td>&quot;한국&quot;</td><td>&quot;영화사 정원&quot;</td><td>&quot;영화사 정원&quot;</td><td>&quot;12세이상관람가&quot;</td><td>[&quot;드라마&quot;]</td><td>&quot;감정원&quot;</td><td>[&quot;공민정&quot;]</td><td>1438</td><td>&quot;헌트&quot;</td><td>2022-08-10</td><td>0.0</td><td>0.0</td><td>142</td></tr><tr><td>3365</td><td>&quot;희수&quot;</td><td>2022-12-15</td><td>5000</td><td>&quot;0.0%&quot;</td><td>4795500</td><td>1</td><td>617</td><td>1</td><td>1</td><td>&quot;한국&quot;</td><td>&quot;한국&quot;</td><td>&quot;영화사 정원&quot;</td><td>&quot;영화사 정원&quot;</td><td>&quot;12세이상관람가&quot;</td><td>[&quot;드라마&quot;]</td><td>&quot;감정원&quot;</td><td>[&quot;공민정&quot;]</td><td>1438</td><td>&quot;황산벌&quot;</td><td>2003-10-17</td><td>0.0</td><td>0.0</td><td>424</td></tr></tbody></table></div>"
            ]
          },
          "metadata": {},
          "execution_count": 12
        }
      ],
      "source": [
        "df_boxoffice.join(df_seat_rate, how = 'cross', suffix = '_좌석')"
      ]
    },
    {
      "cell_type": "code",
      "execution_count": 13,
      "id": "7b6003f3-3a03-462c-bc99-1cbfc9b44d5b",
      "metadata": {
        "colab": {
          "base_uri": "https://localhost:8080/",
          "height": 1000
        },
        "id": "7b6003f3-3a03-462c-bc99-1cbfc9b44d5b",
        "outputId": "3b193844-6e77-4b71-932c-52d3cc05d7f6"
      },
      "outputs": [
        {
          "output_type": "execute_result",
          "data": {
            "text/plain": [
              "shape: (803_366, 24)\n",
              "┌──────┬──────────┬────────────┬─────────────┬───┬────────────┬────────────┬────────────┬──────────┐\n",
              "│ 순위 ┆ 영화명   ┆ 개봉일     ┆ 매출액      ┆ … ┆ 개봉일_좌  ┆ 좌석판매율 ┆ 좌석점유율 ┆ 좌석수   │\n",
              "│ ---  ┆ ---      ┆ ---        ┆ ---         ┆   ┆ 석         ┆ ---        ┆ ---        ┆ ---      │\n",
              "│ i64  ┆ str      ┆ date       ┆ i64         ┆   ┆ ---        ┆ f64        ┆ f64        ┆ i64      │\n",
              "│      ┆          ┆            ┆             ┆   ┆ date       ┆            ┆            ┆          │\n",
              "╞══════╪══════════╪════════════╪═════════════╪═══╪════════════╪════════════╪════════════╪══════════╡\n",
              "│ 1    ┆ 파묘     ┆ 2024-02-22 ┆ 11515749041 ┆ … ┆ 2024-04-24 ┆ 21.5       ┆ 6.0        ┆ 53350464 │\n",
              "│      ┆          ┆            ┆ 4           ┆   ┆            ┆            ┆            ┆          │\n",
              "│ 1    ┆ 파묘     ┆ 2024-02-22 ┆ 11515749041 ┆ … ┆ 2024-06-12 ┆ 17.5       ┆ 5.7        ┆ 50018740 │\n",
              "│      ┆          ┆            ┆ 4           ┆   ┆            ┆            ┆            ┆          │\n",
              "│ 1    ┆ 파묘     ┆ 2024-02-22 ┆ 11515749041 ┆ … ┆ 2024-09-13 ┆ 18.3       ┆ 4.6        ┆ 40990441 │\n",
              "│      ┆          ┆            ┆ 4           ┆   ┆            ┆            ┆            ┆          │\n",
              "│ 1    ┆ 파묘     ┆ 2024-02-22 ┆ 11515749041 ┆ … ┆ 2024-07-31 ┆ 15.7       ┆ 3.4        ┆ 30046075 │\n",
              "│      ┆          ┆            ┆ 4           ┆   ┆            ┆            ┆            ┆          │\n",
              "│ 1    ┆ 파묘     ┆ 2024-02-22 ┆ 11515749041 ┆ … ┆ 2024-01-31 ┆ 15.2       ┆ 2.6        ┆ 23091829 │\n",
              "│      ┆          ┆            ┆ 4           ┆   ┆            ┆            ┆            ┆          │\n",
              "│ …    ┆ …        ┆ …          ┆ …           ┆ … ┆ …          ┆ …          ┆ …          ┆ …        │\n",
              "│ 1433 ┆ 퍼펙트슛 ┆ null       ┆ 910000      ┆ … ┆ 2001-04-28 ┆ 0.0        ┆ 0.0        ┆ 424      │\n",
              "│ 1433 ┆ 퍼펙트슛 ┆ null       ┆ 910000      ┆ … ┆ 2011-12-21 ┆ 0.0        ┆ 0.0        ┆ 212      │\n",
              "│ 1433 ┆ 퍼펙트슛 ┆ null       ┆ 910000      ┆ … ┆ 1998-12-19 ┆ 0.0        ┆ 0.0        ┆ 212      │\n",
              "│ 1433 ┆ 퍼펙트슛 ┆ null       ┆ 910000      ┆ … ┆ 2022-08-10 ┆ 0.0        ┆ 0.0        ┆ 142      │\n",
              "│ 1433 ┆ 퍼펙트슛 ┆ null       ┆ 910000      ┆ … ┆ 2003-10-17 ┆ 0.0        ┆ 0.0        ┆ 424      │\n",
              "└──────┴──────────┴────────────┴─────────────┴───┴────────────┴────────────┴────────────┴──────────┘"
            ],
            "text/html": [
              "<div><style>\n",
              ".dataframe > thead > tr,\n",
              ".dataframe > tbody > tr {\n",
              "  text-align: right;\n",
              "  white-space: pre-wrap;\n",
              "}\n",
              "</style>\n",
              "<small>shape: (803_366, 24)</small><table border=\"1\" class=\"dataframe\"><thead><tr><th>순위</th><th>영화명</th><th>개봉일</th><th>매출액</th><th>매출액점유율</th><th>누적매출액</th><th>관객수</th><th>누적관객수</th><th>스크린수</th><th>상영횟수</th><th>대표국적</th><th>국적</th><th>제작사</th><th>배급사</th><th>등급</th><th>장르</th><th>감독</th><th>배우</th><th>순위_좌석</th><th>영화명_좌석</th><th>개봉일_좌석</th><th>좌석판매율</th><th>좌석점유율</th><th>좌석수</th></tr><tr><td>i64</td><td>str</td><td>date</td><td>i64</td><td>str</td><td>i64</td><td>i64</td><td>i64</td><td>i64</td><td>i64</td><td>str</td><td>str</td><td>str</td><td>str</td><td>str</td><td>list[str]</td><td>str</td><td>list[str]</td><td>i64</td><td>str</td><td>date</td><td>f64</td><td>f64</td><td>i64</td></tr></thead><tbody><tr><td>1</td><td>&quot;파묘&quot;</td><td>2024-02-22</td><td>115157490414</td><td>&quot;9.6%&quot;</td><td>115157490414</td><td>11914784</td><td>11914784</td><td>2367</td><td>364955</td><td>&quot;한국&quot;</td><td>&quot;한국&quot;</td><td>&quot;(주)쇼박스&quot;</td><td>&quot;(주)쇼박스&quot;</td><td>&quot;15세이상관람가&quot;</td><td>[&quot;미스터리&quot;, &quot;공포(호러)&quot;]</td><td>&quot;장재현&quot;</td><td>[&quot;최민식&quot;, &quot;김고은&quot;, … &quot;김하영&quot;]</td><td>2</td><td>&quot;범죄도시4&quot;</td><td>2024-04-24</td><td>21.5</td><td>6.0</td><td>53350464</td></tr><tr><td>1</td><td>&quot;파묘&quot;</td><td>2024-02-22</td><td>115157490414</td><td>&quot;9.6%&quot;</td><td>115157490414</td><td>11914784</td><td>11914784</td><td>2367</td><td>364955</td><td>&quot;한국&quot;</td><td>&quot;한국&quot;</td><td>&quot;(주)쇼박스&quot;</td><td>&quot;(주)쇼박스&quot;</td><td>&quot;15세이상관람가&quot;</td><td>[&quot;미스터리&quot;, &quot;공포(호러)&quot;]</td><td>&quot;장재현&quot;</td><td>[&quot;최민식&quot;, &quot;김고은&quot;, … &quot;김하영&quot;]</td><td>3</td><td>&quot;인사이드 아웃 2&quot;</td><td>2024-06-12</td><td>17.5</td><td>5.7</td><td>50018740</td></tr><tr><td>1</td><td>&quot;파묘&quot;</td><td>2024-02-22</td><td>115157490414</td><td>&quot;9.6%&quot;</td><td>115157490414</td><td>11914784</td><td>11914784</td><td>2367</td><td>364955</td><td>&quot;한국&quot;</td><td>&quot;한국&quot;</td><td>&quot;(주)쇼박스&quot;</td><td>&quot;(주)쇼박스&quot;</td><td>&quot;15세이상관람가&quot;</td><td>[&quot;미스터리&quot;, &quot;공포(호러)&quot;]</td><td>&quot;장재현&quot;</td><td>[&quot;최민식&quot;, &quot;김고은&quot;, … &quot;김하영&quot;]</td><td>4</td><td>&quot;베테랑2&quot;</td><td>2024-09-13</td><td>18.3</td><td>4.6</td><td>40990441</td></tr><tr><td>1</td><td>&quot;파묘&quot;</td><td>2024-02-22</td><td>115157490414</td><td>&quot;9.6%&quot;</td><td>115157490414</td><td>11914784</td><td>11914784</td><td>2367</td><td>364955</td><td>&quot;한국&quot;</td><td>&quot;한국&quot;</td><td>&quot;(주)쇼박스&quot;</td><td>&quot;(주)쇼박스&quot;</td><td>&quot;15세이상관람가&quot;</td><td>[&quot;미스터리&quot;, &quot;공포(호러)&quot;]</td><td>&quot;장재현&quot;</td><td>[&quot;최민식&quot;, &quot;김고은&quot;, … &quot;김하영&quot;]</td><td>5</td><td>&quot;파일럿&quot;</td><td>2024-07-31</td><td>15.7</td><td>3.4</td><td>30046075</td></tr><tr><td>1</td><td>&quot;파묘&quot;</td><td>2024-02-22</td><td>115157490414</td><td>&quot;9.6%&quot;</td><td>115157490414</td><td>11914784</td><td>11914784</td><td>2367</td><td>364955</td><td>&quot;한국&quot;</td><td>&quot;한국&quot;</td><td>&quot;(주)쇼박스&quot;</td><td>&quot;(주)쇼박스&quot;</td><td>&quot;15세이상관람가&quot;</td><td>[&quot;미스터리&quot;, &quot;공포(호러)&quot;]</td><td>&quot;장재현&quot;</td><td>[&quot;최민식&quot;, &quot;김고은&quot;, … &quot;김하영&quot;]</td><td>6</td><td>&quot;웡카&quot;</td><td>2024-01-31</td><td>15.2</td><td>2.6</td><td>23091829</td></tr><tr><td>&hellip;</td><td>&hellip;</td><td>&hellip;</td><td>&hellip;</td><td>&hellip;</td><td>&hellip;</td><td>&hellip;</td><td>&hellip;</td><td>&hellip;</td><td>&hellip;</td><td>&hellip;</td><td>&hellip;</td><td>&hellip;</td><td>&hellip;</td><td>&hellip;</td><td>&hellip;</td><td>&hellip;</td><td>&hellip;</td><td>&hellip;</td><td>&hellip;</td><td>&hellip;</td><td>&hellip;</td><td>&hellip;</td><td>&hellip;</td></tr><tr><td>1433</td><td>&quot;퍼펙트슛&quot;</td><td>null</td><td>910000</td><td>&quot;0.0%&quot;</td><td>910000</td><td>182</td><td>182</td><td>1</td><td>2</td><td>&quot;한국&quot;</td><td>&quot;한국&quot;</td><td>null</td><td>null</td><td>null</td><td>[&quot;기타&quot;]</td><td>null</td><td>null</td><td>1438</td><td>&quot;파이란&quot;</td><td>2001-04-28</td><td>0.0</td><td>0.0</td><td>424</td></tr><tr><td>1433</td><td>&quot;퍼펙트슛&quot;</td><td>null</td><td>910000</td><td>&quot;0.0%&quot;</td><td>910000</td><td>182</td><td>182</td><td>1</td><td>2</td><td>&quot;한국&quot;</td><td>&quot;한국&quot;</td><td>null</td><td>null</td><td>null</td><td>[&quot;기타&quot;]</td><td>null</td><td>null</td><td>1438</td><td>&quot;퍼펙트 게임&quot;</td><td>2011-12-21</td><td>0.0</td><td>0.0</td><td>212</td></tr><tr><td>1433</td><td>&quot;퍼펙트슛&quot;</td><td>null</td><td>910000</td><td>&quot;0.0%&quot;</td><td>910000</td><td>182</td><td>182</td><td>1</td><td>2</td><td>&quot;한국&quot;</td><td>&quot;한국&quot;</td><td>null</td><td>null</td><td>null</td><td>[&quot;기타&quot;]</td><td>null</td><td>null</td><td>1438</td><td>&quot;해가 서쪽에서 뜬다면&quot;</td><td>1998-12-19</td><td>0.0</td><td>0.0</td><td>212</td></tr><tr><td>1433</td><td>&quot;퍼펙트슛&quot;</td><td>null</td><td>910000</td><td>&quot;0.0%&quot;</td><td>910000</td><td>182</td><td>182</td><td>1</td><td>2</td><td>&quot;한국&quot;</td><td>&quot;한국&quot;</td><td>null</td><td>null</td><td>null</td><td>[&quot;기타&quot;]</td><td>null</td><td>null</td><td>1438</td><td>&quot;헌트&quot;</td><td>2022-08-10</td><td>0.0</td><td>0.0</td><td>142</td></tr><tr><td>1433</td><td>&quot;퍼펙트슛&quot;</td><td>null</td><td>910000</td><td>&quot;0.0%&quot;</td><td>910000</td><td>182</td><td>182</td><td>1</td><td>2</td><td>&quot;한국&quot;</td><td>&quot;한국&quot;</td><td>null</td><td>null</td><td>null</td><td>[&quot;기타&quot;]</td><td>null</td><td>null</td><td>1438</td><td>&quot;황산벌&quot;</td><td>2003-10-17</td><td>0.0</td><td>0.0</td><td>424</td></tr></tbody></table></div>"
            ]
          },
          "metadata": {},
          "execution_count": 13
        }
      ],
      "source": [
        "df_boxoffice.join_where(df_seat_rate, pl.col('순위') < pl.col('순위_좌석'), suffix = '_좌석')"
      ]
    },
    {
      "cell_type": "code",
      "execution_count": 14,
      "id": "b21b5c5e-8fe7-4bf6-ba45-fee08c19ddac",
      "metadata": {
        "colab": {
          "base_uri": "https://localhost:8080/",
          "height": 880
        },
        "id": "b21b5c5e-8fe7-4bf6-ba45-fee08c19ddac",
        "outputId": "dd56b02c-7b7b-445e-8cd8-1804589b620a"
      },
      "outputs": [
        {
          "output_type": "execute_result",
          "data": {
            "text/plain": [
              "shape: (10, 18)\n",
              "┌──────┬────────────┬────────────┬────────────┬───┬────────────┬───────────┬───────────┬───────────┐\n",
              "│ 순위 ┆ 영화명     ┆ 개봉일     ┆ 매출액     ┆ … ┆ 등급       ┆ 장르      ┆ 감독      ┆ 배우      │\n",
              "│ ---  ┆ ---        ┆ ---        ┆ ---        ┆   ┆ ---        ┆ ---       ┆ ---       ┆ ---       │\n",
              "│ i64  ┆ str        ┆ date       ┆ i64        ┆   ┆ str        ┆ list[str] ┆ str       ┆ list[str] │\n",
              "╞══════╪════════════╪════════════╪════════════╪═══╪════════════╪═══════════╪═══════════╪═══════════╡\n",
              "│ 1    ┆ 파묘       ┆ 2024-02-22 ┆ 1151574904 ┆ … ┆ 15세이상관 ┆ [\"미스터  ┆ 장재현    ┆ [\"최민식\" │\n",
              "│      ┆            ┆            ┆ 14         ┆   ┆ 람가       ┆ 리\", \"공  ┆           ┆ ,         │\n",
              "│      ┆            ┆            ┆            ┆   ┆            ┆ 포(호러)\" ┆           ┆ \"김고은\", │\n",
              "│      ┆            ┆            ┆            ┆   ┆            ┆ ]         ┆           ┆ …         │\n",
              "│      ┆            ┆            ┆            ┆   ┆            ┆           ┆           ┆ \"김하영\"] │\n",
              "│ 2    ┆ 범죄도시4  ┆ 2024-04-24 ┆ 1100500007 ┆ … ┆ 15세이상관 ┆ [\"액션\",  ┆ 허명행    ┆ [\"김무열\" │\n",
              "│      ┆            ┆            ┆ 34         ┆   ┆ 람가       ┆ \"범죄\"]   ┆           ┆ ,         │\n",
              "│      ┆            ┆            ┆            ┆   ┆            ┆           ┆           ┆ \"박지환\", │\n",
              "│      ┆            ┆            ┆            ┆   ┆            ┆           ┆           ┆ …         │\n",
              "│      ┆            ┆            ┆            ┆   ┆            ┆           ┆           ┆ \"조석인\"] │\n",
              "│ 3    ┆ 인사이드   ┆ 2024-06-12 ┆ 8450928403 ┆ … ┆ 전체관람가 ┆ [\"애니메  ┆ 켈시 만   ┆ [\"에이미  │\n",
              "│      ┆ 아웃 2     ┆            ┆ 6          ┆   ┆            ┆ 이션\"]    ┆           ┆ 포엘러\",  │\n",
              "│      ┆            ┆            ┆            ┆   ┆            ┆           ┆           ┆ \"토니     │\n",
              "│      ┆            ┆            ┆            ┆   ┆            ┆           ┆           ┆ 헤일\"]    │\n",
              "│ 4    ┆ 베테랑2    ┆ 2024-09-13 ┆ 7247403581 ┆ … ┆ 15세이상관 ┆ [\"액션\",  ┆ 류승완    ┆ [\"황정민\" │\n",
              "│      ┆            ┆            ┆ 4          ┆   ┆ 람가       ┆ \"범죄\"]   ┆           ┆ ,         │\n",
              "│      ┆            ┆            ┆            ┆   ┆            ┆           ┆           ┆ \"정해인\", │\n",
              "│      ┆            ┆            ┆            ┆   ┆            ┆           ┆           ┆ …         │\n",
              "│      ┆            ┆            ┆            ┆   ┆            ┆           ┆           ┆ \"이상협\"] │\n",
              "│ 5    ┆ 파일럿     ┆ 2024-07-31 ┆ 4320407920 ┆ … ┆ 12세이상관 ┆ [\"코미디\" ┆ 김한결    ┆ [\"조정석\" │\n",
              "│      ┆            ┆            ┆ 1          ┆   ┆ 람가       ┆ ]         ┆           ┆ ,         │\n",
              "│      ┆            ┆            ┆            ┆   ┆            ┆           ┆           ┆ \"이주명\", │\n",
              "│      ┆            ┆            ┆            ┆   ┆            ┆           ┆           ┆ …         │\n",
              "│      ┆            ┆            ┆            ┆   ┆            ┆           ┆           ┆ \"한지혁\"] │\n",
              "│ 3365 ┆ 평평남녀   ┆ 2022-04-28 ┆ 8000       ┆ … ┆ 12세이상관 ┆ [\"드라마\" ┆ 김수정    ┆ [\"이태경\" │\n",
              "│      ┆            ┆            ┆            ┆   ┆ 람가       ┆ , \"멜로/  ┆           ┆ ,         │\n",
              "│      ┆            ┆            ┆            ┆   ┆            ┆ 로맨스\"]  ┆           ┆ \"이한주\", │\n",
              "│      ┆            ┆            ┆            ┆   ┆            ┆           ┆           ┆ …         │\n",
              "│      ┆            ┆            ┆            ┆   ┆            ┆           ┆           ┆ \"박종환\"] │\n",
              "│ 3365 ┆ 한 남자    ┆ 2023-08-30 ┆ 10000      ┆ … ┆ 12세이상관 ┆ [\"범죄\",  ┆ 이시카와  ┆ [\"츠마부  │\n",
              "│      ┆            ┆            ┆            ┆   ┆ 람가       ┆ \"멜로/로  ┆ 케이      ┆ 키        │\n",
              "│      ┆            ┆            ┆            ┆   ┆            ┆ 맨스\",    ┆           ┆ 사토시\",  │\n",
              "│      ┆            ┆            ┆            ┆   ┆            ┆ \"스릴러\"] ┆           ┆ \"안도     │\n",
              "│      ┆            ┆            ┆            ┆   ┆            ┆           ┆           ┆ 사쿠라\"]  │\n",
              "│ 3365 ┆ 헝거       ┆ 2022-04-21 ┆ 3000       ┆ … ┆ 12세이상관 ┆ [\"SF\",    ┆ 강다연    ┆ [\"김유나\" │\n",
              "│      ┆            ┆            ┆            ┆   ┆ 람가       ┆ \"드라마\"] ┆           ┆ ,         │\n",
              "│      ┆            ┆            ┆            ┆   ┆            ┆           ┆           ┆ \"최윤우\", │\n",
              "│      ┆            ┆            ┆            ┆   ┆            ┆           ┆           ┆ …         │\n",
              "│      ┆            ┆            ┆            ┆   ┆            ┆           ┆           ┆ \"조은강\"] │\n",
              "│ 3365 ┆ 호피와     ┆ null       ┆ 8000       ┆ … ┆ null       ┆ [\"애니메  ┆ 신동헌    ┆ null      │\n",
              "│      ┆ 차돌바위   ┆            ┆            ┆   ┆            ┆ 이션\"]    ┆           ┆           │\n",
              "│ 3365 ┆ 희수       ┆ 2022-12-15 ┆ 5000       ┆ … ┆ 12세이상관 ┆ [\"드라마\" ┆ 감정원    ┆ [\"공민정\" │\n",
              "│      ┆            ┆            ┆            ┆   ┆ 람가       ┆ ]         ┆           ┆ ]         │\n",
              "└──────┴────────────┴────────────┴────────────┴───┴────────────┴───────────┴───────────┴───────────┘"
            ],
            "text/html": [
              "<div><style>\n",
              ".dataframe > thead > tr,\n",
              ".dataframe > tbody > tr {\n",
              "  text-align: right;\n",
              "  white-space: pre-wrap;\n",
              "}\n",
              "</style>\n",
              "<small>shape: (10, 18)</small><table border=\"1\" class=\"dataframe\"><thead><tr><th>순위</th><th>영화명</th><th>개봉일</th><th>매출액</th><th>매출액점유율</th><th>누적매출액</th><th>관객수</th><th>누적관객수</th><th>스크린수</th><th>상영횟수</th><th>대표국적</th><th>국적</th><th>제작사</th><th>배급사</th><th>등급</th><th>장르</th><th>감독</th><th>배우</th></tr><tr><td>i64</td><td>str</td><td>date</td><td>i64</td><td>str</td><td>i64</td><td>i64</td><td>i64</td><td>i64</td><td>i64</td><td>str</td><td>str</td><td>str</td><td>str</td><td>str</td><td>list[str]</td><td>str</td><td>list[str]</td></tr></thead><tbody><tr><td>1</td><td>&quot;파묘&quot;</td><td>2024-02-22</td><td>115157490414</td><td>&quot;9.6%&quot;</td><td>115157490414</td><td>11914784</td><td>11914784</td><td>2367</td><td>364955</td><td>&quot;한국&quot;</td><td>&quot;한국&quot;</td><td>&quot;(주)쇼박스&quot;</td><td>&quot;(주)쇼박스&quot;</td><td>&quot;15세이상관람가&quot;</td><td>[&quot;미스터리&quot;, &quot;공포(호러)&quot;]</td><td>&quot;장재현&quot;</td><td>[&quot;최민식&quot;, &quot;김고은&quot;, … &quot;김하영&quot;]</td></tr><tr><td>2</td><td>&quot;범죄도시4&quot;</td><td>2024-04-24</td><td>110050000734</td><td>&quot;9.2%&quot;</td><td>110050000734</td><td>11502779</td><td>11502779</td><td>2980</td><td>375434</td><td>&quot;한국&quot;</td><td>&quot;한국&quot;</td><td>&quot;주식회사 빅펀치픽쳐스,(주)홍필름,(주)비에이엔터테인먼…</td><td>&quot;주식회사 에이비오엔터테인먼트,플러스엠 엔터테인먼트&quot;</td><td>&quot;15세이상관람가&quot;</td><td>[&quot;액션&quot;, &quot;범죄&quot;]</td><td>&quot;허명행&quot;</td><td>[&quot;김무열&quot;, &quot;박지환&quot;, … &quot;조석인&quot;]</td></tr><tr><td>3</td><td>&quot;인사이드 아웃 2&quot;</td><td>2024-06-12</td><td>84509284036</td><td>&quot;7.1%&quot;</td><td>84509284036</td><td>8799013</td><td>8799013</td><td>2619</td><td>331341</td><td>&quot;미국&quot;</td><td>&quot;미국&quot;</td><td>&quot;월트 디즈니 픽쳐스,픽사 애니메이션 스튜디오&quot;</td><td>&quot;월트디즈니컴퍼니코리아 유한책임회사&quot;</td><td>&quot;전체관람가&quot;</td><td>[&quot;애니메이션&quot;]</td><td>&quot;켈시 만&quot;</td><td>[&quot;에이미 포엘러&quot;, &quot;토니 헤일&quot;]</td></tr><tr><td>4</td><td>&quot;베테랑2&quot;</td><td>2024-09-13</td><td>72474035814</td><td>&quot;6.1%&quot;</td><td>72474035814</td><td>7525339</td><td>7525339</td><td>2691</td><td>279673</td><td>&quot;한국&quot;</td><td>&quot;한국&quot;</td><td>&quot;(주)외유내강&quot;</td><td>&quot;(주)씨제이이엔엠&quot;</td><td>&quot;15세이상관람가&quot;</td><td>[&quot;액션&quot;, &quot;범죄&quot;]</td><td>&quot;류승완&quot;</td><td>[&quot;황정민&quot;, &quot;정해인&quot;, … &quot;이상협&quot;]</td></tr><tr><td>5</td><td>&quot;파일럿&quot;</td><td>2024-07-31</td><td>43204079201</td><td>&quot;3.6%&quot;</td><td>43204079201</td><td>4718036</td><td>4718036</td><td>1956</td><td>203283</td><td>&quot;한국&quot;</td><td>&quot;한국&quot;</td><td>&quot;쇼트케이크(주),(주)무비락&quot;</td><td>&quot;롯데컬처웍스(주)롯데엔터테인먼트&quot;</td><td>&quot;12세이상관람가&quot;</td><td>[&quot;코미디&quot;]</td><td>&quot;김한결&quot;</td><td>[&quot;조정석&quot;, &quot;이주명&quot;, … &quot;한지혁&quot;]</td></tr><tr><td>3365</td><td>&quot;평평남녀&quot;</td><td>2022-04-28</td><td>8000</td><td>&quot;0.0%&quot;</td><td>11582200</td><td>1</td><td>1317</td><td>1</td><td>1</td><td>&quot;한국&quot;</td><td>&quot;한국&quot;</td><td>&quot;브릿지 프로덕션,냉이영화&quot;</td><td>&quot;영화배급협동조합 씨네소파&quot;</td><td>&quot;12세이상관람가&quot;</td><td>[&quot;드라마&quot;, &quot;멜로/로맨스&quot;]</td><td>&quot;김수정&quot;</td><td>[&quot;이태경&quot;, &quot;이한주&quot;, … &quot;박종환&quot;]</td></tr><tr><td>3365</td><td>&quot;한 남자&quot;</td><td>2023-08-30</td><td>10000</td><td>&quot;0.0%&quot;</td><td>139270250</td><td>1</td><td>15939</td><td>1</td><td>1</td><td>&quot;일본&quot;</td><td>&quot;일본&quot;</td><td>null</td><td>&quot;트윈플러스파트너스(주)&quot;</td><td>&quot;12세이상관람가&quot;</td><td>[&quot;범죄&quot;, &quot;멜로/로맨스&quot;, &quot;스릴러&quot;]</td><td>&quot;이시카와 케이&quot;</td><td>[&quot;츠마부키 사토시&quot;, &quot;안도 사쿠라&quot;]</td></tr><tr><td>3365</td><td>&quot;헝거&quot;</td><td>2022-04-21</td><td>3000</td><td>&quot;0.0%&quot;</td><td>6007060</td><td>1</td><td>778</td><td>1</td><td>1</td><td>&quot;한국&quot;</td><td>&quot;한국&quot;</td><td>&quot;영화사 케디필름&quot;</td><td>&quot;(주)디오시네마,(주)태양미디어그룹&quot;</td><td>&quot;12세이상관람가&quot;</td><td>[&quot;SF&quot;, &quot;드라마&quot;]</td><td>&quot;강다연&quot;</td><td>[&quot;김유나&quot;, &quot;최윤우&quot;, … &quot;조은강&quot;]</td></tr><tr><td>3365</td><td>&quot;호피와 차돌바위&quot;</td><td>null</td><td>8000</td><td>&quot;0.0%&quot;</td><td>28000</td><td>1</td><td>4</td><td>1</td><td>1</td><td>&quot;한국&quot;</td><td>&quot;한국&quot;</td><td>null</td><td>null</td><td>null</td><td>[&quot;애니메이션&quot;]</td><td>&quot;신동헌&quot;</td><td>null</td></tr><tr><td>3365</td><td>&quot;희수&quot;</td><td>2022-12-15</td><td>5000</td><td>&quot;0.0%&quot;</td><td>4795500</td><td>1</td><td>617</td><td>1</td><td>1</td><td>&quot;한국&quot;</td><td>&quot;한국&quot;</td><td>&quot;영화사 정원&quot;</td><td>&quot;영화사 정원&quot;</td><td>&quot;12세이상관람가&quot;</td><td>[&quot;드라마&quot;]</td><td>&quot;감정원&quot;</td><td>[&quot;공민정&quot;]</td></tr></tbody></table></div>"
            ]
          },
          "metadata": {},
          "execution_count": 14
        }
      ],
      "source": [
        "pl.concat([df_boxoffice.head(5), df_boxoffice.tail(5)], how = 'vertical')"
      ]
    },
    {
      "cell_type": "code",
      "execution_count": 15,
      "id": "cd620669-2347-4616-872f-04554c1a2402",
      "metadata": {
        "colab": {
          "base_uri": "https://localhost:8080/",
          "height": 255
        },
        "id": "cd620669-2347-4616-872f-04554c1a2402",
        "outputId": "8f797377-48a8-4e40-f26b-d3fba2c692bc"
      },
      "outputs": [
        {
          "output_type": "execute_result",
          "data": {
            "text/plain": [
              "shape: (5, 7)\n",
              "┌──────┬─────────────────┬────────────┬─────────────────┬────────────┬────────────┬──────────┐\n",
              "│ 순위 ┆ 영화명          ┆ 개봉일     ┆ 영화명_좌석     ┆ 좌석판매율 ┆ 좌석점유율 ┆ 좌석수   │\n",
              "│ ---  ┆ ---             ┆ ---        ┆ ---             ┆ ---        ┆ ---        ┆ ---      │\n",
              "│ i64  ┆ str             ┆ date       ┆ str             ┆ f64        ┆ f64        ┆ i64      │\n",
              "╞══════╪═════════════════╪════════════╪═════════════════╪════════════╪════════════╪══════════╡\n",
              "│ 3365 ┆ 평평남녀        ┆ 2022-04-28 ┆ 파묘            ┆ 22.2       ┆ 6.1        ┆ 53450628 │\n",
              "│ 3365 ┆ 한 남자         ┆ 2023-08-30 ┆ 범죄도시4       ┆ 21.5       ┆ 6.0        ┆ 53350464 │\n",
              "│ 3365 ┆ 헝거            ┆ 2022-04-21 ┆ 인사이드 아웃 2 ┆ 17.5       ┆ 5.7        ┆ 50018740 │\n",
              "│ 3365 ┆ 호피와 차돌바위 ┆ null       ┆ null            ┆ null       ┆ null       ┆ null     │\n",
              "│ 3365 ┆ 희수            ┆ 2022-12-15 ┆ null            ┆ null       ┆ null       ┆ null     │\n",
              "└──────┴─────────────────┴────────────┴─────────────────┴────────────┴────────────┴──────────┘"
            ],
            "text/html": [
              "<div><style>\n",
              ".dataframe > thead > tr,\n",
              ".dataframe > tbody > tr {\n",
              "  text-align: right;\n",
              "  white-space: pre-wrap;\n",
              "}\n",
              "</style>\n",
              "<small>shape: (5, 7)</small><table border=\"1\" class=\"dataframe\"><thead><tr><th>순위</th><th>영화명</th><th>개봉일</th><th>영화명_좌석</th><th>좌석판매율</th><th>좌석점유율</th><th>좌석수</th></tr><tr><td>i64</td><td>str</td><td>date</td><td>str</td><td>f64</td><td>f64</td><td>i64</td></tr></thead><tbody><tr><td>3365</td><td>&quot;평평남녀&quot;</td><td>2022-04-28</td><td>&quot;파묘&quot;</td><td>22.2</td><td>6.1</td><td>53450628</td></tr><tr><td>3365</td><td>&quot;한 남자&quot;</td><td>2023-08-30</td><td>&quot;범죄도시4&quot;</td><td>21.5</td><td>6.0</td><td>53350464</td></tr><tr><td>3365</td><td>&quot;헝거&quot;</td><td>2022-04-21</td><td>&quot;인사이드 아웃 2&quot;</td><td>17.5</td><td>5.7</td><td>50018740</td></tr><tr><td>3365</td><td>&quot;호피와 차돌바위&quot;</td><td>null</td><td>null</td><td>null</td><td>null</td><td>null</td></tr><tr><td>3365</td><td>&quot;희수&quot;</td><td>2022-12-15</td><td>null</td><td>null</td><td>null</td><td>null</td></tr></tbody></table></div>"
            ]
          },
          "metadata": {},
          "execution_count": 15
        }
      ],
      "source": [
        "pl.concat([df_boxoffice.select(['순위', '영화명', '개봉일']).tail(5),\n",
        "           df_seat_rate.select([pl.col('영화명').alias('영화명_좌석'),\n",
        "                                '좌석판매율', '좌석점유율', '좌석수']).head(3)],\n",
        "          how = 'horizontal')\n"
      ]
    },
    {
      "cell_type": "code",
      "execution_count": 16,
      "id": "0a12efde-046f-410a-8f51-e41486b65e49",
      "metadata": {
        "colab": {
          "base_uri": "https://localhost:8080/",
          "height": 1000
        },
        "id": "0a12efde-046f-410a-8f51-e41486b65e49",
        "outputId": "9e31c4ae-bf07-4148-aa30-aa2ce7fe4402"
      },
      "outputs": [
        {
          "output_type": "execute_result",
          "data": {
            "text/plain": [
              "shape: (10, 21)\n",
              "┌──────┬────────────┬────────────┬────────────┬───┬────────────┬────────────┬───────────┬──────────┐\n",
              "│ 순위 ┆ 영화명     ┆ 개봉일     ┆ 매출액     ┆ … ┆ 배우       ┆ 좌석판매율 ┆ 좌석점유  ┆ 좌석수   │\n",
              "│ ---  ┆ ---        ┆ ---        ┆ ---        ┆   ┆ ---        ┆ ---        ┆ 율        ┆ ---      │\n",
              "│ i64  ┆ str        ┆ date       ┆ i64        ┆   ┆ list[str]  ┆ f64        ┆ ---       ┆ i64      │\n",
              "│      ┆            ┆            ┆            ┆   ┆            ┆            ┆ f64       ┆          │\n",
              "╞══════╪════════════╪════════════╪════════════╪═══╪════════════╪════════════╪═══════════╪══════════╡\n",
              "│ 1    ┆ 파묘       ┆ 2024-02-22 ┆ 1151574904 ┆ … ┆ [\"최민식\", ┆ null       ┆ null      ┆ null     │\n",
              "│      ┆            ┆            ┆ 14         ┆   ┆ \"김고은\",  ┆            ┆           ┆          │\n",
              "│      ┆            ┆            ┆            ┆   ┆ …          ┆            ┆           ┆          │\n",
              "│      ┆            ┆            ┆            ┆   ┆ \"김하영\"]  ┆            ┆           ┆          │\n",
              "│ 2    ┆ 범죄도시4  ┆ 2024-04-24 ┆ 1100500007 ┆ … ┆ [\"김무열\", ┆ null       ┆ null      ┆ null     │\n",
              "│      ┆            ┆            ┆ 34         ┆   ┆ \"박지환\",  ┆            ┆           ┆          │\n",
              "│      ┆            ┆            ┆            ┆   ┆ …          ┆            ┆           ┆          │\n",
              "│      ┆            ┆            ┆            ┆   ┆ \"조석인\"]  ┆            ┆           ┆          │\n",
              "│ 3    ┆ 인사이드   ┆ 2024-06-12 ┆ 8450928403 ┆ … ┆ [\"에이미   ┆ null       ┆ null      ┆ null     │\n",
              "│      ┆ 아웃 2     ┆            ┆ 6          ┆   ┆ 포엘러\",   ┆            ┆           ┆          │\n",
              "│      ┆            ┆            ┆            ┆   ┆ \"토니      ┆            ┆           ┆          │\n",
              "│      ┆            ┆            ┆            ┆   ┆ 헤일\"]     ┆            ┆           ┆          │\n",
              "│ 4    ┆ 베테랑2    ┆ 2024-09-13 ┆ 7247403581 ┆ … ┆ [\"황정민\", ┆ null       ┆ null      ┆ null     │\n",
              "│      ┆            ┆            ┆ 4          ┆   ┆ \"정해인\",  ┆            ┆           ┆          │\n",
              "│      ┆            ┆            ┆            ┆   ┆ …          ┆            ┆           ┆          │\n",
              "│      ┆            ┆            ┆            ┆   ┆ \"이상협\"]  ┆            ┆           ┆          │\n",
              "│ 5    ┆ 파일럿     ┆ 2024-07-31 ┆ 4320407920 ┆ … ┆ [\"조정석\", ┆ null       ┆ null      ┆ null     │\n",
              "│      ┆            ┆            ┆ 1          ┆   ┆ \"이주명\",  ┆            ┆           ┆          │\n",
              "│      ┆            ┆            ┆            ┆   ┆ …          ┆            ┆           ┆          │\n",
              "│      ┆            ┆            ┆            ┆   ┆ \"한지혁\"]  ┆            ┆           ┆          │\n",
              "│ 1    ┆ 파묘       ┆ 2024-02-22 ┆ null       ┆ … ┆ null       ┆ 22.2       ┆ 6.1       ┆ 53450628 │\n",
              "│ 2    ┆ 범죄도시4  ┆ 2024-04-24 ┆ null       ┆ … ┆ null       ┆ 21.5       ┆ 6.0       ┆ 53350464 │\n",
              "│ 3    ┆ 인사이드   ┆ 2024-06-12 ┆ null       ┆ … ┆ null       ┆ 17.5       ┆ 5.7       ┆ 50018740 │\n",
              "│      ┆ 아웃 2     ┆            ┆            ┆   ┆            ┆            ┆           ┆          │\n",
              "│ 4    ┆ 베테랑2    ┆ 2024-09-13 ┆ null       ┆ … ┆ null       ┆ 18.3       ┆ 4.6       ┆ 40990441 │\n",
              "│ 5    ┆ 파일럿     ┆ 2024-07-31 ┆ null       ┆ … ┆ null       ┆ 15.7       ┆ 3.4       ┆ 30046075 │\n",
              "└──────┴────────────┴────────────┴────────────┴───┴────────────┴────────────┴───────────┴──────────┘"
            ],
            "text/html": [
              "<div><style>\n",
              ".dataframe > thead > tr,\n",
              ".dataframe > tbody > tr {\n",
              "  text-align: right;\n",
              "  white-space: pre-wrap;\n",
              "}\n",
              "</style>\n",
              "<small>shape: (10, 21)</small><table border=\"1\" class=\"dataframe\"><thead><tr><th>순위</th><th>영화명</th><th>개봉일</th><th>매출액</th><th>매출액점유율</th><th>누적매출액</th><th>관객수</th><th>누적관객수</th><th>스크린수</th><th>상영횟수</th><th>대표국적</th><th>국적</th><th>제작사</th><th>배급사</th><th>등급</th><th>장르</th><th>감독</th><th>배우</th><th>좌석판매율</th><th>좌석점유율</th><th>좌석수</th></tr><tr><td>i64</td><td>str</td><td>date</td><td>i64</td><td>str</td><td>i64</td><td>i64</td><td>i64</td><td>i64</td><td>i64</td><td>str</td><td>str</td><td>str</td><td>str</td><td>str</td><td>list[str]</td><td>str</td><td>list[str]</td><td>f64</td><td>f64</td><td>i64</td></tr></thead><tbody><tr><td>1</td><td>&quot;파묘&quot;</td><td>2024-02-22</td><td>115157490414</td><td>&quot;9.6%&quot;</td><td>115157490414</td><td>11914784</td><td>11914784</td><td>2367</td><td>364955</td><td>&quot;한국&quot;</td><td>&quot;한국&quot;</td><td>&quot;(주)쇼박스&quot;</td><td>&quot;(주)쇼박스&quot;</td><td>&quot;15세이상관람가&quot;</td><td>[&quot;미스터리&quot;, &quot;공포(호러)&quot;]</td><td>&quot;장재현&quot;</td><td>[&quot;최민식&quot;, &quot;김고은&quot;, … &quot;김하영&quot;]</td><td>null</td><td>null</td><td>null</td></tr><tr><td>2</td><td>&quot;범죄도시4&quot;</td><td>2024-04-24</td><td>110050000734</td><td>&quot;9.2%&quot;</td><td>110050000734</td><td>11502779</td><td>11502779</td><td>2980</td><td>375434</td><td>&quot;한국&quot;</td><td>&quot;한국&quot;</td><td>&quot;주식회사 빅펀치픽쳐스,(주)홍필름,(주)비에이엔터테인먼…</td><td>&quot;주식회사 에이비오엔터테인먼트,플러스엠 엔터테인먼트&quot;</td><td>&quot;15세이상관람가&quot;</td><td>[&quot;액션&quot;, &quot;범죄&quot;]</td><td>&quot;허명행&quot;</td><td>[&quot;김무열&quot;, &quot;박지환&quot;, … &quot;조석인&quot;]</td><td>null</td><td>null</td><td>null</td></tr><tr><td>3</td><td>&quot;인사이드 아웃 2&quot;</td><td>2024-06-12</td><td>84509284036</td><td>&quot;7.1%&quot;</td><td>84509284036</td><td>8799013</td><td>8799013</td><td>2619</td><td>331341</td><td>&quot;미국&quot;</td><td>&quot;미국&quot;</td><td>&quot;월트 디즈니 픽쳐스,픽사 애니메이션 스튜디오&quot;</td><td>&quot;월트디즈니컴퍼니코리아 유한책임회사&quot;</td><td>&quot;전체관람가&quot;</td><td>[&quot;애니메이션&quot;]</td><td>&quot;켈시 만&quot;</td><td>[&quot;에이미 포엘러&quot;, &quot;토니 헤일&quot;]</td><td>null</td><td>null</td><td>null</td></tr><tr><td>4</td><td>&quot;베테랑2&quot;</td><td>2024-09-13</td><td>72474035814</td><td>&quot;6.1%&quot;</td><td>72474035814</td><td>7525339</td><td>7525339</td><td>2691</td><td>279673</td><td>&quot;한국&quot;</td><td>&quot;한국&quot;</td><td>&quot;(주)외유내강&quot;</td><td>&quot;(주)씨제이이엔엠&quot;</td><td>&quot;15세이상관람가&quot;</td><td>[&quot;액션&quot;, &quot;범죄&quot;]</td><td>&quot;류승완&quot;</td><td>[&quot;황정민&quot;, &quot;정해인&quot;, … &quot;이상협&quot;]</td><td>null</td><td>null</td><td>null</td></tr><tr><td>5</td><td>&quot;파일럿&quot;</td><td>2024-07-31</td><td>43204079201</td><td>&quot;3.6%&quot;</td><td>43204079201</td><td>4718036</td><td>4718036</td><td>1956</td><td>203283</td><td>&quot;한국&quot;</td><td>&quot;한국&quot;</td><td>&quot;쇼트케이크(주),(주)무비락&quot;</td><td>&quot;롯데컬처웍스(주)롯데엔터테인먼트&quot;</td><td>&quot;12세이상관람가&quot;</td><td>[&quot;코미디&quot;]</td><td>&quot;김한결&quot;</td><td>[&quot;조정석&quot;, &quot;이주명&quot;, … &quot;한지혁&quot;]</td><td>null</td><td>null</td><td>null</td></tr><tr><td>1</td><td>&quot;파묘&quot;</td><td>2024-02-22</td><td>null</td><td>null</td><td>null</td><td>null</td><td>null</td><td>null</td><td>null</td><td>null</td><td>null</td><td>null</td><td>null</td><td>null</td><td>null</td><td>null</td><td>null</td><td>22.2</td><td>6.1</td><td>53450628</td></tr><tr><td>2</td><td>&quot;범죄도시4&quot;</td><td>2024-04-24</td><td>null</td><td>null</td><td>null</td><td>null</td><td>null</td><td>null</td><td>null</td><td>null</td><td>null</td><td>null</td><td>null</td><td>null</td><td>null</td><td>null</td><td>null</td><td>21.5</td><td>6.0</td><td>53350464</td></tr><tr><td>3</td><td>&quot;인사이드 아웃 2&quot;</td><td>2024-06-12</td><td>null</td><td>null</td><td>null</td><td>null</td><td>null</td><td>null</td><td>null</td><td>null</td><td>null</td><td>null</td><td>null</td><td>null</td><td>null</td><td>null</td><td>null</td><td>17.5</td><td>5.7</td><td>50018740</td></tr><tr><td>4</td><td>&quot;베테랑2&quot;</td><td>2024-09-13</td><td>null</td><td>null</td><td>null</td><td>null</td><td>null</td><td>null</td><td>null</td><td>null</td><td>null</td><td>null</td><td>null</td><td>null</td><td>null</td><td>null</td><td>null</td><td>18.3</td><td>4.6</td><td>40990441</td></tr><tr><td>5</td><td>&quot;파일럿&quot;</td><td>2024-07-31</td><td>null</td><td>null</td><td>null</td><td>null</td><td>null</td><td>null</td><td>null</td><td>null</td><td>null</td><td>null</td><td>null</td><td>null</td><td>null</td><td>null</td><td>null</td><td>15.7</td><td>3.4</td><td>30046075</td></tr></tbody></table></div>"
            ]
          },
          "metadata": {},
          "execution_count": 16
        }
      ],
      "source": [
        "pl.concat([df_boxoffice.head(5), df_seat_rate.head(5)], how = 'diagonal')"
      ]
    },
    {
      "cell_type": "code",
      "execution_count": 17,
      "id": "90606445-5809-4f1f-a325-f30d2d53e34f",
      "metadata": {
        "colab": {
          "base_uri": "https://localhost:8080/",
          "height": 443
        },
        "id": "90606445-5809-4f1f-a325-f30d2d53e34f",
        "outputId": "7272886d-a2ba-496d-d609-d52efca5d6ac"
      },
      "outputs": [
        {
          "output_type": "execute_result",
          "data": {
            "text/plain": [
              "shape: (38, 9)\n",
              "┌──────────────────────────┬──────────┬──────────┬─────────┬───┬────────┬────────┬──────────┬──────┐\n",
              "│ 등급                     ┆ 한국     ┆ 미국     ┆ 일본    ┆ … ┆ 프랑스 ┆ 캐나다 ┆ 이탈리아 ┆ 기타 │\n",
              "│ ---                      ┆ ---      ┆ ---      ┆ ---     ┆   ┆ ---    ┆ ---    ┆ ---      ┆ ---  │\n",
              "│ str                      ┆ i64      ┆ i64      ┆ i64     ┆   ┆ i64    ┆ i64    ┆ i64      ┆ i64  │\n",
              "╞══════════════════════════╪══════════╪══════════╪═════════╪═══╪════════╪════════╪══════════╪══════╡\n",
              "│ 15세이상관람가           ┆ 43891467 ┆ 8035572  ┆ 819819  ┆ … ┆ 201424 ┆ 5122   ┆ 10167    ┆ 2954 │\n",
              "│ 전체관람가               ┆ 4182644  ┆ 25509345 ┆ 2838453 ┆ … ┆ 65871  ┆ 24104  ┆ 17387    ┆ 1714 │\n",
              "│ 12세이상관람가           ┆ 22229389 ┆ 5281355  ┆ 2765070 ┆ … ┆ 80340  ┆ 1900   ┆ 32622    ┆ 123  │\n",
              "│ 청소년관람불가           ┆ 1073348  ┆ 3370813  ┆ 47180   ┆ … ┆ 29146  ┆ 12606  ┆ 11708    ┆ 261  │\n",
              "│ 15세관람가,15세이상관람  ┆ null     ┆ 193018   ┆ 929     ┆ … ┆ null   ┆ null   ┆ null     ┆ null │\n",
              "│ 가                       ┆          ┆          ┆         ┆   ┆        ┆        ┆          ┆      │\n",
              "│ …                        ┆ …        ┆ …        ┆ …       ┆ … ┆ …      ┆ …      ┆ …        ┆ …    │\n",
              "│ 기타                     ┆ 191      ┆ null     ┆ null    ┆ … ┆ null   ┆ null   ┆ null     ┆ null │\n",
              "│ 15세이상관람가,전체관람  ┆ null     ┆ null     ┆ null    ┆ … ┆ 183    ┆ null   ┆ null     ┆ null │\n",
              "│ 가                       ┆          ┆          ┆         ┆   ┆        ┆        ┆          ┆      │\n",
              "│ 18세관람가,15세이상관람  ┆ null     ┆ null     ┆ null    ┆ … ┆ 86     ┆ null   ┆ null     ┆ null │\n",
              "│ 가                       ┆          ┆          ┆         ┆   ┆        ┆        ┆          ┆      │\n",
              "│ 18세관람가               ┆ 88       ┆ null     ┆ 81      ┆ … ┆ 22     ┆ null   ┆ null     ┆ null │\n",
              "│ 미성년자관람불가         ┆ null     ┆ null     ┆ null    ┆ … ┆ 46     ┆ null   ┆ null     ┆ null │\n",
              "└──────────────────────────┴──────────┴──────────┴─────────┴───┴────────┴────────┴──────────┴──────┘"
            ],
            "text/html": [
              "<div><style>\n",
              ".dataframe > thead > tr,\n",
              ".dataframe > tbody > tr {\n",
              "  text-align: right;\n",
              "  white-space: pre-wrap;\n",
              "}\n",
              "</style>\n",
              "<small>shape: (38, 9)</small><table border=\"1\" class=\"dataframe\"><thead><tr><th>등급</th><th>한국</th><th>미국</th><th>일본</th><th>영국</th><th>프랑스</th><th>캐나다</th><th>이탈리아</th><th>기타</th></tr><tr><td>str</td><td>i64</td><td>i64</td><td>i64</td><td>i64</td><td>i64</td><td>i64</td><td>i64</td><td>i64</td></tr></thead><tbody><tr><td>&quot;15세이상관람가&quot;</td><td>43891467</td><td>8035572</td><td>819819</td><td>49881</td><td>201424</td><td>5122</td><td>10167</td><td>2954</td></tr><tr><td>&quot;전체관람가&quot;</td><td>4182644</td><td>25509345</td><td>2838453</td><td>165202</td><td>65871</td><td>24104</td><td>17387</td><td>1714</td></tr><tr><td>&quot;12세이상관람가&quot;</td><td>22229389</td><td>5281355</td><td>2765070</td><td>56613</td><td>80340</td><td>1900</td><td>32622</td><td>123</td></tr><tr><td>&quot;청소년관람불가&quot;</td><td>1073348</td><td>3370813</td><td>47180</td><td>156215</td><td>29146</td><td>12606</td><td>11708</td><td>261</td></tr><tr><td>&quot;15세관람가,15세이상관람가&quot;</td><td>null</td><td>193018</td><td>929</td><td>null</td><td>null</td><td>null</td><td>null</td><td>null</td></tr><tr><td>&hellip;</td><td>&hellip;</td><td>&hellip;</td><td>&hellip;</td><td>&hellip;</td><td>&hellip;</td><td>&hellip;</td><td>&hellip;</td><td>&hellip;</td></tr><tr><td>&quot;기타&quot;</td><td>191</td><td>null</td><td>null</td><td>null</td><td>null</td><td>null</td><td>null</td><td>null</td></tr><tr><td>&quot;15세이상관람가,전체관람가&quot;</td><td>null</td><td>null</td><td>null</td><td>null</td><td>183</td><td>null</td><td>null</td><td>null</td></tr><tr><td>&quot;18세관람가,15세이상관람가&quot;</td><td>null</td><td>null</td><td>null</td><td>null</td><td>86</td><td>null</td><td>null</td><td>null</td></tr><tr><td>&quot;18세관람가&quot;</td><td>88</td><td>null</td><td>81</td><td>null</td><td>22</td><td>null</td><td>null</td><td>null</td></tr><tr><td>&quot;미성년자관람불가&quot;</td><td>null</td><td>null</td><td>null</td><td>null</td><td>46</td><td>null</td><td>null</td><td>null</td></tr></tbody></table></div>"
            ]
          },
          "metadata": {},
          "execution_count": 17
        }
      ],
      "source": [
        "df_boxoffice.select(['영화명', '등급', '대표국적', '관객수', '매출액']).filter(\n",
        "    pl.col('대표국적').is_in(['한국', '미국', '일본', '프랑스', '기타', '영국',\n",
        "                             '이탈리아', '독일' '중국', '캐나다'])\n",
        ").pivot('대표국적', index = '등급', values = '관객수', aggregate_function = 'sum')"
      ]
    },
    {
      "cell_type": "code",
      "execution_count": 18,
      "id": "8d1eb3a9-4203-4282-b29f-786e707ea95d",
      "metadata": {
        "colab": {
          "base_uri": "https://localhost:8080/",
          "height": 443
        },
        "id": "8d1eb3a9-4203-4282-b29f-786e707ea95d",
        "outputId": "3feca7d5-ca6b-47c3-e157-4c4bc8fd44cb"
      },
      "outputs": [
        {
          "output_type": "execute_result",
          "data": {
            "text/plain": [
              "shape: (304, 3)\n",
              "┌───────────────────────────┬──────────┬──────────┐\n",
              "│ 등급                      ┆ 대표국적 ┆ value    │\n",
              "│ ---                       ┆ ---      ┆ ---      │\n",
              "│ str                       ┆ str      ┆ i64      │\n",
              "╞═══════════════════════════╪══════════╪══════════╡\n",
              "│ 15세이상관람가            ┆ 한국     ┆ 43891467 │\n",
              "│ 전체관람가                ┆ 한국     ┆ 4182644  │\n",
              "│ 12세이상관람가            ┆ 한국     ┆ 22229389 │\n",
              "│ 청소년관람불가            ┆ 한국     ┆ 1073348  │\n",
              "│ 15세관람가,15세이상관람가 ┆ 한국     ┆ null     │\n",
              "│ …                         ┆ …        ┆ …        │\n",
              "│ 기타                      ┆ 기타     ┆ null     │\n",
              "│ 15세이상관람가,전체관람가 ┆ 기타     ┆ null     │\n",
              "│ 18세관람가,15세이상관람가 ┆ 기타     ┆ null     │\n",
              "│ 18세관람가                ┆ 기타     ┆ null     │\n",
              "│ 미성년자관람불가          ┆ 기타     ┆ null     │\n",
              "└───────────────────────────┴──────────┴──────────┘"
            ],
            "text/html": [
              "<div><style>\n",
              ".dataframe > thead > tr,\n",
              ".dataframe > tbody > tr {\n",
              "  text-align: right;\n",
              "  white-space: pre-wrap;\n",
              "}\n",
              "</style>\n",
              "<small>shape: (304, 3)</small><table border=\"1\" class=\"dataframe\"><thead><tr><th>등급</th><th>대표국적</th><th>value</th></tr><tr><td>str</td><td>str</td><td>i64</td></tr></thead><tbody><tr><td>&quot;15세이상관람가&quot;</td><td>&quot;한국&quot;</td><td>43891467</td></tr><tr><td>&quot;전체관람가&quot;</td><td>&quot;한국&quot;</td><td>4182644</td></tr><tr><td>&quot;12세이상관람가&quot;</td><td>&quot;한국&quot;</td><td>22229389</td></tr><tr><td>&quot;청소년관람불가&quot;</td><td>&quot;한국&quot;</td><td>1073348</td></tr><tr><td>&quot;15세관람가,15세이상관람가&quot;</td><td>&quot;한국&quot;</td><td>null</td></tr><tr><td>&hellip;</td><td>&hellip;</td><td>&hellip;</td></tr><tr><td>&quot;기타&quot;</td><td>&quot;기타&quot;</td><td>null</td></tr><tr><td>&quot;15세이상관람가,전체관람가&quot;</td><td>&quot;기타&quot;</td><td>null</td></tr><tr><td>&quot;18세관람가,15세이상관람가&quot;</td><td>&quot;기타&quot;</td><td>null</td></tr><tr><td>&quot;18세관람가&quot;</td><td>&quot;기타&quot;</td><td>null</td></tr><tr><td>&quot;미성년자관람불가&quot;</td><td>&quot;기타&quot;</td><td>null</td></tr></tbody></table></div>"
            ]
          },
          "metadata": {},
          "execution_count": 18
        }
      ],
      "source": [
        "df_boxoffice.select(['영화명', '등급', '대표국적', '관객수', '매출액']).filter(\n",
        "    pl.col('대표국적').is_in(['한국', '미국', '일본', '프랑스', '기타',\n",
        "                             '영국', '이탈리아', '독일' '중국', '캐나다'])\n",
        ").pivot('대표국적', index = '등급', values = '관객수', aggregate_function = 'sum').unpivot(\n",
        "    on = ['한국', '미국', '일본', '영국', '프랑스', '캐나다',\n",
        "          '이탈리아', '기타'], index = '등급', variable_name = '대표국적'\n",
        ")\n"
      ]
    }
  ],
  "metadata": {
    "kernelspec": {
      "display_name": "venv-polars",
      "language": "python",
      "name": "venv-polars"
    },
    "language_info": {
      "codemirror_mode": {
        "name": "ipython",
        "version": 3
      },
      "file_extension": ".py",
      "mimetype": "text/x-python",
      "name": "python",
      "nbconvert_exporter": "python",
      "pygments_lexer": "ipython3",
      "version": "3.12.7"
    },
    "colab": {
      "provenance": [],
      "include_colab_link": true
    }
  },
  "nbformat": 4,
  "nbformat_minor": 5
}