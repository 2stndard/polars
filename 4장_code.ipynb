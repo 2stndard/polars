{
  "cells": [
    {
      "cell_type": "markdown",
      "metadata": {
        "id": "view-in-github",
        "colab_type": "text"
      },
      "source": [
        "<a href=\"https://colab.research.google.com/github/2stndard/polars/blob/main/4%EC%9E%A5_code.ipynb\" target=\"_parent\"><img src=\"https://colab.research.google.com/assets/colab-badge.svg\" alt=\"Open In Colab\"/></a>"
      ]
    },
    {
      "cell_type": "code",
      "execution_count": 1,
      "id": "0dc10aa9-c2a9-42f5-8285-2d5cf2ead7d9",
      "metadata": {
        "id": "0dc10aa9-c2a9-42f5-8285-2d5cf2ead7d9"
      },
      "outputs": [],
      "source": [
        "## 사전 실행 코드\n",
        "import polars as pl\n",
        "import time\n",
        "import pandas as pd\n",
        "import numpy as np"
      ]
    },
    {
      "cell_type": "code",
      "execution_count": 2,
      "id": "59a6b86e-faea-422d-916e-45dc76857408",
      "metadata": {
        "colab": {
          "base_uri": "https://localhost:8080/",
          "height": 161
        },
        "id": "59a6b86e-faea-422d-916e-45dc76857408",
        "outputId": "712d40cc-6e86-481f-b50f-e165727dbad2"
      },
      "outputs": [
        {
          "output_type": "execute_result",
          "data": {
            "text/plain": [
              "shape: (2, 2)\n",
              "┌───────────────┬─────────────────┐\n",
              "│ array_1       ┆ array_2         │\n",
              "│ ---           ┆ ---             │\n",
              "│ array[i64, 2] ┆ array[str, 3]   │\n",
              "╞═══════════════╪═════════════════╡\n",
              "│ [1, 3]        ┆ [\"a\", \"b\", \"c\"] │\n",
              "│ [4, 6]        ┆ [\"d\", \"e\", \"f\"] │\n",
              "└───────────────┴─────────────────┘"
            ],
            "text/html": [
              "<div><style>\n",
              ".dataframe > thead > tr,\n",
              ".dataframe > tbody > tr {\n",
              "  text-align: right;\n",
              "  white-space: pre-wrap;\n",
              "}\n",
              "</style>\n",
              "<small>shape: (2, 2)</small><table border=\"1\" class=\"dataframe\"><thead><tr><th>array_1</th><th>array_2</th></tr><tr><td>array[i64, 2]</td><td>array[str, 3]</td></tr></thead><tbody><tr><td>[1, 3]</td><td>[&quot;a&quot;, &quot;b&quot;, &quot;c&quot;]</td></tr><tr><td>[4, 6]</td><td>[&quot;d&quot;, &quot;e&quot;, &quot;f&quot;]</td></tr></tbody></table></div>"
            ]
          },
          "metadata": {},
          "execution_count": 2
        }
      ],
      "source": [
        "pl.DataFrame(\n",
        "    [\n",
        "        pl.Series(\"int_array\", [[1,3], [4,6]]),\n",
        "        pl.Series(\"string_array\", [['a', 'b', 'c'], ['d', 'e', 'f']]),\n",
        "    ],\n",
        "    schema={\n",
        "        \"array_1\": pl.Array(shape=2, inner=pl.Int64),\n",
        "        \"array_2\": pl.Array(shape=3, inner=pl.String)\n",
        "    }\n",
        ")"
      ]
    },
    {
      "cell_type": "code",
      "execution_count": 3,
      "id": "6584b447-7dfc-42f6-b84d-7d4423f9b06f",
      "metadata": {
        "colab": {
          "base_uri": "https://localhost:8080/",
          "height": 161
        },
        "id": "6584b447-7dfc-42f6-b84d-7d4423f9b06f",
        "outputId": "0c36bb00-dca9-45cc-b1c8-b9d747b9c6c0"
      },
      "outputs": [
        {
          "output_type": "execute_result",
          "data": {
            "text/plain": [
              "shape: (2, 2)\n",
              "┌───────────┬─────────────────┐\n",
              "│ int_list  ┆ string_lists    │\n",
              "│ ---       ┆ ---             │\n",
              "│ list[i64] ┆ list[str]       │\n",
              "╞═══════════╪═════════════════╡\n",
              "│ [1, 3]    ┆ [\"a\", \"b\", \"c\"] │\n",
              "│ [4, 6, 8] ┆ [\"d\", \"e\"]      │\n",
              "└───────────┴─────────────────┘"
            ],
            "text/html": [
              "<div><style>\n",
              ".dataframe > thead > tr,\n",
              ".dataframe > tbody > tr {\n",
              "  text-align: right;\n",
              "  white-space: pre-wrap;\n",
              "}\n",
              "</style>\n",
              "<small>shape: (2, 2)</small><table border=\"1\" class=\"dataframe\"><thead><tr><th>int_list</th><th>string_lists</th></tr><tr><td>list[i64]</td><td>list[str]</td></tr></thead><tbody><tr><td>[1, 3]</td><td>[&quot;a&quot;, &quot;b&quot;, &quot;c&quot;]</td></tr><tr><td>[4, 6, 8]</td><td>[&quot;d&quot;, &quot;e&quot;]</td></tr></tbody></table></div>"
            ]
          },
          "metadata": {},
          "execution_count": 3
        }
      ],
      "source": [
        "pl.DataFrame(\n",
        "    {\n",
        "        \"int_list\": [[1, 3], [4, 6, 8]],\n",
        "        \"string_lists\": [['a', 'b', 'c'], ['d', 'e']]\n",
        "    }\n",
        ")"
      ]
    },
    {
      "cell_type": "code",
      "execution_count": 4,
      "id": "489a315e-8b7d-4128-a694-6ae4cc3124b2",
      "metadata": {
        "colab": {
          "base_uri": "https://localhost:8080/",
          "height": 161
        },
        "id": "489a315e-8b7d-4128-a694-6ae4cc3124b2",
        "outputId": "7bb81310-76ce-4ebd-addf-bccd55d5536b"
      },
      "outputs": [
        {
          "output_type": "execute_result",
          "data": {
            "text/plain": [
              "shape: (2, 1)\n",
              "┌────────────────────┐\n",
              "│ 등장인물           │\n",
              "│ ---                │\n",
              "│ struct[3]          │\n",
              "╞════════════════════╡\n",
              "│ {\"홍길동\",25,\"남\"} │\n",
              "│ {\"성춘향\",24,\"여\"} │\n",
              "└────────────────────┘"
            ],
            "text/html": [
              "<div><style>\n",
              ".dataframe > thead > tr,\n",
              ".dataframe > tbody > tr {\n",
              "  text-align: right;\n",
              "  white-space: pre-wrap;\n",
              "}\n",
              "</style>\n",
              "<small>shape: (2, 1)</small><table border=\"1\" class=\"dataframe\"><thead><tr><th>등장인물</th></tr><tr><td>struct[3]</td></tr></thead><tbody><tr><td>{&quot;홍길동&quot;,25,&quot;남&quot;}</td></tr><tr><td>{&quot;성춘향&quot;,24,&quot;여&quot;}</td></tr></tbody></table></div>"
            ]
          },
          "metadata": {},
          "execution_count": 4
        }
      ],
      "source": [
        "pl.DataFrame(\n",
        "    pl.Series(\n",
        "        \"등장인물\",\n",
        "        [\n",
        "            {\"name\": \"홍길동\", \"나이\": 25, \"성별\": \"남\"},\n",
        "            {\"name\": \"성춘향\", \"나이\": 24, \"성별\": \"여\"},\n",
        "            ]\n",
        "    )\n",
        ")"
      ]
    },
    {
      "cell_type": "code",
      "execution_count": 5,
      "id": "9883232f-4980-401e-9893-ae7a4f4a265c",
      "metadata": {
        "colab": {
          "base_uri": "https://localhost:8080/",
          "height": 129
        },
        "id": "9883232f-4980-401e-9893-ae7a4f4a265c",
        "outputId": "744de5bf-e421-464f-9b39-098cd7ab0f61"
      },
      "outputs": [
        {
          "output_type": "execute_result",
          "data": {
            "text/plain": [
              "shape: (1, 4)\n",
              "┌────────────┬─────────────────────────┬──────────────┬─────────────────────┐\n",
              "│ date       ┆ datetime                ┆ time         ┆ duration            │\n",
              "│ ---        ┆ ---                     ┆ ---          ┆ ---                 │\n",
              "│ date       ┆ datetime[μs]            ┆ time         ┆ duration[μs]        │\n",
              "╞════════════╪═════════════════════════╪══════════════╪═════════════════════╡\n",
              "│ 1978-01-01 ┆ 2024-10-13 05:30:14.500 ┆ 05:30:14.500 ┆ -79d -18h -29m -46s │\n",
              "└────────────┴─────────────────────────┴──────────────┴─────────────────────┘"
            ],
            "text/html": [
              "<div><style>\n",
              ".dataframe > thead > tr,\n",
              ".dataframe > tbody > tr {\n",
              "  text-align: right;\n",
              "  white-space: pre-wrap;\n",
              "}\n",
              "</style>\n",
              "<small>shape: (1, 4)</small><table border=\"1\" class=\"dataframe\"><thead><tr><th>date</th><th>datetime</th><th>time</th><th>duration</th></tr><tr><td>date</td><td>datetime[μs]</td><td>time</td><td>duration[μs]</td></tr></thead><tbody><tr><td>1978-01-01</td><td>2024-10-13 05:30:14.500</td><td>05:30:14.500</td><td>-79d -18h -29m -46s</td></tr></tbody></table></div>"
            ]
          },
          "metadata": {},
          "execution_count": 5
        }
      ],
      "source": [
        "from datetime import datetime, date, time\n",
        "pl.DataFrame(\n",
        "    {\n",
        "        \"date\": [date(1978, 1, 1)],\n",
        "        \"datetime\": [datetime(2024, 10, 13, 5, 30, 14, 500_000)],\n",
        "        \"time\": [time(5, 30, 14, 500_000)],\n",
        "        \"duration\": [\n",
        "            datetime(2024, 10, 13, 5, 30, 14) -\n",
        "            datetime(2025, 1, 1, 0, 0, 0)\n",
        "        ]\n",
        "    }\n",
        ")"
      ]
    },
    {
      "cell_type": "code",
      "execution_count": 6,
      "id": "820ae123-0f1a-45aa-a6a2-85621f06b5df",
      "metadata": {
        "colab": {
          "base_uri": "https://localhost:8080/",
          "height": 192
        },
        "id": "820ae123-0f1a-45aa-a6a2-85621f06b5df",
        "outputId": "654998e7-980e-4447-d38b-9ea42b45fb16"
      },
      "outputs": [
        {
          "output_type": "execute_result",
          "data": {
            "text/plain": [
              "shape: (3,)\n",
              "Series: 'a' [i64]\n",
              "[\n",
              "\t1\n",
              "\t2\n",
              "\t3\n",
              "]"
            ],
            "text/html": [
              "<div><style>\n",
              ".dataframe > thead > tr,\n",
              ".dataframe > tbody > tr {\n",
              "  text-align: right;\n",
              "  white-space: pre-wrap;\n",
              "}\n",
              "</style>\n",
              "<small>shape: (3,)</small><table border=\"1\" class=\"dataframe\"><thead><tr><th>a</th></tr><tr><td>i64</td></tr></thead><tbody><tr><td>1</td></tr><tr><td>2</td></tr><tr><td>3</td></tr></tbody></table></div>"
            ]
          },
          "metadata": {},
          "execution_count": 6
        }
      ],
      "source": [
        "pl.Series('a', [1, 2, 3])"
      ]
    },
    {
      "cell_type": "code",
      "execution_count": 7,
      "id": "9a1bd901-408c-424b-9193-77bf8d7db1fc",
      "metadata": {
        "colab": {
          "base_uri": "https://localhost:8080/",
          "height": 223
        },
        "id": "9a1bd901-408c-424b-9193-77bf8d7db1fc",
        "outputId": "bcee221c-91e2-40c3-8c1c-7ad2c2f5a3c9"
      },
      "outputs": [
        {
          "output_type": "execute_result",
          "data": {
            "text/plain": [
              "shape: (4, 4)\n",
              "┌────────────────┬────────────┬────────┬────────┐\n",
              "│ name           ┆ birthdate  ┆ weight ┆ height │\n",
              "│ ---            ┆ ---        ┆ ---    ┆ ---    │\n",
              "│ str            ┆ date       ┆ f64    ┆ f64    │\n",
              "╞════════════════╪════════════╪════════╪════════╡\n",
              "│ Alice Archer   ┆ 1997-01-10 ┆ 57.9   ┆ 1.56   │\n",
              "│ Ben Brown      ┆ 1985-02-15 ┆ 72.5   ┆ 1.77   │\n",
              "│ Chloe Cooper   ┆ 1983-03-22 ┆ 53.6   ┆ 1.65   │\n",
              "│ Daniel Donovan ┆ 1981-04-30 ┆ 83.1   ┆ 1.75   │\n",
              "└────────────────┴────────────┴────────┴────────┘"
            ],
            "text/html": [
              "<div><style>\n",
              ".dataframe > thead > tr,\n",
              ".dataframe > tbody > tr {\n",
              "  text-align: right;\n",
              "  white-space: pre-wrap;\n",
              "}\n",
              "</style>\n",
              "<small>shape: (4, 4)</small><table border=\"1\" class=\"dataframe\"><thead><tr><th>name</th><th>birthdate</th><th>weight</th><th>height</th></tr><tr><td>str</td><td>date</td><td>f64</td><td>f64</td></tr></thead><tbody><tr><td>&quot;Alice Archer&quot;</td><td>1997-01-10</td><td>57.9</td><td>1.56</td></tr><tr><td>&quot;Ben Brown&quot;</td><td>1985-02-15</td><td>72.5</td><td>1.77</td></tr><tr><td>&quot;Chloe Cooper&quot;</td><td>1983-03-22</td><td>53.6</td><td>1.65</td></tr><tr><td>&quot;Daniel Donovan&quot;</td><td>1981-04-30</td><td>83.1</td><td>1.75</td></tr></tbody></table></div>"
            ]
          },
          "metadata": {},
          "execution_count": 7
        }
      ],
      "source": [
        "from datetime import date\n",
        "## 파이썬 리스트의 딕셔너리로 데이터프레임 만들기\n",
        "pl.DataFrame(\n",
        "    {\n",
        "        \"name\": [\"Alice Archer\", \"Ben Brown\", \"Chloe Cooper\", \"Daniel Donovan\"],\n",
        "        \"birthdate\": [\n",
        "            date(1997, 1, 10),\n",
        "            date(1985, 2, 15),\n",
        "            date(1983, 3, 22),\n",
        "            date(1981, 4, 30),\n",
        "        ],\n",
        "        \"weight\": [57.9, 72.5, 53.6, 83.1],\n",
        "        \"height\": [1.56, 1.77, 1.65, 1.75],\n",
        "    }\n",
        ")"
      ]
    },
    {
      "cell_type": "code",
      "execution_count": 8,
      "id": "a2462fad-e6e8-4553-b384-64f57afd17e7",
      "metadata": {
        "colab": {
          "base_uri": "https://localhost:8080/",
          "height": 223
        },
        "id": "a2462fad-e6e8-4553-b384-64f57afd17e7",
        "outputId": "b12c5c24-8c4e-4427-a8f2-20b5dbc21799"
      },
      "outputs": [
        {
          "output_type": "execute_result",
          "data": {
            "text/plain": [
              "shape: (4, 4)\n",
              "┌────────────────┬────────────┬────────┬────────┐\n",
              "│ name           ┆ birthdate  ┆ weight ┆ height │\n",
              "│ ---            ┆ ---        ┆ ---    ┆ ---    │\n",
              "│ str            ┆ date       ┆ f64    ┆ f64    │\n",
              "╞════════════════╪════════════╪════════╪════════╡\n",
              "│ Alice Archer   ┆ 1997-01-10 ┆ 57.9   ┆ 1.56   │\n",
              "│ Ben Brown      ┆ 1985-02-15 ┆ 72.5   ┆ 1.77   │\n",
              "│ Chloe Cooper   ┆ 1983-03-22 ┆ 53.6   ┆ 1.65   │\n",
              "│ Daniel Donovan ┆ 1981-04-30 ┆ 83.1   ┆ 1.75   │\n",
              "└────────────────┴────────────┴────────┴────────┘"
            ],
            "text/html": [
              "<div><style>\n",
              ".dataframe > thead > tr,\n",
              ".dataframe > tbody > tr {\n",
              "  text-align: right;\n",
              "  white-space: pre-wrap;\n",
              "}\n",
              "</style>\n",
              "<small>shape: (4, 4)</small><table border=\"1\" class=\"dataframe\"><thead><tr><th>name</th><th>birthdate</th><th>weight</th><th>height</th></tr><tr><td>str</td><td>date</td><td>f64</td><td>f64</td></tr></thead><tbody><tr><td>&quot;Alice Archer&quot;</td><td>1997-01-10</td><td>57.9</td><td>1.56</td></tr><tr><td>&quot;Ben Brown&quot;</td><td>1985-02-15</td><td>72.5</td><td>1.77</td></tr><tr><td>&quot;Chloe Cooper&quot;</td><td>1983-03-22</td><td>53.6</td><td>1.65</td></tr><tr><td>&quot;Daniel Donovan&quot;</td><td>1981-04-30</td><td>83.1</td><td>1.75</td></tr></tbody></table></div>"
            ]
          },
          "metadata": {},
          "execution_count": 8
        }
      ],
      "source": [
        "## 폴라스 시리즈 리스트로 데이터프레임 만들기\n",
        "df = pl.DataFrame([\n",
        "        pl.Series(\"name\", [\"Alice Archer\", \"Ben Brown\", \"Chloe Cooper\", \"Daniel Donovan\"]),\n",
        "        pl.Series(\"birthdate\", [date(1997, 1, 10), date(1985, 2, 15), date(1983, 3, 22), date(1981, 4, 30)]),\n",
        "        pl.Series(\"weight\", [57.9, 72.5, 53.6, 83.1]),  # (kg)\n",
        "        pl.Series(\"height\", [1.56, 1.77, 1.65, 1.75])  # (m)\n",
        "])\n",
        "df\n"
      ]
    },
    {
      "cell_type": "code",
      "execution_count": 9,
      "id": "c807dfa6-0bb2-4ace-9291-36fbaeba51db",
      "metadata": {
        "colab": {
          "base_uri": "https://localhost:8080/",
          "height": 223
        },
        "id": "c807dfa6-0bb2-4ace-9291-36fbaeba51db",
        "outputId": "ac24ac0e-f272-4ff5-8027-39e947348785"
      },
      "outputs": [
        {
          "output_type": "execute_result",
          "data": {
            "text/plain": [
              "shape: (4, 4)\n",
              "┌────────────────┬────────────┬────────┬────────┐\n",
              "│ name           ┆ birthdate  ┆ weight ┆ height │\n",
              "│ ---            ┆ ---        ┆ ---    ┆ ---    │\n",
              "│ str            ┆ date       ┆ u8     ┆ u8     │\n",
              "╞════════════════╪════════════╪════════╪════════╡\n",
              "│ Alice Archer   ┆ 1997-01-10 ┆ 57     ┆ 1      │\n",
              "│ Ben Brown      ┆ 1985-02-15 ┆ 72     ┆ 1      │\n",
              "│ Chloe Cooper   ┆ 1983-03-22 ┆ 53     ┆ 1      │\n",
              "│ Daniel Donovan ┆ 1981-04-30 ┆ 83     ┆ 1      │\n",
              "└────────────────┴────────────┴────────┴────────┘"
            ],
            "text/html": [
              "<div><style>\n",
              ".dataframe > thead > tr,\n",
              ".dataframe > tbody > tr {\n",
              "  text-align: right;\n",
              "  white-space: pre-wrap;\n",
              "}\n",
              "</style>\n",
              "<small>shape: (4, 4)</small><table border=\"1\" class=\"dataframe\"><thead><tr><th>name</th><th>birthdate</th><th>weight</th><th>height</th></tr><tr><td>str</td><td>date</td><td>u8</td><td>u8</td></tr></thead><tbody><tr><td>&quot;Alice Archer&quot;</td><td>1997-01-10</td><td>57</td><td>1</td></tr><tr><td>&quot;Ben Brown&quot;</td><td>1985-02-15</td><td>72</td><td>1</td></tr><tr><td>&quot;Chloe Cooper&quot;</td><td>1983-03-22</td><td>53</td><td>1</td></tr><tr><td>&quot;Daniel Donovan&quot;</td><td>1981-04-30</td><td>83</td><td>1</td></tr></tbody></table></div>"
            ]
          },
          "metadata": {},
          "execution_count": 9
        }
      ],
      "source": [
        "pl.DataFrame([\n",
        "    pl.Series(\"name\", [\"Alice Archer\", \"Ben Brown\", \"Chloe Cooper\", \"Daniel Donovan\"]),\n",
        "    pl.Series(\"birthdate\", [date(1997, 1, 10), date(1985, 2, 15),\n",
        "                            date(1983, 3, 22), date(1981, 4, 30)]),\n",
        "    pl.Series(\"weight\", [57.9, 72.5, 53.6, 83.1]),\n",
        "    pl.Series(\"height\", [1.56, 1.77, 1.65, 1.75])],\n",
        "             schema = {\"name\": pl.String, \"birthdate\" : pl.Date,\n",
        "                       \"weight\" : pl.UInt8, \"height\" : pl.UInt8}\n",
        "             )"
      ]
    },
    {
      "cell_type": "code",
      "execution_count": 10,
      "id": "80d8f916-d250-4a3c-a2b8-fab30e50533f",
      "metadata": {
        "colab": {
          "base_uri": "https://localhost:8080/",
          "height": 34
        },
        "id": "80d8f916-d250-4a3c-a2b8-fab30e50533f",
        "outputId": "a14c6e11-596a-4cb0-9a7d-95e77920f9aa"
      },
      "outputs": [
        {
          "output_type": "execute_result",
          "data": {
            "text/plain": [
              "<Expr ['[(col(\"weight\")) / (col(\"heigh…'] at 0x786F2FB23C50>"
            ],
            "text/html": [
              "[(col(\"weight\")) / (col(\"height\").pow([dyn int: 2]))]"
            ]
          },
          "metadata": {},
          "execution_count": 10
        }
      ],
      "source": [
        "(pl.col(\"weight\") / (pl.col(\"height\").pow(2)))"
      ]
    },
    {
      "cell_type": "code",
      "execution_count": 11,
      "id": "2a013212-d016-4160-93c2-88e5b479e1d8",
      "metadata": {
        "colab": {
          "base_uri": "https://localhost:8080/",
          "height": 223
        },
        "id": "2a013212-d016-4160-93c2-88e5b479e1d8",
        "outputId": "0512a211-e62b-44a2-aca8-1341b8c550fd"
      },
      "outputs": [
        {
          "output_type": "execute_result",
          "data": {
            "text/plain": [
              "shape: (4, 5)\n",
              "┌────────────────┬────────────┬────────┬────────┬───────────┐\n",
              "│ name           ┆ birthdate  ┆ weight ┆ height ┆ BMI       │\n",
              "│ ---            ┆ ---        ┆ ---    ┆ ---    ┆ ---       │\n",
              "│ str            ┆ date       ┆ f64    ┆ f64    ┆ f64       │\n",
              "╞════════════════╪════════════╪════════╪════════╪═══════════╡\n",
              "│ Alice Archer   ┆ 1997-01-10 ┆ 57.9   ┆ 1.56   ┆ 23.791913 │\n",
              "│ Ben Brown      ┆ 1985-02-15 ┆ 72.5   ┆ 1.77   ┆ 23.141498 │\n",
              "│ Chloe Cooper   ┆ 1983-03-22 ┆ 53.6   ┆ 1.65   ┆ 19.687787 │\n",
              "│ Daniel Donovan ┆ 1981-04-30 ┆ 83.1   ┆ 1.75   ┆ 27.134694 │\n",
              "└────────────────┴────────────┴────────┴────────┴───────────┘"
            ],
            "text/html": [
              "<div><style>\n",
              ".dataframe > thead > tr,\n",
              ".dataframe > tbody > tr {\n",
              "  text-align: right;\n",
              "  white-space: pre-wrap;\n",
              "}\n",
              "</style>\n",
              "<small>shape: (4, 5)</small><table border=\"1\" class=\"dataframe\"><thead><tr><th>name</th><th>birthdate</th><th>weight</th><th>height</th><th>BMI</th></tr><tr><td>str</td><td>date</td><td>f64</td><td>f64</td><td>f64</td></tr></thead><tbody><tr><td>&quot;Alice Archer&quot;</td><td>1997-01-10</td><td>57.9</td><td>1.56</td><td>23.791913</td></tr><tr><td>&quot;Ben Brown&quot;</td><td>1985-02-15</td><td>72.5</td><td>1.77</td><td>23.141498</td></tr><tr><td>&quot;Chloe Cooper&quot;</td><td>1983-03-22</td><td>53.6</td><td>1.65</td><td>19.687787</td></tr><tr><td>&quot;Daniel Donovan&quot;</td><td>1981-04-30</td><td>83.1</td><td>1.75</td><td>27.134694</td></tr></tbody></table></div>"
            ]
          },
          "metadata": {},
          "execution_count": 11
        }
      ],
      "source": [
        "exp = (pl.col(\"weight\") / (pl.col(\"height\").pow(2)))\n",
        "df = df.with_columns(exp.alias(\"BMI\"))\n",
        "df"
      ]
    },
    {
      "cell_type": "code",
      "execution_count": 12,
      "id": "bd25a665-d27a-4707-8f24-fa502a5c5398",
      "metadata": {
        "colab": {
          "base_uri": "https://localhost:8080/",
          "height": 223
        },
        "id": "bd25a665-d27a-4707-8f24-fa502a5c5398",
        "outputId": "66cada0b-854a-45c4-ea0b-68efafc0b18d"
      },
      "outputs": [
        {
          "output_type": "execute_result",
          "data": {
            "text/plain": [
              "shape: (4, 6)\n",
              "┌────────────┬────────────┬─────────────────┬─────────────────┬────────────┬──────────┐\n",
              "│ weight + 5 ┆ height - 5 ┆ weight * height ┆ height / weight ┆ BMI ** 2   ┆ BMI % 3  │\n",
              "│ ---        ┆ ---        ┆ ---             ┆ ---             ┆ ---        ┆ ---      │\n",
              "│ f64        ┆ f64        ┆ f64             ┆ f64             ┆ f64        ┆ f64      │\n",
              "╞════════════╪════════════╪═════════════════╪═════════════════╪════════════╪══════════╡\n",
              "│ 62.9       ┆ -3.44      ┆ 90.324          ┆ 0.026943        ┆ 566.055134 ┆ 2.791913 │\n",
              "│ 77.5       ┆ -3.23      ┆ 128.325         ┆ 0.024414        ┆ 535.528943 ┆ 2.141498 │\n",
              "│ 58.6       ┆ -3.35      ┆ 88.44           ┆ 0.030784        ┆ 387.608955 ┆ 1.687787 │\n",
              "│ 88.1       ┆ -3.25      ┆ 145.425         ┆ 0.021059        ┆ 736.291612 ┆ 0.134694 │\n",
              "└────────────┴────────────┴─────────────────┴─────────────────┴────────────┴──────────┘"
            ],
            "text/html": [
              "<div><style>\n",
              ".dataframe > thead > tr,\n",
              ".dataframe > tbody > tr {\n",
              "  text-align: right;\n",
              "  white-space: pre-wrap;\n",
              "}\n",
              "</style>\n",
              "<small>shape: (4, 6)</small><table border=\"1\" class=\"dataframe\"><thead><tr><th>weight + 5</th><th>height - 5</th><th>weight * height</th><th>height / weight</th><th>BMI ** 2</th><th>BMI % 3</th></tr><tr><td>f64</td><td>f64</td><td>f64</td><td>f64</td><td>f64</td><td>f64</td></tr></thead><tbody><tr><td>62.9</td><td>-3.44</td><td>90.324</td><td>0.026943</td><td>566.055134</td><td>2.791913</td></tr><tr><td>77.5</td><td>-3.23</td><td>128.325</td><td>0.024414</td><td>535.528943</td><td>2.141498</td></tr><tr><td>58.6</td><td>-3.35</td><td>88.44</td><td>0.030784</td><td>387.608955</td><td>1.687787</td></tr><tr><td>88.1</td><td>-3.25</td><td>145.425</td><td>0.021059</td><td>736.291612</td><td>0.134694</td></tr></tbody></table></div>"
            ]
          },
          "metadata": {},
          "execution_count": 12
        }
      ],
      "source": [
        "df.select(\n",
        "    (pl.col(\"weight\") + 5).alias(\"weight + 5\"),\n",
        "    (pl.col(\"height\").sub(5)).alias(\"height - 5\"),\n",
        "    (pl.col(\"weight\") * pl.col(\"height\")).alias(\"weight * height\"),\n",
        "    (pl.col(\"height\").truediv(pl.col(\"weight\"))).alias(\"height / weight\"),\n",
        "    (pl.col(\"BMI\") ** 2).alias(\"BMI ** 2\"),\n",
        "    (pl.col(\"BMI\") % 3).alias(\"BMI % 3\")\n",
        ")"
      ]
    },
    {
      "cell_type": "code",
      "execution_count": 13,
      "id": "37e6bd5d-4718-4e4d-a37e-b66ddc320923",
      "metadata": {
        "colab": {
          "base_uri": "https://localhost:8080/",
          "height": 223
        },
        "id": "37e6bd5d-4718-4e4d-a37e-b66ddc320923",
        "outputId": "d218aa79-d6dc-4edd-b7da-c4d5be5819cd"
      },
      "outputs": [
        {
          "output_type": "execute_result",
          "data": {
            "text/plain": [
              "shape: (4, 3)\n",
              "┌──────────────┬──────────────┬───────────┐\n",
              "│ height > 1.6 ┆ weight >= 60 ┆ BMI == 20 │\n",
              "│ ---          ┆ ---          ┆ ---       │\n",
              "│ bool         ┆ bool         ┆ bool      │\n",
              "╞══════════════╪══════════════╪═══════════╡\n",
              "│ false        ┆ false        ┆ false     │\n",
              "│ true         ┆ true         ┆ false     │\n",
              "│ true         ┆ false        ┆ false     │\n",
              "│ true         ┆ true         ┆ false     │\n",
              "└──────────────┴──────────────┴───────────┘"
            ],
            "text/html": [
              "<div><style>\n",
              ".dataframe > thead > tr,\n",
              ".dataframe > tbody > tr {\n",
              "  text-align: right;\n",
              "  white-space: pre-wrap;\n",
              "}\n",
              "</style>\n",
              "<small>shape: (4, 3)</small><table border=\"1\" class=\"dataframe\"><thead><tr><th>height &gt; 1.6</th><th>weight &gt;= 60</th><th>BMI == 20</th></tr><tr><td>bool</td><td>bool</td><td>bool</td></tr></thead><tbody><tr><td>false</td><td>false</td><td>false</td></tr><tr><td>true</td><td>true</td><td>false</td></tr><tr><td>true</td><td>false</td><td>false</td></tr><tr><td>true</td><td>true</td><td>false</td></tr></tbody></table></div>"
            ]
          },
          "metadata": {},
          "execution_count": 13
        }
      ],
      "source": [
        "df.select(\n",
        "    (pl.col(\"height\") > 1.6).alias(\"height > 1.6\"),\n",
        "    (pl.col(\"weight\") >= 60).alias(\"weight >= 60\"),\n",
        "    (pl.col(\"BMI\") == 20).alias(\"BMI == 20\")\n",
        ")"
      ]
    },
    {
      "cell_type": "code",
      "execution_count": 14,
      "id": "bbaf3c77-19a7-4f71-82bc-d3101baf9a14",
      "metadata": {
        "colab": {
          "base_uri": "https://localhost:8080/",
          "height": 161
        },
        "id": "bbaf3c77-19a7-4f71-82bc-d3101baf9a14",
        "outputId": "30cf4133-fb76-4482-bf23-8adc214da528"
      },
      "outputs": [
        {
          "output_type": "execute_result",
          "data": {
            "text/plain": [
              "shape: (2, 5)\n",
              "┌────────────────┬────────────┬────────┬────────┬───────────┐\n",
              "│ name           ┆ birthdate  ┆ weight ┆ height ┆ BMI       │\n",
              "│ ---            ┆ ---        ┆ ---    ┆ ---    ┆ ---       │\n",
              "│ str            ┆ date       ┆ f64    ┆ f64    ┆ f64       │\n",
              "╞════════════════╪════════════╪════════╪════════╪═══════════╡\n",
              "│ Ben Brown      ┆ 1985-02-15 ┆ 72.5   ┆ 1.77   ┆ 23.141498 │\n",
              "│ Daniel Donovan ┆ 1981-04-30 ┆ 83.1   ┆ 1.75   ┆ 27.134694 │\n",
              "└────────────────┴────────────┴────────┴────────┴───────────┘"
            ],
            "text/html": [
              "<div><style>\n",
              ".dataframe > thead > tr,\n",
              ".dataframe > tbody > tr {\n",
              "  text-align: right;\n",
              "  white-space: pre-wrap;\n",
              "}\n",
              "</style>\n",
              "<small>shape: (2, 5)</small><table border=\"1\" class=\"dataframe\"><thead><tr><th>name</th><th>birthdate</th><th>weight</th><th>height</th><th>BMI</th></tr><tr><td>str</td><td>date</td><td>f64</td><td>f64</td><td>f64</td></tr></thead><tbody><tr><td>&quot;Ben Brown&quot;</td><td>1985-02-15</td><td>72.5</td><td>1.77</td><td>23.141498</td></tr><tr><td>&quot;Daniel Donovan&quot;</td><td>1981-04-30</td><td>83.1</td><td>1.75</td><td>27.134694</td></tr></tbody></table></div>"
            ]
          },
          "metadata": {},
          "execution_count": 14
        }
      ],
      "source": [
        "df.filter(\n",
        "    ((pl.col(\"height\") > 1.6).and_(pl.col(\"weight\") >= 60))\n",
        ")"
      ]
    },
    {
      "cell_type": "code",
      "execution_count": 15,
      "id": "7cfa6780-7e37-4b7b-b389-a2fee50cd39b",
      "metadata": {
        "colab": {
          "base_uri": "https://localhost:8080/",
          "height": 223
        },
        "id": "7cfa6780-7e37-4b7b-b389-a2fee50cd39b",
        "outputId": "f30ecb41-935a-4e63-b721-ea212234351c"
      },
      "outputs": [
        {
          "output_type": "execute_result",
          "data": {
            "text/plain": [
              "shape: (4, 3)\n",
              "┌──────────────┬──────────────┬───────────┐\n",
              "│ height > 1.6 ┆ weight >= 60 ┆ BMI == 20 │\n",
              "│ ---          ┆ ---          ┆ ---       │\n",
              "│ bool         ┆ bool         ┆ bool      │\n",
              "╞══════════════╪══════════════╪═══════════╡\n",
              "│ false        ┆ false        ┆ false     │\n",
              "│ true         ┆ true         ┆ false     │\n",
              "│ true         ┆ false        ┆ false     │\n",
              "│ true         ┆ true         ┆ false     │\n",
              "└──────────────┴──────────────┴───────────┘"
            ],
            "text/html": [
              "<div><style>\n",
              ".dataframe > thead > tr,\n",
              ".dataframe > tbody > tr {\n",
              "  text-align: right;\n",
              "  white-space: pre-wrap;\n",
              "}\n",
              "</style>\n",
              "<small>shape: (4, 3)</small><table border=\"1\" class=\"dataframe\"><thead><tr><th>height &gt; 1.6</th><th>weight &gt;= 60</th><th>BMI == 20</th></tr><tr><td>bool</td><td>bool</td><td>bool</td></tr></thead><tbody><tr><td>false</td><td>false</td><td>false</td></tr><tr><td>true</td><td>true</td><td>false</td></tr><tr><td>true</td><td>false</td><td>false</td></tr><tr><td>true</td><td>true</td><td>false</td></tr></tbody></table></div>"
            ]
          },
          "metadata": {},
          "execution_count": 15
        }
      ],
      "source": [
        "df.select(\n",
        "    pl.col(\"height\").gt(1.6).alias(\"height > 1.6\"),\n",
        "    pl.col(\"weight\").ge(60).alias(\"weight >= 60\"),\n",
        "    pl.col(\"BMI\").eq(20).alias(\"BMI == 20\")\n",
        ")"
      ]
    },
    {
      "cell_type": "code",
      "execution_count": 16,
      "id": "f92d53bf-28a6-4404-b986-ca5c8385c457",
      "metadata": {
        "colab": {
          "base_uri": "https://localhost:8080/",
          "height": 223
        },
        "id": "f92d53bf-28a6-4404-b986-ca5c8385c457",
        "outputId": "68305924-6003-46d6-beed-73d537220b8b"
      },
      "outputs": [
        {
          "output_type": "execute_result",
          "data": {
            "text/plain": [
              "shape: (4, 6)\n",
              "┌────────────────┬────────────┬────────┬────────┬───────────┬──────────┐\n",
              "│ name           ┆ birthdate  ┆ weight ┆ height ┆ BMI       ┆ BMI 판정 │\n",
              "│ ---            ┆ ---        ┆ ---    ┆ ---    ┆ ---       ┆ ---      │\n",
              "│ str            ┆ date       ┆ f64    ┆ f64    ┆ f64       ┆ str      │\n",
              "╞════════════════╪════════════╪════════╪════════╪═══════════╪══════════╡\n",
              "│ Alice Archer   ┆ 1997-01-10 ┆ 57.9   ┆ 1.56   ┆ 23.791913 ┆ 과체중   │\n",
              "│ Ben Brown      ┆ 1985-02-15 ┆ 72.5   ┆ 1.77   ┆ 23.141498 ┆ 과체중   │\n",
              "│ Chloe Cooper   ┆ 1983-03-22 ┆ 53.6   ┆ 1.65   ┆ 19.687787 ┆ 정상     │\n",
              "│ Daniel Donovan ┆ 1981-04-30 ┆ 83.1   ┆ 1.75   ┆ 27.134694 ┆ 과체중   │\n",
              "└────────────────┴────────────┴────────┴────────┴───────────┴──────────┘"
            ],
            "text/html": [
              "<div><style>\n",
              ".dataframe > thead > tr,\n",
              ".dataframe > tbody > tr {\n",
              "  text-align: right;\n",
              "  white-space: pre-wrap;\n",
              "}\n",
              "</style>\n",
              "<small>shape: (4, 6)</small><table border=\"1\" class=\"dataframe\"><thead><tr><th>name</th><th>birthdate</th><th>weight</th><th>height</th><th>BMI</th><th>BMI 판정</th></tr><tr><td>str</td><td>date</td><td>f64</td><td>f64</td><td>f64</td><td>str</td></tr></thead><tbody><tr><td>&quot;Alice Archer&quot;</td><td>1997-01-10</td><td>57.9</td><td>1.56</td><td>23.791913</td><td>&quot;과체중&quot;</td></tr><tr><td>&quot;Ben Brown&quot;</td><td>1985-02-15</td><td>72.5</td><td>1.77</td><td>23.141498</td><td>&quot;과체중&quot;</td></tr><tr><td>&quot;Chloe Cooper&quot;</td><td>1983-03-22</td><td>53.6</td><td>1.65</td><td>19.687787</td><td>&quot;정상&quot;</td></tr><tr><td>&quot;Daniel Donovan&quot;</td><td>1981-04-30</td><td>83.1</td><td>1.75</td><td>27.134694</td><td>&quot;과체중&quot;</td></tr></tbody></table></div>"
            ]
          },
          "metadata": {},
          "execution_count": 16
        }
      ],
      "source": [
        "df = df.with_columns(\n",
        "    pl.col(\"BMI\"),\n",
        "    pl.when(pl.col(\"BMI\") > 23)\n",
        "    .then(pl.lit(\"과체중\"))\n",
        "    .otherwise(pl.lit(\"정상\"))\n",
        "    .alias(\"BMI 판정\"),\n",
        ")\n",
        "df"
      ]
    },
    {
      "cell_type": "code",
      "execution_count": 17,
      "id": "bd44846b-a5f8-4cef-8b17-c7e8a7c1535f",
      "metadata": {
        "colab": {
          "base_uri": "https://localhost:8080/",
          "height": 223
        },
        "id": "bd44846b-a5f8-4cef-8b17-c7e8a7c1535f",
        "outputId": "e0d867b6-642f-48b8-e3d2-02316194db98"
      },
      "outputs": [
        {
          "output_type": "execute_result",
          "data": {
            "text/plain": [
              "shape: (4, 2)\n",
              "┌──────────┬──────────┐\n",
              "│ height*2 ┆ weight*2 │\n",
              "│ ---      ┆ ---      │\n",
              "│ f64      ┆ f64      │\n",
              "╞══════════╪══════════╡\n",
              "│ 3.12     ┆ 115.8    │\n",
              "│ 3.54     ┆ 145.0    │\n",
              "│ 3.3      ┆ 107.2    │\n",
              "│ 3.5      ┆ 166.2    │\n",
              "└──────────┴──────────┘"
            ],
            "text/html": [
              "<div><style>\n",
              ".dataframe > thead > tr,\n",
              ".dataframe > tbody > tr {\n",
              "  text-align: right;\n",
              "  white-space: pre-wrap;\n",
              "}\n",
              "</style>\n",
              "<small>shape: (4, 2)</small><table border=\"1\" class=\"dataframe\"><thead><tr><th>height*2</th><th>weight*2</th></tr><tr><td>f64</td><td>f64</td></tr></thead><tbody><tr><td>3.12</td><td>115.8</td></tr><tr><td>3.54</td><td>145.0</td></tr><tr><td>3.3</td><td>107.2</td></tr><tr><td>3.5</td><td>166.2</td></tr></tbody></table></div>"
            ]
          },
          "metadata": {},
          "execution_count": 17
        }
      ],
      "source": [
        "df.select(\n",
        "    (pl.col('height', 'weight') * 2).name.suffix('*2')\n",
        ")"
      ]
    },
    {
      "cell_type": "code",
      "execution_count": 18,
      "id": "06ffe49a-49cc-46f3-8fe6-8f33277e175f",
      "metadata": {
        "colab": {
          "base_uri": "https://localhost:8080/",
          "height": 223
        },
        "id": "06ffe49a-49cc-46f3-8fe6-8f33277e175f",
        "outputId": "83600ec4-401a-433d-b7ba-be0f8129b6ab"
      },
      "outputs": [
        {
          "output_type": "execute_result",
          "data": {
            "text/plain": [
              "shape: (4, 6)\n",
              "┌────────────────┬────────────┬────────┬────────┬──────┬──────────┐\n",
              "│ name           ┆ birthdate  ┆ weight ┆ height ┆ BMI  ┆ BMI 판정 │\n",
              "│ ---            ┆ ---        ┆ ---    ┆ ---    ┆ ---  ┆ ---      │\n",
              "│ str            ┆ date       ┆ f64    ┆ f64    ┆ f64  ┆ str      │\n",
              "╞════════════════╪════════════╪════════╪════════╪══════╪══════════╡\n",
              "│ Alice Archer   ┆ 1997-01-10 ┆ 115.8  ┆ 3.1    ┆ 47.6 ┆ 과체중   │\n",
              "│ Ben Brown      ┆ 1985-02-15 ┆ 145.0  ┆ 3.5    ┆ 46.3 ┆ 과체중   │\n",
              "│ Chloe Cooper   ┆ 1983-03-22 ┆ 107.2  ┆ 3.3    ┆ 39.4 ┆ 정상     │\n",
              "│ Daniel Donovan ┆ 1981-04-30 ┆ 166.2  ┆ 3.5    ┆ 54.3 ┆ 과체중   │\n",
              "└────────────────┴────────────┴────────┴────────┴──────┴──────────┘"
            ],
            "text/html": [
              "<div><style>\n",
              ".dataframe > thead > tr,\n",
              ".dataframe > tbody > tr {\n",
              "  text-align: right;\n",
              "  white-space: pre-wrap;\n",
              "}\n",
              "</style>\n",
              "<small>shape: (4, 6)</small><table border=\"1\" class=\"dataframe\"><thead><tr><th>name</th><th>birthdate</th><th>weight</th><th>height</th><th>BMI</th><th>BMI 판정</th></tr><tr><td>str</td><td>date</td><td>f64</td><td>f64</td><td>f64</td><td>str</td></tr></thead><tbody><tr><td>&quot;Alice Archer&quot;</td><td>1997-01-10</td><td>115.8</td><td>3.1</td><td>47.6</td><td>&quot;과체중&quot;</td></tr><tr><td>&quot;Ben Brown&quot;</td><td>1985-02-15</td><td>145.0</td><td>3.5</td><td>46.3</td><td>&quot;과체중&quot;</td></tr><tr><td>&quot;Chloe Cooper&quot;</td><td>1983-03-22</td><td>107.2</td><td>3.3</td><td>39.4</td><td>&quot;정상&quot;</td></tr><tr><td>&quot;Daniel Donovan&quot;</td><td>1981-04-30</td><td>166.2</td><td>3.5</td><td>54.3</td><td>&quot;과체중&quot;</td></tr></tbody></table></div>"
            ]
          },
          "metadata": {},
          "execution_count": 18
        }
      ],
      "source": [
        "df.with_columns(\n",
        "    (pl.col(pl.Float64) * 2).round(1))"
      ]
    },
    {
      "cell_type": "code",
      "execution_count": 19,
      "id": "05d76707-2c26-463b-8fda-aa09892fa855",
      "metadata": {
        "colab": {
          "base_uri": "https://localhost:8080/",
          "height": 223
        },
        "id": "05d76707-2c26-463b-8fda-aa09892fa855",
        "outputId": "19ef878f-8ab3-4930-f03e-29f0a83351f7"
      },
      "outputs": [
        {
          "output_type": "execute_result",
          "data": {
            "text/plain": [
              "shape: (4, 2)\n",
              "┌───────────┬──────────┐\n",
              "│ BMI       ┆ BMI 판정 │\n",
              "│ ---       ┆ ---      │\n",
              "│ f64       ┆ str      │\n",
              "╞═══════════╪══════════╡\n",
              "│ 23.791913 ┆ 과체중   │\n",
              "│ 23.141498 ┆ 과체중   │\n",
              "│ 19.687787 ┆ 정상     │\n",
              "│ 27.134694 ┆ 과체중   │\n",
              "└───────────┴──────────┘"
            ],
            "text/html": [
              "<div><style>\n",
              ".dataframe > thead > tr,\n",
              ".dataframe > tbody > tr {\n",
              "  text-align: right;\n",
              "  white-space: pre-wrap;\n",
              "}\n",
              "</style>\n",
              "<small>shape: (4, 2)</small><table border=\"1\" class=\"dataframe\"><thead><tr><th>BMI</th><th>BMI 판정</th></tr><tr><td>f64</td><td>str</td></tr></thead><tbody><tr><td>23.791913</td><td>&quot;과체중&quot;</td></tr><tr><td>23.141498</td><td>&quot;과체중&quot;</td></tr><tr><td>19.687787</td><td>&quot;정상&quot;</td></tr><tr><td>27.134694</td><td>&quot;과체중&quot;</td></tr></tbody></table></div>"
            ]
          },
          "metadata": {},
          "execution_count": 19
        }
      ],
      "source": [
        "df.select(\n",
        "    (pl.col('^.*BMI.*$')))"
      ]
    },
    {
      "cell_type": "code",
      "execution_count": 20,
      "id": "72cf2a9f-efb8-415a-ab87-60c1393279d7",
      "metadata": {
        "colab": {
          "base_uri": "https://localhost:8080/",
          "height": 223
        },
        "id": "72cf2a9f-efb8-415a-ab87-60c1393279d7",
        "outputId": "d9e1499e-bc37-406d-9696-a8924e14a4e0"
      },
      "outputs": [
        {
          "output_type": "execute_result",
          "data": {
            "text/plain": [
              "shape: (4, 6)\n",
              "┌────────────────┬────────────┬────────┬────────┬───────────┬──────────┐\n",
              "│ name           ┆ birthdate  ┆ weight ┆ height ┆ BMI       ┆ BMI 판정 │\n",
              "│ ---            ┆ ---        ┆ ---    ┆ ---    ┆ ---       ┆ ---      │\n",
              "│ str            ┆ date       ┆ f64    ┆ f64    ┆ f64       ┆ str      │\n",
              "╞════════════════╪════════════╪════════╪════════╪═══════════╪══════════╡\n",
              "│ Alice Archer   ┆ 1997-01-10 ┆ 57.9   ┆ 1.56   ┆ 23.791913 ┆ 과체중   │\n",
              "│ Ben Brown      ┆ 1985-02-15 ┆ 72.5   ┆ 1.77   ┆ 23.141498 ┆ 과체중   │\n",
              "│ Chloe Cooper   ┆ 1983-03-22 ┆ 53.6   ┆ 1.65   ┆ 19.687787 ┆ 정상     │\n",
              "│ Daniel Donovan ┆ 1981-04-30 ┆ 83.1   ┆ 1.75   ┆ 27.134694 ┆ 과체중   │\n",
              "└────────────────┴────────────┴────────┴────────┴───────────┴──────────┘"
            ],
            "text/html": [
              "<div><style>\n",
              ".dataframe > thead > tr,\n",
              ".dataframe > tbody > tr {\n",
              "  text-align: right;\n",
              "  white-space: pre-wrap;\n",
              "}\n",
              "</style>\n",
              "<small>shape: (4, 6)</small><table border=\"1\" class=\"dataframe\"><thead><tr><th>name</th><th>birthdate</th><th>weight</th><th>height</th><th>BMI</th><th>BMI 판정</th></tr><tr><td>str</td><td>date</td><td>f64</td><td>f64</td><td>f64</td><td>str</td></tr></thead><tbody><tr><td>&quot;Alice Archer&quot;</td><td>1997-01-10</td><td>57.9</td><td>1.56</td><td>23.791913</td><td>&quot;과체중&quot;</td></tr><tr><td>&quot;Ben Brown&quot;</td><td>1985-02-15</td><td>72.5</td><td>1.77</td><td>23.141498</td><td>&quot;과체중&quot;</td></tr><tr><td>&quot;Chloe Cooper&quot;</td><td>1983-03-22</td><td>53.6</td><td>1.65</td><td>19.687787</td><td>&quot;정상&quot;</td></tr><tr><td>&quot;Daniel Donovan&quot;</td><td>1981-04-30</td><td>83.1</td><td>1.75</td><td>27.134694</td><td>&quot;과체중&quot;</td></tr></tbody></table></div>"
            ]
          },
          "metadata": {},
          "execution_count": 20
        }
      ],
      "source": [
        "df.select(\n",
        "    (pl.all()))"
      ]
    },
    {
      "cell_type": "code",
      "execution_count": 21,
      "id": "ef9ada98-7c50-4c2f-b848-90265b320243",
      "metadata": {
        "colab": {
          "base_uri": "https://localhost:8080/",
          "height": 223
        },
        "id": "ef9ada98-7c50-4c2f-b848-90265b320243",
        "outputId": "ee60dba6-0833-443c-a6ac-82c146072090"
      },
      "outputs": [
        {
          "output_type": "execute_result",
          "data": {
            "text/plain": [
              "shape: (4, 7)\n",
              "┌────────────────┬────────────┬────────┬────────┬───────────┬──────────┬─────────┐\n",
              "│ name           ┆ birthdate  ┆ weight ┆ height ┆ BMI       ┆ BMI 판정 ┆ Int_BMI │\n",
              "│ ---            ┆ ---        ┆ ---    ┆ ---    ┆ ---       ┆ ---      ┆ ---     │\n",
              "│ str            ┆ date       ┆ f64    ┆ f64    ┆ f64       ┆ str      ┆ i64     │\n",
              "╞════════════════╪════════════╪════════╪════════╪═══════════╪══════════╪═════════╡\n",
              "│ Alice Archer   ┆ 1997-01-10 ┆ 57.9   ┆ 1.56   ┆ 23.791913 ┆ 과체중   ┆ 23      │\n",
              "│ Ben Brown      ┆ 1985-02-15 ┆ 72.5   ┆ 1.77   ┆ 23.141498 ┆ 과체중   ┆ 23      │\n",
              "│ Chloe Cooper   ┆ 1983-03-22 ┆ 53.6   ┆ 1.65   ┆ 19.687787 ┆ 정상     ┆ 19      │\n",
              "│ Daniel Donovan ┆ 1981-04-30 ┆ 83.1   ┆ 1.75   ┆ 27.134694 ┆ 과체중   ┆ 27      │\n",
              "└────────────────┴────────────┴────────┴────────┴───────────┴──────────┴─────────┘"
            ],
            "text/html": [
              "<div><style>\n",
              ".dataframe > thead > tr,\n",
              ".dataframe > tbody > tr {\n",
              "  text-align: right;\n",
              "  white-space: pre-wrap;\n",
              "}\n",
              "</style>\n",
              "<small>shape: (4, 7)</small><table border=\"1\" class=\"dataframe\"><thead><tr><th>name</th><th>birthdate</th><th>weight</th><th>height</th><th>BMI</th><th>BMI 판정</th><th>Int_BMI</th></tr><tr><td>str</td><td>date</td><td>f64</td><td>f64</td><td>f64</td><td>str</td><td>i64</td></tr></thead><tbody><tr><td>&quot;Alice Archer&quot;</td><td>1997-01-10</td><td>57.9</td><td>1.56</td><td>23.791913</td><td>&quot;과체중&quot;</td><td>23</td></tr><tr><td>&quot;Ben Brown&quot;</td><td>1985-02-15</td><td>72.5</td><td>1.77</td><td>23.141498</td><td>&quot;과체중&quot;</td><td>23</td></tr><tr><td>&quot;Chloe Cooper&quot;</td><td>1983-03-22</td><td>53.6</td><td>1.65</td><td>19.687787</td><td>&quot;정상&quot;</td><td>19</td></tr><tr><td>&quot;Daniel Donovan&quot;</td><td>1981-04-30</td><td>83.1</td><td>1.75</td><td>27.134694</td><td>&quot;과체중&quot;</td><td>27</td></tr></tbody></table></div>"
            ]
          },
          "metadata": {},
          "execution_count": 21
        }
      ],
      "source": [
        "df = df.with_columns(\n",
        "    pl.col(\"BMI\").cast(pl.Int64).alias(\"Int_BMI\")\n",
        ")\n",
        "df"
      ]
    },
    {
      "cell_type": "code",
      "execution_count": 22,
      "id": "8f6f956b-a018-4d21-954e-0eeed1067af1",
      "metadata": {
        "colab": {
          "base_uri": "https://localhost:8080/",
          "height": 223
        },
        "id": "8f6f956b-a018-4d21-954e-0eeed1067af1",
        "outputId": "41124bca-4803-47c7-b4b7-fb07430b4827"
      },
      "outputs": [
        {
          "output_type": "execute_result",
          "data": {
            "text/plain": [
              "shape: (4, 9)\n",
              "┌──────────────┬────────────┬────────┬────────┬───┬──────────┬─────────┬─────────────┬─────────────┐\n",
              "│ name         ┆ birthdate  ┆ weight ┆ height ┆ … ┆ BMI 판정 ┆ Int_BMI ┆ string_head ┆ string_rev  │\n",
              "│ ---          ┆ ---        ┆ ---    ┆ ---    ┆   ┆ ---      ┆ ---     ┆ ---         ┆ ---         │\n",
              "│ str          ┆ date       ┆ f64    ┆ f64    ┆   ┆ str      ┆ i64     ┆ str         ┆ str         │\n",
              "╞══════════════╪════════════╪════════╪════════╪═══╪══════════╪═════════╪═════════════╪═════════════╡\n",
              "│ Alice Archer ┆ 1997-01-10 ┆ 57.9   ┆ 1.56   ┆ … ┆ 과체중   ┆ 23      ┆ Alice       ┆ rehcrA      │\n",
              "│              ┆            ┆        ┆        ┆   ┆          ┆         ┆             ┆ ecilA       │\n",
              "│ Ben Brown    ┆ 1985-02-15 ┆ 72.5   ┆ 1.77   ┆ … ┆ 과체중   ┆ 23      ┆ Ben B       ┆ nworB neB   │\n",
              "│ Chloe Cooper ┆ 1983-03-22 ┆ 53.6   ┆ 1.65   ┆ … ┆ 정상     ┆ 19      ┆ Chloe       ┆ repooC      │\n",
              "│              ┆            ┆        ┆        ┆   ┆          ┆         ┆             ┆ eolhC       │\n",
              "│ Daniel       ┆ 1981-04-30 ┆ 83.1   ┆ 1.75   ┆ … ┆ 과체중   ┆ 27      ┆ Danie       ┆ navonoD     │\n",
              "│ Donovan      ┆            ┆        ┆        ┆   ┆          ┆         ┆             ┆ leinaD      │\n",
              "└──────────────┴────────────┴────────┴────────┴───┴──────────┴─────────┴─────────────┴─────────────┘"
            ],
            "text/html": [
              "<div><style>\n",
              ".dataframe > thead > tr,\n",
              ".dataframe > tbody > tr {\n",
              "  text-align: right;\n",
              "  white-space: pre-wrap;\n",
              "}\n",
              "</style>\n",
              "<small>shape: (4, 9)</small><table border=\"1\" class=\"dataframe\"><thead><tr><th>name</th><th>birthdate</th><th>weight</th><th>height</th><th>BMI</th><th>BMI 판정</th><th>Int_BMI</th><th>string_head</th><th>string_rev</th></tr><tr><td>str</td><td>date</td><td>f64</td><td>f64</td><td>f64</td><td>str</td><td>i64</td><td>str</td><td>str</td></tr></thead><tbody><tr><td>&quot;Alice Archer&quot;</td><td>1997-01-10</td><td>57.9</td><td>1.56</td><td>23.791913</td><td>&quot;과체중&quot;</td><td>23</td><td>&quot;Alice&quot;</td><td>&quot;rehcrA ecilA&quot;</td></tr><tr><td>&quot;Ben Brown&quot;</td><td>1985-02-15</td><td>72.5</td><td>1.77</td><td>23.141498</td><td>&quot;과체중&quot;</td><td>23</td><td>&quot;Ben B&quot;</td><td>&quot;nworB neB&quot;</td></tr><tr><td>&quot;Chloe Cooper&quot;</td><td>1983-03-22</td><td>53.6</td><td>1.65</td><td>19.687787</td><td>&quot;정상&quot;</td><td>19</td><td>&quot;Chloe&quot;</td><td>&quot;repooC eolhC&quot;</td></tr><tr><td>&quot;Daniel Donovan&quot;</td><td>1981-04-30</td><td>83.1</td><td>1.75</td><td>27.134694</td><td>&quot;과체중&quot;</td><td>27</td><td>&quot;Danie&quot;</td><td>&quot;navonoD leinaD&quot;</td></tr></tbody></table></div>"
            ]
          },
          "metadata": {},
          "execution_count": 22
        }
      ],
      "source": [
        "df.with_columns(\n",
        "    pl.col(\"name\").str.head(5).alias(\"string_head\"),\n",
        "    pl.col(\"name\").str.reverse().alias(\"string_rev\")\n",
        ")"
      ]
    },
    {
      "cell_type": "code",
      "execution_count": 23,
      "id": "f6ff7e56-1621-4f7e-ad1b-0a5f7438e9d9",
      "metadata": {
        "colab": {
          "base_uri": "https://localhost:8080/",
          "height": 223
        },
        "id": "f6ff7e56-1621-4f7e-ad1b-0a5f7438e9d9",
        "outputId": "e2bd66b2-c8d8-43b1-fe1f-17dfea4a8b72"
      },
      "outputs": [
        {
          "output_type": "execute_result",
          "data": {
            "text/plain": [
              "shape: (4, 8)\n",
              "┌────────────────┬────────────┬────────┬────────┬───────────┬──────────┬─────────┬───────────┐\n",
              "│ name           ┆ birthdate  ┆ weight ┆ height ┆ BMI       ┆ BMI 판정 ┆ Int_BMI ┆ enum_판정 │\n",
              "│ ---            ┆ ---        ┆ ---    ┆ ---    ┆ ---       ┆ ---      ┆ ---     ┆ ---       │\n",
              "│ str            ┆ date       ┆ f64    ┆ f64    ┆ f64       ┆ str      ┆ i64     ┆ enum      │\n",
              "╞════════════════╪════════════╪════════╪════════╪═══════════╪══════════╪═════════╪═══════════╡\n",
              "│ Alice Archer   ┆ 1997-01-10 ┆ 57.9   ┆ 1.56   ┆ 23.791913 ┆ 과체중   ┆ 23      ┆ 과체중    │\n",
              "│ Ben Brown      ┆ 1985-02-15 ┆ 72.5   ┆ 1.77   ┆ 23.141498 ┆ 과체중   ┆ 23      ┆ 과체중    │\n",
              "│ Chloe Cooper   ┆ 1983-03-22 ┆ 53.6   ┆ 1.65   ┆ 19.687787 ┆ 정상     ┆ 19      ┆ 정상      │\n",
              "│ Daniel Donovan ┆ 1981-04-30 ┆ 83.1   ┆ 1.75   ┆ 27.134694 ┆ 과체중   ┆ 27      ┆ 과체중    │\n",
              "└────────────────┴────────────┴────────┴────────┴───────────┴──────────┴─────────┴───────────┘"
            ],
            "text/html": [
              "<div><style>\n",
              ".dataframe > thead > tr,\n",
              ".dataframe > tbody > tr {\n",
              "  text-align: right;\n",
              "  white-space: pre-wrap;\n",
              "}\n",
              "</style>\n",
              "<small>shape: (4, 8)</small><table border=\"1\" class=\"dataframe\"><thead><tr><th>name</th><th>birthdate</th><th>weight</th><th>height</th><th>BMI</th><th>BMI 판정</th><th>Int_BMI</th><th>enum_판정</th></tr><tr><td>str</td><td>date</td><td>f64</td><td>f64</td><td>f64</td><td>str</td><td>i64</td><td>enum</td></tr></thead><tbody><tr><td>&quot;Alice Archer&quot;</td><td>1997-01-10</td><td>57.9</td><td>1.56</td><td>23.791913</td><td>&quot;과체중&quot;</td><td>23</td><td>&quot;과체중&quot;</td></tr><tr><td>&quot;Ben Brown&quot;</td><td>1985-02-15</td><td>72.5</td><td>1.77</td><td>23.141498</td><td>&quot;과체중&quot;</td><td>23</td><td>&quot;과체중&quot;</td></tr><tr><td>&quot;Chloe Cooper&quot;</td><td>1983-03-22</td><td>53.6</td><td>1.65</td><td>19.687787</td><td>&quot;정상&quot;</td><td>19</td><td>&quot;정상&quot;</td></tr><tr><td>&quot;Daniel Donovan&quot;</td><td>1981-04-30</td><td>83.1</td><td>1.75</td><td>27.134694</td><td>&quot;과체중&quot;</td><td>27</td><td>&quot;과체중&quot;</td></tr></tbody></table></div>"
            ]
          },
          "metadata": {},
          "execution_count": 23
        }
      ],
      "source": [
        "BMI_enum = pl.Enum([\"저체중\", \"정상\", \"과체중\", \"비만\"])\n",
        "df = df.with_columns(\n",
        "    pl.col(\"BMI 판정\").cast(BMI_enum).alias(\"enum_판정\")\n",
        ")\n",
        "df"
      ]
    },
    {
      "cell_type": "code",
      "execution_count": 24,
      "id": "6cbbb78a-9e33-4d18-8492-d603739c0ba1",
      "metadata": {
        "colab": {
          "base_uri": "https://localhost:8080/"
        },
        "id": "6cbbb78a-9e33-4d18-8492-d603739c0ba1",
        "outputId": "fadb9047-df5f-43ec-e02a-43bec547b17b"
      },
      "outputs": [
        {
          "output_type": "stream",
          "name": "stdout",
          "text": [
            "InvalidOperationError: conversion from `str` to `enum` failed in column '' for 1 out of 5 values: [\"비만전단계\"]\n",
            "\n",
            "Ensure that all values in the input column are present in the categories of the enum datatype.\n"
          ]
        }
      ],
      "source": [
        "from polars.exceptions import InvalidOperationError\n",
        "\n",
        "try:\n",
        "    pl.Series(\n",
        "            [\"과체중\", \"비만\", \"정상\", \"과체중\", \"비만전단계\"],\n",
        "            dtype=BMI_enum,\n",
        "        )\n",
        "\n",
        "except InvalidOperationError as exc:\n",
        "    print(\"InvalidOperationError:\", exc)"
      ]
    },
    {
      "cell_type": "code",
      "execution_count": 25,
      "id": "312bf7fb-efc8-435b-b0e0-6bbe2959d305",
      "metadata": {
        "colab": {
          "base_uri": "https://localhost:8080/",
          "height": 223
        },
        "id": "312bf7fb-efc8-435b-b0e0-6bbe2959d305",
        "outputId": "b7113526-9a48-40f2-f7ac-625d5868d84f"
      },
      "outputs": [
        {
          "output_type": "execute_result",
          "data": {
            "text/plain": [
              "shape: (4, 8)\n",
              "┌────────────────┬────────────┬────────┬────────┬───────────┬──────────┬─────────┬───────────┐\n",
              "│ name           ┆ birthdate  ┆ weight ┆ height ┆ BMI       ┆ BMI 판정 ┆ Int_BMI ┆ enum_판정 │\n",
              "│ ---            ┆ ---        ┆ ---    ┆ ---    ┆ ---       ┆ ---      ┆ ---     ┆ ---       │\n",
              "│ str            ┆ date       ┆ f64    ┆ f64    ┆ f64       ┆ str      ┆ i64     ┆ enum      │\n",
              "╞════════════════╪════════════╪════════╪════════╪═══════════╪══════════╪═════════╪═══════════╡\n",
              "│ Chloe Cooper   ┆ 1983-03-22 ┆ 53.6   ┆ 1.65   ┆ 19.687787 ┆ 정상     ┆ 19      ┆ 정상      │\n",
              "│ Alice Archer   ┆ 1997-01-10 ┆ 57.9   ┆ 1.56   ┆ 23.791913 ┆ 과체중   ┆ 23      ┆ 과체중    │\n",
              "│ Ben Brown      ┆ 1985-02-15 ┆ 72.5   ┆ 1.77   ┆ 23.141498 ┆ 과체중   ┆ 23      ┆ 과체중    │\n",
              "│ Daniel Donovan ┆ 1981-04-30 ┆ 83.1   ┆ 1.75   ┆ 27.134694 ┆ 과체중   ┆ 27      ┆ 과체중    │\n",
              "└────────────────┴────────────┴────────┴────────┴───────────┴──────────┴─────────┴───────────┘"
            ],
            "text/html": [
              "<div><style>\n",
              ".dataframe > thead > tr,\n",
              ".dataframe > tbody > tr {\n",
              "  text-align: right;\n",
              "  white-space: pre-wrap;\n",
              "}\n",
              "</style>\n",
              "<small>shape: (4, 8)</small><table border=\"1\" class=\"dataframe\"><thead><tr><th>name</th><th>birthdate</th><th>weight</th><th>height</th><th>BMI</th><th>BMI 판정</th><th>Int_BMI</th><th>enum_판정</th></tr><tr><td>str</td><td>date</td><td>f64</td><td>f64</td><td>f64</td><td>str</td><td>i64</td><td>enum</td></tr></thead><tbody><tr><td>&quot;Chloe Cooper&quot;</td><td>1983-03-22</td><td>53.6</td><td>1.65</td><td>19.687787</td><td>&quot;정상&quot;</td><td>19</td><td>&quot;정상&quot;</td></tr><tr><td>&quot;Alice Archer&quot;</td><td>1997-01-10</td><td>57.9</td><td>1.56</td><td>23.791913</td><td>&quot;과체중&quot;</td><td>23</td><td>&quot;과체중&quot;</td></tr><tr><td>&quot;Ben Brown&quot;</td><td>1985-02-15</td><td>72.5</td><td>1.77</td><td>23.141498</td><td>&quot;과체중&quot;</td><td>23</td><td>&quot;과체중&quot;</td></tr><tr><td>&quot;Daniel Donovan&quot;</td><td>1981-04-30</td><td>83.1</td><td>1.75</td><td>27.134694</td><td>&quot;과체중&quot;</td><td>27</td><td>&quot;과체중&quot;</td></tr></tbody></table></div>"
            ]
          },
          "metadata": {},
          "execution_count": 25
        }
      ],
      "source": [
        "df.sort('enum_판정')"
      ]
    },
    {
      "cell_type": "code",
      "execution_count": 26,
      "id": "d4a970d4-6aa2-4f51-a33e-960eeec3632c",
      "metadata": {
        "colab": {
          "base_uri": "https://localhost:8080/",
          "height": 192
        },
        "id": "d4a970d4-6aa2-4f51-a33e-960eeec3632c",
        "outputId": "73da3be5-e930-4224-acfe-0cac735cc0c6"
      },
      "outputs": [
        {
          "output_type": "execute_result",
          "data": {
            "text/plain": [
              "shape: (3, 8)\n",
              "┌────────────────┬────────────┬────────┬────────┬───────────┬──────────┬─────────┬───────────┐\n",
              "│ name           ┆ birthdate  ┆ weight ┆ height ┆ BMI       ┆ BMI 판정 ┆ Int_BMI ┆ enum_판정 │\n",
              "│ ---            ┆ ---        ┆ ---    ┆ ---    ┆ ---       ┆ ---      ┆ ---     ┆ ---       │\n",
              "│ str            ┆ date       ┆ f64    ┆ f64    ┆ f64       ┆ str      ┆ i64     ┆ enum      │\n",
              "╞════════════════╪════════════╪════════╪════════╪═══════════╪══════════╪═════════╪═══════════╡\n",
              "│ Alice Archer   ┆ 1997-01-10 ┆ 57.9   ┆ 1.56   ┆ 23.791913 ┆ 과체중   ┆ 23      ┆ 과체중    │\n",
              "│ Ben Brown      ┆ 1985-02-15 ┆ 72.5   ┆ 1.77   ┆ 23.141498 ┆ 과체중   ┆ 23      ┆ 과체중    │\n",
              "│ Daniel Donovan ┆ 1981-04-30 ┆ 83.1   ┆ 1.75   ┆ 27.134694 ┆ 과체중   ┆ 27      ┆ 과체중    │\n",
              "└────────────────┴────────────┴────────┴────────┴───────────┴──────────┴─────────┴───────────┘"
            ],
            "text/html": [
              "<div><style>\n",
              ".dataframe > thead > tr,\n",
              ".dataframe > tbody > tr {\n",
              "  text-align: right;\n",
              "  white-space: pre-wrap;\n",
              "}\n",
              "</style>\n",
              "<small>shape: (3, 8)</small><table border=\"1\" class=\"dataframe\"><thead><tr><th>name</th><th>birthdate</th><th>weight</th><th>height</th><th>BMI</th><th>BMI 판정</th><th>Int_BMI</th><th>enum_판정</th></tr><tr><td>str</td><td>date</td><td>f64</td><td>f64</td><td>f64</td><td>str</td><td>i64</td><td>enum</td></tr></thead><tbody><tr><td>&quot;Alice Archer&quot;</td><td>1997-01-10</td><td>57.9</td><td>1.56</td><td>23.791913</td><td>&quot;과체중&quot;</td><td>23</td><td>&quot;과체중&quot;</td></tr><tr><td>&quot;Ben Brown&quot;</td><td>1985-02-15</td><td>72.5</td><td>1.77</td><td>23.141498</td><td>&quot;과체중&quot;</td><td>23</td><td>&quot;과체중&quot;</td></tr><tr><td>&quot;Daniel Donovan&quot;</td><td>1981-04-30</td><td>83.1</td><td>1.75</td><td>27.134694</td><td>&quot;과체중&quot;</td><td>27</td><td>&quot;과체중&quot;</td></tr></tbody></table></div>"
            ]
          },
          "metadata": {},
          "execution_count": 26
        }
      ],
      "source": [
        "df.filter(\n",
        "    (pl.col(\"enum_판정\") > \"정상\")\n",
        ")"
      ]
    },
    {
      "cell_type": "code",
      "execution_count": 27,
      "id": "fbdb64d9-19b0-4cf1-932a-01395748869f",
      "metadata": {
        "colab": {
          "base_uri": "https://localhost:8080/",
          "height": 223
        },
        "id": "fbdb64d9-19b0-4cf1-932a-01395748869f",
        "outputId": "8b972ad9-0815-436f-d014-6fa2e3634c35"
      },
      "outputs": [
        {
          "output_type": "execute_result",
          "data": {
            "text/plain": [
              "shape: (4, 8)\n",
              "┌────────────────┬────────────┬────────┬────────┬───────────┬──────────┬─────────┬───────────┐\n",
              "│ name           ┆ birthdate  ┆ weight ┆ height ┆ BMI       ┆ BMI 판정 ┆ Int_BMI ┆ enum_판정 │\n",
              "│ ---            ┆ ---        ┆ ---    ┆ ---    ┆ ---       ┆ ---      ┆ ---     ┆ ---       │\n",
              "│ str            ┆ date       ┆ f64    ┆ f64    ┆ f64       ┆ str      ┆ i64     ┆ cat       │\n",
              "╞════════════════╪════════════╪════════╪════════╪═══════════╪══════════╪═════════╪═══════════╡\n",
              "│ Alice Archer   ┆ 1997-01-10 ┆ 57.9   ┆ 1.56   ┆ 23.791913 ┆ 과체중   ┆ 23      ┆ 과체중    │\n",
              "│ Ben Brown      ┆ 1985-02-15 ┆ 72.5   ┆ 1.77   ┆ 23.141498 ┆ 과체중   ┆ 23      ┆ 과체중    │\n",
              "│ Chloe Cooper   ┆ 1983-03-22 ┆ 53.6   ┆ 1.65   ┆ 19.687787 ┆ 정상     ┆ 19      ┆ 정상      │\n",
              "│ Daniel Donovan ┆ 1981-04-30 ┆ 83.1   ┆ 1.75   ┆ 27.134694 ┆ 과체중   ┆ 27      ┆ 과체중    │\n",
              "└────────────────┴────────────┴────────┴────────┴───────────┴──────────┴─────────┴───────────┘"
            ],
            "text/html": [
              "<div><style>\n",
              ".dataframe > thead > tr,\n",
              ".dataframe > tbody > tr {\n",
              "  text-align: right;\n",
              "  white-space: pre-wrap;\n",
              "}\n",
              "</style>\n",
              "<small>shape: (4, 8)</small><table border=\"1\" class=\"dataframe\"><thead><tr><th>name</th><th>birthdate</th><th>weight</th><th>height</th><th>BMI</th><th>BMI 판정</th><th>Int_BMI</th><th>enum_판정</th></tr><tr><td>str</td><td>date</td><td>f64</td><td>f64</td><td>f64</td><td>str</td><td>i64</td><td>cat</td></tr></thead><tbody><tr><td>&quot;Alice Archer&quot;</td><td>1997-01-10</td><td>57.9</td><td>1.56</td><td>23.791913</td><td>&quot;과체중&quot;</td><td>23</td><td>&quot;과체중&quot;</td></tr><tr><td>&quot;Ben Brown&quot;</td><td>1985-02-15</td><td>72.5</td><td>1.77</td><td>23.141498</td><td>&quot;과체중&quot;</td><td>23</td><td>&quot;과체중&quot;</td></tr><tr><td>&quot;Chloe Cooper&quot;</td><td>1983-03-22</td><td>53.6</td><td>1.65</td><td>19.687787</td><td>&quot;정상&quot;</td><td>19</td><td>&quot;정상&quot;</td></tr><tr><td>&quot;Daniel Donovan&quot;</td><td>1981-04-30</td><td>83.1</td><td>1.75</td><td>27.134694</td><td>&quot;과체중&quot;</td><td>27</td><td>&quot;과체중&quot;</td></tr></tbody></table></div>"
            ]
          },
          "metadata": {},
          "execution_count": 27
        }
      ],
      "source": [
        "df = df.with_columns(\n",
        "    pl.col('enum_판정').cast(pl.Categorical)\n",
        ")\n",
        "df"
      ]
    },
    {
      "cell_type": "code",
      "execution_count": 28,
      "id": "6c917326-0af0-4ae2-98d4-9bbbead3bd0b",
      "metadata": {
        "colab": {
          "base_uri": "https://localhost:8080/",
          "height": 223
        },
        "id": "6c917326-0af0-4ae2-98d4-9bbbead3bd0b",
        "outputId": "5a7c5bb4-318e-4ced-a641-62ec394324c1"
      },
      "outputs": [
        {
          "output_type": "execute_result",
          "data": {
            "text/plain": [
              "shape: (4, 9)\n",
              "┌────────────────┬────────────┬────────┬────────┬───┬──────────┬─────────┬───────────┬─────────┐\n",
              "│ name           ┆ birthdate  ┆ weight ┆ height ┆ … ┆ BMI 판정 ┆ Int_BMI ┆ enum_판정 ┆ literal │\n",
              "│ ---            ┆ ---        ┆ ---    ┆ ---    ┆   ┆ ---      ┆ ---     ┆ ---       ┆ ---     │\n",
              "│ str            ┆ date       ┆ f64    ┆ f64    ┆   ┆ str      ┆ i64     ┆ cat       ┆ str     │\n",
              "╞════════════════╪════════════╪════════╪════════╪═══╪══════════╪═════════╪═══════════╪═════════╡\n",
              "│ Alice Archer   ┆ 1997-01-10 ┆ 57.9   ┆ 1.56   ┆ … ┆ 과체중   ┆ 23      ┆ 과체중    ┆ 저체중  │\n",
              "│ Ben Brown      ┆ 1985-02-15 ┆ 72.5   ┆ 1.77   ┆ … ┆ 과체중   ┆ 23      ┆ 과체중    ┆ 저체중  │\n",
              "│ Chloe Cooper   ┆ 1983-03-22 ┆ 53.6   ┆ 1.65   ┆ … ┆ 정상     ┆ 19      ┆ 정상      ┆ 비만    │\n",
              "│ Daniel Donovan ┆ 1981-04-30 ┆ 83.1   ┆ 1.75   ┆ … ┆ 과체중   ┆ 27      ┆ 과체중    ┆ 저체중  │\n",
              "└────────────────┴────────────┴────────┴────────┴───┴──────────┴─────────┴───────────┴─────────┘"
            ],
            "text/html": [
              "<div><style>\n",
              ".dataframe > thead > tr,\n",
              ".dataframe > tbody > tr {\n",
              "  text-align: right;\n",
              "  white-space: pre-wrap;\n",
              "}\n",
              "</style>\n",
              "<small>shape: (4, 9)</small><table border=\"1\" class=\"dataframe\"><thead><tr><th>name</th><th>birthdate</th><th>weight</th><th>height</th><th>BMI</th><th>BMI 판정</th><th>Int_BMI</th><th>enum_판정</th><th>literal</th></tr><tr><td>str</td><td>date</td><td>f64</td><td>f64</td><td>f64</td><td>str</td><td>i64</td><td>cat</td><td>str</td></tr></thead><tbody><tr><td>&quot;Alice Archer&quot;</td><td>1997-01-10</td><td>57.9</td><td>1.56</td><td>23.791913</td><td>&quot;과체중&quot;</td><td>23</td><td>&quot;과체중&quot;</td><td>&quot;저체중&quot;</td></tr><tr><td>&quot;Ben Brown&quot;</td><td>1985-02-15</td><td>72.5</td><td>1.77</td><td>23.141498</td><td>&quot;과체중&quot;</td><td>23</td><td>&quot;과체중&quot;</td><td>&quot;저체중&quot;</td></tr><tr><td>&quot;Chloe Cooper&quot;</td><td>1983-03-22</td><td>53.6</td><td>1.65</td><td>19.687787</td><td>&quot;정상&quot;</td><td>19</td><td>&quot;정상&quot;</td><td>&quot;비만&quot;</td></tr><tr><td>&quot;Daniel Donovan&quot;</td><td>1981-04-30</td><td>83.1</td><td>1.75</td><td>27.134694</td><td>&quot;과체중&quot;</td><td>27</td><td>&quot;과체중&quot;</td><td>&quot;저체중&quot;</td></tr></tbody></table></div>"
            ]
          },
          "metadata": {},
          "execution_count": 28
        }
      ],
      "source": [
        "df.with_columns(\n",
        "    pl.when(pl.col('enum_판정') < '정상').then(pl.lit('저체중')).otherwise(pl.lit('비만'))\n",
        ")"
      ]
    },
    {
      "cell_type": "code",
      "execution_count": 29,
      "id": "cad309f2-074d-47a9-b1c9-638bb25661be",
      "metadata": {
        "colab": {
          "base_uri": "https://localhost:8080/",
          "height": 223
        },
        "id": "cad309f2-074d-47a9-b1c9-638bb25661be",
        "outputId": "345730fd-a846-401f-b926-c225e8ca5de7"
      },
      "outputs": [
        {
          "output_type": "execute_result",
          "data": {
            "text/plain": [
              "shape: (4, 4)\n",
              "┌────────────────┬────────────┬────────┬────────┐\n",
              "│ name           ┆ birthdate  ┆ weight ┆ height │\n",
              "│ ---            ┆ ---        ┆ ---    ┆ ---    │\n",
              "│ str            ┆ date       ┆ f64    ┆ f64    │\n",
              "╞════════════════╪════════════╪════════╪════════╡\n",
              "│ Alice Archer   ┆ 1997-01-10 ┆ 57.9   ┆ null   │\n",
              "│ Ben Brown      ┆ null       ┆ 72.5   ┆ 1.77   │\n",
              "│ Chloe Cooper   ┆ 1983-03-22 ┆ null   ┆ 1.65   │\n",
              "│ Daniel Donovan ┆ 1981-04-30 ┆ 83.1   ┆ NaN    │\n",
              "└────────────────┴────────────┴────────┴────────┘"
            ],
            "text/html": [
              "<div><style>\n",
              ".dataframe > thead > tr,\n",
              ".dataframe > tbody > tr {\n",
              "  text-align: right;\n",
              "  white-space: pre-wrap;\n",
              "}\n",
              "</style>\n",
              "<small>shape: (4, 4)</small><table border=\"1\" class=\"dataframe\"><thead><tr><th>name</th><th>birthdate</th><th>weight</th><th>height</th></tr><tr><td>str</td><td>date</td><td>f64</td><td>f64</td></tr></thead><tbody><tr><td>&quot;Alice Archer&quot;</td><td>1997-01-10</td><td>57.9</td><td>null</td></tr><tr><td>&quot;Ben Brown&quot;</td><td>null</td><td>72.5</td><td>1.77</td></tr><tr><td>&quot;Chloe Cooper&quot;</td><td>1983-03-22</td><td>null</td><td>1.65</td></tr><tr><td>&quot;Daniel Donovan&quot;</td><td>1981-04-30</td><td>83.1</td><td>NaN</td></tr></tbody></table></div>"
            ]
          },
          "metadata": {},
          "execution_count": 29
        }
      ],
      "source": [
        "df_missing = pl.DataFrame([\n",
        "        pl.Series(\"name\", [\"Alice Archer\", \"Ben Brown\", \"Chloe Cooper\", \"Daniel Donovan\"]),\n",
        "        pl.Series(\"birthdate\", [date(1997, 1, 10), None, date(1983, 3, 22), date(1981, 4, 30)]),\n",
        "        pl.Series(\"weight\", [57.9, 72.5, None, 83.1]),  # (kg)\n",
        "        pl.Series(\"height\", [None, 1.77, 1.65, float('nan')])  # (m)\n",
        "])\n",
        "df_missing"
      ]
    },
    {
      "cell_type": "code",
      "execution_count": 30,
      "id": "0c9c5f76-f625-413f-9997-36aeb2d58acc",
      "metadata": {
        "colab": {
          "base_uri": "https://localhost:8080/",
          "height": 129
        },
        "id": "0c9c5f76-f625-413f-9997-36aeb2d58acc",
        "outputId": "d4847711-30d9-45dc-e685-d4341660d5b1"
      },
      "outputs": [
        {
          "output_type": "execute_result",
          "data": {
            "text/plain": [
              "shape: (1, 4)\n",
              "┌──────┬───────────┬────────┬────────┐\n",
              "│ name ┆ birthdate ┆ weight ┆ height │\n",
              "│ ---  ┆ ---       ┆ ---    ┆ ---    │\n",
              "│ u32  ┆ u32       ┆ u32    ┆ u32    │\n",
              "╞══════╪═══════════╪════════╪════════╡\n",
              "│ 0    ┆ 1         ┆ 1      ┆ 1      │\n",
              "└──────┴───────────┴────────┴────────┘"
            ],
            "text/html": [
              "<div><style>\n",
              ".dataframe > thead > tr,\n",
              ".dataframe > tbody > tr {\n",
              "  text-align: right;\n",
              "  white-space: pre-wrap;\n",
              "}\n",
              "</style>\n",
              "<small>shape: (1, 4)</small><table border=\"1\" class=\"dataframe\"><thead><tr><th>name</th><th>birthdate</th><th>weight</th><th>height</th></tr><tr><td>u32</td><td>u32</td><td>u32</td><td>u32</td></tr></thead><tbody><tr><td>0</td><td>1</td><td>1</td><td>1</td></tr></tbody></table></div>"
            ]
          },
          "metadata": {},
          "execution_count": 30
        }
      ],
      "source": [
        "df_missing.select(pl.all().null_count())"
      ]
    },
    {
      "cell_type": "code",
      "execution_count": 31,
      "id": "2223e397-2ba6-4287-8174-f82a500c86db",
      "metadata": {
        "colab": {
          "base_uri": "https://localhost:8080/",
          "height": 129
        },
        "id": "2223e397-2ba6-4287-8174-f82a500c86db",
        "outputId": "32f74c88-08a3-4871-e177-8ac64fd7fca2"
      },
      "outputs": [
        {
          "output_type": "execute_result",
          "data": {
            "text/plain": [
              "shape: (1, 1)\n",
              "┌──────┐\n",
              "│ name │\n",
              "│ ---  │\n",
              "│ u32  │\n",
              "╞══════╡\n",
              "│ 0    │\n",
              "└──────┘"
            ],
            "text/html": [
              "<div><style>\n",
              ".dataframe > thead > tr,\n",
              ".dataframe > tbody > tr {\n",
              "  text-align: right;\n",
              "  white-space: pre-wrap;\n",
              "}\n",
              "</style>\n",
              "<small>shape: (1, 1)</small><table border=\"1\" class=\"dataframe\"><thead><tr><th>name</th></tr><tr><td>u32</td></tr></thead><tbody><tr><td>0</td></tr></tbody></table></div>"
            ]
          },
          "metadata": {},
          "execution_count": 31
        }
      ],
      "source": [
        "df_missing.select(\n",
        "    pl.col('name').null_count()\n",
        ")"
      ]
    },
    {
      "cell_type": "code",
      "execution_count": 32,
      "id": "85a24e92-d893-42cd-a005-1160a5f2dae7",
      "metadata": {
        "colab": {
          "base_uri": "https://localhost:8080/",
          "height": 223
        },
        "id": "85a24e92-d893-42cd-a005-1160a5f2dae7",
        "outputId": "50d165db-e5b1-4787-df50-fe58615dcd75"
      },
      "outputs": [
        {
          "output_type": "execute_result",
          "data": {
            "text/plain": [
              "shape: (4, 4)\n",
              "┌───────┬───────────┬────────┬────────┐\n",
              "│ name  ┆ birthdate ┆ weight ┆ height │\n",
              "│ ---   ┆ ---       ┆ ---    ┆ ---    │\n",
              "│ bool  ┆ bool      ┆ bool   ┆ bool   │\n",
              "╞═══════╪═══════════╪════════╪════════╡\n",
              "│ false ┆ false     ┆ false  ┆ true   │\n",
              "│ false ┆ true      ┆ false  ┆ false  │\n",
              "│ false ┆ false     ┆ true   ┆ false  │\n",
              "│ false ┆ false     ┆ false  ┆ false  │\n",
              "└───────┴───────────┴────────┴────────┘"
            ],
            "text/html": [
              "<div><style>\n",
              ".dataframe > thead > tr,\n",
              ".dataframe > tbody > tr {\n",
              "  text-align: right;\n",
              "  white-space: pre-wrap;\n",
              "}\n",
              "</style>\n",
              "<small>shape: (4, 4)</small><table border=\"1\" class=\"dataframe\"><thead><tr><th>name</th><th>birthdate</th><th>weight</th><th>height</th></tr><tr><td>bool</td><td>bool</td><td>bool</td><td>bool</td></tr></thead><tbody><tr><td>false</td><td>false</td><td>false</td><td>true</td></tr><tr><td>false</td><td>true</td><td>false</td><td>false</td></tr><tr><td>false</td><td>false</td><td>true</td><td>false</td></tr><tr><td>false</td><td>false</td><td>false</td><td>false</td></tr></tbody></table></div>"
            ]
          },
          "metadata": {},
          "execution_count": 32
        }
      ],
      "source": [
        "df_missing.select(\n",
        "    pl.col('*').is_null()\n",
        ")"
      ]
    },
    {
      "cell_type": "code",
      "execution_count": 33,
      "id": "048b9217-414f-4fd3-b93b-83b4e52875b1",
      "metadata": {
        "colab": {
          "base_uri": "https://localhost:8080/",
          "height": 315
        },
        "id": "048b9217-414f-4fd3-b93b-83b4e52875b1",
        "outputId": "9d0dd986-e5cc-4fe7-cc33-b14d992dc4bd"
      },
      "outputs": [
        {
          "output_type": "error",
          "ename": "ComputeError",
          "evalue": "Series length 3 doesn't match the DataFrame height of 4",
          "traceback": [
            "\u001b[0;31m---------------------------------------------------------------------------\u001b[0m",
            "\u001b[0;31mComputeError\u001b[0m                              Traceback (most recent call last)",
            "\u001b[0;32m<ipython-input-33-e8fa592e84e4>\u001b[0m in \u001b[0;36m<cell line: 0>\u001b[0;34m()\u001b[0m\n\u001b[0;32m----> 1\u001b[0;31m \u001b[0mdf_missing\u001b[0m\u001b[0;34m.\u001b[0m\u001b[0mselect\u001b[0m\u001b[0;34m(\u001b[0m\u001b[0mpl\u001b[0m\u001b[0;34m.\u001b[0m\u001b[0mcol\u001b[0m\u001b[0;34m(\u001b[0m\u001b[0;34m'*'\u001b[0m\u001b[0;34m)\u001b[0m\u001b[0;34m.\u001b[0m\u001b[0mdrop_nulls\u001b[0m\u001b[0;34m(\u001b[0m\u001b[0;34m)\u001b[0m\u001b[0;34m)\u001b[0m\u001b[0;34m\u001b[0m\u001b[0;34m\u001b[0m\u001b[0m\n\u001b[0m",
            "\u001b[0;32m/usr/local/lib/python3.11/dist-packages/polars/dataframe/frame.py\u001b[0m in \u001b[0;36mselect\u001b[0;34m(self, *exprs, **named_exprs)\u001b[0m\n\u001b[1;32m   9008\u001b[0m         \u001b[0;31m└\u001b[0m\u001b[0;31m─\u001b[0m\u001b[0;31m─\u001b[0m\u001b[0;31m─\u001b[0m\u001b[0;31m─\u001b[0m\u001b[0;31m─\u001b[0m\u001b[0;31m─\u001b[0m\u001b[0;31m─\u001b[0m\u001b[0;31m─\u001b[0m\u001b[0;31m─\u001b[0m\u001b[0;31m─\u001b[0m\u001b[0;31m─\u001b[0m\u001b[0;31m─\u001b[0m\u001b[0;31m─\u001b[0m\u001b[0;31m─\u001b[0m\u001b[0;31m┘\u001b[0m\u001b[0;34m\u001b[0m\u001b[0;34m\u001b[0m\u001b[0m\n\u001b[1;32m   9009\u001b[0m         \"\"\"\n\u001b[0;32m-> 9010\u001b[0;31m         \u001b[0;32mreturn\u001b[0m \u001b[0mself\u001b[0m\u001b[0;34m.\u001b[0m\u001b[0mlazy\u001b[0m\u001b[0;34m(\u001b[0m\u001b[0;34m)\u001b[0m\u001b[0;34m.\u001b[0m\u001b[0mselect\u001b[0m\u001b[0;34m(\u001b[0m\u001b[0;34m*\u001b[0m\u001b[0mexprs\u001b[0m\u001b[0;34m,\u001b[0m \u001b[0;34m**\u001b[0m\u001b[0mnamed_exprs\u001b[0m\u001b[0;34m)\u001b[0m\u001b[0;34m.\u001b[0m\u001b[0mcollect\u001b[0m\u001b[0;34m(\u001b[0m\u001b[0m_eager\u001b[0m\u001b[0;34m=\u001b[0m\u001b[0;32mTrue\u001b[0m\u001b[0;34m)\u001b[0m\u001b[0;34m\u001b[0m\u001b[0;34m\u001b[0m\u001b[0m\n\u001b[0m\u001b[1;32m   9011\u001b[0m \u001b[0;34m\u001b[0m\u001b[0m\n\u001b[1;32m   9012\u001b[0m     def select_seq(\n",
            "\u001b[0;32m/usr/local/lib/python3.11/dist-packages/polars/lazyframe/frame.py\u001b[0m in \u001b[0;36mcollect\u001b[0;34m(self, type_coercion, predicate_pushdown, projection_pushdown, simplify_expression, slice_pushdown, comm_subplan_elim, comm_subexpr_elim, cluster_with_columns, collapse_joins, no_optimization, streaming, engine, background, _eager, **_kwargs)\u001b[0m\n\u001b[1;32m   2048\u001b[0m         \u001b[0;31m# Only for testing purposes\u001b[0m\u001b[0;34m\u001b[0m\u001b[0;34m\u001b[0m\u001b[0m\n\u001b[1;32m   2049\u001b[0m         \u001b[0mcallback\u001b[0m \u001b[0;34m=\u001b[0m \u001b[0m_kwargs\u001b[0m\u001b[0;34m.\u001b[0m\u001b[0mget\u001b[0m\u001b[0;34m(\u001b[0m\u001b[0;34m\"post_opt_callback\"\u001b[0m\u001b[0;34m,\u001b[0m \u001b[0mcallback\u001b[0m\u001b[0;34m)\u001b[0m\u001b[0;34m\u001b[0m\u001b[0;34m\u001b[0m\u001b[0m\n\u001b[0;32m-> 2050\u001b[0;31m         \u001b[0;32mreturn\u001b[0m \u001b[0mwrap_df\u001b[0m\u001b[0;34m(\u001b[0m\u001b[0mldf\u001b[0m\u001b[0;34m.\u001b[0m\u001b[0mcollect\u001b[0m\u001b[0;34m(\u001b[0m\u001b[0mcallback\u001b[0m\u001b[0;34m)\u001b[0m\u001b[0;34m)\u001b[0m\u001b[0;34m\u001b[0m\u001b[0;34m\u001b[0m\u001b[0m\n\u001b[0m\u001b[1;32m   2051\u001b[0m \u001b[0;34m\u001b[0m\u001b[0m\n\u001b[1;32m   2052\u001b[0m     \u001b[0;34m@\u001b[0m\u001b[0moverload\u001b[0m\u001b[0;34m\u001b[0m\u001b[0;34m\u001b[0m\u001b[0m\n",
            "\u001b[0;31mComputeError\u001b[0m: Series length 3 doesn't match the DataFrame height of 4"
          ]
        }
      ],
      "source": [
        "df_missing.select(pl.col('*').drop_nulls())"
      ]
    },
    {
      "cell_type": "code",
      "execution_count": 34,
      "id": "da03a629-dbce-4ec9-ba5c-1acbf20237a3",
      "metadata": {
        "colab": {
          "base_uri": "https://localhost:8080/",
          "height": 192
        },
        "id": "da03a629-dbce-4ec9-ba5c-1acbf20237a3",
        "outputId": "1fa0d4b3-e4d6-4695-a175-30e102beaca6"
      },
      "outputs": [
        {
          "output_type": "execute_result",
          "data": {
            "text/plain": [
              "shape: (3, 1)\n",
              "┌────────────┐\n",
              "│ birthdate  │\n",
              "│ ---        │\n",
              "│ date       │\n",
              "╞════════════╡\n",
              "│ 1997-01-10 │\n",
              "│ 1983-03-22 │\n",
              "│ 1981-04-30 │\n",
              "└────────────┘"
            ],
            "text/html": [
              "<div><style>\n",
              ".dataframe > thead > tr,\n",
              ".dataframe > tbody > tr {\n",
              "  text-align: right;\n",
              "  white-space: pre-wrap;\n",
              "}\n",
              "</style>\n",
              "<small>shape: (3, 1)</small><table border=\"1\" class=\"dataframe\"><thead><tr><th>birthdate</th></tr><tr><td>date</td></tr></thead><tbody><tr><td>1997-01-10</td></tr><tr><td>1983-03-22</td></tr><tr><td>1981-04-30</td></tr></tbody></table></div>"
            ]
          },
          "metadata": {},
          "execution_count": 34
        }
      ],
      "source": [
        "df_missing.select(\n",
        "    pl.col('birthdate').drop_nulls()\n",
        ")"
      ]
    },
    {
      "cell_type": "code",
      "execution_count": 35,
      "id": "5dec0648-2748-48c3-a95e-e898f0a8a004",
      "metadata": {
        "colab": {
          "base_uri": "https://localhost:8080/",
          "height": 192
        },
        "id": "5dec0648-2748-48c3-a95e-e898f0a8a004",
        "outputId": "cd2f9d99-a20f-418f-8ba5-8e0bd5ebf687"
      },
      "outputs": [
        {
          "output_type": "execute_result",
          "data": {
            "text/plain": [
              "shape: (3, 1)\n",
              "┌────────┐\n",
              "│ height │\n",
              "│ ---    │\n",
              "│ f64    │\n",
              "╞════════╡\n",
              "│ null   │\n",
              "│ 1.77   │\n",
              "│ 1.65   │\n",
              "└────────┘"
            ],
            "text/html": [
              "<div><style>\n",
              ".dataframe > thead > tr,\n",
              ".dataframe > tbody > tr {\n",
              "  text-align: right;\n",
              "  white-space: pre-wrap;\n",
              "}\n",
              "</style>\n",
              "<small>shape: (3, 1)</small><table border=\"1\" class=\"dataframe\"><thead><tr><th>height</th></tr><tr><td>f64</td></tr></thead><tbody><tr><td>null</td></tr><tr><td>1.77</td></tr><tr><td>1.65</td></tr></tbody></table></div>"
            ]
          },
          "metadata": {},
          "execution_count": 35
        }
      ],
      "source": [
        "df_missing.select(\n",
        "    pl.col('height').drop_nans()\n",
        ")"
      ]
    },
    {
      "cell_type": "code",
      "execution_count": 36,
      "id": "10d9ce48-7604-40e0-86ef-c2eac75262f2",
      "metadata": {
        "colab": {
          "base_uri": "https://localhost:8080/",
          "height": 460
        },
        "id": "10d9ce48-7604-40e0-86ef-c2eac75262f2",
        "outputId": "6e66d15e-effd-4bc1-9cc9-3fd61a50fefe"
      },
      "outputs": [
        {
          "output_type": "error",
          "ename": "InvalidOperationError",
          "evalue": "got invalid or ambiguous dtypes: '[date, dyn int]' in expression 'fill_null'\n\nConsider explicitly casting your input types to resolve potential ambiguity.\n\nResolved plan until failure:\n\n\t---> FAILED HERE RESOLVING 'select' <---\n SELECT [col(\"name\").fill_null([dyn int: 0]), col(\"birthdate\").fill_null([dyn int: 0]), col(\"weight\").fill_null([0.0]), col(\"height\").fill_null([0.0])] FROM\n  DF [\"name\", \"birthdate\", \"weight\", \"height\"]; PROJECT */4 COLUMNS; SELECTION: None",
          "traceback": [
            "\u001b[0;31m---------------------------------------------------------------------------\u001b[0m",
            "\u001b[0;31mInvalidOperationError\u001b[0m                     Traceback (most recent call last)",
            "\u001b[0;32m<ipython-input-36-0c02d187be08>\u001b[0m in \u001b[0;36m<cell line: 0>\u001b[0;34m()\u001b[0m\n\u001b[0;32m----> 1\u001b[0;31m \u001b[0mdf_missing\u001b[0m\u001b[0;34m.\u001b[0m\u001b[0mselect\u001b[0m\u001b[0;34m(\u001b[0m\u001b[0mpl\u001b[0m\u001b[0;34m.\u001b[0m\u001b[0mall\u001b[0m\u001b[0;34m(\u001b[0m\u001b[0;34m)\u001b[0m\u001b[0;34m.\u001b[0m\u001b[0mfill_null\u001b[0m\u001b[0;34m(\u001b[0m\u001b[0;36m0\u001b[0m\u001b[0;34m)\u001b[0m\u001b[0;34m)\u001b[0m\u001b[0;34m\u001b[0m\u001b[0;34m\u001b[0m\u001b[0m\n\u001b[0m",
            "\u001b[0;32m/usr/local/lib/python3.11/dist-packages/polars/dataframe/frame.py\u001b[0m in \u001b[0;36mselect\u001b[0;34m(self, *exprs, **named_exprs)\u001b[0m\n\u001b[1;32m   9008\u001b[0m         \u001b[0;31m└\u001b[0m\u001b[0;31m─\u001b[0m\u001b[0;31m─\u001b[0m\u001b[0;31m─\u001b[0m\u001b[0;31m─\u001b[0m\u001b[0;31m─\u001b[0m\u001b[0;31m─\u001b[0m\u001b[0;31m─\u001b[0m\u001b[0;31m─\u001b[0m\u001b[0;31m─\u001b[0m\u001b[0;31m─\u001b[0m\u001b[0;31m─\u001b[0m\u001b[0;31m─\u001b[0m\u001b[0;31m─\u001b[0m\u001b[0;31m─\u001b[0m\u001b[0;31m┘\u001b[0m\u001b[0;34m\u001b[0m\u001b[0;34m\u001b[0m\u001b[0m\n\u001b[1;32m   9009\u001b[0m         \"\"\"\n\u001b[0;32m-> 9010\u001b[0;31m         \u001b[0;32mreturn\u001b[0m \u001b[0mself\u001b[0m\u001b[0;34m.\u001b[0m\u001b[0mlazy\u001b[0m\u001b[0;34m(\u001b[0m\u001b[0;34m)\u001b[0m\u001b[0;34m.\u001b[0m\u001b[0mselect\u001b[0m\u001b[0;34m(\u001b[0m\u001b[0;34m*\u001b[0m\u001b[0mexprs\u001b[0m\u001b[0;34m,\u001b[0m \u001b[0;34m**\u001b[0m\u001b[0mnamed_exprs\u001b[0m\u001b[0;34m)\u001b[0m\u001b[0;34m.\u001b[0m\u001b[0mcollect\u001b[0m\u001b[0;34m(\u001b[0m\u001b[0m_eager\u001b[0m\u001b[0;34m=\u001b[0m\u001b[0;32mTrue\u001b[0m\u001b[0;34m)\u001b[0m\u001b[0;34m\u001b[0m\u001b[0;34m\u001b[0m\u001b[0m\n\u001b[0m\u001b[1;32m   9011\u001b[0m \u001b[0;34m\u001b[0m\u001b[0m\n\u001b[1;32m   9012\u001b[0m     def select_seq(\n",
            "\u001b[0;32m/usr/local/lib/python3.11/dist-packages/polars/lazyframe/frame.py\u001b[0m in \u001b[0;36mcollect\u001b[0;34m(self, type_coercion, predicate_pushdown, projection_pushdown, simplify_expression, slice_pushdown, comm_subplan_elim, comm_subexpr_elim, cluster_with_columns, collapse_joins, no_optimization, streaming, engine, background, _eager, **_kwargs)\u001b[0m\n\u001b[1;32m   2048\u001b[0m         \u001b[0;31m# Only for testing purposes\u001b[0m\u001b[0;34m\u001b[0m\u001b[0;34m\u001b[0m\u001b[0m\n\u001b[1;32m   2049\u001b[0m         \u001b[0mcallback\u001b[0m \u001b[0;34m=\u001b[0m \u001b[0m_kwargs\u001b[0m\u001b[0;34m.\u001b[0m\u001b[0mget\u001b[0m\u001b[0;34m(\u001b[0m\u001b[0;34m\"post_opt_callback\"\u001b[0m\u001b[0;34m,\u001b[0m \u001b[0mcallback\u001b[0m\u001b[0;34m)\u001b[0m\u001b[0;34m\u001b[0m\u001b[0;34m\u001b[0m\u001b[0m\n\u001b[0;32m-> 2050\u001b[0;31m         \u001b[0;32mreturn\u001b[0m \u001b[0mwrap_df\u001b[0m\u001b[0;34m(\u001b[0m\u001b[0mldf\u001b[0m\u001b[0;34m.\u001b[0m\u001b[0mcollect\u001b[0m\u001b[0;34m(\u001b[0m\u001b[0mcallback\u001b[0m\u001b[0;34m)\u001b[0m\u001b[0;34m)\u001b[0m\u001b[0;34m\u001b[0m\u001b[0;34m\u001b[0m\u001b[0m\n\u001b[0m\u001b[1;32m   2051\u001b[0m \u001b[0;34m\u001b[0m\u001b[0m\n\u001b[1;32m   2052\u001b[0m     \u001b[0;34m@\u001b[0m\u001b[0moverload\u001b[0m\u001b[0;34m\u001b[0m\u001b[0;34m\u001b[0m\u001b[0m\n",
            "\u001b[0;31mInvalidOperationError\u001b[0m: got invalid or ambiguous dtypes: '[date, dyn int]' in expression 'fill_null'\n\nConsider explicitly casting your input types to resolve potential ambiguity.\n\nResolved plan until failure:\n\n\t---> FAILED HERE RESOLVING 'select' <---\n SELECT [col(\"name\").fill_null([dyn int: 0]), col(\"birthdate\").fill_null([dyn int: 0]), col(\"weight\").fill_null([0.0]), col(\"height\").fill_null([0.0])] FROM\n  DF [\"name\", \"birthdate\", \"weight\", \"height\"]; PROJECT */4 COLUMNS; SELECTION: None"
          ]
        }
      ],
      "source": [
        "df_missing.select(pl.all().fill_null(0))"
      ]
    },
    {
      "cell_type": "code",
      "execution_count": 37,
      "id": "8adaf58e-c767-4039-98b3-f1bf917766c6",
      "metadata": {
        "colab": {
          "base_uri": "https://localhost:8080/",
          "height": 223
        },
        "id": "8adaf58e-c767-4039-98b3-f1bf917766c6",
        "outputId": "e98a756a-d8af-4838-a7f7-2ee0f230e30f"
      },
      "outputs": [
        {
          "output_type": "execute_result",
          "data": {
            "text/plain": [
              "shape: (4, 4)\n",
              "┌────────────────┬────────────┬────────┬────────┐\n",
              "│ name           ┆ birthdate  ┆ weight ┆ height │\n",
              "│ ---            ┆ ---        ┆ ---    ┆ ---    │\n",
              "│ str            ┆ date       ┆ f64    ┆ f64    │\n",
              "╞════════════════╪════════════╪════════╪════════╡\n",
              "│ Alice Archer   ┆ 1997-01-10 ┆ 57.9   ┆ null   │\n",
              "│ Ben Brown      ┆ null       ┆ 72.5   ┆ 1.77   │\n",
              "│ Chloe Cooper   ┆ 1983-03-22 ┆ null   ┆ 1.65   │\n",
              "│ Daniel Donovan ┆ 1981-04-30 ┆ 83.1   ┆ 0.0    │\n",
              "└────────────────┴────────────┴────────┴────────┘"
            ],
            "text/html": [
              "<div><style>\n",
              ".dataframe > thead > tr,\n",
              ".dataframe > tbody > tr {\n",
              "  text-align: right;\n",
              "  white-space: pre-wrap;\n",
              "}\n",
              "</style>\n",
              "<small>shape: (4, 4)</small><table border=\"1\" class=\"dataframe\"><thead><tr><th>name</th><th>birthdate</th><th>weight</th><th>height</th></tr><tr><td>str</td><td>date</td><td>f64</td><td>f64</td></tr></thead><tbody><tr><td>&quot;Alice Archer&quot;</td><td>1997-01-10</td><td>57.9</td><td>null</td></tr><tr><td>&quot;Ben Brown&quot;</td><td>null</td><td>72.5</td><td>1.77</td></tr><tr><td>&quot;Chloe Cooper&quot;</td><td>1983-03-22</td><td>null</td><td>1.65</td></tr><tr><td>&quot;Daniel Donovan&quot;</td><td>1981-04-30</td><td>83.1</td><td>0.0</td></tr></tbody></table></div>"
            ]
          },
          "metadata": {},
          "execution_count": 37
        }
      ],
      "source": [
        "df_missing.fill_nan(0)"
      ]
    },
    {
      "cell_type": "code",
      "execution_count": 38,
      "id": "1201e06d-2f8e-4fdd-b09d-7b671dc25af9",
      "metadata": {
        "colab": {
          "base_uri": "https://localhost:8080/",
          "height": 223
        },
        "id": "1201e06d-2f8e-4fdd-b09d-7b671dc25af9",
        "outputId": "7681c4cb-fe55-4e24-d09c-e897f7c113dd"
      },
      "outputs": [
        {
          "output_type": "execute_result",
          "data": {
            "text/plain": [
              "shape: (4, 4)\n",
              "┌────────────────┬────────────┬────────┬──────────┐\n",
              "│ name           ┆ birthdate  ┆ weight ┆ height   │\n",
              "│ ---            ┆ ---        ┆ ---    ┆ ---      │\n",
              "│ str            ┆ date       ┆ f64    ┆ f64      │\n",
              "╞════════════════╪════════════╪════════╪══════════╡\n",
              "│ Alice Archer   ┆ 1997-01-10 ┆ 57.9   ┆ 1.70147  │\n",
              "│ Ben Brown      ┆ null       ┆ 72.5   ┆ 1.330413 │\n",
              "│ Chloe Cooper   ┆ 1983-03-22 ┆ null   ┆ 1.284523 │\n",
              "│ Daniel Donovan ┆ 1981-04-30 ┆ 83.1   ┆ NaN      │\n",
              "└────────────────┴────────────┴────────┴──────────┘"
            ],
            "text/html": [
              "<div><style>\n",
              ".dataframe > thead > tr,\n",
              ".dataframe > tbody > tr {\n",
              "  text-align: right;\n",
              "  white-space: pre-wrap;\n",
              "}\n",
              "</style>\n",
              "<small>shape: (4, 4)</small><table border=\"1\" class=\"dataframe\"><thead><tr><th>name</th><th>birthdate</th><th>weight</th><th>height</th></tr><tr><td>str</td><td>date</td><td>f64</td><td>f64</td></tr></thead><tbody><tr><td>&quot;Alice Archer&quot;</td><td>1997-01-10</td><td>57.9</td><td>1.70147</td></tr><tr><td>&quot;Ben Brown&quot;</td><td>null</td><td>72.5</td><td>1.330413</td></tr><tr><td>&quot;Chloe Cooper&quot;</td><td>1983-03-22</td><td>null</td><td>1.284523</td></tr><tr><td>&quot;Daniel Donovan&quot;</td><td>1981-04-30</td><td>83.1</td><td>NaN</td></tr></tbody></table></div>"
            ]
          },
          "metadata": {},
          "execution_count": 38
        }
      ],
      "source": [
        "df_missing.with_columns(\n",
        "    pl.col('height').fill_null(pl.col('weight')/20).sqrt())"
      ]
    },
    {
      "cell_type": "code",
      "execution_count": 39,
      "id": "809b85f7-7caf-469d-b9c1-bb1deb479c90",
      "metadata": {
        "colab": {
          "base_uri": "https://localhost:8080/",
          "height": 223
        },
        "id": "809b85f7-7caf-469d-b9c1-bb1deb479c90",
        "outputId": "5aec2220-ce60-4b32-e174-2519b5057cf8"
      },
      "outputs": [
        {
          "output_type": "execute_result",
          "data": {
            "text/plain": [
              "shape: (4, 4)\n",
              "┌────────────────┬────────────┬────────┬────────┐\n",
              "│ name           ┆ birthdate  ┆ weight ┆ height │\n",
              "│ ---            ┆ ---        ┆ ---    ┆ ---    │\n",
              "│ str            ┆ date       ┆ f64    ┆ f64    │\n",
              "╞════════════════╪════════════╪════════╪════════╡\n",
              "│ Alice Archer   ┆ 1997-01-10 ┆ 57.9   ┆ 1.77   │\n",
              "│ Ben Brown      ┆ 1983-03-22 ┆ 72.5   ┆ 1.77   │\n",
              "│ Chloe Cooper   ┆ 1983-03-22 ┆ 83.1   ┆ 1.65   │\n",
              "│ Daniel Donovan ┆ 1981-04-30 ┆ 83.1   ┆ NaN    │\n",
              "└────────────────┴────────────┴────────┴────────┘"
            ],
            "text/html": [
              "<div><style>\n",
              ".dataframe > thead > tr,\n",
              ".dataframe > tbody > tr {\n",
              "  text-align: right;\n",
              "  white-space: pre-wrap;\n",
              "}\n",
              "</style>\n",
              "<small>shape: (4, 4)</small><table border=\"1\" class=\"dataframe\"><thead><tr><th>name</th><th>birthdate</th><th>weight</th><th>height</th></tr><tr><td>str</td><td>date</td><td>f64</td><td>f64</td></tr></thead><tbody><tr><td>&quot;Alice Archer&quot;</td><td>1997-01-10</td><td>57.9</td><td>1.77</td></tr><tr><td>&quot;Ben Brown&quot;</td><td>1983-03-22</td><td>72.5</td><td>1.77</td></tr><tr><td>&quot;Chloe Cooper&quot;</td><td>1983-03-22</td><td>83.1</td><td>1.65</td></tr><tr><td>&quot;Daniel Donovan&quot;</td><td>1981-04-30</td><td>83.1</td><td>NaN</td></tr></tbody></table></div>"
            ]
          },
          "metadata": {},
          "execution_count": 39
        }
      ],
      "source": [
        "df_missing.fill_null(strategy=\"backward\")"
      ]
    },
    {
      "cell_type": "code",
      "execution_count": 40,
      "id": "9d566446-5b5b-4049-885f-cb89efcca310",
      "metadata": {
        "colab": {
          "base_uri": "https://localhost:8080/",
          "height": 223
        },
        "id": "9d566446-5b5b-4049-885f-cb89efcca310",
        "outputId": "894d5977-288f-4190-e5f4-e6756c15243c"
      },
      "outputs": [
        {
          "output_type": "execute_result",
          "data": {
            "text/plain": [
              "shape: (4, 3)\n",
              "┌───────────┬───────────┬───────────────┐\n",
              "│ bmi       ┆ avg_bmi   ┆ ideal_max_bmi │\n",
              "│ ---       ┆ ---       ┆ ---           │\n",
              "│ f64       ┆ f64       ┆ i32           │\n",
              "╞═══════════╪═══════════╪═══════════════╡\n",
              "│ 23.791913 ┆ 23.438973 ┆ 25            │\n",
              "│ 23.141498 ┆ 23.438973 ┆ 25            │\n",
              "│ 19.687787 ┆ 23.438973 ┆ 25            │\n",
              "│ 27.134694 ┆ 23.438973 ┆ 25            │\n",
              "└───────────┴───────────┴───────────────┘"
            ],
            "text/html": [
              "<div><style>\n",
              ".dataframe > thead > tr,\n",
              ".dataframe > tbody > tr {\n",
              "  text-align: right;\n",
              "  white-space: pre-wrap;\n",
              "}\n",
              "</style>\n",
              "<small>shape: (4, 3)</small><table border=\"1\" class=\"dataframe\"><thead><tr><th>bmi</th><th>avg_bmi</th><th>ideal_max_bmi</th></tr><tr><td>f64</td><td>f64</td><td>i32</td></tr></thead><tbody><tr><td>23.791913</td><td>23.438973</td><td>25</td></tr><tr><td>23.141498</td><td>23.438973</td><td>25</td></tr><tr><td>19.687787</td><td>23.438973</td><td>25</td></tr><tr><td>27.134694</td><td>23.438973</td><td>25</td></tr></tbody></table></div>"
            ]
          },
          "metadata": {},
          "execution_count": 40
        }
      ],
      "source": [
        "df.select(\n",
        "    bmi=exp,  ## exp.alias(‘bmi’)와 동일\n",
        "    avg_bmi=exp.mean(),  ## exp.mean().alias(‘avg_bmi’)와 동일\n",
        "    ideal_max_bmi=25,  ## pl.lit(25).alias(‘ideal_max_bmi’)와 동일\n",
        ")"
      ]
    },
    {
      "cell_type": "code",
      "execution_count": 41,
      "id": "37d25e21-bda1-406a-86be-d1685fb61ab2",
      "metadata": {
        "colab": {
          "base_uri": "https://localhost:8080/",
          "height": 223
        },
        "id": "37d25e21-bda1-406a-86be-d1685fb61ab2",
        "outputId": "b617acdf-b87f-4cdd-adab-57f1b68caecb"
      },
      "outputs": [
        {
          "output_type": "execute_result",
          "data": {
            "text/plain": [
              "shape: (4, 11)\n",
              "┌─────────────┬────────────┬────────┬────────┬───┬───────────┬───────────┬───────────┬─────────────┐\n",
              "│ name        ┆ birthdate  ┆ weight ┆ height ┆ … ┆ enum_판정 ┆ bmi       ┆ avg_bmi   ┆ ideal_max_b │\n",
              "│ ---         ┆ ---        ┆ ---    ┆ ---    ┆   ┆ ---       ┆ ---       ┆ ---       ┆ mi          │\n",
              "│ str         ┆ date       ┆ f64    ┆ f64    ┆   ┆ cat       ┆ f64       ┆ f64       ┆ ---         │\n",
              "│             ┆            ┆        ┆        ┆   ┆           ┆           ┆           ┆ i32         │\n",
              "╞═════════════╪════════════╪════════╪════════╪═══╪═══════════╪═══════════╪═══════════╪═════════════╡\n",
              "│ Alice       ┆ 1997-01-10 ┆ 57.9   ┆ 1.56   ┆ … ┆ 과체중    ┆ 23.791913 ┆ 23.438973 ┆ 25          │\n",
              "│ Archer      ┆            ┆        ┆        ┆   ┆           ┆           ┆           ┆             │\n",
              "│ Ben Brown   ┆ 1985-02-15 ┆ 72.5   ┆ 1.77   ┆ … ┆ 과체중    ┆ 23.141498 ┆ 23.438973 ┆ 25          │\n",
              "│ Chloe       ┆ 1983-03-22 ┆ 53.6   ┆ 1.65   ┆ … ┆ 정상      ┆ 19.687787 ┆ 23.438973 ┆ 25          │\n",
              "│ Cooper      ┆            ┆        ┆        ┆   ┆           ┆           ┆           ┆             │\n",
              "│ Daniel      ┆ 1981-04-30 ┆ 83.1   ┆ 1.75   ┆ … ┆ 과체중    ┆ 27.134694 ┆ 23.438973 ┆ 25          │\n",
              "│ Donovan     ┆            ┆        ┆        ┆   ┆           ┆           ┆           ┆             │\n",
              "└─────────────┴────────────┴────────┴────────┴───┴───────────┴───────────┴───────────┴─────────────┘"
            ],
            "text/html": [
              "<div><style>\n",
              ".dataframe > thead > tr,\n",
              ".dataframe > tbody > tr {\n",
              "  text-align: right;\n",
              "  white-space: pre-wrap;\n",
              "}\n",
              "</style>\n",
              "<small>shape: (4, 11)</small><table border=\"1\" class=\"dataframe\"><thead><tr><th>name</th><th>birthdate</th><th>weight</th><th>height</th><th>BMI</th><th>BMI 판정</th><th>Int_BMI</th><th>enum_판정</th><th>bmi</th><th>avg_bmi</th><th>ideal_max_bmi</th></tr><tr><td>str</td><td>date</td><td>f64</td><td>f64</td><td>f64</td><td>str</td><td>i64</td><td>cat</td><td>f64</td><td>f64</td><td>i32</td></tr></thead><tbody><tr><td>&quot;Alice Archer&quot;</td><td>1997-01-10</td><td>57.9</td><td>1.56</td><td>23.791913</td><td>&quot;과체중&quot;</td><td>23</td><td>&quot;과체중&quot;</td><td>23.791913</td><td>23.438973</td><td>25</td></tr><tr><td>&quot;Ben Brown&quot;</td><td>1985-02-15</td><td>72.5</td><td>1.77</td><td>23.141498</td><td>&quot;과체중&quot;</td><td>23</td><td>&quot;과체중&quot;</td><td>23.141498</td><td>23.438973</td><td>25</td></tr><tr><td>&quot;Chloe Cooper&quot;</td><td>1983-03-22</td><td>53.6</td><td>1.65</td><td>19.687787</td><td>&quot;정상&quot;</td><td>19</td><td>&quot;정상&quot;</td><td>19.687787</td><td>23.438973</td><td>25</td></tr><tr><td>&quot;Daniel Donovan&quot;</td><td>1981-04-30</td><td>83.1</td><td>1.75</td><td>27.134694</td><td>&quot;과체중&quot;</td><td>27</td><td>&quot;과체중&quot;</td><td>27.134694</td><td>23.438973</td><td>25</td></tr></tbody></table></div>"
            ]
          },
          "metadata": {},
          "execution_count": 41
        }
      ],
      "source": [
        "df.with_columns(\n",
        "    bmi=exp,\n",
        "    avg_bmi=exp.mean(),\n",
        "    ideal_max_bmi=25,\n",
        ")"
      ]
    },
    {
      "cell_type": "code",
      "execution_count": 42,
      "id": "89e9c7ed-0006-4dc0-a6c4-a9fb71f6e9dd",
      "metadata": {
        "colab": {
          "base_uri": "https://localhost:8080/",
          "height": 129
        },
        "id": "89e9c7ed-0006-4dc0-a6c4-a9fb71f6e9dd",
        "outputId": "eeb7d95f-4737-4786-ce7f-1ab920c57734"
      },
      "outputs": [
        {
          "output_type": "execute_result",
          "data": {
            "text/plain": [
              "shape: (1, 8)\n",
              "┌───────────┬────────────┬────────┬────────┬───────────┬──────────┬─────────┬───────────┐\n",
              "│ name      ┆ birthdate  ┆ weight ┆ height ┆ BMI       ┆ BMI 판정 ┆ Int_BMI ┆ enum_판정 │\n",
              "│ ---       ┆ ---        ┆ ---    ┆ ---    ┆ ---       ┆ ---      ┆ ---     ┆ ---       │\n",
              "│ str       ┆ date       ┆ f64    ┆ f64    ┆ f64       ┆ str      ┆ i64     ┆ cat       │\n",
              "╞═══════════╪════════════╪════════╪════════╪═══════════╪══════════╪═════════╪═══════════╡\n",
              "│ Ben Brown ┆ 1985-02-15 ┆ 72.5   ┆ 1.77   ┆ 23.141498 ┆ 과체중   ┆ 23      ┆ 과체중    │\n",
              "└───────────┴────────────┴────────┴────────┴───────────┴──────────┴─────────┴───────────┘"
            ],
            "text/html": [
              "<div><style>\n",
              ".dataframe > thead > tr,\n",
              ".dataframe > tbody > tr {\n",
              "  text-align: right;\n",
              "  white-space: pre-wrap;\n",
              "}\n",
              "</style>\n",
              "<small>shape: (1, 8)</small><table border=\"1\" class=\"dataframe\"><thead><tr><th>name</th><th>birthdate</th><th>weight</th><th>height</th><th>BMI</th><th>BMI 판정</th><th>Int_BMI</th><th>enum_판정</th></tr><tr><td>str</td><td>date</td><td>f64</td><td>f64</td><td>f64</td><td>str</td><td>i64</td><td>cat</td></tr></thead><tbody><tr><td>&quot;Ben Brown&quot;</td><td>1985-02-15</td><td>72.5</td><td>1.77</td><td>23.141498</td><td>&quot;과체중&quot;</td><td>23</td><td>&quot;과체중&quot;</td></tr></tbody></table></div>"
            ]
          },
          "metadata": {},
          "execution_count": 42
        }
      ],
      "source": [
        "df.filter(\n",
        "    (pl.col(\"birthdate\").is_between(date(1982, 12, 31), date(1996, 1, 1))) & (pl.col(\"height\") > 1.7)\n",
        ")"
      ]
    },
    {
      "cell_type": "code",
      "execution_count": 43,
      "id": "97295642-caae-4461-9191-5cea2cea96f8",
      "metadata": {
        "colab": {
          "base_uri": "https://localhost:8080/",
          "height": 161
        },
        "id": "97295642-caae-4461-9191-5cea2cea96f8",
        "outputId": "da2aaa48-3991-4c8e-a5e7-27ee0666b08f"
      },
      "outputs": [
        {
          "output_type": "execute_result",
          "data": {
            "text/plain": [
              "shape: (2, 2)\n",
              "┌────────┬─────────────────────────────────┐\n",
              "│ decade ┆ name                            │\n",
              "│ ---    ┆ ---                             │\n",
              "│ i32    ┆ list[str]                       │\n",
              "╞════════╪═════════════════════════════════╡\n",
              "│ 1990   ┆ [\"Alice Archer\"]                │\n",
              "│ 1980   ┆ [\"Ben Brown\", \"Chloe Cooper\", … │\n",
              "└────────┴─────────────────────────────────┘"
            ],
            "text/html": [
              "<div><style>\n",
              ".dataframe > thead > tr,\n",
              ".dataframe > tbody > tr {\n",
              "  text-align: right;\n",
              "  white-space: pre-wrap;\n",
              "}\n",
              "</style>\n",
              "<small>shape: (2, 2)</small><table border=\"1\" class=\"dataframe\"><thead><tr><th>decade</th><th>name</th></tr><tr><td>i32</td><td>list[str]</td></tr></thead><tbody><tr><td>1990</td><td>[&quot;Alice Archer&quot;]</td></tr><tr><td>1980</td><td>[&quot;Ben Brown&quot;, &quot;Chloe Cooper&quot;, &quot;Daniel Donovan&quot;]</td></tr></tbody></table></div>"
            ]
          },
          "metadata": {},
          "execution_count": 43
        }
      ],
      "source": [
        "df.group_by(\n",
        "    (pl.col(\"birthdate\").dt.year() // 10 * 10).alias(\"decade\"),\n",
        ").agg(pl.col(\"name\"))\n"
      ]
    },
    {
      "cell_type": "code",
      "execution_count": 2,
      "id": "2ac909fe-cc67-41f7-a6f4-80c7c87085fe",
      "metadata": {
        "colab": {
          "base_uri": "https://localhost:8080/"
        },
        "id": "2ac909fe-cc67-41f7-a6f4-80c7c87085fe",
        "outputId": "3261651b-fe13-46a4-b7f9-c0a0b81f88d8"
      },
      "outputs": [
        {
          "output_type": "stream",
          "name": "stdout",
          "text": [
            "11.967062950134277\n"
          ]
        }
      ],
      "source": [
        "start = time.time()\n",
        "pd.DataFrame({\n",
        "    'Age': np.random.randint(18, 60, 50_000_000),\n",
        "    'Salary': np.random.randint(30000, 90000, 50_000_000),\n",
        "    'Gender': np.random.choice(['Male', 'Female'], 50_000_000)\n",
        "})\n",
        "end = time.time()\n",
        "print(end - start)"
      ]
    },
    {
      "cell_type": "code",
      "execution_count": 4,
      "id": "0e296312-738c-43e8-8389-201cec927292",
      "metadata": {
        "colab": {
          "base_uri": "https://localhost:8080/"
        },
        "id": "0e296312-738c-43e8-8389-201cec927292",
        "outputId": "46ea1d09-e777-4573-c598-961fc92d1f1d"
      },
      "outputs": [
        {
          "output_type": "stream",
          "name": "stdout",
          "text": [
            "19.507872343063354\n"
          ]
        }
      ],
      "source": [
        "start = time.time()\n",
        "df_lazy = pl.LazyFrame({\n",
        "    'Age': np.random.randint(18, 60, 50_000_000),\n",
        "    'Salary': np.random.randint(30000, 90000, 50_000_000),\n",
        "    'Gender': np.random.choice(['Male', 'Female'], 50_000_000)\n",
        "})\n",
        "end = time.time()\n",
        "print(end - start)"
      ]
    },
    {
      "cell_type": "code",
      "execution_count": 5,
      "id": "9ef52a79-ef36-4e17-bcf6-0c9468aee9b6",
      "metadata": {
        "colab": {
          "base_uri": "https://localhost:8080/"
        },
        "id": "9ef52a79-ef36-4e17-bcf6-0c9468aee9b6",
        "outputId": "d3504d22-5100-470d-d462-c6094eb5ef07"
      },
      "outputs": [
        {
          "output_type": "stream",
          "name": "stdout",
          "text": [
            "naive plan: (run LazyFrame.explain(optimized=True) to see the optimized plan)\n",
            "\n",
            "DF [\"Age\", \"Salary\", \"Gender\"]; PROJECT */3 COLUMNS; SELECTION: None\n"
          ]
        }
      ],
      "source": [
        "print(df_lazy)"
      ]
    },
    {
      "cell_type": "code",
      "execution_count": 6,
      "id": "74604043-c599-402e-8c88-826fb204142e",
      "metadata": {
        "colab": {
          "base_uri": "https://localhost:8080/",
          "height": 443
        },
        "id": "74604043-c599-402e-8c88-826fb204142e",
        "outputId": "3c68751f-884c-4228-a8d6-932eb5e71b6d"
      },
      "outputs": [
        {
          "output_type": "execute_result",
          "data": {
            "text/plain": [
              "shape: (50_000_000, 3)\n",
              "┌─────┬────────┬────────┐\n",
              "│ Age ┆ Salary ┆ Gender │\n",
              "│ --- ┆ ---    ┆ ---    │\n",
              "│ i64 ┆ i64    ┆ str    │\n",
              "╞═════╪════════╪════════╡\n",
              "│ 25  ┆ 44760  ┆ Female │\n",
              "│ 39  ┆ 56468  ┆ Female │\n",
              "│ 20  ┆ 61106  ┆ Female │\n",
              "│ 38  ┆ 35734  ┆ Female │\n",
              "│ 43  ┆ 51867  ┆ Female │\n",
              "│ …   ┆ …      ┆ …      │\n",
              "│ 32  ┆ 30400  ┆ Female │\n",
              "│ 40  ┆ 55202  ┆ Male   │\n",
              "│ 28  ┆ 38848  ┆ Male   │\n",
              "│ 53  ┆ 79439  ┆ Female │\n",
              "│ 35  ┆ 72378  ┆ Female │\n",
              "└─────┴────────┴────────┘"
            ],
            "text/html": [
              "<div><style>\n",
              ".dataframe > thead > tr,\n",
              ".dataframe > tbody > tr {\n",
              "  text-align: right;\n",
              "  white-space: pre-wrap;\n",
              "}\n",
              "</style>\n",
              "<small>shape: (50_000_000, 3)</small><table border=\"1\" class=\"dataframe\"><thead><tr><th>Age</th><th>Salary</th><th>Gender</th></tr><tr><td>i64</td><td>i64</td><td>str</td></tr></thead><tbody><tr><td>25</td><td>44760</td><td>&quot;Female&quot;</td></tr><tr><td>39</td><td>56468</td><td>&quot;Female&quot;</td></tr><tr><td>20</td><td>61106</td><td>&quot;Female&quot;</td></tr><tr><td>38</td><td>35734</td><td>&quot;Female&quot;</td></tr><tr><td>43</td><td>51867</td><td>&quot;Female&quot;</td></tr><tr><td>&hellip;</td><td>&hellip;</td><td>&hellip;</td></tr><tr><td>32</td><td>30400</td><td>&quot;Female&quot;</td></tr><tr><td>40</td><td>55202</td><td>&quot;Male&quot;</td></tr><tr><td>28</td><td>38848</td><td>&quot;Male&quot;</td></tr><tr><td>53</td><td>79439</td><td>&quot;Female&quot;</td></tr><tr><td>35</td><td>72378</td><td>&quot;Female&quot;</td></tr></tbody></table></div>"
            ]
          },
          "metadata": {},
          "execution_count": 6
        }
      ],
      "source": [
        "df_lazy.collect()"
      ]
    },
    {
      "cell_type": "code",
      "execution_count": 7,
      "id": "2127f28b-7063-4616-b58d-f7ffe2f20bd1",
      "metadata": {
        "colab": {
          "base_uri": "https://localhost:8080/"
        },
        "id": "2127f28b-7063-4616-b58d-f7ffe2f20bd1",
        "outputId": "ebbc10b8-6e3b-4ddb-ad52-197ff30615b5"
      },
      "outputs": [
        {
          "output_type": "stream",
          "name": "stdout",
          "text": [
            "0.0012629032135009766\n"
          ]
        }
      ],
      "source": [
        "start = time.time()\n",
        "df_lazy = df_lazy.collect()\n",
        "end = time.time()\n",
        "print(end - start)"
      ]
    },
    {
      "cell_type": "code",
      "execution_count": 8,
      "id": "032216e1-6d56-4bd0-bdf3-08abf2c58231",
      "metadata": {
        "colab": {
          "base_uri": "https://localhost:8080/"
        },
        "id": "032216e1-6d56-4bd0-bdf3-08abf2c58231",
        "outputId": "e0adb821-340c-4d62-9253-4b54528f6c5b"
      },
      "outputs": [
        {
          "output_type": "stream",
          "name": "stdout",
          "text": [
            "naive plan: (run LazyFrame.explain(optimized=True) to see the optimized plan)\n",
            "\n",
            "DF [\"Age\", \"Salary\", \"Gender\"]; PROJECT */3 COLUMNS; SELECTION: None\n"
          ]
        }
      ],
      "source": [
        "context_lazy = df_lazy.filter(pl.col('Gender') == \"Male\").lazy()\n",
        "print(context_lazy)"
      ]
    },
    {
      "cell_type": "code",
      "execution_count": 9,
      "id": "8c35665f-af8d-40d6-ae09-60c9c5991d3c",
      "metadata": {
        "colab": {
          "base_uri": "https://localhost:8080/",
          "height": 443
        },
        "id": "8c35665f-af8d-40d6-ae09-60c9c5991d3c",
        "outputId": "09f91ef0-431a-4bad-f034-603df7a749e2"
      },
      "outputs": [
        {
          "output_type": "execute_result",
          "data": {
            "text/plain": [
              "shape: (25_002_298, 3)\n",
              "┌─────┬────────┬────────┐\n",
              "│ Age ┆ Salary ┆ Gender │\n",
              "│ --- ┆ ---    ┆ ---    │\n",
              "│ i64 ┆ i64    ┆ str    │\n",
              "╞═════╪════════╪════════╡\n",
              "│ 30  ┆ 63488  ┆ Male   │\n",
              "│ 39  ┆ 89800  ┆ Male   │\n",
              "│ 33  ┆ 65058  ┆ Male   │\n",
              "│ 24  ┆ 31817  ┆ Male   │\n",
              "│ 36  ┆ 81079  ┆ Male   │\n",
              "│ …   ┆ …      ┆ …      │\n",
              "│ 55  ┆ 89729  ┆ Male   │\n",
              "│ 58  ┆ 60641  ┆ Male   │\n",
              "│ 45  ┆ 33578  ┆ Male   │\n",
              "│ 40  ┆ 55202  ┆ Male   │\n",
              "│ 28  ┆ 38848  ┆ Male   │\n",
              "└─────┴────────┴────────┘"
            ],
            "text/html": [
              "<div><style>\n",
              ".dataframe > thead > tr,\n",
              ".dataframe > tbody > tr {\n",
              "  text-align: right;\n",
              "  white-space: pre-wrap;\n",
              "}\n",
              "</style>\n",
              "<small>shape: (25_002_298, 3)</small><table border=\"1\" class=\"dataframe\"><thead><tr><th>Age</th><th>Salary</th><th>Gender</th></tr><tr><td>i64</td><td>i64</td><td>str</td></tr></thead><tbody><tr><td>30</td><td>63488</td><td>&quot;Male&quot;</td></tr><tr><td>39</td><td>89800</td><td>&quot;Male&quot;</td></tr><tr><td>33</td><td>65058</td><td>&quot;Male&quot;</td></tr><tr><td>24</td><td>31817</td><td>&quot;Male&quot;</td></tr><tr><td>36</td><td>81079</td><td>&quot;Male&quot;</td></tr><tr><td>&hellip;</td><td>&hellip;</td><td>&hellip;</td></tr><tr><td>55</td><td>89729</td><td>&quot;Male&quot;</td></tr><tr><td>58</td><td>60641</td><td>&quot;Male&quot;</td></tr><tr><td>45</td><td>33578</td><td>&quot;Male&quot;</td></tr><tr><td>40</td><td>55202</td><td>&quot;Male&quot;</td></tr><tr><td>28</td><td>38848</td><td>&quot;Male&quot;</td></tr></tbody></table></div>"
            ]
          },
          "metadata": {},
          "execution_count": 9
        }
      ],
      "source": [
        "context_lazy.collect()"
      ]
    },
    {
      "cell_type": "code",
      "execution_count": 11,
      "id": "1c99dca0-e9e1-4aa2-a545-f2dd7faf38bc",
      "metadata": {
        "id": "1c99dca0-e9e1-4aa2-a545-f2dd7faf38bc"
      },
      "outputs": [],
      "source": [
        "from datetime import date\n",
        "df_LazyFrame = pl.LazyFrame([\n",
        "        pl.Series(\"name\", [\"Alice Archer\", \"Ben Brown\", \"Chloe Cooper\", \"Daniel Donovan\"]),\n",
        "        pl.Series(\"birthdate\", [date(1997, 1, 10), date(1985, 2, 15),\n",
        "                                date(1983, 3, 22), date(1981, 4, 30)]),\n",
        "        pl.Series(\"weight\", [57.9, 72.5, 53.6, 83.1]),\n",
        "        pl.Series(\"height\", [1.56, 1.77, 1.65, 1.75])]\n",
        "                            )"
      ]
    },
    {
      "cell_type": "code",
      "execution_count": 12,
      "id": "a6ad8039-1939-4932-a290-f7f8fa9077aa",
      "metadata": {
        "id": "a6ad8039-1939-4932-a290-f7f8fa9077aa"
      },
      "outputs": [],
      "source": [
        "query = (\n",
        "    df_LazyFrame.\n",
        "    with_columns((pl.col(\"weight\") / (pl.col(\"height\") ** 2)).alias(\"BMI\")).\n",
        "    filter(pl.col('weight') < 70).\n",
        "    select(pl.col('name', 'BMI'))\n",
        "    )"
      ]
    },
    {
      "cell_type": "code",
      "execution_count": 13,
      "id": "e37f0175-a136-4b40-ad17-ceb6f5cb8d40",
      "metadata": {
        "colab": {
          "base_uri": "https://localhost:8080/"
        },
        "id": "e37f0175-a136-4b40-ad17-ceb6f5cb8d40",
        "outputId": "e6118a0a-0c11-4c7e-f9a3-e3163a44c68a"
      },
      "outputs": [
        {
          "output_type": "stream",
          "name": "stdout",
          "text": [
            "simple π 2/5 [\"name\", \"BMI\"]\n",
            "   WITH_COLUMNS:\n",
            "   [[(col(\"weight\")) / (col(\"height\").pow([dyn int: 2]))].alias(\"BMI\")] \n",
            "    DF [\"name\", \"birthdate\", \"weight\", \"height\"]; PROJECT */4 COLUMNS; SELECTION: [(col(\"weight\")) < (70.0)]\n"
          ]
        }
      ],
      "source": [
        "print(query.explain(optimized=True))"
      ]
    },
    {
      "cell_type": "code",
      "execution_count": 14,
      "id": "4c575b5a-9835-4e5f-9bfd-f3a387bc29e5",
      "metadata": {
        "colab": {
          "base_uri": "https://localhost:8080/"
        },
        "id": "4c575b5a-9835-4e5f-9bfd-f3a387bc29e5",
        "outputId": "d8d8c415-625f-466a-c4e4-6472bb27b9a1"
      },
      "outputs": [
        {
          "output_type": "stream",
          "name": "stdout",
          "text": [
            " SELECT [col(\"name\"), col(\"BMI\")] FROM\n",
            "  FILTER [(col(\"weight\")) < (70.0)] FROM\n",
            "     WITH_COLUMNS:\n",
            "     [[(col(\"weight\")) / (col(\"height\").pow([dyn int: 2]))].alias(\"BMI\")] \n",
            "      DF [\"name\", \"birthdate\", \"weight\", \"height\"]; PROJECT */4 COLUMNS; SELECTION: None\n"
          ]
        }
      ],
      "source": [
        "print(query.explain(optimized=False))"
      ]
    },
    {
      "cell_type": "code",
      "source": [
        "query.explain(optimized=False)"
      ],
      "metadata": {
        "colab": {
          "base_uri": "https://localhost:8080/",
          "height": 54
        },
        "id": "-UnePmWl8Rgu",
        "outputId": "1c775ce9-f52c-41f2-d354-9f1cc4688d14"
      },
      "id": "-UnePmWl8Rgu",
      "execution_count": 15,
      "outputs": [
        {
          "output_type": "execute_result",
          "data": {
            "text/plain": [
              "' SELECT [col(\"name\"), col(\"BMI\")] FROM\\n  FILTER [(col(\"weight\")) < (70.0)] FROM\\n     WITH_COLUMNS:\\n     [[(col(\"weight\")) / (col(\"height\").pow([dyn int: 2]))].alias(\"BMI\")] \\n      DF [\"name\", \"birthdate\", \"weight\", \"height\"]; PROJECT */4 COLUMNS; SELECTION: None'"
            ],
            "application/vnd.google.colaboratory.intrinsic+json": {
              "type": "string"
            }
          },
          "metadata": {},
          "execution_count": 15
        }
      ]
    },
    {
      "cell_type": "code",
      "source": [
        "query.show_graph(optimized=False)"
      ],
      "metadata": {
        "colab": {
          "base_uri": "https://localhost:8080/",
          "height": 389
        },
        "id": "3N9puRVl8T0k",
        "outputId": "c15f8871-dc7e-43e0-cb0c-08a12318bd0a"
      },
      "id": "3N9puRVl8T0k",
      "execution_count": 16,
      "outputs": [
        {
          "output_type": "display_data",
          "data": {
            "text/plain": [
              "<IPython.core.display.SVG object>"
            ],
            "image/svg+xml": "<svg xmlns=\"http://www.w3.org/2000/svg\" xmlns:xlink=\"http://www.w3.org/1999/xlink\" width=\"501pt\" height=\"277pt\" viewBox=\"0.00 0.00 501.00 277.00\">\n<g id=\"graph0\" class=\"graph\" transform=\"scale(1 1) rotate(0) translate(4 273)\">\n<title>polars_query</title>\n<polygon fill=\"white\" stroke=\"transparent\" points=\"-4,4 -4,-273 497,-273 497,4 -4,4\"/>\n<!-- p1 -->\n<g id=\"node1\" class=\"node\">\n<title>p1</title>\n<polygon fill=\"none\" stroke=\"black\" points=\"273.5,-269 219.5,-269 219.5,-233 273.5,-233 273.5,-269\"/>\n<text text-anchor=\"middle\" x=\"246.5\" y=\"-247.3\" font-family=\"Times,serif\" font-size=\"14.00\">π 2/2</text>\n</g>\n<!-- p2 -->\n<g id=\"node2\" class=\"node\">\n<title>p2</title>\n<polygon fill=\"none\" stroke=\"black\" points=\"361,-197 132,-197 132,-161 361,-161 361,-197\"/>\n<text text-anchor=\"middle\" x=\"246.5\" y=\"-175.3\" font-family=\"Times,serif\" font-size=\"14.00\">FILTER BY [(col(&quot;weight&quot;)) &lt; (70.0)]</text>\n</g>\n<!-- p1&#45;&#45;p2 -->\n<g id=\"edge1\" class=\"edge\">\n<title>p1--p2</title>\n<path fill=\"none\" stroke=\"black\" d=\"M246.5,-232.7C246.5,-221.85 246.5,-207.92 246.5,-197.1\"/>\n</g>\n<!-- p3 -->\n<g id=\"node3\" class=\"node\">\n<title>p3</title>\n<polygon fill=\"none\" stroke=\"black\" points=\"493,-125 0,-125 0,-89 493,-89 493,-125\"/>\n<text text-anchor=\"middle\" x=\"246.5\" y=\"-103.3\" font-family=\"Times,serif\" font-size=\"14.00\">WITH COLUMNS [[(col(&quot;weight&quot;)) / (col(&quot;height&quot;).pow([dyn int: 2]))].alias(&quot;BMI&quot;)]</text>\n</g>\n<!-- p2&#45;&#45;p3 -->\n<g id=\"edge2\" class=\"edge\">\n<title>p2--p3</title>\n<path fill=\"none\" stroke=\"black\" d=\"M246.5,-160.7C246.5,-149.85 246.5,-135.92 246.5,-125.1\"/>\n</g>\n<!-- p4 -->\n<g id=\"node4\" class=\"node\">\n<title>p4</title>\n<polygon fill=\"none\" stroke=\"black\" points=\"276,-53 217,-53 217,0 276,0 276,-53\"/>\n<text text-anchor=\"middle\" x=\"246.5\" y=\"-37.8\" font-family=\"Times,serif\" font-size=\"14.00\">TABLE</text>\n<text text-anchor=\"middle\" x=\"246.5\" y=\"-22.8\" font-family=\"Times,serif\" font-size=\"14.00\">π */4;</text>\n<text text-anchor=\"middle\" x=\"246.5\" y=\"-7.8\" font-family=\"Times,serif\" font-size=\"14.00\">σ None</text>\n</g>\n<!-- p3&#45;&#45;p4 -->\n<g id=\"edge3\" class=\"edge\">\n<title>p3--p4</title>\n<path fill=\"none\" stroke=\"black\" d=\"M246.5,-88.97C246.5,-78.51 246.5,-64.9 246.5,-53.16\"/>\n</g>\n</g>\n</svg>"
          },
          "metadata": {}
        }
      ]
    },
    {
      "cell_type": "code",
      "source": [
        "query.show_graph(optimized=True)"
      ],
      "metadata": {
        "colab": {
          "base_uri": "https://localhost:8080/",
          "height": 296
        },
        "id": "AdKxf1pw8XtN",
        "outputId": "63094d9d-72b8-478b-a999-4f304c7e6ba7"
      },
      "id": "AdKxf1pw8XtN",
      "execution_count": 17,
      "outputs": [
        {
          "output_type": "display_data",
          "data": {
            "text/plain": [
              "<IPython.core.display.SVG object>"
            ],
            "image/svg+xml": "<svg xmlns=\"http://www.w3.org/2000/svg\" xmlns:xlink=\"http://www.w3.org/1999/xlink\" width=\"501pt\" height=\"207pt\" viewBox=\"0.00 0.00 501.00 207.00\">\n<g id=\"graph0\" class=\"graph\" transform=\"scale(1 1) rotate(0) translate(4 203)\">\n<title>polars_query</title>\n<polygon fill=\"white\" stroke=\"transparent\" points=\"-4,4 -4,-203 497,-203 497,4 -4,4\"/>\n<!-- p1 -->\n<g id=\"node1\" class=\"node\">\n<title>p1</title>\n<polygon fill=\"none\" stroke=\"black\" points=\"303,-199 190,-199 190,-161 303,-161 303,-199\"/>\n<text text-anchor=\"middle\" x=\"246.5\" y=\"-183.8\" font-family=\"Times,serif\" font-size=\"14.00\">simple π 2/5</text>\n<text text-anchor=\"middle\" x=\"246.5\" y=\"-168.8\" font-family=\"Times,serif\" font-size=\"14.00\">[&quot;name&quot;, &quot;BMI&quot;]</text>\n</g>\n<!-- p2 -->\n<g id=\"node2\" class=\"node\">\n<title>p2</title>\n<polygon fill=\"none\" stroke=\"black\" points=\"493,-125 0,-125 0,-89 493,-89 493,-125\"/>\n<text text-anchor=\"middle\" x=\"246.5\" y=\"-103.3\" font-family=\"Times,serif\" font-size=\"14.00\">WITH COLUMNS [[(col(&quot;weight&quot;)) / (col(&quot;height&quot;).pow([dyn int: 2]))].alias(&quot;BMI&quot;)]</text>\n</g>\n<!-- p1&#45;&#45;p2 -->\n<g id=\"edge1\" class=\"edge\">\n<title>p1--p2</title>\n<path fill=\"none\" stroke=\"black\" d=\"M246.5,-160.72C246.5,-149.7 246.5,-135.78 246.5,-125\"/>\n</g>\n<!-- p3 -->\n<g id=\"node3\" class=\"node\">\n<title>p3</title>\n<polygon fill=\"none\" stroke=\"black\" points=\"331,-53 162,-53 162,0 331,0 331,-53\"/>\n<text text-anchor=\"middle\" x=\"246.5\" y=\"-37.8\" font-family=\"Times,serif\" font-size=\"14.00\">TABLE</text>\n<text text-anchor=\"middle\" x=\"246.5\" y=\"-22.8\" font-family=\"Times,serif\" font-size=\"14.00\">π */4;</text>\n<text text-anchor=\"middle\" x=\"246.5\" y=\"-7.8\" font-family=\"Times,serif\" font-size=\"14.00\">σ [(col(&quot;weight&quot;)) &lt; (70.0)]</text>\n</g>\n<!-- p2&#45;&#45;p3 -->\n<g id=\"edge2\" class=\"edge\">\n<title>p2--p3</title>\n<path fill=\"none\" stroke=\"black\" d=\"M246.5,-88.97C246.5,-78.51 246.5,-64.9 246.5,-53.16\"/>\n</g>\n</g>\n</svg>"
          },
          "metadata": {}
        }
      ]
    }
  ],
  "metadata": {
    "kernelspec": {
      "display_name": "venv-polars",
      "language": "python",
      "name": "venv-polars"
    },
    "language_info": {
      "codemirror_mode": {
        "name": "ipython",
        "version": 3
      },
      "file_extension": ".py",
      "mimetype": "text/x-python",
      "name": "python",
      "nbconvert_exporter": "python",
      "pygments_lexer": "ipython3",
      "version": "3.12.7"
    },
    "colab": {
      "provenance": [],
      "include_colab_link": true
    }
  },
  "nbformat": 4,
  "nbformat_minor": 5
}