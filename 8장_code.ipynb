{
  "cells": [
    {
      "cell_type": "markdown",
      "metadata": {
        "id": "view-in-github",
        "colab_type": "text"
      },
      "source": [
        "<a href=\"https://colab.research.google.com/github/2stndard/polars/blob/main/8%EC%9E%A5_code.ipynb\" target=\"_parent\"><img src=\"https://colab.research.google.com/assets/colab-badge.svg\" alt=\"Open In Colab\"/></a>"
      ]
    },
    {
      "cell_type": "code",
      "source": [
        "from google.colab import drive\n",
        "drive.mount('/content/drive')"
      ],
      "metadata": {
        "id": "RIz-2_s9CK_1"
      },
      "id": "RIz-2_s9CK_1",
      "execution_count": null,
      "outputs": []
    },
    {
      "cell_type": "code",
      "source": [
        "!wget https://www.python.org/ftp/python/3.12.7/Python-3.12.7.tgz\n",
        "!tar xvfz Python-3.12.7.tgz\n",
        "!Python-3.12.7/configure\n",
        "!make\n",
        "!sudo make install"
      ],
      "metadata": {
        "collapsed": true,
        "id": "y1le5qF0GK0P"
      },
      "id": "y1le5qF0GK0P",
      "execution_count": null,
      "outputs": []
    },
    {
      "cell_type": "code",
      "source": [
        "!python --version"
      ],
      "metadata": {
        "id": "_pjlkI4YINy6"
      },
      "id": "_pjlkI4YINy6",
      "execution_count": null,
      "outputs": []
    },
    {
      "cell_type": "code",
      "source": [
        "!pip list"
      ],
      "metadata": {
        "collapsed": true,
        "id": "FTEdQCEnDJRj"
      },
      "id": "FTEdQCEnDJRj",
      "execution_count": null,
      "outputs": []
    },
    {
      "cell_type": "code",
      "source": [
        "!pip install polars==1.15"
      ],
      "metadata": {
        "id": "hYxlUCcOD7j2"
      },
      "id": "hYxlUCcOD7j2",
      "execution_count": null,
      "outputs": []
    },
    {
      "cell_type": "code",
      "execution_count": null,
      "id": "c8cb2cfb-3b76-45ec-bdeb-88b155c5a68c",
      "metadata": {
        "id": "c8cb2cfb-3b76-45ec-bdeb-88b155c5a68c"
      },
      "outputs": [],
      "source": [
        "## 사전 실행 코드\n",
        "import polars as pl\n",
        "df_boxoffice = pl.read_csv(\"/content/drive/MyDrive/Colab Notebooks/polars/data/movie/KOBIS_기간별박스오피스.csv\", skip_rows = 4, try_parse_dates=True)\n",
        "boxoffice_cols = df_boxoffice.columns\n",
        "boxoffice_cols[4] = '매출액점유율'\n",
        "df_boxoffice.columns = [i.replace(' ', '') for i in boxoffice_cols]\n",
        "df_boxoffice = df_boxoffice.with_columns(\n",
        "    pl.col('매출액', '누적매출액').str.replace_all(',', '').cast(pl.Int64),\n",
        "    pl.col('관객수', '누적관객수', '스크린수', '상영횟수').str.replace_all(',', '').cast(pl.Int64)\n",
        ")\n",
        "df_boxoffice = df_boxoffice.with_columns(\n",
        "    pl.col('장르').str.split(','),\n",
        "    pl.col('배우').str.split(','),\n",
        ")\n",
        "df_boxoffice = (df_boxoffice.filter(\n",
        "    pl.col('순위').is_not_null()).\n",
        "                filter(~(pl.col('장르').list.contains('성인물(에로)'))).\n",
        "                filter(pl.col('매출액') != 0).\n",
        "                filter(~((pl.col('관객수') <= 1) & (pl.col('누적관객수') <= 1) &\n",
        "                         (pl.col('스크린수') <= 1) & (pl.col('상영횟수') <= 1)))\n",
        "                )"
      ]
    },
    {
      "cell_type": "code",
      "execution_count": null,
      "id": "ff8297b4-0d6e-4a52-91a6-cd571e4a07b4",
      "metadata": {
        "id": "ff8297b4-0d6e-4a52-91a6-cd571e4a07b4"
      },
      "outputs": [],
      "source": [
        "df_insideout = pl.read_csv(\"/content/drive/MyDrive/Colab Notebooks/polars/data/movie/KOBIS_일자별_통계정보_인사이드아웃2.csv\", skip_rows = 3, try_parse_dates=True)\n",
        "df_insideout_cols = df_insideout.columns\n",
        "\n",
        "df_insideout.columns = [i.replace(' ', '') for i in df_insideout_cols]\n",
        "\n",
        "df_insideout = df_insideout.with_columns(\n",
        "    pl.col('스크린수', '상영횟수', '좌석수', '매출액', '관객수', '누적매출액', '누적관객수').str.replace_all(',', '').cast(pl.Int64),\n",
        "    pl.col('스크린점유율', '상영점유율', '좌석점유율', '좌석판매율').str.replace_all('%', '').cast(pl.Float64),\n",
        ").with_columns(\n",
        "    pl.col('매출액').diff().alias('매출액변화'),\n",
        "    pl.col('관객수').diff().alias('관객수변화')\n",
        ").with_columns(pl.lit('인사이드 아웃 2').alias('영화명'))\n",
        "df_insideout.head(10)"
      ]
    },
    {
      "cell_type": "code",
      "execution_count": null,
      "id": "25fa7d6d-8b34-4db6-9fb1-30f6a3ad8f0f",
      "metadata": {
        "scrolled": true,
        "id": "25fa7d6d-8b34-4db6-9fb1-30f6a3ad8f0f"
      },
      "outputs": [],
      "source": [
        "df_Executioner = pl.read_csv(\"/content/drive/MyDrive/Colab Notebooks/polars/data/movie/KOBIS_일자별_통계정보_베테랑2.csv\", skip_rows = 3, try_parse_dates=True)\n",
        "df_Executioner_cols = df_Executioner.columns\n",
        "\n",
        "df_Executioner.columns = [i.replace(' ', '') for i in df_Executioner_cols]\n",
        "\n",
        "df_Executioner = df_Executioner.with_columns(\n",
        "    pl.col('스크린수', '상영횟수', '좌석수', '매출액', '관객수', '누적매출액', '누적관객수').str.replace_all(',', '').cast(pl.Int64),\n",
        "    pl.col('스크린점유율', '상영점유율', '좌석점유율', '좌석판매율').str.replace_all('%', '').cast(pl.Float64),\n",
        ").with_columns(\n",
        "    pl.col('매출액').diff().alias('매출액변화'),\n",
        "    pl.col('관객수').diff().alias('관객수변화')\n",
        ").with_columns(pl.lit('베테랑2').alias('영화명'))\n",
        "df_Executioner.head(10)"
      ]
    },
    {
      "cell_type": "code",
      "execution_count": null,
      "id": "7e6055ab-553d-41f6-93ff-c7cdf6d788fe",
      "metadata": {
        "id": "7e6055ab-553d-41f6-93ff-c7cdf6d788fe"
      },
      "outputs": [],
      "source": [
        "df_Pilot = pl.read_csv(\"/content/drive/MyDrive/Colab Notebooks/polars/data/movie/KOBIS_일자별_통계정보_파일럿.csv\", skip_rows = 3, try_parse_dates=True)\n",
        "df_Pilot_cols = df_Pilot.columns\n",
        "\n",
        "df_Pilot.columns = [i.replace(' ', '') for i in df_Pilot_cols]\n",
        "\n",
        "df_Pilot = df_Pilot.with_columns(\n",
        "    pl.col('스크린수', '상영횟수', '좌석수', '매출액', '관객수', '누적매출액', '누적관객수').str.replace_all(',', '').cast(pl.Int64),\n",
        "    pl.col('스크린점유율', '상영점유율', '좌석점유율', '좌석판매율').str.replace_all('%', '').cast(pl.Float64),\n",
        ").with_columns(\n",
        "    pl.col('매출액').diff().alias('매출액변화'),\n",
        "    pl.col('관객수').diff().alias('관객수변화')\n",
        ").with_columns(pl.lit('파일럿').alias('영화명'))\n",
        "df_Pilot.head(10)"
      ]
    },
    {
      "cell_type": "code",
      "execution_count": null,
      "id": "e29e6484-3552-4a37-912a-48994fb20689",
      "metadata": {
        "id": "e29e6484-3552-4a37-912a-48994fb20689"
      },
      "outputs": [],
      "source": [
        "df_Wonka = pl.read_csv(\"/content/drive/MyDrive/Colab Notebooks/polars/data/movie/KOBIS_일자별_통계정보_웡카.csv\", skip_rows = 3, try_parse_dates=True)\n",
        "df_Wonka_cols = df_Wonka.columns\n",
        "\n",
        "df_Wonka.columns = [i.replace(' ', '') for i in df_Wonka_cols]\n",
        "\n",
        "df_Wonka = df_Wonka.with_columns(\n",
        "    pl.col('스크린수', '상영횟수', '좌석수', '매출액', '관객수', '누적매출액', '누적관객수').str.replace_all(',', '').cast(pl.Int64),\n",
        "    pl.col('스크린점유율', '상영점유율', '좌석점유율', '좌석판매율').str.replace_all('%', '').cast(pl.Float64),\n",
        ").with_columns(\n",
        "    pl.col('매출액').diff().alias('매출액변화'),\n",
        "    pl.col('관객수').diff().alias('관객수변화')\n",
        ").with_columns(pl.lit('웡카').alias('영화명'))\n",
        "df_Wonka.head(10)"
      ]
    },
    {
      "cell_type": "code",
      "execution_count": null,
      "id": "14d36e27-6404-4184-98da-42e8ff7bfbbb",
      "metadata": {
        "id": "14d36e27-6404-4184-98da-42e8ff7bfbbb"
      },
      "outputs": [],
      "source": [
        "df_Moana2 = pl.read_csv(\"/content/drive/MyDrive/Colab Notebooks/polars/data/movie/KOBIS_일자별_통계정보_모아나2.csv\", skip_rows = 3, try_parse_dates=True)\n",
        "df_Moana2_cols = df_Moana2.columns\n",
        "\n",
        "df_Moana2.columns = [i.replace(' ', '') for i in df_Moana2_cols]\n",
        "\n",
        "df_Moana2 = df_Moana2.with_columns(\n",
        "    pl.col('스크린수', '상영횟수', '좌석수', '매출액', '관객수', '누적매출액', '누적관객수').str.replace_all(',', '').cast(pl.Int64),\n",
        "    pl.col('스크린점유율', '상영점유율', '좌석점유율', '좌석판매율').str.replace_all('%', '').cast(pl.Float64),\n",
        ").with_columns(\n",
        "    pl.col('매출액').diff().alias('매출액변화'),\n",
        "    pl.col('관객수').diff().alias('관객수변화')\n",
        ").with_columns(pl.lit('모아나 2').alias('영화명'))\n",
        "df_Moana2.head(10)"
      ]
    },
    {
      "cell_type": "code",
      "execution_count": null,
      "id": "26b296ab-d7de-4504-a36f-d1224cb6a882",
      "metadata": {
        "id": "26b296ab-d7de-4504-a36f-d1224cb6a882"
      },
      "outputs": [],
      "source": [
        "df_Firefighter = pl.read_csv(\"/content/drive/MyDrive/Colab Notebooks/polars/data/movie/KOBIS_일자별_통계정보_소방관.csv\", skip_rows = 3, try_parse_dates=True)\n",
        "df_Firefighter_cols = df_Firefighter.columns\n",
        "\n",
        "df_Firefighter.columns = [i.replace(' ', '') for i in df_Firefighter_cols]\n",
        "\n",
        "df_Firefighter = df_Firefighter.with_columns(\n",
        "    pl.col('스크린수', '상영횟수', '좌석수', '매출액', '관객수', '누적매출액', '누적관객수').str.replace_all(',', '').cast(pl.Int64),\n",
        "    pl.col('스크린점유율', '상영점유율', '좌석점유율', '좌석판매율').str.replace_all('%', '').cast(pl.Float64),\n",
        ").with_columns(\n",
        "    pl.col('매출액').diff().alias('매출액변화'),\n",
        "    pl.col('관객수').diff().alias('관객수변화')\n",
        ").with_columns(pl.lit('소방관').alias('영화명'))\n",
        "df_Firefighter.head(10)"
      ]
    },
    {
      "cell_type": "code",
      "execution_count": null,
      "id": "db91c51d-21c7-4402-8445-d571452bc184",
      "metadata": {
        "scrolled": true,
        "id": "db91c51d-21c7-4402-8445-d571452bc184"
      },
      "outputs": [],
      "source": [
        "df_Harbin = pl.read_csv(\"/content/drive/MyDrive/Colab Notebooks/polars/data/movie/KOBIS_일자별_통계정보_하얼빈.csv\", skip_rows = 3, try_parse_dates=True)\n",
        "df_Harbin_cols = df_Harbin.columns\n",
        "\n",
        "df_Harbin.columns = [i.replace(' ', '') for i in df_Harbin_cols]\n",
        "\n",
        "df_Harbin = df_Harbin.with_columns(\n",
        "    pl.col('스크린수', '상영횟수', '좌석수', '매출액', '관객수', '누적매출액', '누적관객수').str.replace_all(',', '').cast(pl.Int64),\n",
        "    pl.col('스크린점유율', '상영점유율', '좌석점유율', '좌석판매율').str.replace_all('%', '').cast(pl.Float64),\n",
        ").with_columns(\n",
        "    pl.col('매출액').diff().alias('매출액변화'),\n",
        "    pl.col('관객수').diff().alias('관객수변화')\n",
        ").with_columns(pl.lit('하얼빈').alias('영화명'))\n",
        "df_Harbin.head(10)"
      ]
    },
    {
      "cell_type": "code",
      "execution_count": null,
      "id": "4d443f00-57bc-4e9c-8fc6-1ff0c9e8cfca",
      "metadata": {
        "id": "4d443f00-57bc-4e9c-8fc6-1ff0c9e8cfca"
      },
      "outputs": [],
      "source": [
        "df_Escape = pl.read_csv(\"/content/drive/MyDrive/Colab Notebooks/polars/data/movie/KOBIS_일자별_통계정보_탈주.csv\", skip_rows = 3, try_parse_dates=True)\n",
        "df_Escape_cols = df_Escape.columns\n",
        "\n",
        "df_Escape.columns = [i.replace(' ', '') for i in df_Escape_cols]\n",
        "\n",
        "df_Escape = df_Escape.with_columns(\n",
        "    pl.col('스크린수', '상영횟수', '좌석수', '매출액', '관객수', '누적매출액', '누적관객수').str.replace_all(',', '').cast(pl.Int64),\n",
        "    pl.col('스크린점유율', '상영점유율', '좌석점유율', '좌석판매율').str.replace_all('%', '').cast(pl.Float64),\n",
        ").with_columns(\n",
        "    pl.col('매출액').diff().alias('매출액변화'),\n",
        "    pl.col('관객수').diff().alias('관객수변화')\n",
        ").with_columns(pl.lit('탈주').alias('영화명'))\n",
        "df_Escape.head(10)"
      ]
    },
    {
      "cell_type": "code",
      "execution_count": null,
      "id": "92213ee3-be11-4091-9261-438b719cae86",
      "metadata": {
        "id": "92213ee3-be11-4091-9261-438b719cae86"
      },
      "outputs": [],
      "source": [
        "df_boxoffice.filter(pl.col('순위') <= 100).select('스크린수').to_series().plot.hist()"
      ]
    },
    {
      "cell_type": "code",
      "execution_count": null,
      "id": "e2fdc9ed-dd44-4949-bcf0-0a3d0ce380eb",
      "metadata": {
        "id": "e2fdc9ed-dd44-4949-bcf0-0a3d0ce380eb"
      },
      "outputs": [],
      "source": [
        "import altair as alt\n",
        "df_boxoffice.filter(pl.col('순위') <= 100).select('관객수').plot.bar(\n",
        "    alt.X('관객수', title='관객수').bin(maxbins=30),\n",
        "    y=alt.Y('count()', title='영화편수')\n",
        ")"
      ]
    },
    {
      "cell_type": "code",
      "execution_count": null,
      "id": "3edd0430-600c-41fc-90dc-4d7f9e92394c",
      "metadata": {
        "id": "3edd0430-600c-41fc-90dc-4d7f9e92394c"
      },
      "outputs": [],
      "source": [
        "import plotly.express as px"
      ]
    },
    {
      "cell_type": "code",
      "execution_count": null,
      "id": "fc061c4b-ba9b-40b6-8333-d0d38116c3a2",
      "metadata": {
        "id": "fc061c4b-ba9b-40b6-8333-d0d38116c3a2"
      },
      "outputs": [],
      "source": [
        "fig = px.histogram(    ## plotly.express의 히스토그램 함수\n",
        "    df_boxoffice.filter(pl.col('순위') <= 100),  ## 폴라스 데이터프레임에서 순위 100위 이하 필터링\n",
        "    x=\"상영횟수\", nbins = 20)  ## x축에 상영횟수 열을 매핑하고 bin의 수를 20개로 설정\n",
        "fig.show()\n"
      ]
    },
    {
      "cell_type": "code",
      "execution_count": null,
      "id": "1a7f5429-8d65-4867-bc36-87f059247966",
      "metadata": {
        "id": "1a7f5429-8d65-4867-bc36-87f059247966"
      },
      "outputs": [],
      "source": [
        "fig = px.histogram(    ## plotly.express의 히스토그램 함수\n",
        "    df_boxoffice.filter(pl.col('순위') <= 100).with_columns(\n",
        "        pl.col('개봉일').dt.weekday().alias('개봉요일')\n",
        "    ),  ## 폴라스 데이터프레임에서 개봉일이 없는 데이터 제거하고 개봉요일 열 생성\n",
        "    ## x축에 개봉요일 열을 매핑하고 bin의 수를 7개로 설정\n",
        "    x=\"개봉요일\", nbins = 7, text_auto = True)\n",
        "fig.show()\n"
      ]
    },
    {
      "cell_type": "code",
      "execution_count": null,
      "id": "024cbcc8-f08a-4681-aadc-b24a79268978",
      "metadata": {
        "id": "024cbcc8-f08a-4681-aadc-b24a79268978"
      },
      "outputs": [],
      "source": [
        "fig = px.histogram(    ## plotly.express의 히스토그램 함수\n",
        "    df_boxoffice.filter(pl.col('개봉일').dt.year() == 2024, pl.col('순위') <= 100) \\\n",
        "    .with_columns(\n",
        "        pl.col('개봉일').dt.month().alias('개봉월')\n",
        "    ),  ## 폴라스 데이터프레임에서 순위 100위 이하 필터링\n",
        "    ## x축에 상영횟수 열을 매핑하고 bin의 수를 20개로 설정\n",
        "    x=\"개봉월\", nbins = 12, color = '대표국적', text_auto = True)\n",
        "fig.show()"
      ]
    },
    {
      "cell_type": "code",
      "execution_count": null,
      "id": "e6c0a2bb-c86f-478d-89b7-04bdaecfa249",
      "metadata": {
        "id": "e6c0a2bb-c86f-478d-89b7-04bdaecfa249"
      },
      "outputs": [],
      "source": [
        "df_boxoffice.filter(\n",
        "    pl.col('순위') <= 100).select(\n",
        "    pl.col('매출액'), pl.col('스크린수'), pl.col('대표국적')\n",
        ").plot.point(x = '스크린수', y = '매출액', color = '대표국적')"
      ]
    },
    {
      "cell_type": "code",
      "execution_count": null,
      "id": "70907620-f129-4963-a7b2-2d94f380bf21",
      "metadata": {
        "id": "70907620-f129-4963-a7b2-2d94f380bf21"
      },
      "outputs": [],
      "source": [
        "fig = px.scatter(\n",
        "    df_boxoffice.filter(\n",
        "    pl.col('순위') <= 100).select(\n",
        "        pl.col('스크린수'), pl.col('매출액'), pl.col('대표국적')),\n",
        "    x = '스크린수', y = '매출액', color = '대표국적', trendline = 'lowess')\n",
        "fig.show()"
      ]
    },
    {
      "cell_type": "code",
      "execution_count": null,
      "id": "ea54c62c-458f-4447-8892-6a472bc4ca2c",
      "metadata": {
        "id": "ea54c62c-458f-4447-8892-6a472bc4ca2c"
      },
      "outputs": [],
      "source": [
        "(df_boxoffice.filter(pl.col('순위') <= 100).\n",
        " select(['매출액', '누적매출액', '관객수', '누적관객수', '스크린수', '상영횟수']).\n",
        " plot.point(\n",
        "    x = alt.X(alt.repeat(\"column\"), type='quantitative'),\n",
        "    y = alt.Y(alt.repeat(\"row\"), type='quantitative')).\n",
        " repeat(\n",
        "    row=['매출액', '스크린수', '누적매출액'],\n",
        "    column=['관객수', '상영횟수', '누적관객수'])\n",
        ")"
      ]
    },
    {
      "cell_type": "code",
      "execution_count": null,
      "id": "f035fe3c-dd2c-4eb4-81d2-c4d35ddc6f01",
      "metadata": {
        "id": "f035fe3c-dd2c-4eb4-81d2-c4d35ddc6f01"
      },
      "outputs": [],
      "source": [
        "fig = px.scatter_matrix(df_boxoffice.\n",
        "                        select(['매출액', '누적매출액', '관객수',\n",
        "                                '누적관객수', '스크린수', '상영횟수']).to_pandas())\n",
        "fig.show()"
      ]
    },
    {
      "cell_type": "code",
      "execution_count": null,
      "id": "58be08e5-927e-4190-8277-db3959d8c0f4",
      "metadata": {
        "id": "58be08e5-927e-4190-8277-db3959d8c0f4"
      },
      "outputs": [],
      "source": [
        "(df_boxoffice.filter(pl.col('순위') <= 100).\n",
        " group_by('대표국적').\n",
        " agg(pl.col('관객수').mean().alias('평균관객수')).\n",
        " plot.bar(\n",
        "    x = alt.X('대표국적').sort('-y'),\n",
        "    y = '평균관객수').\n",
        " properties(\n",
        "    width = 300, height = 300)\n",
        ")"
      ]
    },
    {
      "cell_type": "code",
      "execution_count": null,
      "id": "96c81281-69c3-493f-b7d1-186843141a63",
      "metadata": {
        "id": "96c81281-69c3-493f-b7d1-186843141a63"
      },
      "outputs": [],
      "source": [
        "fig = px.bar(\n",
        "    (df_boxoffice.filter(pl.col('순위') <= 100).group_by('대표국적')\n",
        "    .agg((pl.col('매출액').sum() / pl.col('관객수').sum())\n",
        "         .round(1).alias('객단가')))\n",
        "    .sort('객단가', descending = True),\n",
        "    x = '대표국적', y = '객단가',\n",
        "    color = '대표국적', text = '객단가',\n",
        "    color_discrete_map = {'한국': 'red', '일본':'gray', '프랑스':'gray',\n",
        "                          '미국':'gray', '영국':'gray', '호주':'gray',\n",
        "                          '대만':'gray', '중국':'gray'})\n",
        "fig.show()\n"
      ]
    },
    {
      "cell_type": "code",
      "execution_count": null,
      "id": "2473e33a-c796-405e-96cb-eeefe1a6bcd7",
      "metadata": {
        "id": "2473e33a-c796-405e-96cb-eeefe1a6bcd7"
      },
      "outputs": [],
      "source": [
        "fig = px.bar(\n",
        "    (df_boxoffice.filter(\n",
        "        pl.col('순위') <= 100, pl.col('대표국적').is_in(['한국', '미국', '일본'])).\n",
        "     with_columns(\n",
        "         pl.when(pl.col('등급') == '15세관람가,15세이상관람가').\n",
        "            then(pl.lit('15세이상관람가')).\n",
        "            otherwise(pl.col('등급')).alias('등급')).\n",
        "     group_by('등급', '대표국적').\n",
        "     agg(pl.col('관객수') .mean().round(1).alias('관객수'))),\n",
        "    x = '등급', y = '관객수', facet_col = '대표국적', text = '관객수',\n",
        "    category_orders = {'대표국적':['한국', '미국', '일본'],\n",
        "                       '등급':['전체관람가', '12세이상관람가', '15세이상관람가',\n",
        "                               '청소년관람불가']})\n",
        "fig.show()"
      ]
    },
    {
      "cell_type": "code",
      "execution_count": null,
      "id": "200ad561-3c1a-4ae7-a050-de939e1ebcff",
      "metadata": {
        "id": "200ad561-3c1a-4ae7-a050-de939e1ebcff"
      },
      "outputs": [],
      "source": [
        "df_exhuma = pl.read_csv(\"/content/drive/MyDrive/Colab Notebooks/polars/data/movie/KOBIS_일자별_통계정보_파묘.csv\",\n",
        "                        skip_rows = 3, try_parse_dates=True)\n",
        "df_exhuma_cols = df_exhuma.columns\n",
        "\n",
        "df_exhuma.columns = [i.replace(' ', '') for i in df_exhuma_cols]\n",
        "\n",
        "df_exhuma = df_exhuma.with_columns(\n",
        "    pl.col('스크린수', '상영횟수', '좌석수', '매출액', '관객수', '누적매출액', '누적관객수').\n",
        "    str.replace_all(',', '').cast(pl.Int64),\n",
        "    pl.col('스크린점유율', '상영점유율', '좌석점유율', '좌석판매율').\n",
        "    str.replace_all('%', '').cast(pl.Float64),\n",
        ").with_columns(\n",
        "    pl.col('매출액').diff().alias('매출액변화'),\n",
        "    pl.col('관객수').diff().alias('관객수변화')\n",
        ").with_columns(pl.lit('파묘').alias('영화명'))\n"
      ]
    },
    {
      "cell_type": "code",
      "execution_count": null,
      "id": "edc2c209-13e8-423c-a329-8406705816f7",
      "metadata": {
        "id": "edc2c209-13e8-423c-a329-8406705816f7"
      },
      "outputs": [],
      "source": [
        "df_roundup = pl.read_csv(\"/content/drive/MyDrive/Colab Notebooks/polars/data/movie/KOBIS_일자별_통계정보_범죄도시.csv\",\n",
        "                         skip_rows = 3, try_parse_dates=True)\n",
        "df_roundup_cols = df_roundup.columns\n",
        "\n",
        "df_roundup.columns = [i.replace(' ', '') for i in df_roundup_cols]\n",
        "\n",
        "df_roundup = df_roundup.with_columns(\n",
        "    pl.col('스크린수', '상영횟수', '좌석수', '매출액', '관객수', '누적매출액', '누적관객수').\n",
        "    str.replace_all(',', '').cast(pl.Int64),\n",
        "    pl.col('스크린점유율', '상영점유율', '좌석점유율', '좌석판매율').\n",
        "    str.replace_all('%', '').cast(pl.Float64),\n",
        ").with_columns(\n",
        "    pl.col('매출액').diff().alias('매출액변화'),\n",
        "    pl.col('관객수').diff().alias('관객수변화')\n",
        ").with_columns(pl.lit('범죄도시4').alias('영화명'))\n"
      ]
    },
    {
      "cell_type": "code",
      "execution_count": null,
      "id": "67c8c16f-ae65-46ce-9bd0-34f395099016",
      "metadata": {
        "id": "67c8c16f-ae65-46ce-9bd0-34f395099016"
      },
      "outputs": [],
      "source": [
        "df_merge = pl.concat([df_exhuma, df_roundup], how = 'vertical')"
      ]
    },
    {
      "cell_type": "code",
      "execution_count": null,
      "id": "5160e601-c6a3-4f7b-8e32-f5db87cf153d",
      "metadata": {
        "id": "5160e601-c6a3-4f7b-8e32-f5db87cf153d"
      },
      "outputs": [],
      "source": [
        "df_merge.plot.line(x = '날짜', y = '관객수', color = '영화명').properties(width=1500, height=350)"
      ]
    },
    {
      "cell_type": "code",
      "execution_count": null,
      "id": "ac76a694-fe38-4689-bb7d-243e289449cf",
      "metadata": {
        "id": "ac76a694-fe38-4689-bb7d-243e289449cf"
      },
      "outputs": [],
      "source": [
        "fig = px.line(df_merge, x = '날짜', y = '누적관객수', color = '영화명')\n",
        "fig.show()"
      ]
    },
    {
      "cell_type": "code",
      "execution_count": null,
      "id": "c70c5bff-ccf1-4b94-ac73-37ac59cd6551",
      "metadata": {
        "id": "c70c5bff-ccf1-4b94-ac73-37ac59cd6551"
      },
      "outputs": [],
      "source": [
        "df_boxoffice.filter(pl.col('순위') <= 100) \\\n",
        "             .with_columns(\n",
        "                 pl.when(pl.col('등급') == '15세관람가,15세이상관람가') \\\n",
        "                .then(pl.lit('15세이상관람가')) \\\n",
        "                .otherwise(pl.col('등급')) \\\n",
        "                .alias('등급')\n",
        "            ).plot.boxplot(x = '대표국적', y = '매출액')\n"
      ]
    },
    {
      "cell_type": "code",
      "execution_count": null,
      "id": "0743ddcc-aec0-48b1-a57c-387f30ea9879",
      "metadata": {
        "id": "0743ddcc-aec0-48b1-a57c-387f30ea9879"
      },
      "outputs": [],
      "source": [
        "fig = px.box(\n",
        "    df_boxoffice.filter(pl.col('순위') <= 200).explode('장르').with_columns(\n",
        "                    (pl.col('관객수')/pl.col('상영횟수')).alias('상영횟수별관객수')),\n",
        "    x = '장르', y = '상영횟수별관객수', points = 'all', title = '박스오피스 200위의 장르별 상영횟수당 관객수')\n",
        "fig.show()\n"
      ]
    },
    {
      "cell_type": "code",
      "execution_count": null,
      "id": "51e76991-f41f-4547-ab86-b0235781db06",
      "metadata": {
        "id": "51e76991-f41f-4547-ab86-b0235781db06"
      },
      "outputs": [],
      "source": [
        "df_boxoffice_10 = (pl.concat([df_exhuma.sort('날짜').head(30),\n",
        "                                 df_roundup.sort('날짜').head(30),\n",
        "                                 df_insideout.sort('날짜').head(30),\n",
        "                                 df_Executioner.sort('날짜').head(30),\n",
        "                                 df_Pilot.sort('날짜').head(30),\n",
        "                                 df_Wonka.sort('날짜').head(30),\n",
        "                                 df_Moana2.sort('날짜').head(30),\n",
        "                                 df_Firefighter.sort('날짜').head(30),\n",
        "                                 df_Harbin.sort('날짜').head(30),\n",
        "                                 df_Escape.sort('날짜').head(30)],\n",
        "                                how = 'vertical').\n",
        "                      group_by('영화명').\n",
        "                      agg(pl.col('관객수').alias('30일관객수'))\n",
        "                     )\n",
        "df_boxoffice_10"
      ]
    },
    {
      "cell_type": "code",
      "execution_count": null,
      "id": "e7e4af4e-4e69-4753-97bc-33d1131691b2",
      "metadata": {
        "id": "e7e4af4e-4e69-4753-97bc-33d1131691b2"
      },
      "outputs": [],
      "source": [
        "df_boxoffice_table = (df_boxoffice.with_columns(\n",
        "    pl.col('배우').list.head(3),\n",
        "    pl.when(pl.col('대표국적')=='한국').then(pl.lit('KOR')).\n",
        "       when(pl.col('대표국적')=='미국').then(pl.lit('USA')).alias('flag'),\n",
        "    pl.when(pl.col('등급')=='전체관람가').\n",
        "       then(pl.lit('/content/drive/MyDrive/Colab Notebooks/polars/data/icon/rating_all.jpg')).\n",
        "       when(pl.col('등급')=='12세이상관람가').\n",
        "       then(pl.lit('/content/drive/MyDrive/Colab Notebooks/polars/data/icon/rating_12.jpg')).\n",
        "       when(pl.col('등급')=='15세이상관람가').\n",
        "       then(pl.lit('/content/drive/MyDrive/Colab Notebooks/polars/data/icon/rating_15.jpg')).\n",
        "       when(pl.col('등급')=='청소년관람불가').\n",
        "       then(pl.lit('/content/drive/MyDrive/Colab Notebooks/polars/data/icon/rating_18.jpg')).\n",
        "    alias('등급아이콘'),\n",
        "    (pl.col('매출액')/pl.col('관객수')).round(1).alias('객단가')).\n",
        "                      select(pl.all().exclude(['국적', '대표국적', '배급사',\n",
        "                                               '제작사', '누적관객수', '누적매출액',\n",
        "                                               '매출액점유율'])).\n",
        "head(10).join(df_boxoffice_10, on = '영화명').sort(\"순위\")\n",
        "                     )\n",
        "df_boxoffice_table\n"
      ]
    },
    {
      "cell_type": "code",
      "source": [
        "!pip install great_tables"
      ],
      "metadata": {
        "id": "eCG_C2GWCMmo"
      },
      "id": "eCG_C2GWCMmo",
      "execution_count": null,
      "outputs": []
    },
    {
      "cell_type": "code",
      "execution_count": null,
      "id": "f6db338b-cfc8-459e-b922-2d11ec247d38",
      "metadata": {
        "id": "f6db338b-cfc8-459e-b922-2d11ec247d38"
      },
      "outputs": [],
      "source": [
        "from great_tables import GT, md, html, loc, style\n",
        "gt_boxoffice = GT(df_boxoffice_table.head(10) , locale = 'ko')\n",
        "gt_boxoffice\n"
      ]
    },
    {
      "cell_type": "code",
      "execution_count": null,
      "id": "e0d4b894-76a3-429d-8af9-66cc6ee229a0",
      "metadata": {
        "id": "e0d4b894-76a3-429d-8af9-66cc6ee229a0"
      },
      "outputs": [],
      "source": [
        "## style 네임스페이스를 사용한 tab_header()\n",
        "style_boxoffice = df_boxoffice_table.head(10).style.tab_header(title = '2024년 박스오피스 Top 10',\n",
        "subtitle = md('2024년 상영 영화 중 가장 천만관객 영화는 <strong>\"파묘\"</strong>, <strong>\"범죄도시4\"</strong>였고, 미국영화 중 가장 흥행작은 **인사이드아웃2**였다.'))\n",
        "style_boxoffice"
      ]
    },
    {
      "cell_type": "code",
      "execution_count": null,
      "id": "17f2db0c-5f22-42c9-9843-04e87278fdc4",
      "metadata": {
        "id": "17f2db0c-5f22-42c9-9843-04e87278fdc4"
      },
      "outputs": [],
      "source": [
        "## GT를 사용한 tab_header()\n",
        "style_boxoffice = gt_boxoffice.tab_header(title = '2024년 박스오피스 Top 10',\n",
        "subtitle = md('2024년 상영 영화 중 가장 천만관객 영화는 <strong>\"파묘\"</strong>, <strong>\"범죄도시4\"</strong>였고, 미국영화 중 가장 흥행작은 **인사이드아웃2**였다.'))\n",
        "gt_boxoffice\n"
      ]
    },
    {
      "cell_type": "code",
      "execution_count": null,
      "id": "fffac719-30b5-41cb-8f59-9f61c8edcfa1",
      "metadata": {
        "id": "fffac719-30b5-41cb-8f59-9f61c8edcfa1"
      },
      "outputs": [],
      "source": [
        "## style 네임스페이스를 사용\n",
        "style_boxoffice = (style_boxoffice.tab_stub(rowname_col = '순위', groupname_col = '등급').\n",
        "                                           tab_stubhead('순위'))\n",
        "style_boxoffice\n"
      ]
    },
    {
      "cell_type": "code",
      "execution_count": null,
      "id": "390356e2-9794-4758-ad8c-897611e0ed60",
      "metadata": {
        "id": "390356e2-9794-4758-ad8c-897611e0ed60"
      },
      "outputs": [],
      "source": [
        "## style 네임스페이스를 사용\n",
        "style_boxoffice = (style_boxoffice.\n",
        "                   cols_label(배우='대표배우').\n",
        "                   cols_label(flag='국가').\n",
        "                   cols_move(['감독', '배우', '장르'], '영화명').\n",
        "                   cols_move('flag', '상영횟수').\n",
        "                   cols_move_to_start('등급아이콘').\n",
        "                   cols_align(align=\"center\").\n",
        "                   cols_width(cases={\"영화명\": \"80px\", \"감독\": \"75px\"}).\n",
        "                   tab_spanner('영화정보', ['감독', '배우', '장르', '개봉일']).\n",
        "                   tab_spanner('매출정보', ['매출액', '객단가']).\n",
        "                   tab_spanner('관객정보', ['관객수']).\n",
        "                   tab_spanner('상영정보', ['스크린수', '상영횟수'])\n",
        "                   )\n",
        "style_boxoffice\n"
      ]
    },
    {
      "cell_type": "code",
      "execution_count": null,
      "id": "9e9fbbc3-af8d-4b54-9076-9b7b9845850b",
      "metadata": {
        "id": "9e9fbbc3-af8d-4b54-9076-9b7b9845850b"
      },
      "outputs": [],
      "source": [
        "## style 네임스페이스를 사용\n",
        "style_boxoffice = (style_boxoffice.\n",
        "                   fmt_currency(columns = ['매출액', '객단가'], currency = 'KRW').\n",
        "                   fmt_integer(columns = ['관객수', '스크린수', '상영횟수']).\n",
        "                   fmt_date(columns = '개봉일', date_style = 'wday_month_day_year',\n",
        "                            locale = 'ko')\n",
        "                  )\n",
        "style_boxoffice\n"
      ]
    },
    {
      "cell_type": "code",
      "execution_count": null,
      "id": "2af820c8-e4cd-4f17-8e8c-01b17ba32a5d",
      "metadata": {
        "id": "2af820c8-e4cd-4f17-8e8c-01b17ba32a5d"
      },
      "outputs": [],
      "source": [
        "## style 네임스페이스를 사용\n",
        "style_boxoffice = style_boxoffice.fmt_flag(columns=\"flag\").fmt_image(columns='등급아이콘')\n",
        "style_boxoffice"
      ]
    },
    {
      "cell_type": "code",
      "execution_count": null,
      "id": "bbe6ca40-5ac7-4084-abb4-7aa68f34754c",
      "metadata": {
        "id": "bbe6ca40-5ac7-4084-abb4-7aa68f34754c"
      },
      "outputs": [],
      "source": [
        "## style 네임스페이스를 사용\n",
        "style_boxoffice = style_boxoffice.fmt_nanoplot(columns=\"30일관객수\", reference_line=\"mean\")\n",
        "style_boxoffice"
      ]
    },
    {
      "cell_type": "code",
      "execution_count": null,
      "id": "dbf5bf5e-f141-4f5d-8b5b-946657f8bd54",
      "metadata": {
        "id": "dbf5bf5e-f141-4f5d-8b5b-946657f8bd54"
      },
      "outputs": [],
      "source": [
        "style_boxoffice = (style_boxoffice.tab_style(\n",
        "    style=style.text(weight = 'bold'),\n",
        "    locations=loc.body(columns='영화명')).\n",
        "                   tab_style(\n",
        "                       style=style.text(color = 'blue'),\n",
        "                       locations=loc.body(columns='영화명',\n",
        "                                          rows = [0, 1])).\n",
        "                   tab_style(\n",
        "                       style=style.text(weight = 'bold',\n",
        "                                        size = 'xx-large'),\n",
        "                       locations=loc.title())\n",
        "                  )\n",
        "style_boxoffice"
      ]
    },
    {
      "cell_type": "code",
      "execution_count": null,
      "id": "fc1bc7c7-25fa-49ed-9b2a-5244f7a94034",
      "metadata": {
        "id": "fc1bc7c7-25fa-49ed-9b2a-5244f7a94034"
      },
      "outputs": [],
      "source": [
        "style_boxoffice = (style_boxoffice.tab_style(\n",
        "    style=style.text(color=pl.when(pl.col(\"관객수\") > 5_000_000).\n",
        "                              then(pl.lit(\"red\")).\\\n",
        "                              otherwise(pl.lit(\"lightgray\"))),\n",
        "    locations=loc.body(columns=\"관객수\")).\n",
        "                   tab_style(\n",
        "                       style=style.text(weight = 'bold'),\n",
        "                       locations=loc.body(rows=pl.col(\"관객수\") == pl.col(\"관객수\").max())).\n",
        "                   tab_style(\n",
        "                       style=style.fill(color=pl.when(pl.col(\"객단가\") > pl.col('객단가').mean()).\n",
        "                                                 then(pl.lit(\"yellow\")).\n",
        "                                                 otherwise(pl.lit(\"lightgray\"))\n",
        "                                        ),\n",
        "                       locations=loc.body(columns=\"객단가\")).\n",
        "                   tab_style(\n",
        "                       style=style.borders(color='blue', weight=\"3px\"),\n",
        "                       locations=loc.body(columns=\"매출액\",\n",
        "                                          rows = pl.col(\"매출액\") > pl.col('매출액').mean())\n",
        "                       )\n",
        "                   )\n",
        "style_boxoffice"
      ]
    },
    {
      "cell_type": "code",
      "execution_count": null,
      "id": "a01b0718-ee69-4dce-89a5-4e83fdc80a4c",
      "metadata": {
        "id": "a01b0718-ee69-4dce-89a5-4e83fdc80a4c"
      },
      "outputs": [],
      "source": [
        "style_boxoffice = style_boxoffice.data_color(columns='스크린수', palette = 'Greens',\n",
        "                                             domain = [1000, 3000])\n",
        "style_boxoffice"
      ]
    },
    {
      "cell_type": "code",
      "execution_count": null,
      "id": "ff3b1dbe-0fcb-47bc-87dd-4de303b45083",
      "metadata": {
        "id": "ff3b1dbe-0fcb-47bc-87dd-4de303b45083"
      },
      "outputs": [],
      "source": [
        "style_boxoffice = (style_boxoffice.tab_source_note(\n",
        "    source_note=html('출처: <img src=\"/content/drive/MyDrive/Colab Notebooks/polars/data/icon/logo_comm.png\">(https://www.kobis.or.kr/)')).\n",
        "                   tab_style(style = style.text(align = \"right\", weight=\"bold\"),\n",
        "                             locations = loc.source_notes())\n",
        "                  )\n",
        "style_boxoffice\n"
      ]
    }
  ],
  "metadata": {
    "kernelspec": {
      "display_name": "venv-polars",
      "language": "python",
      "name": "venv-polars"
    },
    "language_info": {
      "codemirror_mode": {
        "name": "ipython",
        "version": 3
      },
      "file_extension": ".py",
      "mimetype": "text/x-python",
      "name": "python",
      "nbconvert_exporter": "python",
      "pygments_lexer": "ipython3",
      "version": "3.12.7"
    },
    "colab": {
      "provenance": [],
      "include_colab_link": true
    }
  },
  "nbformat": 4,
  "nbformat_minor": 5
}